{
  "nbformat": 4,
  "nbformat_minor": 0,
  "metadata": {
    "colab": {
      "name": "course project_1.ipynb",
      "provenance": [],
      "collapsed_sections": [],
      "toc_visible": true,
      "authorship_tag": "ABX9TyOPupYN1rcWdEVsoDSD/pHp",
      "include_colab_link": true
    },
    "kernelspec": {
      "name": "python3",
      "display_name": "Python 3"
    }
  },
  "cells": [
    {
      "cell_type": "markdown",
      "metadata": {
        "id": "view-in-github",
        "colab_type": "text"
      },
      "source": [
        "<a href=\"https://colab.research.google.com/github/alexmal2804/hwds/blob/master/course_project_1.ipynb\" target=\"_parent\"><img src=\"https://colab.research.google.com/assets/colab-badge.svg\" alt=\"Open In Colab\"/></a>"
      ]
    },
    {
      "cell_type": "markdown",
      "metadata": {
        "id": "aDwnNTPnCm3w"
      },
      "source": [
        "# Курсовая работа \n",
        "## Исследование измерений краниального и постраниального скелетов с целью определения возрастной, рассовой и половой принадлежности человека\n",
        "\n",
        "Исследование данных замеров краниального и посткраниального скелета из базы данных, составленной в ходе судебно-медицинских дел США с целью определить половую, рассовую и возрастную принадлежность индивида. Для формирования и обучения модели необходимо подготовить данные (датасет объединен из нескольких таблиц разного формата, данные содержат большое число пропусков, несбалансированные), а затем применить методы логистической регрессии, KNN и взвешенной лог. регрессии для определения пола, рассового и возрастного состава выборки соответственно.\n",
        "Также попытаюсь решить задачу кластеризации групп измерений, используя метод кластеризации (DBSCAN).\n",
        "\n",
        "Задача исследования замеров скелета интересна с академической точки зрения и позволяет осуществлять исследования в антропологии (в т.ч. в медицине и палеоантрополгии). \n",
        "Также исследование данных и аналогичных замеров  может быть использовано в рамках задачи формирования компьютерных изображений и в рамках идентификации индивида. "
      ]
    },
    {
      "cell_type": "markdown",
      "metadata": {
        "id": "6eb5JqOXwpyf"
      },
      "source": [
        "##Описание входного DataSet\n",
        "https://www.icpsr.umich.edu/web/NACJD/studies/2581/versions/V1#\n",
        "\n",
        "Database for Forensic Anthropology in the United States, 1962-1991 (ICPSR 2581)\n",
        "\n",
        "Этот проект был осуществлен с целью создания компьютеризированной скелетной базы данных, составленной в ходе судебно-медицинских дел, чтобы отразить нынешнее этническое разнообразие и демографическую структуру населения Соединенных Штатов. Цель состояла в том, чтобы накопить скелетную выборку, достаточно разнообразную, чтобы отразить различные социально-экономические группы населения в целом из разных географических регионов страны, чтобы исследователи могли разработать стандарты, используемые для скелетной идентификации. "
      ]
    },
    {
      "cell_type": "code",
      "metadata": {
        "id": "1oYNe_YJwcX0"
      },
      "source": [
        "# Импорт необходимых для работы модулей\n",
        "import pandas as pd\n",
        "import numpy as np\n",
        "import seaborn as sns\n",
        "from sklearn import metrics\n",
        "from sklearn.linear_model import LogisticRegression as LR\n",
        "from sklearn.feature_extraction import DictVectorizer as DV\n",
        "from sklearn.model_selection import train_test_split\n",
        "import matplotlib\n",
        "from matplotlib import pyplot as plt\n",
        "matplotlib.style.use('ggplot')\n",
        "%matplotlib inline\n",
        "\n",
        "import warnings\n",
        "warnings.filterwarnings('ignore')"
      ],
      "execution_count": null,
      "outputs": []
    },
    {
      "cell_type": "markdown",
      "metadata": {
        "id": "mdX_JywTE3S2"
      },
      "source": [
        "##Загружаем DataSet\r\n",
        "Используемый набор данных на ресурсе был представлен в виде 7  DataSet в формате \"stata\". Данные в датасетах были связаны первичным ключом 'FDN'. Необходимые для анализа данные были предварительно объединены в R-Studio и импортированы в csv."
      ]
    },
    {
      "cell_type": "code",
      "metadata": {
        "id": "sWRvef2idVDB"
      },
      "source": [
        "# загружаем csv с данными в colab\r\n",
        "# from google.colab import files\r\n",
        "# uploaded = files.upload()"
      ],
      "execution_count": null,
      "outputs": []
    },
    {
      "cell_type": "code",
      "metadata": {
        "id": "3bZTo619FBZa"
      },
      "source": [
        " # df = pd.read_csv('https://github.com/alexmal2804/hwds/blob/master/res_data_1.csv', delimiter=';')"
      ],
      "execution_count": null,
      "outputs": []
    },
    {
      "cell_type": "code",
      "metadata": {
        "id": "euvy5etxdh5K"
      },
      "source": [
        " # Импортируем в DataFrame\r\n",
        " df = pd.read_csv('/content/sample_data/res_data_1.csv', delimiter=';')"
      ],
      "execution_count": null,
      "outputs": []
    },
    {
      "cell_type": "code",
      "metadata": {
        "id": "Ht_aCMmQFb79",
        "colab": {
          "base_uri": "https://localhost:8080/",
          "height": 253
        },
        "outputId": "f22c595a-813e-4152-9abb-2740eb9842f1"
      },
      "source": [
        "df.head()"
      ],
      "execution_count": null,
      "outputs": [
        {
          "output_type": "execute_result",
          "data": {
            "text/html": [
              "<div>\n",
              "<style scoped>\n",
              "    .dataframe tbody tr th:only-of-type {\n",
              "        vertical-align: middle;\n",
              "    }\n",
              "\n",
              "    .dataframe tbody tr th {\n",
              "        vertical-align: top;\n",
              "    }\n",
              "\n",
              "    .dataframe thead th {\n",
              "        text-align: right;\n",
              "    }\n",
              "</style>\n",
              "<table border=\"1\" class=\"dataframe\">\n",
              "  <thead>\n",
              "    <tr style=\"text-align: right;\">\n",
              "      <th></th>\n",
              "      <th>FDN</th>\n",
              "      <th>CONTRIB</th>\n",
              "      <th>CURATOR</th>\n",
              "      <th>RECORDER</th>\n",
              "      <th>DATEREC</th>\n",
              "      <th>IDSTAT</th>\n",
              "      <th>DATPOSID</th>\n",
              "      <th>SEX</th>\n",
              "      <th>SEXSTAT</th>\n",
              "      <th>RACE</th>\n",
              "      <th>RACESTAT</th>\n",
              "      <th>ETHNIC</th>\n",
              "      <th>DOB_MODA</th>\n",
              "      <th>DOB_YR</th>\n",
              "      <th>DEATHAGE</th>\n",
              "      <th>LOWERAGE</th>\n",
              "      <th>UPPERAGE</th>\n",
              "      <th>AGEGROUP</th>\n",
              "      <th>FSTATURE</th>\n",
              "      <th>CSTATURE</th>\n",
              "      <th>FWEIGHT</th>\n",
              "      <th>CWEIGHT</th>\n",
              "      <th>GOL</th>\n",
              "      <th>BNL</th>\n",
              "      <th>BBH</th>\n",
              "      <th>XCB</th>\n",
              "      <th>WFB</th>\n",
              "      <th>ZYB</th>\n",
              "      <th>AUB</th>\n",
              "      <th>BPL</th>\n",
              "      <th>NLH</th>\n",
              "      <th>NLB</th>\n",
              "      <th>MAB</th>\n",
              "      <th>MAL</th>\n",
              "      <th>MDH</th>\n",
              "      <th>OBH</th>\n",
              "      <th>OBB</th>\n",
              "      <th>DKB</th>\n",
              "      <th>EKB</th>\n",
              "      <th>FRC</th>\n",
              "      <th>...</th>\n",
              "      <th>ISCHLN_L</th>\n",
              "      <th>ISCHLN_R</th>\n",
              "      <th>FEMXLN_L</th>\n",
              "      <th>FEMXLN_R</th>\n",
              "      <th>FEMBLN_L</th>\n",
              "      <th>FEMBLN_R</th>\n",
              "      <th>FEMEBR_L</th>\n",
              "      <th>FEMEBR_R</th>\n",
              "      <th>FEMHDD_L</th>\n",
              "      <th>FEMHDD_R</th>\n",
              "      <th>FEMSAP_L</th>\n",
              "      <th>FEMSAP_R</th>\n",
              "      <th>FEMSTV_L</th>\n",
              "      <th>FEMSTV_R</th>\n",
              "      <th>FEMMAP_L</th>\n",
              "      <th>FEMMAP_R</th>\n",
              "      <th>FEMMTV_L</th>\n",
              "      <th>FEMMTV_R</th>\n",
              "      <th>FEMCIR_L</th>\n",
              "      <th>FEMCIR_R</th>\n",
              "      <th>TIBXLN_L</th>\n",
              "      <th>TIBXLN_R</th>\n",
              "      <th>TIBPEB_L</th>\n",
              "      <th>TIBPEB_R</th>\n",
              "      <th>TIBDEB_L</th>\n",
              "      <th>TIBDEB_R</th>\n",
              "      <th>TIBNFX_L</th>\n",
              "      <th>TIBNFX_R</th>\n",
              "      <th>TIBNFT_L</th>\n",
              "      <th>TIBNFT_R</th>\n",
              "      <th>TIBCIR_L</th>\n",
              "      <th>TIBCIR_R</th>\n",
              "      <th>FIBXLN_L</th>\n",
              "      <th>FIBXLN_R</th>\n",
              "      <th>FIBMDM_L</th>\n",
              "      <th>FIBMDM_R</th>\n",
              "      <th>CALCXL_L</th>\n",
              "      <th>CALCXL_R</th>\n",
              "      <th>CALCBR_L</th>\n",
              "      <th>CALCBR_R</th>\n",
              "    </tr>\n",
              "  </thead>\n",
              "  <tbody>\n",
              "    <tr>\n",
              "      <th>0</th>\n",
              "      <td>1</td>\n",
              "      <td>LA84-7</td>\n",
              "      <td>LSU</td>\n",
              "      <td>BLANK</td>\n",
              "      <td>06.16.1986</td>\n",
              "      <td>1.0</td>\n",
              "      <td>5.30.84</td>\n",
              "      <td>F</td>\n",
              "      <td>1</td>\n",
              "      <td>B</td>\n",
              "      <td>1</td>\n",
              "      <td>NaN</td>\n",
              "      <td>BLANK</td>\n",
              "      <td>1951</td>\n",
              "      <td>33</td>\n",
              "      <td>33</td>\n",
              "      <td>33</td>\n",
              "      <td>A</td>\n",
              "      <td>165</td>\n",
              "      <td>999</td>\n",
              "      <td>134</td>\n",
              "      <td>999</td>\n",
              "      <td>171.0</td>\n",
              "      <td>92.0</td>\n",
              "      <td>122.0</td>\n",
              "      <td>130.0</td>\n",
              "      <td>92.0</td>\n",
              "      <td>117.0</td>\n",
              "      <td>112.0</td>\n",
              "      <td>96.0</td>\n",
              "      <td>50.0</td>\n",
              "      <td>25.0</td>\n",
              "      <td>65.0</td>\n",
              "      <td>56.0</td>\n",
              "      <td>33.0</td>\n",
              "      <td>34.0</td>\n",
              "      <td>40.0</td>\n",
              "      <td>21.0</td>\n",
              "      <td>92.0</td>\n",
              "      <td>102.0</td>\n",
              "      <td>...</td>\n",
              "      <td>77.0</td>\n",
              "      <td>NaN</td>\n",
              "      <td>467.0</td>\n",
              "      <td>NaN</td>\n",
              "      <td>462.0</td>\n",
              "      <td>NaN</td>\n",
              "      <td>72.0</td>\n",
              "      <td>NaN</td>\n",
              "      <td>40.0</td>\n",
              "      <td>NaN</td>\n",
              "      <td>24.0</td>\n",
              "      <td>NaN</td>\n",
              "      <td>26.0</td>\n",
              "      <td>NaN</td>\n",
              "      <td>28.0</td>\n",
              "      <td>NaN</td>\n",
              "      <td>24.0</td>\n",
              "      <td>NaN</td>\n",
              "      <td>80.0</td>\n",
              "      <td>NaN</td>\n",
              "      <td>392.0</td>\n",
              "      <td>NaN</td>\n",
              "      <td>68.0</td>\n",
              "      <td>NaN</td>\n",
              "      <td>47.0</td>\n",
              "      <td>NaN</td>\n",
              "      <td>32.0</td>\n",
              "      <td>NaN</td>\n",
              "      <td>20.0</td>\n",
              "      <td>NaN</td>\n",
              "      <td>82.0</td>\n",
              "      <td>NaN</td>\n",
              "      <td>383.0</td>\n",
              "      <td>NaN</td>\n",
              "      <td>15.0</td>\n",
              "      <td>NaN</td>\n",
              "      <td>NaN</td>\n",
              "      <td>NaN</td>\n",
              "      <td>NaN</td>\n",
              "      <td>NaN</td>\n",
              "    </tr>\n",
              "    <tr>\n",
              "      <th>1</th>\n",
              "      <td>2</td>\n",
              "      <td>LA85-7</td>\n",
              "      <td>LSU</td>\n",
              "      <td>BLANK</td>\n",
              "      <td>06.13.1986</td>\n",
              "      <td>3.0</td>\n",
              "      <td>NaN</td>\n",
              "      <td>M</td>\n",
              "      <td>3</td>\n",
              "      <td>B</td>\n",
              "      <td>3</td>\n",
              "      <td>NaN</td>\n",
              "      <td>BLANK</td>\n",
              "      <td>1955</td>\n",
              "      <td>99</td>\n",
              "      <td>25</td>\n",
              "      <td>32</td>\n",
              "      <td>A</td>\n",
              "      <td>185</td>\n",
              "      <td>999</td>\n",
              "      <td>175</td>\n",
              "      <td>999</td>\n",
              "      <td>185.0</td>\n",
              "      <td>NaN</td>\n",
              "      <td>NaN</td>\n",
              "      <td>NaN</td>\n",
              "      <td>92.0</td>\n",
              "      <td>122.0</td>\n",
              "      <td>NaN</td>\n",
              "      <td>NaN</td>\n",
              "      <td>50.0</td>\n",
              "      <td>22.0</td>\n",
              "      <td>NaN</td>\n",
              "      <td>NaN</td>\n",
              "      <td>32.0</td>\n",
              "      <td>32.0</td>\n",
              "      <td>38.0</td>\n",
              "      <td>NaN</td>\n",
              "      <td>96.0</td>\n",
              "      <td>NaN</td>\n",
              "      <td>...</td>\n",
              "      <td>NaN</td>\n",
              "      <td>NaN</td>\n",
              "      <td>NaN</td>\n",
              "      <td>NaN</td>\n",
              "      <td>NaN</td>\n",
              "      <td>NaN</td>\n",
              "      <td>81.0</td>\n",
              "      <td>81.0</td>\n",
              "      <td>45.0</td>\n",
              "      <td>NaN</td>\n",
              "      <td>30.0</td>\n",
              "      <td>29.0</td>\n",
              "      <td>31.0</td>\n",
              "      <td>31.0</td>\n",
              "      <td>NaN</td>\n",
              "      <td>NaN</td>\n",
              "      <td>NaN</td>\n",
              "      <td>NaN</td>\n",
              "      <td>NaN</td>\n",
              "      <td>NaN</td>\n",
              "      <td>NaN</td>\n",
              "      <td>NaN</td>\n",
              "      <td>NaN</td>\n",
              "      <td>NaN</td>\n",
              "      <td>NaN</td>\n",
              "      <td>NaN</td>\n",
              "      <td>NaN</td>\n",
              "      <td>NaN</td>\n",
              "      <td>NaN</td>\n",
              "      <td>NaN</td>\n",
              "      <td>NaN</td>\n",
              "      <td>NaN</td>\n",
              "      <td>422.0</td>\n",
              "      <td>418.0</td>\n",
              "      <td>NaN</td>\n",
              "      <td>16.0</td>\n",
              "      <td>84.0</td>\n",
              "      <td>85.0</td>\n",
              "      <td>47.0</td>\n",
              "      <td>46.0</td>\n",
              "    </tr>\n",
              "    <tr>\n",
              "      <th>2</th>\n",
              "      <td>3</td>\n",
              "      <td>LA84-10</td>\n",
              "      <td>LSU</td>\n",
              "      <td>BLANK</td>\n",
              "      <td>06.14.1986</td>\n",
              "      <td>2.0</td>\n",
              "      <td>NaN</td>\n",
              "      <td>M</td>\n",
              "      <td>2</td>\n",
              "      <td>W</td>\n",
              "      <td>2</td>\n",
              "      <td>NaN</td>\n",
              "      <td>NaN</td>\n",
              "      <td>1947*</td>\n",
              "      <td>99</td>\n",
              "      <td>30</td>\n",
              "      <td>37</td>\n",
              "      <td>A</td>\n",
              "      <td>999</td>\n",
              "      <td>999</td>\n",
              "      <td>999</td>\n",
              "      <td>999</td>\n",
              "      <td>172.0</td>\n",
              "      <td>97.0</td>\n",
              "      <td>137.0</td>\n",
              "      <td>138.0</td>\n",
              "      <td>93.0</td>\n",
              "      <td>127.0</td>\n",
              "      <td>122.0</td>\n",
              "      <td>94.0</td>\n",
              "      <td>51.0</td>\n",
              "      <td>25.0</td>\n",
              "      <td>59.0</td>\n",
              "      <td>51.0</td>\n",
              "      <td>34.0</td>\n",
              "      <td>35.0</td>\n",
              "      <td>39.0</td>\n",
              "      <td>21.0</td>\n",
              "      <td>94.0</td>\n",
              "      <td>105.0</td>\n",
              "      <td>...</td>\n",
              "      <td>91.0</td>\n",
              "      <td>92.0</td>\n",
              "      <td>453.0</td>\n",
              "      <td>454.0</td>\n",
              "      <td>450.0</td>\n",
              "      <td>453.0</td>\n",
              "      <td>88.0</td>\n",
              "      <td>89.0</td>\n",
              "      <td>49.0</td>\n",
              "      <td>51.0</td>\n",
              "      <td>30.0</td>\n",
              "      <td>30.0</td>\n",
              "      <td>33.0</td>\n",
              "      <td>33.0</td>\n",
              "      <td>30.0</td>\n",
              "      <td>31.0</td>\n",
              "      <td>28.0</td>\n",
              "      <td>28.0</td>\n",
              "      <td>90.0</td>\n",
              "      <td>91.0</td>\n",
              "      <td>366.0</td>\n",
              "      <td>366.0</td>\n",
              "      <td>82.0</td>\n",
              "      <td>82.0</td>\n",
              "      <td>57.0</td>\n",
              "      <td>55.0</td>\n",
              "      <td>36.0</td>\n",
              "      <td>36.0</td>\n",
              "      <td>26.0</td>\n",
              "      <td>26.0</td>\n",
              "      <td>98.0</td>\n",
              "      <td>95.0</td>\n",
              "      <td>360.0</td>\n",
              "      <td>360.0</td>\n",
              "      <td>17.0</td>\n",
              "      <td>16.0</td>\n",
              "      <td>91.0</td>\n",
              "      <td>91.0</td>\n",
              "      <td>46.0</td>\n",
              "      <td>46.0</td>\n",
              "    </tr>\n",
              "    <tr>\n",
              "      <th>3</th>\n",
              "      <td>4</td>\n",
              "      <td>LA84-12</td>\n",
              "      <td>LSU</td>\n",
              "      <td>BLANK</td>\n",
              "      <td>06.13.1986</td>\n",
              "      <td>1.0</td>\n",
              "      <td>11.??.84</td>\n",
              "      <td>F</td>\n",
              "      <td>1</td>\n",
              "      <td>W</td>\n",
              "      <td>1</td>\n",
              "      <td>NaN</td>\n",
              "      <td>BLANK</td>\n",
              "      <td>1945</td>\n",
              "      <td>35</td>\n",
              "      <td>35</td>\n",
              "      <td>35</td>\n",
              "      <td>A</td>\n",
              "      <td>168</td>\n",
              "      <td>999</td>\n",
              "      <td>142</td>\n",
              "      <td>999</td>\n",
              "      <td>185.0</td>\n",
              "      <td>107.0</td>\n",
              "      <td>143.0</td>\n",
              "      <td>NaN</td>\n",
              "      <td>101.0</td>\n",
              "      <td>122.0</td>\n",
              "      <td>119.0</td>\n",
              "      <td>97.0</td>\n",
              "      <td>50.0</td>\n",
              "      <td>NaN</td>\n",
              "      <td>57.0</td>\n",
              "      <td>53.0</td>\n",
              "      <td>31.0</td>\n",
              "      <td>36.0</td>\n",
              "      <td>42.0</td>\n",
              "      <td>24.0</td>\n",
              "      <td>NaN</td>\n",
              "      <td>117.0</td>\n",
              "      <td>...</td>\n",
              "      <td>NaN</td>\n",
              "      <td>NaN</td>\n",
              "      <td>435.0</td>\n",
              "      <td>NaN</td>\n",
              "      <td>NaN</td>\n",
              "      <td>NaN</td>\n",
              "      <td>NaN</td>\n",
              "      <td>NaN</td>\n",
              "      <td>NaN</td>\n",
              "      <td>NaN</td>\n",
              "      <td>NaN</td>\n",
              "      <td>NaN</td>\n",
              "      <td>NaN</td>\n",
              "      <td>NaN</td>\n",
              "      <td>NaN</td>\n",
              "      <td>NaN</td>\n",
              "      <td>NaN</td>\n",
              "      <td>NaN</td>\n",
              "      <td>NaN</td>\n",
              "      <td>NaN</td>\n",
              "      <td>342.0</td>\n",
              "      <td>NaN</td>\n",
              "      <td>NaN</td>\n",
              "      <td>NaN</td>\n",
              "      <td>NaN</td>\n",
              "      <td>NaN</td>\n",
              "      <td>NaN</td>\n",
              "      <td>NaN</td>\n",
              "      <td>NaN</td>\n",
              "      <td>NaN</td>\n",
              "      <td>NaN</td>\n",
              "      <td>NaN</td>\n",
              "      <td>NaN</td>\n",
              "      <td>NaN</td>\n",
              "      <td>NaN</td>\n",
              "      <td>NaN</td>\n",
              "      <td>NaN</td>\n",
              "      <td>NaN</td>\n",
              "      <td>NaN</td>\n",
              "      <td>NaN</td>\n",
              "    </tr>\n",
              "    <tr>\n",
              "      <th>4</th>\n",
              "      <td>5</td>\n",
              "      <td>LA85-1</td>\n",
              "      <td>LSU</td>\n",
              "      <td>BLANK</td>\n",
              "      <td>06.13.1986</td>\n",
              "      <td>2.0</td>\n",
              "      <td>NaN</td>\n",
              "      <td>F</td>\n",
              "      <td>1</td>\n",
              "      <td>B</td>\n",
              "      <td>3</td>\n",
              "      <td>NaN</td>\n",
              "      <td>NaN</td>\n",
              "      <td>1952*</td>\n",
              "      <td>99</td>\n",
              "      <td>25</td>\n",
              "      <td>33</td>\n",
              "      <td>A</td>\n",
              "      <td>999</td>\n",
              "      <td>999</td>\n",
              "      <td>999</td>\n",
              "      <td>999</td>\n",
              "      <td>NaN</td>\n",
              "      <td>NaN</td>\n",
              "      <td>NaN</td>\n",
              "      <td>NaN</td>\n",
              "      <td>NaN</td>\n",
              "      <td>NaN</td>\n",
              "      <td>NaN</td>\n",
              "      <td>NaN</td>\n",
              "      <td>NaN</td>\n",
              "      <td>NaN</td>\n",
              "      <td>NaN</td>\n",
              "      <td>NaN</td>\n",
              "      <td>NaN</td>\n",
              "      <td>NaN</td>\n",
              "      <td>NaN</td>\n",
              "      <td>NaN</td>\n",
              "      <td>NaN</td>\n",
              "      <td>NaN</td>\n",
              "      <td>...</td>\n",
              "      <td>82.0</td>\n",
              "      <td>83.0</td>\n",
              "      <td>410.0</td>\n",
              "      <td>NaN</td>\n",
              "      <td>402.0</td>\n",
              "      <td>NaN</td>\n",
              "      <td>77.0</td>\n",
              "      <td>77.0</td>\n",
              "      <td>43.0</td>\n",
              "      <td>42.0</td>\n",
              "      <td>26.0</td>\n",
              "      <td>26.0</td>\n",
              "      <td>25.0</td>\n",
              "      <td>25.0</td>\n",
              "      <td>26.0</td>\n",
              "      <td>NaN</td>\n",
              "      <td>21.0</td>\n",
              "      <td>NaN</td>\n",
              "      <td>73.0</td>\n",
              "      <td>NaN</td>\n",
              "      <td>348.0</td>\n",
              "      <td>346.0</td>\n",
              "      <td>75.0</td>\n",
              "      <td>75.0</td>\n",
              "      <td>46.0</td>\n",
              "      <td>46.0</td>\n",
              "      <td>29.0</td>\n",
              "      <td>28.0</td>\n",
              "      <td>21.0</td>\n",
              "      <td>20.0</td>\n",
              "      <td>78.0</td>\n",
              "      <td>76.0</td>\n",
              "      <td>344.0</td>\n",
              "      <td>342.0</td>\n",
              "      <td>14.0</td>\n",
              "      <td>15.0</td>\n",
              "      <td>79.0</td>\n",
              "      <td>82.0</td>\n",
              "      <td>38.0</td>\n",
              "      <td>39.0</td>\n",
              "    </tr>\n",
              "  </tbody>\n",
              "</table>\n",
              "<p>5 rows × 142 columns</p>\n",
              "</div>"
            ],
            "text/plain": [
              "   FDN  CONTRIB CURATOR RECORDER  ... CALCXL_L  CALCXL_R CALCBR_L CALCBR_R\n",
              "0    1   LA84-7     LSU    BLANK  ...      NaN       NaN      NaN      NaN\n",
              "1    2   LA85-7     LSU    BLANK  ...     84.0      85.0     47.0     46.0\n",
              "2    3  LA84-10     LSU    BLANK  ...     91.0      91.0     46.0     46.0\n",
              "3    4  LA84-12     LSU    BLANK  ...      NaN       NaN      NaN      NaN\n",
              "4    5   LA85-1     LSU    BLANK  ...     79.0      82.0     38.0     39.0\n",
              "\n",
              "[5 rows x 142 columns]"
            ]
          },
          "metadata": {
            "tags": []
          },
          "execution_count": 9
        }
      ]
    },
    {
      "cell_type": "code",
      "metadata": {
        "colab": {
          "base_uri": "https://localhost:8080/"
        },
        "id": "cxKPdl5pfAv6",
        "outputId": "970d6fdf-5258-40a7-f796-6fcb7d215172"
      },
      "source": [
        "# размер DataFrame\r\n",
        "df.shape"
      ],
      "execution_count": null,
      "outputs": [
        {
          "output_type": "execute_result",
          "data": {
            "text/plain": [
              "(1514, 142)"
            ]
          },
          "metadata": {
            "tags": []
          },
          "execution_count": 10
        }
      ]
    },
    {
      "cell_type": "code",
      "metadata": {
        "colab": {
          "base_uri": "https://localhost:8080/",
          "height": 346
        },
        "id": "CggGrzq74XkY",
        "outputId": "4a1c8d43-38c7-447b-cd2c-5e36d1033877"
      },
      "source": [
        "# описательная статистика\n",
        "df.describe()"
      ],
      "execution_count": null,
      "outputs": [
        {
          "output_type": "execute_result",
          "data": {
            "text/html": [
              "<div>\n",
              "<style scoped>\n",
              "    .dataframe tbody tr th:only-of-type {\n",
              "        vertical-align: middle;\n",
              "    }\n",
              "\n",
              "    .dataframe tbody tr th {\n",
              "        vertical-align: top;\n",
              "    }\n",
              "\n",
              "    .dataframe thead th {\n",
              "        text-align: right;\n",
              "    }\n",
              "</style>\n",
              "<table border=\"1\" class=\"dataframe\">\n",
              "  <thead>\n",
              "    <tr style=\"text-align: right;\">\n",
              "      <th></th>\n",
              "      <th>FDN</th>\n",
              "      <th>IDSTAT</th>\n",
              "      <th>DEATHAGE</th>\n",
              "      <th>LOWERAGE</th>\n",
              "      <th>UPPERAGE</th>\n",
              "      <th>FSTATURE</th>\n",
              "      <th>CSTATURE</th>\n",
              "      <th>FWEIGHT</th>\n",
              "      <th>CWEIGHT</th>\n",
              "      <th>GOL</th>\n",
              "      <th>BNL</th>\n",
              "      <th>BBH</th>\n",
              "      <th>XCB</th>\n",
              "      <th>WFB</th>\n",
              "      <th>ZYB</th>\n",
              "      <th>AUB</th>\n",
              "      <th>BPL</th>\n",
              "      <th>NLH</th>\n",
              "      <th>NLB</th>\n",
              "      <th>MAB</th>\n",
              "      <th>MAL</th>\n",
              "      <th>MDH</th>\n",
              "      <th>OBH</th>\n",
              "      <th>OBB</th>\n",
              "      <th>DKB</th>\n",
              "      <th>EKB</th>\n",
              "      <th>FRC</th>\n",
              "      <th>PAC</th>\n",
              "      <th>OCC</th>\n",
              "      <th>FOL</th>\n",
              "      <th>FOB</th>\n",
              "      <th>GNI</th>\n",
              "      <th>HML</th>\n",
              "      <th>TML</th>\n",
              "      <th>GOG</th>\n",
              "      <th>CDL</th>\n",
              "      <th>WRL</th>\n",
              "      <th>MRL</th>\n",
              "      <th>XRL</th>\n",
              "      <th>MLT</th>\n",
              "      <th>...</th>\n",
              "      <th>ISCHLN_L</th>\n",
              "      <th>ISCHLN_R</th>\n",
              "      <th>FEMXLN_L</th>\n",
              "      <th>FEMXLN_R</th>\n",
              "      <th>FEMBLN_L</th>\n",
              "      <th>FEMBLN_R</th>\n",
              "      <th>FEMEBR_L</th>\n",
              "      <th>FEMEBR_R</th>\n",
              "      <th>FEMHDD_L</th>\n",
              "      <th>FEMHDD_R</th>\n",
              "      <th>FEMSAP_L</th>\n",
              "      <th>FEMSAP_R</th>\n",
              "      <th>FEMSTV_L</th>\n",
              "      <th>FEMSTV_R</th>\n",
              "      <th>FEMMAP_L</th>\n",
              "      <th>FEMMAP_R</th>\n",
              "      <th>FEMMTV_L</th>\n",
              "      <th>FEMMTV_R</th>\n",
              "      <th>FEMCIR_L</th>\n",
              "      <th>FEMCIR_R</th>\n",
              "      <th>TIBXLN_L</th>\n",
              "      <th>TIBXLN_R</th>\n",
              "      <th>TIBPEB_L</th>\n",
              "      <th>TIBPEB_R</th>\n",
              "      <th>TIBDEB_L</th>\n",
              "      <th>TIBDEB_R</th>\n",
              "      <th>TIBNFX_L</th>\n",
              "      <th>TIBNFX_R</th>\n",
              "      <th>TIBNFT_L</th>\n",
              "      <th>TIBNFT_R</th>\n",
              "      <th>TIBCIR_L</th>\n",
              "      <th>TIBCIR_R</th>\n",
              "      <th>FIBXLN_L</th>\n",
              "      <th>FIBXLN_R</th>\n",
              "      <th>FIBMDM_L</th>\n",
              "      <th>FIBMDM_R</th>\n",
              "      <th>CALCXL_L</th>\n",
              "      <th>CALCXL_R</th>\n",
              "      <th>CALCBR_L</th>\n",
              "      <th>CALCBR_R</th>\n",
              "    </tr>\n",
              "  </thead>\n",
              "  <tbody>\n",
              "    <tr>\n",
              "      <th>count</th>\n",
              "      <td>1514.000000</td>\n",
              "      <td>1509.000000</td>\n",
              "      <td>1514.000000</td>\n",
              "      <td>1514.000000</td>\n",
              "      <td>1514.000000</td>\n",
              "      <td>1514.000000</td>\n",
              "      <td>1514.000000</td>\n",
              "      <td>1514.000000</td>\n",
              "      <td>1514.000000</td>\n",
              "      <td>1336.000000</td>\n",
              "      <td>1293.000000</td>\n",
              "      <td>1300.000000</td>\n",
              "      <td>1339.000000</td>\n",
              "      <td>1316.000000</td>\n",
              "      <td>1289.000000</td>\n",
              "      <td>1137.000000</td>\n",
              "      <td>1194.000000</td>\n",
              "      <td>1258.000000</td>\n",
              "      <td>1278.000000</td>\n",
              "      <td>1195.000000</td>\n",
              "      <td>1183.000000</td>\n",
              "      <td>1287.000000</td>\n",
              "      <td>1263.000000</td>\n",
              "      <td>1276.000000</td>\n",
              "      <td>1251.000000</td>\n",
              "      <td>1043.000000</td>\n",
              "      <td>1286.000000</td>\n",
              "      <td>1292.000000</td>\n",
              "      <td>1276.000000</td>\n",
              "      <td>1271.000000</td>\n",
              "      <td>1026.000000</td>\n",
              "      <td>762.000000</td>\n",
              "      <td>477.000000</td>\n",
              "      <td>486.000000</td>\n",
              "      <td>779.000000</td>\n",
              "      <td>749.000000</td>\n",
              "      <td>775.000000</td>\n",
              "      <td>199.000000</td>\n",
              "      <td>678.000000</td>\n",
              "      <td>647.000000</td>\n",
              "      <td>...</td>\n",
              "      <td>561.000000</td>\n",
              "      <td>498.000000</td>\n",
              "      <td>713.000000</td>\n",
              "      <td>679.000000</td>\n",
              "      <td>650.000000</td>\n",
              "      <td>625.000000</td>\n",
              "      <td>599.000000</td>\n",
              "      <td>548.000000</td>\n",
              "      <td>649.000000</td>\n",
              "      <td>590.000000</td>\n",
              "      <td>690.000000</td>\n",
              "      <td>642.000000</td>\n",
              "      <td>690.000000</td>\n",
              "      <td>642.000000</td>\n",
              "      <td>676.000000</td>\n",
              "      <td>617.000000</td>\n",
              "      <td>677.000000</td>\n",
              "      <td>618.000000</td>\n",
              "      <td>391.000000</td>\n",
              "      <td>330.000000</td>\n",
              "      <td>666.000000</td>\n",
              "      <td>624.000000</td>\n",
              "      <td>558.000000</td>\n",
              "      <td>476.000000</td>\n",
              "      <td>562.000000</td>\n",
              "      <td>478.000000</td>\n",
              "      <td>652.000000</td>\n",
              "      <td>572.000000</td>\n",
              "      <td>629.000000</td>\n",
              "      <td>547.000000</td>\n",
              "      <td>394.000000</td>\n",
              "      <td>311.000000</td>\n",
              "      <td>574.000000</td>\n",
              "      <td>544.000000</td>\n",
              "      <td>369.000000</td>\n",
              "      <td>297.000000</td>\n",
              "      <td>423.00000</td>\n",
              "      <td>397.000000</td>\n",
              "      <td>325.000000</td>\n",
              "      <td>304.000000</td>\n",
              "    </tr>\n",
              "    <tr>\n",
              "      <th>mean</th>\n",
              "      <td>757.802510</td>\n",
              "      <td>1.571902</td>\n",
              "      <td>59.321004</td>\n",
              "      <td>43.999339</td>\n",
              "      <td>48.684941</td>\n",
              "      <td>821.230515</td>\n",
              "      <td>909.817041</td>\n",
              "      <td>841.106341</td>\n",
              "      <td>947.000000</td>\n",
              "      <td>181.527695</td>\n",
              "      <td>100.794277</td>\n",
              "      <td>135.626154</td>\n",
              "      <td>137.979836</td>\n",
              "      <td>94.892857</td>\n",
              "      <td>126.665632</td>\n",
              "      <td>120.192612</td>\n",
              "      <td>96.128978</td>\n",
              "      <td>50.649444</td>\n",
              "      <td>24.209703</td>\n",
              "      <td>62.189121</td>\n",
              "      <td>53.206255</td>\n",
              "      <td>29.275835</td>\n",
              "      <td>33.776722</td>\n",
              "      <td>38.588558</td>\n",
              "      <td>21.812950</td>\n",
              "      <td>96.481304</td>\n",
              "      <td>110.888025</td>\n",
              "      <td>114.720588</td>\n",
              "      <td>97.400470</td>\n",
              "      <td>35.934697</td>\n",
              "      <td>30.021442</td>\n",
              "      <td>32.207349</td>\n",
              "      <td>29.587002</td>\n",
              "      <td>11.104938</td>\n",
              "      <td>93.712452</td>\n",
              "      <td>113.400534</td>\n",
              "      <td>30.827097</td>\n",
              "      <td>40.618090</td>\n",
              "      <td>58.797935</td>\n",
              "      <td>75.562597</td>\n",
              "      <td>...</td>\n",
              "      <td>84.089127</td>\n",
              "      <td>84.096386</td>\n",
              "      <td>449.037868</td>\n",
              "      <td>448.262150</td>\n",
              "      <td>453.364615</td>\n",
              "      <td>452.344000</td>\n",
              "      <td>79.677796</td>\n",
              "      <td>80.239051</td>\n",
              "      <td>45.485362</td>\n",
              "      <td>45.920339</td>\n",
              "      <td>26.860870</td>\n",
              "      <td>26.750779</td>\n",
              "      <td>30.292754</td>\n",
              "      <td>30.289720</td>\n",
              "      <td>28.693787</td>\n",
              "      <td>28.643436</td>\n",
              "      <td>25.847858</td>\n",
              "      <td>25.577670</td>\n",
              "      <td>85.984655</td>\n",
              "      <td>86.272727</td>\n",
              "      <td>372.518018</td>\n",
              "      <td>373.176282</td>\n",
              "      <td>74.557348</td>\n",
              "      <td>74.516807</td>\n",
              "      <td>49.067616</td>\n",
              "      <td>49.399582</td>\n",
              "      <td>33.911043</td>\n",
              "      <td>33.718531</td>\n",
              "      <td>24.146264</td>\n",
              "      <td>24.254113</td>\n",
              "      <td>92.512690</td>\n",
              "      <td>92.122186</td>\n",
              "      <td>365.925087</td>\n",
              "      <td>364.329044</td>\n",
              "      <td>14.663957</td>\n",
              "      <td>15.000000</td>\n",
              "      <td>82.21513</td>\n",
              "      <td>82.372796</td>\n",
              "      <td>42.581538</td>\n",
              "      <td>42.736842</td>\n",
              "    </tr>\n",
              "    <tr>\n",
              "      <th>std</th>\n",
              "      <td>437.707694</td>\n",
              "      <td>0.773161</td>\n",
              "      <td>33.946792</td>\n",
              "      <td>28.036151</td>\n",
              "      <td>29.889737</td>\n",
              "      <td>340.870774</td>\n",
              "      <td>256.863205</td>\n",
              "      <td>332.739457</td>\n",
              "      <td>204.765518</td>\n",
              "      <td>9.120869</td>\n",
              "      <td>6.382377</td>\n",
              "      <td>7.192413</td>\n",
              "      <td>6.574993</td>\n",
              "      <td>5.373070</td>\n",
              "      <td>8.478731</td>\n",
              "      <td>6.695254</td>\n",
              "      <td>7.308903</td>\n",
              "      <td>4.164517</td>\n",
              "      <td>2.549402</td>\n",
              "      <td>5.428480</td>\n",
              "      <td>4.908440</td>\n",
              "      <td>4.578253</td>\n",
              "      <td>2.374761</td>\n",
              "      <td>2.828010</td>\n",
              "      <td>2.981037</td>\n",
              "      <td>4.857508</td>\n",
              "      <td>5.991166</td>\n",
              "      <td>7.190348</td>\n",
              "      <td>6.013603</td>\n",
              "      <td>2.741283</td>\n",
              "      <td>2.609463</td>\n",
              "      <td>4.322912</td>\n",
              "      <td>3.734812</td>\n",
              "      <td>2.027465</td>\n",
              "      <td>8.515341</td>\n",
              "      <td>8.723458</td>\n",
              "      <td>3.978110</td>\n",
              "      <td>5.039728</td>\n",
              "      <td>7.961254</td>\n",
              "      <td>7.777002</td>\n",
              "      <td>...</td>\n",
              "      <td>9.244452</td>\n",
              "      <td>9.990274</td>\n",
              "      <td>62.081226</td>\n",
              "      <td>64.708415</td>\n",
              "      <td>40.893876</td>\n",
              "      <td>41.839533</td>\n",
              "      <td>8.034917</td>\n",
              "      <td>9.226748</td>\n",
              "      <td>4.271299</td>\n",
              "      <td>4.418908</td>\n",
              "      <td>3.483872</td>\n",
              "      <td>3.833941</td>\n",
              "      <td>3.600287</td>\n",
              "      <td>4.130121</td>\n",
              "      <td>4.028347</td>\n",
              "      <td>4.510730</td>\n",
              "      <td>3.846025</td>\n",
              "      <td>4.145016</td>\n",
              "      <td>10.238428</td>\n",
              "      <td>10.669881</td>\n",
              "      <td>52.134013</td>\n",
              "      <td>51.326460</td>\n",
              "      <td>7.822040</td>\n",
              "      <td>8.210759</td>\n",
              "      <td>5.775267</td>\n",
              "      <td>5.883331</td>\n",
              "      <td>5.000283</td>\n",
              "      <td>5.108916</td>\n",
              "      <td>3.696388</td>\n",
              "      <td>3.733738</td>\n",
              "      <td>11.653221</td>\n",
              "      <td>12.116552</td>\n",
              "      <td>52.433782</td>\n",
              "      <td>52.052214</td>\n",
              "      <td>2.165898</td>\n",
              "      <td>2.434271</td>\n",
              "      <td>6.73771</td>\n",
              "      <td>6.798475</td>\n",
              "      <td>4.229923</td>\n",
              "      <td>4.235224</td>\n",
              "    </tr>\n",
              "    <tr>\n",
              "      <th>min</th>\n",
              "      <td>1.000000</td>\n",
              "      <td>1.000000</td>\n",
              "      <td>0.000000</td>\n",
              "      <td>-8.000000</td>\n",
              "      <td>-8.000000</td>\n",
              "      <td>91.000000</td>\n",
              "      <td>89.000000</td>\n",
              "      <td>36.000000</td>\n",
              "      <td>60.000000</td>\n",
              "      <td>93.000000</td>\n",
              "      <td>47.000000</td>\n",
              "      <td>75.000000</td>\n",
              "      <td>86.000000</td>\n",
              "      <td>51.000000</td>\n",
              "      <td>53.000000</td>\n",
              "      <td>86.000000</td>\n",
              "      <td>45.000000</td>\n",
              "      <td>17.000000</td>\n",
              "      <td>12.000000</td>\n",
              "      <td>29.000000</td>\n",
              "      <td>22.000000</td>\n",
              "      <td>5.000000</td>\n",
              "      <td>18.000000</td>\n",
              "      <td>20.000000</td>\n",
              "      <td>10.000000</td>\n",
              "      <td>73.000000</td>\n",
              "      <td>50.000000</td>\n",
              "      <td>67.000000</td>\n",
              "      <td>52.000000</td>\n",
              "      <td>19.000000</td>\n",
              "      <td>11.000000</td>\n",
              "      <td>13.000000</td>\n",
              "      <td>16.000000</td>\n",
              "      <td>6.000000</td>\n",
              "      <td>48.000000</td>\n",
              "      <td>63.000000</td>\n",
              "      <td>13.000000</td>\n",
              "      <td>28.000000</td>\n",
              "      <td>18.000000</td>\n",
              "      <td>43.000000</td>\n",
              "      <td>...</td>\n",
              "      <td>16.000000</td>\n",
              "      <td>15.000000</td>\n",
              "      <td>31.000000</td>\n",
              "      <td>30.000000</td>\n",
              "      <td>82.000000</td>\n",
              "      <td>71.000000</td>\n",
              "      <td>12.000000</td>\n",
              "      <td>12.000000</td>\n",
              "      <td>22.000000</td>\n",
              "      <td>26.000000</td>\n",
              "      <td>6.000000</td>\n",
              "      <td>6.000000</td>\n",
              "      <td>6.000000</td>\n",
              "      <td>6.000000</td>\n",
              "      <td>5.000000</td>\n",
              "      <td>5.000000</td>\n",
              "      <td>4.000000</td>\n",
              "      <td>4.000000</td>\n",
              "      <td>2.000000</td>\n",
              "      <td>2.000000</td>\n",
              "      <td>27.000000</td>\n",
              "      <td>27.000000</td>\n",
              "      <td>10.000000</td>\n",
              "      <td>10.000000</td>\n",
              "      <td>6.000000</td>\n",
              "      <td>7.000000</td>\n",
              "      <td>5.000000</td>\n",
              "      <td>4.000000</td>\n",
              "      <td>4.000000</td>\n",
              "      <td>4.000000</td>\n",
              "      <td>3.000000</td>\n",
              "      <td>2.000000</td>\n",
              "      <td>25.000000</td>\n",
              "      <td>41.000000</td>\n",
              "      <td>4.000000</td>\n",
              "      <td>4.000000</td>\n",
              "      <td>41.00000</td>\n",
              "      <td>41.000000</td>\n",
              "      <td>22.000000</td>\n",
              "      <td>22.000000</td>\n",
              "    </tr>\n",
              "    <tr>\n",
              "      <th>25%</th>\n",
              "      <td>379.250000</td>\n",
              "      <td>1.000000</td>\n",
              "      <td>27.000000</td>\n",
              "      <td>23.000000</td>\n",
              "      <td>25.000000</td>\n",
              "      <td>999.000000</td>\n",
              "      <td>999.000000</td>\n",
              "      <td>999.000000</td>\n",
              "      <td>999.000000</td>\n",
              "      <td>176.000000</td>\n",
              "      <td>97.000000</td>\n",
              "      <td>131.000000</td>\n",
              "      <td>133.000000</td>\n",
              "      <td>92.000000</td>\n",
              "      <td>122.000000</td>\n",
              "      <td>116.000000</td>\n",
              "      <td>92.000000</td>\n",
              "      <td>48.000000</td>\n",
              "      <td>22.000000</td>\n",
              "      <td>59.000000</td>\n",
              "      <td>50.000000</td>\n",
              "      <td>26.500000</td>\n",
              "      <td>32.000000</td>\n",
              "      <td>37.000000</td>\n",
              "      <td>20.000000</td>\n",
              "      <td>93.000000</td>\n",
              "      <td>107.000000</td>\n",
              "      <td>110.000000</td>\n",
              "      <td>93.000000</td>\n",
              "      <td>34.000000</td>\n",
              "      <td>28.000000</td>\n",
              "      <td>30.000000</td>\n",
              "      <td>27.000000</td>\n",
              "      <td>10.000000</td>\n",
              "      <td>89.000000</td>\n",
              "      <td>109.000000</td>\n",
              "      <td>29.000000</td>\n",
              "      <td>38.000000</td>\n",
              "      <td>54.000000</td>\n",
              "      <td>71.000000</td>\n",
              "      <td>...</td>\n",
              "      <td>79.000000</td>\n",
              "      <td>79.000000</td>\n",
              "      <td>435.000000</td>\n",
              "      <td>435.000000</td>\n",
              "      <td>433.000000</td>\n",
              "      <td>433.000000</td>\n",
              "      <td>75.000000</td>\n",
              "      <td>75.000000</td>\n",
              "      <td>42.000000</td>\n",
              "      <td>43.000000</td>\n",
              "      <td>25.000000</td>\n",
              "      <td>25.000000</td>\n",
              "      <td>28.000000</td>\n",
              "      <td>28.000000</td>\n",
              "      <td>27.000000</td>\n",
              "      <td>27.000000</td>\n",
              "      <td>24.000000</td>\n",
              "      <td>24.000000</td>\n",
              "      <td>81.000000</td>\n",
              "      <td>81.000000</td>\n",
              "      <td>356.250000</td>\n",
              "      <td>357.750000</td>\n",
              "      <td>70.000000</td>\n",
              "      <td>70.000000</td>\n",
              "      <td>46.000000</td>\n",
              "      <td>46.000000</td>\n",
              "      <td>31.000000</td>\n",
              "      <td>31.000000</td>\n",
              "      <td>22.000000</td>\n",
              "      <td>22.000000</td>\n",
              "      <td>85.000000</td>\n",
              "      <td>86.000000</td>\n",
              "      <td>351.000000</td>\n",
              "      <td>350.000000</td>\n",
              "      <td>13.000000</td>\n",
              "      <td>14.000000</td>\n",
              "      <td>78.00000</td>\n",
              "      <td>78.000000</td>\n",
              "      <td>40.000000</td>\n",
              "      <td>40.000000</td>\n",
              "    </tr>\n",
              "    <tr>\n",
              "      <th>50%</th>\n",
              "      <td>757.500000</td>\n",
              "      <td>1.000000</td>\n",
              "      <td>51.000000</td>\n",
              "      <td>35.000000</td>\n",
              "      <td>39.000000</td>\n",
              "      <td>999.000000</td>\n",
              "      <td>999.000000</td>\n",
              "      <td>999.000000</td>\n",
              "      <td>999.000000</td>\n",
              "      <td>181.500000</td>\n",
              "      <td>101.000000</td>\n",
              "      <td>136.000000</td>\n",
              "      <td>138.000000</td>\n",
              "      <td>95.000000</td>\n",
              "      <td>128.000000</td>\n",
              "      <td>120.000000</td>\n",
              "      <td>96.000000</td>\n",
              "      <td>51.000000</td>\n",
              "      <td>24.000000</td>\n",
              "      <td>62.000000</td>\n",
              "      <td>53.000000</td>\n",
              "      <td>30.000000</td>\n",
              "      <td>34.000000</td>\n",
              "      <td>39.000000</td>\n",
              "      <td>22.000000</td>\n",
              "      <td>96.000000</td>\n",
              "      <td>111.000000</td>\n",
              "      <td>115.000000</td>\n",
              "      <td>97.000000</td>\n",
              "      <td>36.000000</td>\n",
              "      <td>30.000000</td>\n",
              "      <td>32.000000</td>\n",
              "      <td>30.000000</td>\n",
              "      <td>11.000000</td>\n",
              "      <td>94.000000</td>\n",
              "      <td>114.000000</td>\n",
              "      <td>31.000000</td>\n",
              "      <td>41.000000</td>\n",
              "      <td>59.000000</td>\n",
              "      <td>76.000000</td>\n",
              "      <td>...</td>\n",
              "      <td>84.000000</td>\n",
              "      <td>84.000000</td>\n",
              "      <td>458.000000</td>\n",
              "      <td>459.000000</td>\n",
              "      <td>455.000000</td>\n",
              "      <td>455.000000</td>\n",
              "      <td>80.000000</td>\n",
              "      <td>81.000000</td>\n",
              "      <td>46.000000</td>\n",
              "      <td>46.000000</td>\n",
              "      <td>27.000000</td>\n",
              "      <td>27.000000</td>\n",
              "      <td>30.000000</td>\n",
              "      <td>31.000000</td>\n",
              "      <td>29.000000</td>\n",
              "      <td>29.000000</td>\n",
              "      <td>26.000000</td>\n",
              "      <td>26.000000</td>\n",
              "      <td>87.000000</td>\n",
              "      <td>87.000000</td>\n",
              "      <td>378.000000</td>\n",
              "      <td>378.000000</td>\n",
              "      <td>76.000000</td>\n",
              "      <td>76.000000</td>\n",
              "      <td>49.000000</td>\n",
              "      <td>50.000000</td>\n",
              "      <td>34.000000</td>\n",
              "      <td>34.000000</td>\n",
              "      <td>24.000000</td>\n",
              "      <td>24.000000</td>\n",
              "      <td>93.000000</td>\n",
              "      <td>93.000000</td>\n",
              "      <td>373.000000</td>\n",
              "      <td>371.000000</td>\n",
              "      <td>15.000000</td>\n",
              "      <td>15.000000</td>\n",
              "      <td>82.00000</td>\n",
              "      <td>82.000000</td>\n",
              "      <td>43.000000</td>\n",
              "      <td>43.000000</td>\n",
              "    </tr>\n",
              "    <tr>\n",
              "      <th>75%</th>\n",
              "      <td>1135.750000</td>\n",
              "      <td>2.000000</td>\n",
              "      <td>99.000000</td>\n",
              "      <td>56.000000</td>\n",
              "      <td>70.000000</td>\n",
              "      <td>999.000000</td>\n",
              "      <td>999.000000</td>\n",
              "      <td>999.000000</td>\n",
              "      <td>999.000000</td>\n",
              "      <td>188.000000</td>\n",
              "      <td>105.000000</td>\n",
              "      <td>140.000000</td>\n",
              "      <td>142.000000</td>\n",
              "      <td>98.000000</td>\n",
              "      <td>132.000000</td>\n",
              "      <td>125.000000</td>\n",
              "      <td>101.000000</td>\n",
              "      <td>53.000000</td>\n",
              "      <td>26.000000</td>\n",
              "      <td>66.000000</td>\n",
              "      <td>56.000000</td>\n",
              "      <td>32.000000</td>\n",
              "      <td>35.000000</td>\n",
              "      <td>40.000000</td>\n",
              "      <td>24.000000</td>\n",
              "      <td>100.000000</td>\n",
              "      <td>115.000000</td>\n",
              "      <td>119.000000</td>\n",
              "      <td>101.000000</td>\n",
              "      <td>38.000000</td>\n",
              "      <td>32.000000</td>\n",
              "      <td>35.000000</td>\n",
              "      <td>32.000000</td>\n",
              "      <td>12.000000</td>\n",
              "      <td>99.000000</td>\n",
              "      <td>119.000000</td>\n",
              "      <td>33.000000</td>\n",
              "      <td>43.000000</td>\n",
              "      <td>63.000000</td>\n",
              "      <td>81.000000</td>\n",
              "      <td>...</td>\n",
              "      <td>90.000000</td>\n",
              "      <td>91.000000</td>\n",
              "      <td>480.000000</td>\n",
              "      <td>480.000000</td>\n",
              "      <td>477.000000</td>\n",
              "      <td>477.000000</td>\n",
              "      <td>85.000000</td>\n",
              "      <td>86.000000</td>\n",
              "      <td>49.000000</td>\n",
              "      <td>49.000000</td>\n",
              "      <td>29.000000</td>\n",
              "      <td>29.000000</td>\n",
              "      <td>33.000000</td>\n",
              "      <td>33.000000</td>\n",
              "      <td>31.000000</td>\n",
              "      <td>31.000000</td>\n",
              "      <td>28.000000</td>\n",
              "      <td>28.000000</td>\n",
              "      <td>92.000000</td>\n",
              "      <td>92.000000</td>\n",
              "      <td>398.000000</td>\n",
              "      <td>399.000000</td>\n",
              "      <td>80.000000</td>\n",
              "      <td>80.000000</td>\n",
              "      <td>53.000000</td>\n",
              "      <td>53.000000</td>\n",
              "      <td>37.000000</td>\n",
              "      <td>37.000000</td>\n",
              "      <td>26.000000</td>\n",
              "      <td>26.000000</td>\n",
              "      <td>100.000000</td>\n",
              "      <td>100.000000</td>\n",
              "      <td>391.000000</td>\n",
              "      <td>390.000000</td>\n",
              "      <td>16.000000</td>\n",
              "      <td>16.000000</td>\n",
              "      <td>87.00000</td>\n",
              "      <td>87.000000</td>\n",
              "      <td>45.000000</td>\n",
              "      <td>45.000000</td>\n",
              "    </tr>\n",
              "    <tr>\n",
              "      <th>max</th>\n",
              "      <td>1523.000000</td>\n",
              "      <td>3.000000</td>\n",
              "      <td>99.000000</td>\n",
              "      <td>99.000000</td>\n",
              "      <td>99.000000</td>\n",
              "      <td>999.000000</td>\n",
              "      <td>999.000000</td>\n",
              "      <td>999.000000</td>\n",
              "      <td>999.000000</td>\n",
              "      <td>211.000000</td>\n",
              "      <td>120.000000</td>\n",
              "      <td>158.000000</td>\n",
              "      <td>160.000000</td>\n",
              "      <td>117.000000</td>\n",
              "      <td>145.000000</td>\n",
              "      <td>140.000000</td>\n",
              "      <td>117.000000</td>\n",
              "      <td>66.000000</td>\n",
              "      <td>36.000000</td>\n",
              "      <td>78.000000</td>\n",
              "      <td>90.000000</td>\n",
              "      <td>49.000000</td>\n",
              "      <td>49.000000</td>\n",
              "      <td>49.000000</td>\n",
              "      <td>32.000000</td>\n",
              "      <td>113.000000</td>\n",
              "      <td>128.000000</td>\n",
              "      <td>144.000000</td>\n",
              "      <td>118.000000</td>\n",
              "      <td>46.000000</td>\n",
              "      <td>40.000000</td>\n",
              "      <td>46.000000</td>\n",
              "      <td>40.000000</td>\n",
              "      <td>19.000000</td>\n",
              "      <td>121.000000</td>\n",
              "      <td>132.000000</td>\n",
              "      <td>54.000000</td>\n",
              "      <td>69.000000</td>\n",
              "      <td>103.000000</td>\n",
              "      <td>108.000000</td>\n",
              "      <td>...</td>\n",
              "      <td>110.000000</td>\n",
              "      <td>110.000000</td>\n",
              "      <td>549.000000</td>\n",
              "      <td>547.000000</td>\n",
              "      <td>547.000000</td>\n",
              "      <td>543.000000</td>\n",
              "      <td>99.000000</td>\n",
              "      <td>99.000000</td>\n",
              "      <td>58.000000</td>\n",
              "      <td>59.000000</td>\n",
              "      <td>38.000000</td>\n",
              "      <td>37.000000</td>\n",
              "      <td>41.000000</td>\n",
              "      <td>41.000000</td>\n",
              "      <td>40.000000</td>\n",
              "      <td>38.000000</td>\n",
              "      <td>42.000000</td>\n",
              "      <td>41.000000</td>\n",
              "      <td>115.000000</td>\n",
              "      <td>111.000000</td>\n",
              "      <td>479.000000</td>\n",
              "      <td>479.000000</td>\n",
              "      <td>92.000000</td>\n",
              "      <td>93.000000</td>\n",
              "      <td>73.000000</td>\n",
              "      <td>78.000000</td>\n",
              "      <td>46.000000</td>\n",
              "      <td>44.000000</td>\n",
              "      <td>38.000000</td>\n",
              "      <td>35.000000</td>\n",
              "      <td>123.000000</td>\n",
              "      <td>121.000000</td>\n",
              "      <td>465.000000</td>\n",
              "      <td>466.000000</td>\n",
              "      <td>22.000000</td>\n",
              "      <td>22.000000</td>\n",
              "      <td>98.00000</td>\n",
              "      <td>99.000000</td>\n",
              "      <td>62.000000</td>\n",
              "      <td>58.000000</td>\n",
              "    </tr>\n",
              "  </tbody>\n",
              "</table>\n",
              "<p>8 rows × 129 columns</p>\n",
              "</div>"
            ],
            "text/plain": [
              "               FDN       IDSTAT  ...    CALCBR_L    CALCBR_R\n",
              "count  1514.000000  1509.000000  ...  325.000000  304.000000\n",
              "mean    757.802510     1.571902  ...   42.581538   42.736842\n",
              "std     437.707694     0.773161  ...    4.229923    4.235224\n",
              "min       1.000000     1.000000  ...   22.000000   22.000000\n",
              "25%     379.250000     1.000000  ...   40.000000   40.000000\n",
              "50%     757.500000     1.000000  ...   43.000000   43.000000\n",
              "75%    1135.750000     2.000000  ...   45.000000   45.000000\n",
              "max    1523.000000     3.000000  ...   62.000000   58.000000\n",
              "\n",
              "[8 rows x 129 columns]"
            ]
          },
          "metadata": {
            "tags": []
          },
          "execution_count": 11
        }
      ]
    },
    {
      "cell_type": "markdown",
      "metadata": {
        "id": "ELPiEJukgN4A"
      },
      "source": [
        "##Постановка задачи\r\n",
        "Необходимо, используя алгоритм логистической регрессии обучить модель определить по данным краниальных и посткраниальных измерений пол, рассовую принадлежность и возрастную группу человека.\r\n",
        "\r\n",
        "##Подготовка данных\r\n",
        "Т.к. нам нужны не все столбцы в представленном DataSet, а только результаты измерений на которых будем обучать модель и категориальные столбцы со значением целевой функции - удалим те, которые не будут использоваться:"
      ]
    },
    {
      "cell_type": "code",
      "metadata": {
        "colab": {
          "base_uri": "https://localhost:8080/",
          "height": 253
        },
        "id": "kScETeDNf8eP",
        "outputId": "7a98dfb3-b828-4d89-c283-b8a2ecf32854"
      },
      "source": [
        "# Удаляем неиспользуемые столбцы оставля только те, которые будут использоваться в моделях\r\n",
        "df = df.drop(columns=['FDN', 'CONTRIB', 'CURATOR', 'RECORDER', 'DATEREC', 'IDSTAT', 'SEXSTAT', 'RACESTAT', 'ETHNIC', 'DOB_MODA', 'DOB_YR', 'DEATHAGE', 'LOWERAGE', 'UPPERAGE', 'FSTATURE', 'CSTATURE', 'FWEIGHT', 'CWEIGHT','DATPOSID'])\r\n",
        "df.head()"
      ],
      "execution_count": null,
      "outputs": [
        {
          "output_type": "execute_result",
          "data": {
            "text/html": [
              "<div>\n",
              "<style scoped>\n",
              "    .dataframe tbody tr th:only-of-type {\n",
              "        vertical-align: middle;\n",
              "    }\n",
              "\n",
              "    .dataframe tbody tr th {\n",
              "        vertical-align: top;\n",
              "    }\n",
              "\n",
              "    .dataframe thead th {\n",
              "        text-align: right;\n",
              "    }\n",
              "</style>\n",
              "<table border=\"1\" class=\"dataframe\">\n",
              "  <thead>\n",
              "    <tr style=\"text-align: right;\">\n",
              "      <th></th>\n",
              "      <th>SEX</th>\n",
              "      <th>RACE</th>\n",
              "      <th>AGEGROUP</th>\n",
              "      <th>GOL</th>\n",
              "      <th>BNL</th>\n",
              "      <th>BBH</th>\n",
              "      <th>XCB</th>\n",
              "      <th>WFB</th>\n",
              "      <th>ZYB</th>\n",
              "      <th>AUB</th>\n",
              "      <th>BPL</th>\n",
              "      <th>NLH</th>\n",
              "      <th>NLB</th>\n",
              "      <th>MAB</th>\n",
              "      <th>MAL</th>\n",
              "      <th>MDH</th>\n",
              "      <th>OBH</th>\n",
              "      <th>OBB</th>\n",
              "      <th>DKB</th>\n",
              "      <th>EKB</th>\n",
              "      <th>FRC</th>\n",
              "      <th>PAC</th>\n",
              "      <th>OCC</th>\n",
              "      <th>FOL</th>\n",
              "      <th>FOB</th>\n",
              "      <th>GNI</th>\n",
              "      <th>HML</th>\n",
              "      <th>TML</th>\n",
              "      <th>GOG</th>\n",
              "      <th>CDL</th>\n",
              "      <th>WRL</th>\n",
              "      <th>MRL</th>\n",
              "      <th>XRL</th>\n",
              "      <th>MLT</th>\n",
              "      <th>MAN</th>\n",
              "      <th>UFHT</th>\n",
              "      <th>UFBR</th>\n",
              "      <th>CLAXLN_L</th>\n",
              "      <th>CLAXLN_R</th>\n",
              "      <th>CLAAPD_L</th>\n",
              "      <th>...</th>\n",
              "      <th>ISCHLN_L</th>\n",
              "      <th>ISCHLN_R</th>\n",
              "      <th>FEMXLN_L</th>\n",
              "      <th>FEMXLN_R</th>\n",
              "      <th>FEMBLN_L</th>\n",
              "      <th>FEMBLN_R</th>\n",
              "      <th>FEMEBR_L</th>\n",
              "      <th>FEMEBR_R</th>\n",
              "      <th>FEMHDD_L</th>\n",
              "      <th>FEMHDD_R</th>\n",
              "      <th>FEMSAP_L</th>\n",
              "      <th>FEMSAP_R</th>\n",
              "      <th>FEMSTV_L</th>\n",
              "      <th>FEMSTV_R</th>\n",
              "      <th>FEMMAP_L</th>\n",
              "      <th>FEMMAP_R</th>\n",
              "      <th>FEMMTV_L</th>\n",
              "      <th>FEMMTV_R</th>\n",
              "      <th>FEMCIR_L</th>\n",
              "      <th>FEMCIR_R</th>\n",
              "      <th>TIBXLN_L</th>\n",
              "      <th>TIBXLN_R</th>\n",
              "      <th>TIBPEB_L</th>\n",
              "      <th>TIBPEB_R</th>\n",
              "      <th>TIBDEB_L</th>\n",
              "      <th>TIBDEB_R</th>\n",
              "      <th>TIBNFX_L</th>\n",
              "      <th>TIBNFX_R</th>\n",
              "      <th>TIBNFT_L</th>\n",
              "      <th>TIBNFT_R</th>\n",
              "      <th>TIBCIR_L</th>\n",
              "      <th>TIBCIR_R</th>\n",
              "      <th>FIBXLN_L</th>\n",
              "      <th>FIBXLN_R</th>\n",
              "      <th>FIBMDM_L</th>\n",
              "      <th>FIBMDM_R</th>\n",
              "      <th>CALCXL_L</th>\n",
              "      <th>CALCXL_R</th>\n",
              "      <th>CALCBR_L</th>\n",
              "      <th>CALCBR_R</th>\n",
              "    </tr>\n",
              "  </thead>\n",
              "  <tbody>\n",
              "    <tr>\n",
              "      <th>0</th>\n",
              "      <td>F</td>\n",
              "      <td>B</td>\n",
              "      <td>A</td>\n",
              "      <td>171.0</td>\n",
              "      <td>92.0</td>\n",
              "      <td>122.0</td>\n",
              "      <td>130.0</td>\n",
              "      <td>92.0</td>\n",
              "      <td>117.0</td>\n",
              "      <td>112.0</td>\n",
              "      <td>96.0</td>\n",
              "      <td>50.0</td>\n",
              "      <td>25.0</td>\n",
              "      <td>65.0</td>\n",
              "      <td>56.0</td>\n",
              "      <td>33.0</td>\n",
              "      <td>34.0</td>\n",
              "      <td>40.0</td>\n",
              "      <td>21.0</td>\n",
              "      <td>92.0</td>\n",
              "      <td>102.0</td>\n",
              "      <td>110.0</td>\n",
              "      <td>85.0</td>\n",
              "      <td>38.0</td>\n",
              "      <td>28.0</td>\n",
              "      <td>37.0</td>\n",
              "      <td>31.0</td>\n",
              "      <td>8.0</td>\n",
              "      <td>92.0</td>\n",
              "      <td>NaN</td>\n",
              "      <td>30.0</td>\n",
              "      <td>NaN</td>\n",
              "      <td>NaN</td>\n",
              "      <td>79.0</td>\n",
              "      <td>130.0</td>\n",
              "      <td>69.0</td>\n",
              "      <td>97.0</td>\n",
              "      <td>NaN</td>\n",
              "      <td>140.0</td>\n",
              "      <td>NaN</td>\n",
              "      <td>...</td>\n",
              "      <td>77.0</td>\n",
              "      <td>NaN</td>\n",
              "      <td>467.0</td>\n",
              "      <td>NaN</td>\n",
              "      <td>462.0</td>\n",
              "      <td>NaN</td>\n",
              "      <td>72.0</td>\n",
              "      <td>NaN</td>\n",
              "      <td>40.0</td>\n",
              "      <td>NaN</td>\n",
              "      <td>24.0</td>\n",
              "      <td>NaN</td>\n",
              "      <td>26.0</td>\n",
              "      <td>NaN</td>\n",
              "      <td>28.0</td>\n",
              "      <td>NaN</td>\n",
              "      <td>24.0</td>\n",
              "      <td>NaN</td>\n",
              "      <td>80.0</td>\n",
              "      <td>NaN</td>\n",
              "      <td>392.0</td>\n",
              "      <td>NaN</td>\n",
              "      <td>68.0</td>\n",
              "      <td>NaN</td>\n",
              "      <td>47.0</td>\n",
              "      <td>NaN</td>\n",
              "      <td>32.0</td>\n",
              "      <td>NaN</td>\n",
              "      <td>20.0</td>\n",
              "      <td>NaN</td>\n",
              "      <td>82.0</td>\n",
              "      <td>NaN</td>\n",
              "      <td>383.0</td>\n",
              "      <td>NaN</td>\n",
              "      <td>15.0</td>\n",
              "      <td>NaN</td>\n",
              "      <td>NaN</td>\n",
              "      <td>NaN</td>\n",
              "      <td>NaN</td>\n",
              "      <td>NaN</td>\n",
              "    </tr>\n",
              "    <tr>\n",
              "      <th>1</th>\n",
              "      <td>M</td>\n",
              "      <td>B</td>\n",
              "      <td>A</td>\n",
              "      <td>185.0</td>\n",
              "      <td>NaN</td>\n",
              "      <td>NaN</td>\n",
              "      <td>NaN</td>\n",
              "      <td>92.0</td>\n",
              "      <td>122.0</td>\n",
              "      <td>NaN</td>\n",
              "      <td>NaN</td>\n",
              "      <td>50.0</td>\n",
              "      <td>22.0</td>\n",
              "      <td>NaN</td>\n",
              "      <td>NaN</td>\n",
              "      <td>32.0</td>\n",
              "      <td>32.0</td>\n",
              "      <td>38.0</td>\n",
              "      <td>NaN</td>\n",
              "      <td>96.0</td>\n",
              "      <td>NaN</td>\n",
              "      <td>114.0</td>\n",
              "      <td>NaN</td>\n",
              "      <td>NaN</td>\n",
              "      <td>NaN</td>\n",
              "      <td>NaN</td>\n",
              "      <td>29.0</td>\n",
              "      <td>10.0</td>\n",
              "      <td>94.0</td>\n",
              "      <td>113.0</td>\n",
              "      <td>32.0</td>\n",
              "      <td>NaN</td>\n",
              "      <td>62.0</td>\n",
              "      <td>84.0</td>\n",
              "      <td>125.0</td>\n",
              "      <td>69.0</td>\n",
              "      <td>102.0</td>\n",
              "      <td>153.0</td>\n",
              "      <td>160.0</td>\n",
              "      <td>14.0</td>\n",
              "      <td>...</td>\n",
              "      <td>NaN</td>\n",
              "      <td>NaN</td>\n",
              "      <td>NaN</td>\n",
              "      <td>NaN</td>\n",
              "      <td>NaN</td>\n",
              "      <td>NaN</td>\n",
              "      <td>81.0</td>\n",
              "      <td>81.0</td>\n",
              "      <td>45.0</td>\n",
              "      <td>NaN</td>\n",
              "      <td>30.0</td>\n",
              "      <td>29.0</td>\n",
              "      <td>31.0</td>\n",
              "      <td>31.0</td>\n",
              "      <td>NaN</td>\n",
              "      <td>NaN</td>\n",
              "      <td>NaN</td>\n",
              "      <td>NaN</td>\n",
              "      <td>NaN</td>\n",
              "      <td>NaN</td>\n",
              "      <td>NaN</td>\n",
              "      <td>NaN</td>\n",
              "      <td>NaN</td>\n",
              "      <td>NaN</td>\n",
              "      <td>NaN</td>\n",
              "      <td>NaN</td>\n",
              "      <td>NaN</td>\n",
              "      <td>NaN</td>\n",
              "      <td>NaN</td>\n",
              "      <td>NaN</td>\n",
              "      <td>NaN</td>\n",
              "      <td>NaN</td>\n",
              "      <td>422.0</td>\n",
              "      <td>418.0</td>\n",
              "      <td>NaN</td>\n",
              "      <td>16.0</td>\n",
              "      <td>84.0</td>\n",
              "      <td>85.0</td>\n",
              "      <td>47.0</td>\n",
              "      <td>46.0</td>\n",
              "    </tr>\n",
              "    <tr>\n",
              "      <th>2</th>\n",
              "      <td>M</td>\n",
              "      <td>W</td>\n",
              "      <td>A</td>\n",
              "      <td>172.0</td>\n",
              "      <td>97.0</td>\n",
              "      <td>137.0</td>\n",
              "      <td>138.0</td>\n",
              "      <td>93.0</td>\n",
              "      <td>127.0</td>\n",
              "      <td>122.0</td>\n",
              "      <td>94.0</td>\n",
              "      <td>51.0</td>\n",
              "      <td>25.0</td>\n",
              "      <td>59.0</td>\n",
              "      <td>51.0</td>\n",
              "      <td>34.0</td>\n",
              "      <td>35.0</td>\n",
              "      <td>39.0</td>\n",
              "      <td>21.0</td>\n",
              "      <td>94.0</td>\n",
              "      <td>105.0</td>\n",
              "      <td>107.0</td>\n",
              "      <td>108.0</td>\n",
              "      <td>36.0</td>\n",
              "      <td>32.0</td>\n",
              "      <td>31.0</td>\n",
              "      <td>29.0</td>\n",
              "      <td>11.0</td>\n",
              "      <td>97.0</td>\n",
              "      <td>121.0</td>\n",
              "      <td>30.0</td>\n",
              "      <td>NaN</td>\n",
              "      <td>60.0</td>\n",
              "      <td>74.0</td>\n",
              "      <td>127.0</td>\n",
              "      <td>68.0</td>\n",
              "      <td>NaN</td>\n",
              "      <td>153.0</td>\n",
              "      <td>144.0</td>\n",
              "      <td>12.0</td>\n",
              "      <td>...</td>\n",
              "      <td>91.0</td>\n",
              "      <td>92.0</td>\n",
              "      <td>453.0</td>\n",
              "      <td>454.0</td>\n",
              "      <td>450.0</td>\n",
              "      <td>453.0</td>\n",
              "      <td>88.0</td>\n",
              "      <td>89.0</td>\n",
              "      <td>49.0</td>\n",
              "      <td>51.0</td>\n",
              "      <td>30.0</td>\n",
              "      <td>30.0</td>\n",
              "      <td>33.0</td>\n",
              "      <td>33.0</td>\n",
              "      <td>30.0</td>\n",
              "      <td>31.0</td>\n",
              "      <td>28.0</td>\n",
              "      <td>28.0</td>\n",
              "      <td>90.0</td>\n",
              "      <td>91.0</td>\n",
              "      <td>366.0</td>\n",
              "      <td>366.0</td>\n",
              "      <td>82.0</td>\n",
              "      <td>82.0</td>\n",
              "      <td>57.0</td>\n",
              "      <td>55.0</td>\n",
              "      <td>36.0</td>\n",
              "      <td>36.0</td>\n",
              "      <td>26.0</td>\n",
              "      <td>26.0</td>\n",
              "      <td>98.0</td>\n",
              "      <td>95.0</td>\n",
              "      <td>360.0</td>\n",
              "      <td>360.0</td>\n",
              "      <td>17.0</td>\n",
              "      <td>16.0</td>\n",
              "      <td>91.0</td>\n",
              "      <td>91.0</td>\n",
              "      <td>46.0</td>\n",
              "      <td>46.0</td>\n",
              "    </tr>\n",
              "    <tr>\n",
              "      <th>3</th>\n",
              "      <td>F</td>\n",
              "      <td>W</td>\n",
              "      <td>A</td>\n",
              "      <td>185.0</td>\n",
              "      <td>107.0</td>\n",
              "      <td>143.0</td>\n",
              "      <td>NaN</td>\n",
              "      <td>101.0</td>\n",
              "      <td>122.0</td>\n",
              "      <td>119.0</td>\n",
              "      <td>97.0</td>\n",
              "      <td>50.0</td>\n",
              "      <td>NaN</td>\n",
              "      <td>57.0</td>\n",
              "      <td>53.0</td>\n",
              "      <td>31.0</td>\n",
              "      <td>36.0</td>\n",
              "      <td>42.0</td>\n",
              "      <td>24.0</td>\n",
              "      <td>NaN</td>\n",
              "      <td>117.0</td>\n",
              "      <td>113.0</td>\n",
              "      <td>100.0</td>\n",
              "      <td>33.0</td>\n",
              "      <td>29.0</td>\n",
              "      <td>NaN</td>\n",
              "      <td>NaN</td>\n",
              "      <td>NaN</td>\n",
              "      <td>NaN</td>\n",
              "      <td>NaN</td>\n",
              "      <td>NaN</td>\n",
              "      <td>NaN</td>\n",
              "      <td>NaN</td>\n",
              "      <td>NaN</td>\n",
              "      <td>NaN</td>\n",
              "      <td>68.0</td>\n",
              "      <td>NaN</td>\n",
              "      <td>NaN</td>\n",
              "      <td>NaN</td>\n",
              "      <td>NaN</td>\n",
              "      <td>...</td>\n",
              "      <td>NaN</td>\n",
              "      <td>NaN</td>\n",
              "      <td>435.0</td>\n",
              "      <td>NaN</td>\n",
              "      <td>NaN</td>\n",
              "      <td>NaN</td>\n",
              "      <td>NaN</td>\n",
              "      <td>NaN</td>\n",
              "      <td>NaN</td>\n",
              "      <td>NaN</td>\n",
              "      <td>NaN</td>\n",
              "      <td>NaN</td>\n",
              "      <td>NaN</td>\n",
              "      <td>NaN</td>\n",
              "      <td>NaN</td>\n",
              "      <td>NaN</td>\n",
              "      <td>NaN</td>\n",
              "      <td>NaN</td>\n",
              "      <td>NaN</td>\n",
              "      <td>NaN</td>\n",
              "      <td>342.0</td>\n",
              "      <td>NaN</td>\n",
              "      <td>NaN</td>\n",
              "      <td>NaN</td>\n",
              "      <td>NaN</td>\n",
              "      <td>NaN</td>\n",
              "      <td>NaN</td>\n",
              "      <td>NaN</td>\n",
              "      <td>NaN</td>\n",
              "      <td>NaN</td>\n",
              "      <td>NaN</td>\n",
              "      <td>NaN</td>\n",
              "      <td>NaN</td>\n",
              "      <td>NaN</td>\n",
              "      <td>NaN</td>\n",
              "      <td>NaN</td>\n",
              "      <td>NaN</td>\n",
              "      <td>NaN</td>\n",
              "      <td>NaN</td>\n",
              "      <td>NaN</td>\n",
              "    </tr>\n",
              "    <tr>\n",
              "      <th>4</th>\n",
              "      <td>F</td>\n",
              "      <td>B</td>\n",
              "      <td>A</td>\n",
              "      <td>NaN</td>\n",
              "      <td>NaN</td>\n",
              "      <td>NaN</td>\n",
              "      <td>NaN</td>\n",
              "      <td>NaN</td>\n",
              "      <td>NaN</td>\n",
              "      <td>NaN</td>\n",
              "      <td>NaN</td>\n",
              "      <td>NaN</td>\n",
              "      <td>NaN</td>\n",
              "      <td>NaN</td>\n",
              "      <td>NaN</td>\n",
              "      <td>NaN</td>\n",
              "      <td>NaN</td>\n",
              "      <td>NaN</td>\n",
              "      <td>NaN</td>\n",
              "      <td>NaN</td>\n",
              "      <td>NaN</td>\n",
              "      <td>NaN</td>\n",
              "      <td>NaN</td>\n",
              "      <td>NaN</td>\n",
              "      <td>NaN</td>\n",
              "      <td>NaN</td>\n",
              "      <td>NaN</td>\n",
              "      <td>NaN</td>\n",
              "      <td>NaN</td>\n",
              "      <td>NaN</td>\n",
              "      <td>NaN</td>\n",
              "      <td>NaN</td>\n",
              "      <td>NaN</td>\n",
              "      <td>NaN</td>\n",
              "      <td>NaN</td>\n",
              "      <td>NaN</td>\n",
              "      <td>NaN</td>\n",
              "      <td>137.0</td>\n",
              "      <td>131.0</td>\n",
              "      <td>12.0</td>\n",
              "      <td>...</td>\n",
              "      <td>82.0</td>\n",
              "      <td>83.0</td>\n",
              "      <td>410.0</td>\n",
              "      <td>NaN</td>\n",
              "      <td>402.0</td>\n",
              "      <td>NaN</td>\n",
              "      <td>77.0</td>\n",
              "      <td>77.0</td>\n",
              "      <td>43.0</td>\n",
              "      <td>42.0</td>\n",
              "      <td>26.0</td>\n",
              "      <td>26.0</td>\n",
              "      <td>25.0</td>\n",
              "      <td>25.0</td>\n",
              "      <td>26.0</td>\n",
              "      <td>NaN</td>\n",
              "      <td>21.0</td>\n",
              "      <td>NaN</td>\n",
              "      <td>73.0</td>\n",
              "      <td>NaN</td>\n",
              "      <td>348.0</td>\n",
              "      <td>346.0</td>\n",
              "      <td>75.0</td>\n",
              "      <td>75.0</td>\n",
              "      <td>46.0</td>\n",
              "      <td>46.0</td>\n",
              "      <td>29.0</td>\n",
              "      <td>28.0</td>\n",
              "      <td>21.0</td>\n",
              "      <td>20.0</td>\n",
              "      <td>78.0</td>\n",
              "      <td>76.0</td>\n",
              "      <td>344.0</td>\n",
              "      <td>342.0</td>\n",
              "      <td>14.0</td>\n",
              "      <td>15.0</td>\n",
              "      <td>79.0</td>\n",
              "      <td>82.0</td>\n",
              "      <td>38.0</td>\n",
              "      <td>39.0</td>\n",
              "    </tr>\n",
              "  </tbody>\n",
              "</table>\n",
              "<p>5 rows × 123 columns</p>\n",
              "</div>"
            ],
            "text/plain": [
              "  SEX RACE AGEGROUP    GOL  ...  CALCXL_L  CALCXL_R  CALCBR_L  CALCBR_R\n",
              "0   F    B        A  171.0  ...       NaN       NaN       NaN       NaN\n",
              "1   M    B        A  185.0  ...      84.0      85.0      47.0      46.0\n",
              "2   M    W        A  172.0  ...      91.0      91.0      46.0      46.0\n",
              "3   F    W        A  185.0  ...       NaN       NaN       NaN       NaN\n",
              "4   F    B        A    NaN  ...      79.0      82.0      38.0      39.0\n",
              "\n",
              "[5 rows x 123 columns]"
            ]
          },
          "metadata": {
            "tags": []
          },
          "execution_count": 12
        }
      ]
    },
    {
      "cell_type": "markdown",
      "metadata": {
        "id": "Ycn4__zTgWN7"
      },
      "source": [
        "Мы видим, что в DataSet довольно много пустых значений в ячейках с замерами. Это объясняется тем, что датасет является результатом оцифровывания сделанных вручную записей за период с 1962 по 1991 год, источником которых были фрагментарные данные. \n",
        "Т.к. строки в которых отсутствуют замеры или кол-во замеров невелико, несут мало информации - удаляем из датасета те записи, где количество незаполненных измерений  больше $\\frac{2}{3}$ от общего числа замеров."
      ]
    },
    {
      "cell_type": "code",
      "metadata": {
        "colab": {
          "base_uri": "https://localhost:8080/"
        },
        "id": "Fgg9WfWhMFlx",
        "outputId": "c42738c1-b841-47a2-ae4d-e9c6a14cefe7"
      },
      "source": [
        "# Подключаем класс для предобработки данных\n",
        "from sklearn import preprocessing\n",
        "\n",
        "# Напишем функцию, которая принимает на вход DataFrame, осуществляет подсчет None в числовых полях и удаляет те строки,\n",
        "# где кол-во ячеек  в полях numberic больше 2/3\n",
        "def drop_null_records(input_df):\n",
        "    result = input_df.copy() # копируем нашу исходную таблицу\n",
        "    # определим общее число измерений в DataFrame\n",
        "    numberic_cols = result._get_numeric_data().columns\n",
        "    print(f'Количество измерений в исходном DataFrame: {len(numberic_cols)}')\n",
        "    # print(numberic_cols)\n",
        "    # подсчитаем число None в каждой строке и оставим только те, где релевантные данные составляют больше 2/3\n",
        "    result['def_measure'] = df[numberic_cols].count(axis=1)\n",
        "    result = result[result['def_measure']>= 40]\n",
        "    result = result.drop('def_measure', axis = 1)\n",
        "    return result\n",
        "\n",
        "\n",
        "# Удаляем строки с малым числом измерений в нашем датафрейме\n",
        "df_without_null = drop_null_records(df)"
      ],
      "execution_count": null,
      "outputs": [
        {
          "output_type": "stream",
          "text": [
            "Количество измерений в исходном DataFrame: 120\n"
          ],
          "name": "stdout"
        }
      ]
    },
    {
      "cell_type": "markdown",
      "metadata": {
        "id": "6Toy87Ghzshe"
      },
      "source": [
        "В оставшихся записях заполним пустые значения средним по столбцу"
      ]
    },
    {
      "cell_type": "code",
      "metadata": {
        "id": "OslQsvZv0FcW"
      },
      "source": [
        "df_without_null.fillna(df_without_null.mean(), inplace=True)"
      ],
      "execution_count": null,
      "outputs": []
    },
    {
      "cell_type": "code",
      "metadata": {
        "id": "9jA7Bo_HB08x"
      },
      "source": [
        "# Удалим строки с NaN в столбцах, которые будем использовать в качестве целевой функции\n",
        "df_without_null = df_without_null.dropna(axis=0)"
      ],
      "execution_count": null,
      "outputs": []
    },
    {
      "cell_type": "code",
      "metadata": {
        "colab": {
          "base_uri": "https://localhost:8080/"
        },
        "id": "HYsWz7NlyPzh",
        "outputId": "5c53a041-be25-4acd-f43f-6509467317e0"
      },
      "source": [
        "# Размер DataFrame без удаленных записей\n",
        "df_without_null.shape"
      ],
      "execution_count": null,
      "outputs": [
        {
          "output_type": "execute_result",
          "data": {
            "text/plain": [
              "(777, 123)"
            ]
          },
          "metadata": {
            "tags": []
          },
          "execution_count": 16
        }
      ]
    },
    {
      "cell_type": "code",
      "metadata": {
        "colab": {
          "base_uri": "https://localhost:8080/",
          "height": 253
        },
        "id": "qv1NMrxqDeRX",
        "outputId": "6b773330-2603-4d36-f4ff-7719e6bd113b"
      },
      "source": [
        "# Выведем DataFrame без None\n",
        "df_without_null.head()"
      ],
      "execution_count": null,
      "outputs": [
        {
          "output_type": "execute_result",
          "data": {
            "text/html": [
              "<div>\n",
              "<style scoped>\n",
              "    .dataframe tbody tr th:only-of-type {\n",
              "        vertical-align: middle;\n",
              "    }\n",
              "\n",
              "    .dataframe tbody tr th {\n",
              "        vertical-align: top;\n",
              "    }\n",
              "\n",
              "    .dataframe thead th {\n",
              "        text-align: right;\n",
              "    }\n",
              "</style>\n",
              "<table border=\"1\" class=\"dataframe\">\n",
              "  <thead>\n",
              "    <tr style=\"text-align: right;\">\n",
              "      <th></th>\n",
              "      <th>SEX</th>\n",
              "      <th>RACE</th>\n",
              "      <th>AGEGROUP</th>\n",
              "      <th>GOL</th>\n",
              "      <th>BNL</th>\n",
              "      <th>BBH</th>\n",
              "      <th>XCB</th>\n",
              "      <th>WFB</th>\n",
              "      <th>ZYB</th>\n",
              "      <th>AUB</th>\n",
              "      <th>BPL</th>\n",
              "      <th>NLH</th>\n",
              "      <th>NLB</th>\n",
              "      <th>MAB</th>\n",
              "      <th>MAL</th>\n",
              "      <th>MDH</th>\n",
              "      <th>OBH</th>\n",
              "      <th>OBB</th>\n",
              "      <th>DKB</th>\n",
              "      <th>EKB</th>\n",
              "      <th>FRC</th>\n",
              "      <th>PAC</th>\n",
              "      <th>OCC</th>\n",
              "      <th>FOL</th>\n",
              "      <th>FOB</th>\n",
              "      <th>GNI</th>\n",
              "      <th>HML</th>\n",
              "      <th>TML</th>\n",
              "      <th>GOG</th>\n",
              "      <th>CDL</th>\n",
              "      <th>WRL</th>\n",
              "      <th>MRL</th>\n",
              "      <th>XRL</th>\n",
              "      <th>MLT</th>\n",
              "      <th>MAN</th>\n",
              "      <th>UFHT</th>\n",
              "      <th>UFBR</th>\n",
              "      <th>CLAXLN_L</th>\n",
              "      <th>CLAXLN_R</th>\n",
              "      <th>CLAAPD_L</th>\n",
              "      <th>...</th>\n",
              "      <th>ISCHLN_L</th>\n",
              "      <th>ISCHLN_R</th>\n",
              "      <th>FEMXLN_L</th>\n",
              "      <th>FEMXLN_R</th>\n",
              "      <th>FEMBLN_L</th>\n",
              "      <th>FEMBLN_R</th>\n",
              "      <th>FEMEBR_L</th>\n",
              "      <th>FEMEBR_R</th>\n",
              "      <th>FEMHDD_L</th>\n",
              "      <th>FEMHDD_R</th>\n",
              "      <th>FEMSAP_L</th>\n",
              "      <th>FEMSAP_R</th>\n",
              "      <th>FEMSTV_L</th>\n",
              "      <th>FEMSTV_R</th>\n",
              "      <th>FEMMAP_L</th>\n",
              "      <th>FEMMAP_R</th>\n",
              "      <th>FEMMTV_L</th>\n",
              "      <th>FEMMTV_R</th>\n",
              "      <th>FEMCIR_L</th>\n",
              "      <th>FEMCIR_R</th>\n",
              "      <th>TIBXLN_L</th>\n",
              "      <th>TIBXLN_R</th>\n",
              "      <th>TIBPEB_L</th>\n",
              "      <th>TIBPEB_R</th>\n",
              "      <th>TIBDEB_L</th>\n",
              "      <th>TIBDEB_R</th>\n",
              "      <th>TIBNFX_L</th>\n",
              "      <th>TIBNFX_R</th>\n",
              "      <th>TIBNFT_L</th>\n",
              "      <th>TIBNFT_R</th>\n",
              "      <th>TIBCIR_L</th>\n",
              "      <th>TIBCIR_R</th>\n",
              "      <th>FIBXLN_L</th>\n",
              "      <th>FIBXLN_R</th>\n",
              "      <th>FIBMDM_L</th>\n",
              "      <th>FIBMDM_R</th>\n",
              "      <th>CALCXL_L</th>\n",
              "      <th>CALCXL_R</th>\n",
              "      <th>CALCBR_L</th>\n",
              "      <th>CALCBR_R</th>\n",
              "    </tr>\n",
              "  </thead>\n",
              "  <tbody>\n",
              "    <tr>\n",
              "      <th>0</th>\n",
              "      <td>F</td>\n",
              "      <td>B</td>\n",
              "      <td>A</td>\n",
              "      <td>171.000000</td>\n",
              "      <td>92.000000</td>\n",
              "      <td>122.000000</td>\n",
              "      <td>130.000000</td>\n",
              "      <td>92.000000</td>\n",
              "      <td>117.000000</td>\n",
              "      <td>112.000000</td>\n",
              "      <td>96.000000</td>\n",
              "      <td>50.000000</td>\n",
              "      <td>25.00000</td>\n",
              "      <td>65.000000</td>\n",
              "      <td>56.000000</td>\n",
              "      <td>33.000000</td>\n",
              "      <td>34.000000</td>\n",
              "      <td>40.000000</td>\n",
              "      <td>21.000000</td>\n",
              "      <td>92.000000</td>\n",
              "      <td>102.000000</td>\n",
              "      <td>110.000000</td>\n",
              "      <td>85.000000</td>\n",
              "      <td>38.000000</td>\n",
              "      <td>28.000000</td>\n",
              "      <td>37.000000</td>\n",
              "      <td>31.000000</td>\n",
              "      <td>8.000</td>\n",
              "      <td>92.000000</td>\n",
              "      <td>113.583333</td>\n",
              "      <td>30.000000</td>\n",
              "      <td>40.782313</td>\n",
              "      <td>58.827977</td>\n",
              "      <td>79.000000</td>\n",
              "      <td>130.000000</td>\n",
              "      <td>69.000000</td>\n",
              "      <td>97.000000</td>\n",
              "      <td>146.983019</td>\n",
              "      <td>140.000000</td>\n",
              "      <td>12.10089</td>\n",
              "      <td>...</td>\n",
              "      <td>77.000000</td>\n",
              "      <td>84.341053</td>\n",
              "      <td>467.000000</td>\n",
              "      <td>452.8688</td>\n",
              "      <td>462.000000</td>\n",
              "      <td>452.983221</td>\n",
              "      <td>72.0</td>\n",
              "      <td>80.426386</td>\n",
              "      <td>40.0</td>\n",
              "      <td>45.822142</td>\n",
              "      <td>24.0</td>\n",
              "      <td>26.880952</td>\n",
              "      <td>26.0</td>\n",
              "      <td>30.471088</td>\n",
              "      <td>28.000000</td>\n",
              "      <td>28.820557</td>\n",
              "      <td>24.000000</td>\n",
              "      <td>25.730903</td>\n",
              "      <td>80.000</td>\n",
              "      <td>86.286624</td>\n",
              "      <td>392.000000</td>\n",
              "      <td>375.616162</td>\n",
              "      <td>68.00000</td>\n",
              "      <td>74.474359</td>\n",
              "      <td>47.000000</td>\n",
              "      <td>49.373673</td>\n",
              "      <td>32.000000</td>\n",
              "      <td>33.811252</td>\n",
              "      <td>20.000000</td>\n",
              "      <td>24.342205</td>\n",
              "      <td>82.000000</td>\n",
              "      <td>92.163934</td>\n",
              "      <td>383.0</td>\n",
              "      <td>366.617871</td>\n",
              "      <td>15.00</td>\n",
              "      <td>15.013652</td>\n",
              "      <td>82.256659</td>\n",
              "      <td>82.296392</td>\n",
              "      <td>42.546032</td>\n",
              "      <td>42.728188</td>\n",
              "    </tr>\n",
              "    <tr>\n",
              "      <th>1</th>\n",
              "      <td>M</td>\n",
              "      <td>B</td>\n",
              "      <td>A</td>\n",
              "      <td>185.000000</td>\n",
              "      <td>101.445063</td>\n",
              "      <td>135.734722</td>\n",
              "      <td>137.972414</td>\n",
              "      <td>92.000000</td>\n",
              "      <td>122.000000</td>\n",
              "      <td>119.975232</td>\n",
              "      <td>96.316591</td>\n",
              "      <td>50.000000</td>\n",
              "      <td>22.00000</td>\n",
              "      <td>61.756881</td>\n",
              "      <td>53.589231</td>\n",
              "      <td>32.000000</td>\n",
              "      <td>32.000000</td>\n",
              "      <td>38.000000</td>\n",
              "      <td>21.706134</td>\n",
              "      <td>96.000000</td>\n",
              "      <td>111.132497</td>\n",
              "      <td>114.000000</td>\n",
              "      <td>97.765278</td>\n",
              "      <td>36.209722</td>\n",
              "      <td>30.193701</td>\n",
              "      <td>32.313356</td>\n",
              "      <td>29.000000</td>\n",
              "      <td>10.000</td>\n",
              "      <td>94.000000</td>\n",
              "      <td>113.000000</td>\n",
              "      <td>32.000000</td>\n",
              "      <td>40.782313</td>\n",
              "      <td>62.000000</td>\n",
              "      <td>84.000000</td>\n",
              "      <td>125.000000</td>\n",
              "      <td>69.000000</td>\n",
              "      <td>102.000000</td>\n",
              "      <td>153.000000</td>\n",
              "      <td>160.000000</td>\n",
              "      <td>14.00000</td>\n",
              "      <td>...</td>\n",
              "      <td>84.280603</td>\n",
              "      <td>84.341053</td>\n",
              "      <td>453.110942</td>\n",
              "      <td>452.8688</td>\n",
              "      <td>453.369775</td>\n",
              "      <td>452.983221</td>\n",
              "      <td>81.0</td>\n",
              "      <td>81.000000</td>\n",
              "      <td>45.0</td>\n",
              "      <td>45.822142</td>\n",
              "      <td>30.0</td>\n",
              "      <td>29.000000</td>\n",
              "      <td>31.0</td>\n",
              "      <td>31.000000</td>\n",
              "      <td>28.761381</td>\n",
              "      <td>28.820557</td>\n",
              "      <td>25.912088</td>\n",
              "      <td>25.730903</td>\n",
              "      <td>85.904</td>\n",
              "      <td>86.286624</td>\n",
              "      <td>375.562903</td>\n",
              "      <td>375.616162</td>\n",
              "      <td>74.47048</td>\n",
              "      <td>74.474359</td>\n",
              "      <td>49.082569</td>\n",
              "      <td>49.373673</td>\n",
              "      <td>33.980707</td>\n",
              "      <td>33.811252</td>\n",
              "      <td>24.233723</td>\n",
              "      <td>24.342205</td>\n",
              "      <td>92.577128</td>\n",
              "      <td>92.163934</td>\n",
              "      <td>422.0</td>\n",
              "      <td>418.000000</td>\n",
              "      <td>14.65</td>\n",
              "      <td>16.000000</td>\n",
              "      <td>84.000000</td>\n",
              "      <td>85.000000</td>\n",
              "      <td>47.000000</td>\n",
              "      <td>46.000000</td>\n",
              "    </tr>\n",
              "    <tr>\n",
              "      <th>2</th>\n",
              "      <td>M</td>\n",
              "      <td>W</td>\n",
              "      <td>A</td>\n",
              "      <td>172.000000</td>\n",
              "      <td>97.000000</td>\n",
              "      <td>137.000000</td>\n",
              "      <td>138.000000</td>\n",
              "      <td>93.000000</td>\n",
              "      <td>127.000000</td>\n",
              "      <td>122.000000</td>\n",
              "      <td>94.000000</td>\n",
              "      <td>51.000000</td>\n",
              "      <td>25.00000</td>\n",
              "      <td>59.000000</td>\n",
              "      <td>51.000000</td>\n",
              "      <td>34.000000</td>\n",
              "      <td>35.000000</td>\n",
              "      <td>39.000000</td>\n",
              "      <td>21.000000</td>\n",
              "      <td>94.000000</td>\n",
              "      <td>105.000000</td>\n",
              "      <td>107.000000</td>\n",
              "      <td>108.000000</td>\n",
              "      <td>36.000000</td>\n",
              "      <td>32.000000</td>\n",
              "      <td>31.000000</td>\n",
              "      <td>29.000000</td>\n",
              "      <td>11.000</td>\n",
              "      <td>97.000000</td>\n",
              "      <td>121.000000</td>\n",
              "      <td>30.000000</td>\n",
              "      <td>40.782313</td>\n",
              "      <td>60.000000</td>\n",
              "      <td>74.000000</td>\n",
              "      <td>127.000000</td>\n",
              "      <td>68.000000</td>\n",
              "      <td>103.647202</td>\n",
              "      <td>153.000000</td>\n",
              "      <td>144.000000</td>\n",
              "      <td>12.00000</td>\n",
              "      <td>...</td>\n",
              "      <td>91.000000</td>\n",
              "      <td>92.000000</td>\n",
              "      <td>453.000000</td>\n",
              "      <td>454.0000</td>\n",
              "      <td>450.000000</td>\n",
              "      <td>453.000000</td>\n",
              "      <td>88.0</td>\n",
              "      <td>89.000000</td>\n",
              "      <td>49.0</td>\n",
              "      <td>51.000000</td>\n",
              "      <td>30.0</td>\n",
              "      <td>30.000000</td>\n",
              "      <td>33.0</td>\n",
              "      <td>33.000000</td>\n",
              "      <td>30.000000</td>\n",
              "      <td>31.000000</td>\n",
              "      <td>28.000000</td>\n",
              "      <td>28.000000</td>\n",
              "      <td>90.000</td>\n",
              "      <td>91.000000</td>\n",
              "      <td>366.000000</td>\n",
              "      <td>366.000000</td>\n",
              "      <td>82.00000</td>\n",
              "      <td>82.000000</td>\n",
              "      <td>57.000000</td>\n",
              "      <td>55.000000</td>\n",
              "      <td>36.000000</td>\n",
              "      <td>36.000000</td>\n",
              "      <td>26.000000</td>\n",
              "      <td>26.000000</td>\n",
              "      <td>98.000000</td>\n",
              "      <td>95.000000</td>\n",
              "      <td>360.0</td>\n",
              "      <td>360.000000</td>\n",
              "      <td>17.00</td>\n",
              "      <td>16.000000</td>\n",
              "      <td>91.000000</td>\n",
              "      <td>91.000000</td>\n",
              "      <td>46.000000</td>\n",
              "      <td>46.000000</td>\n",
              "    </tr>\n",
              "    <tr>\n",
              "      <th>4</th>\n",
              "      <td>F</td>\n",
              "      <td>B</td>\n",
              "      <td>A</td>\n",
              "      <td>182.699588</td>\n",
              "      <td>101.445063</td>\n",
              "      <td>135.734722</td>\n",
              "      <td>137.972414</td>\n",
              "      <td>95.323651</td>\n",
              "      <td>126.492938</td>\n",
              "      <td>119.975232</td>\n",
              "      <td>96.316591</td>\n",
              "      <td>50.606277</td>\n",
              "      <td>23.98169</td>\n",
              "      <td>61.756881</td>\n",
              "      <td>53.589231</td>\n",
              "      <td>29.832178</td>\n",
              "      <td>33.697872</td>\n",
              "      <td>38.808451</td>\n",
              "      <td>21.706134</td>\n",
              "      <td>96.921098</td>\n",
              "      <td>111.132497</td>\n",
              "      <td>115.239281</td>\n",
              "      <td>97.765278</td>\n",
              "      <td>36.209722</td>\n",
              "      <td>30.193701</td>\n",
              "      <td>32.313356</td>\n",
              "      <td>29.667582</td>\n",
              "      <td>11.112</td>\n",
              "      <td>93.845771</td>\n",
              "      <td>113.583333</td>\n",
              "      <td>30.840796</td>\n",
              "      <td>40.782313</td>\n",
              "      <td>58.827977</td>\n",
              "      <td>75.701754</td>\n",
              "      <td>125.969388</td>\n",
              "      <td>69.675507</td>\n",
              "      <td>103.647202</td>\n",
              "      <td>137.000000</td>\n",
              "      <td>131.000000</td>\n",
              "      <td>12.00000</td>\n",
              "      <td>...</td>\n",
              "      <td>82.000000</td>\n",
              "      <td>83.000000</td>\n",
              "      <td>410.000000</td>\n",
              "      <td>452.8688</td>\n",
              "      <td>402.000000</td>\n",
              "      <td>452.983221</td>\n",
              "      <td>77.0</td>\n",
              "      <td>77.000000</td>\n",
              "      <td>43.0</td>\n",
              "      <td>42.000000</td>\n",
              "      <td>26.0</td>\n",
              "      <td>26.000000</td>\n",
              "      <td>25.0</td>\n",
              "      <td>25.000000</td>\n",
              "      <td>26.000000</td>\n",
              "      <td>28.820557</td>\n",
              "      <td>21.000000</td>\n",
              "      <td>25.730903</td>\n",
              "      <td>73.000</td>\n",
              "      <td>86.286624</td>\n",
              "      <td>348.000000</td>\n",
              "      <td>346.000000</td>\n",
              "      <td>75.00000</td>\n",
              "      <td>75.000000</td>\n",
              "      <td>46.000000</td>\n",
              "      <td>46.000000</td>\n",
              "      <td>29.000000</td>\n",
              "      <td>28.000000</td>\n",
              "      <td>21.000000</td>\n",
              "      <td>20.000000</td>\n",
              "      <td>78.000000</td>\n",
              "      <td>76.000000</td>\n",
              "      <td>344.0</td>\n",
              "      <td>342.000000</td>\n",
              "      <td>14.00</td>\n",
              "      <td>15.000000</td>\n",
              "      <td>79.000000</td>\n",
              "      <td>82.000000</td>\n",
              "      <td>38.000000</td>\n",
              "      <td>39.000000</td>\n",
              "    </tr>\n",
              "    <tr>\n",
              "      <th>7</th>\n",
              "      <td>F</td>\n",
              "      <td>W</td>\n",
              "      <td>A</td>\n",
              "      <td>177.000000</td>\n",
              "      <td>96.000000</td>\n",
              "      <td>143.000000</td>\n",
              "      <td>135.000000</td>\n",
              "      <td>90.000000</td>\n",
              "      <td>122.000000</td>\n",
              "      <td>118.000000</td>\n",
              "      <td>84.000000</td>\n",
              "      <td>47.000000</td>\n",
              "      <td>24.00000</td>\n",
              "      <td>60.000000</td>\n",
              "      <td>50.000000</td>\n",
              "      <td>31.000000</td>\n",
              "      <td>33.000000</td>\n",
              "      <td>37.000000</td>\n",
              "      <td>18.000000</td>\n",
              "      <td>90.000000</td>\n",
              "      <td>115.000000</td>\n",
              "      <td>113.000000</td>\n",
              "      <td>105.000000</td>\n",
              "      <td>34.000000</td>\n",
              "      <td>29.000000</td>\n",
              "      <td>34.000000</td>\n",
              "      <td>30.000000</td>\n",
              "      <td>11.000</td>\n",
              "      <td>90.000000</td>\n",
              "      <td>121.000000</td>\n",
              "      <td>29.000000</td>\n",
              "      <td>40.782313</td>\n",
              "      <td>52.000000</td>\n",
              "      <td>80.000000</td>\n",
              "      <td>128.000000</td>\n",
              "      <td>64.000000</td>\n",
              "      <td>101.000000</td>\n",
              "      <td>146.983019</td>\n",
              "      <td>145.489603</td>\n",
              "      <td>12.10089</td>\n",
              "      <td>...</td>\n",
              "      <td>81.000000</td>\n",
              "      <td>83.000000</td>\n",
              "      <td>507.000000</td>\n",
              "      <td>452.8688</td>\n",
              "      <td>503.000000</td>\n",
              "      <td>452.983221</td>\n",
              "      <td>74.0</td>\n",
              "      <td>80.426386</td>\n",
              "      <td>44.0</td>\n",
              "      <td>44.000000</td>\n",
              "      <td>29.0</td>\n",
              "      <td>30.000000</td>\n",
              "      <td>33.0</td>\n",
              "      <td>32.000000</td>\n",
              "      <td>29.000000</td>\n",
              "      <td>28.820557</td>\n",
              "      <td>25.000000</td>\n",
              "      <td>25.730903</td>\n",
              "      <td>84.000</td>\n",
              "      <td>86.286624</td>\n",
              "      <td>409.000000</td>\n",
              "      <td>409.000000</td>\n",
              "      <td>69.00000</td>\n",
              "      <td>67.000000</td>\n",
              "      <td>47.000000</td>\n",
              "      <td>48.000000</td>\n",
              "      <td>32.000000</td>\n",
              "      <td>33.000000</td>\n",
              "      <td>22.000000</td>\n",
              "      <td>23.000000</td>\n",
              "      <td>88.000000</td>\n",
              "      <td>88.000000</td>\n",
              "      <td>401.0</td>\n",
              "      <td>407.000000</td>\n",
              "      <td>12.00</td>\n",
              "      <td>13.000000</td>\n",
              "      <td>80.000000</td>\n",
              "      <td>81.000000</td>\n",
              "      <td>40.000000</td>\n",
              "      <td>41.000000</td>\n",
              "    </tr>\n",
              "  </tbody>\n",
              "</table>\n",
              "<p>5 rows × 123 columns</p>\n",
              "</div>"
            ],
            "text/plain": [
              "  SEX RACE AGEGROUP         GOL  ...   CALCXL_L   CALCXL_R   CALCBR_L   CALCBR_R\n",
              "0   F    B        A  171.000000  ...  82.256659  82.296392  42.546032  42.728188\n",
              "1   M    B        A  185.000000  ...  84.000000  85.000000  47.000000  46.000000\n",
              "2   M    W        A  172.000000  ...  91.000000  91.000000  46.000000  46.000000\n",
              "4   F    B        A  182.699588  ...  79.000000  82.000000  38.000000  39.000000\n",
              "7   F    W        A  177.000000  ...  80.000000  81.000000  40.000000  41.000000\n",
              "\n",
              "[5 rows x 123 columns]"
            ]
          },
          "metadata": {
            "tags": []
          },
          "execution_count": 17
        }
      ]
    },
    {
      "cell_type": "markdown",
      "metadata": {
        "id": "-YGPtkDD8tiV"
      },
      "source": [
        "## Преобразование категориальных признаков"
      ]
    },
    {
      "cell_type": "code",
      "metadata": {
        "colab": {
          "base_uri": "https://localhost:8080/",
          "height": 253
        },
        "id": "9NnDBp308ewC",
        "outputId": "f1ddd491-ef9b-41fb-d050-d696fc596c82"
      },
      "source": [
        "# Подключаем класс для предобработки данных\n",
        "from sklearn import preprocessing\n",
        "\n",
        "# Используем функцию, которая принимает на вход DataFrame, кодирует числовыми значениями категориальные признаки\n",
        "# и возвращает обновленный DataFrame и сами кодировщики.\n",
        "def number_encode_features(input_df):\n",
        "    result = input_df.copy() # копируем нашу исходную таблицу\n",
        "    encoders = {}\n",
        "    for column in result.columns:\n",
        "        if result.dtypes[column] == np.object: # np.object -- строковый тип / если тип столбца - строка, то нужно его закодировать\n",
        "            encoders[column] = preprocessing.LabelEncoder() # для колонки column создаем кодировщик\n",
        "            result[column] = encoders[column].fit_transform(result[column]) # применяем кодировщик к столбцу и перезаписываем столбец\n",
        "    return result, encoders\n",
        "\n",
        "df_encoded, encoders = number_encode_features(df_without_null) # Теперь encoded data содержит закодированные кат. признаки \n",
        "df_encoded.head() "
      ],
      "execution_count": null,
      "outputs": [
        {
          "output_type": "execute_result",
          "data": {
            "text/html": [
              "<div>\n",
              "<style scoped>\n",
              "    .dataframe tbody tr th:only-of-type {\n",
              "        vertical-align: middle;\n",
              "    }\n",
              "\n",
              "    .dataframe tbody tr th {\n",
              "        vertical-align: top;\n",
              "    }\n",
              "\n",
              "    .dataframe thead th {\n",
              "        text-align: right;\n",
              "    }\n",
              "</style>\n",
              "<table border=\"1\" class=\"dataframe\">\n",
              "  <thead>\n",
              "    <tr style=\"text-align: right;\">\n",
              "      <th></th>\n",
              "      <th>SEX</th>\n",
              "      <th>RACE</th>\n",
              "      <th>AGEGROUP</th>\n",
              "      <th>GOL</th>\n",
              "      <th>BNL</th>\n",
              "      <th>BBH</th>\n",
              "      <th>XCB</th>\n",
              "      <th>WFB</th>\n",
              "      <th>ZYB</th>\n",
              "      <th>AUB</th>\n",
              "      <th>BPL</th>\n",
              "      <th>NLH</th>\n",
              "      <th>NLB</th>\n",
              "      <th>MAB</th>\n",
              "      <th>MAL</th>\n",
              "      <th>MDH</th>\n",
              "      <th>OBH</th>\n",
              "      <th>OBB</th>\n",
              "      <th>DKB</th>\n",
              "      <th>EKB</th>\n",
              "      <th>FRC</th>\n",
              "      <th>PAC</th>\n",
              "      <th>OCC</th>\n",
              "      <th>FOL</th>\n",
              "      <th>FOB</th>\n",
              "      <th>GNI</th>\n",
              "      <th>HML</th>\n",
              "      <th>TML</th>\n",
              "      <th>GOG</th>\n",
              "      <th>CDL</th>\n",
              "      <th>WRL</th>\n",
              "      <th>MRL</th>\n",
              "      <th>XRL</th>\n",
              "      <th>MLT</th>\n",
              "      <th>MAN</th>\n",
              "      <th>UFHT</th>\n",
              "      <th>UFBR</th>\n",
              "      <th>CLAXLN_L</th>\n",
              "      <th>CLAXLN_R</th>\n",
              "      <th>CLAAPD_L</th>\n",
              "      <th>...</th>\n",
              "      <th>ISCHLN_L</th>\n",
              "      <th>ISCHLN_R</th>\n",
              "      <th>FEMXLN_L</th>\n",
              "      <th>FEMXLN_R</th>\n",
              "      <th>FEMBLN_L</th>\n",
              "      <th>FEMBLN_R</th>\n",
              "      <th>FEMEBR_L</th>\n",
              "      <th>FEMEBR_R</th>\n",
              "      <th>FEMHDD_L</th>\n",
              "      <th>FEMHDD_R</th>\n",
              "      <th>FEMSAP_L</th>\n",
              "      <th>FEMSAP_R</th>\n",
              "      <th>FEMSTV_L</th>\n",
              "      <th>FEMSTV_R</th>\n",
              "      <th>FEMMAP_L</th>\n",
              "      <th>FEMMAP_R</th>\n",
              "      <th>FEMMTV_L</th>\n",
              "      <th>FEMMTV_R</th>\n",
              "      <th>FEMCIR_L</th>\n",
              "      <th>FEMCIR_R</th>\n",
              "      <th>TIBXLN_L</th>\n",
              "      <th>TIBXLN_R</th>\n",
              "      <th>TIBPEB_L</th>\n",
              "      <th>TIBPEB_R</th>\n",
              "      <th>TIBDEB_L</th>\n",
              "      <th>TIBDEB_R</th>\n",
              "      <th>TIBNFX_L</th>\n",
              "      <th>TIBNFX_R</th>\n",
              "      <th>TIBNFT_L</th>\n",
              "      <th>TIBNFT_R</th>\n",
              "      <th>TIBCIR_L</th>\n",
              "      <th>TIBCIR_R</th>\n",
              "      <th>FIBXLN_L</th>\n",
              "      <th>FIBXLN_R</th>\n",
              "      <th>FIBMDM_L</th>\n",
              "      <th>FIBMDM_R</th>\n",
              "      <th>CALCXL_L</th>\n",
              "      <th>CALCXL_R</th>\n",
              "      <th>CALCBR_L</th>\n",
              "      <th>CALCBR_R</th>\n",
              "    </tr>\n",
              "  </thead>\n",
              "  <tbody>\n",
              "    <tr>\n",
              "      <th>0</th>\n",
              "      <td>0</td>\n",
              "      <td>1</td>\n",
              "      <td>0</td>\n",
              "      <td>171.000000</td>\n",
              "      <td>92.000000</td>\n",
              "      <td>122.000000</td>\n",
              "      <td>130.000000</td>\n",
              "      <td>92.000000</td>\n",
              "      <td>117.000000</td>\n",
              "      <td>112.000000</td>\n",
              "      <td>96.000000</td>\n",
              "      <td>50.000000</td>\n",
              "      <td>25.00000</td>\n",
              "      <td>65.000000</td>\n",
              "      <td>56.000000</td>\n",
              "      <td>33.000000</td>\n",
              "      <td>34.000000</td>\n",
              "      <td>40.000000</td>\n",
              "      <td>21.000000</td>\n",
              "      <td>92.000000</td>\n",
              "      <td>102.000000</td>\n",
              "      <td>110.000000</td>\n",
              "      <td>85.000000</td>\n",
              "      <td>38.000000</td>\n",
              "      <td>28.000000</td>\n",
              "      <td>37.000000</td>\n",
              "      <td>31.000000</td>\n",
              "      <td>8.000</td>\n",
              "      <td>92.000000</td>\n",
              "      <td>113.583333</td>\n",
              "      <td>30.000000</td>\n",
              "      <td>40.782313</td>\n",
              "      <td>58.827977</td>\n",
              "      <td>79.000000</td>\n",
              "      <td>130.000000</td>\n",
              "      <td>69.000000</td>\n",
              "      <td>97.000000</td>\n",
              "      <td>146.983019</td>\n",
              "      <td>140.000000</td>\n",
              "      <td>12.10089</td>\n",
              "      <td>...</td>\n",
              "      <td>77.000000</td>\n",
              "      <td>84.341053</td>\n",
              "      <td>467.000000</td>\n",
              "      <td>452.8688</td>\n",
              "      <td>462.000000</td>\n",
              "      <td>452.983221</td>\n",
              "      <td>72.0</td>\n",
              "      <td>80.426386</td>\n",
              "      <td>40.0</td>\n",
              "      <td>45.822142</td>\n",
              "      <td>24.0</td>\n",
              "      <td>26.880952</td>\n",
              "      <td>26.0</td>\n",
              "      <td>30.471088</td>\n",
              "      <td>28.000000</td>\n",
              "      <td>28.820557</td>\n",
              "      <td>24.000000</td>\n",
              "      <td>25.730903</td>\n",
              "      <td>80.000</td>\n",
              "      <td>86.286624</td>\n",
              "      <td>392.000000</td>\n",
              "      <td>375.616162</td>\n",
              "      <td>68.00000</td>\n",
              "      <td>74.474359</td>\n",
              "      <td>47.000000</td>\n",
              "      <td>49.373673</td>\n",
              "      <td>32.000000</td>\n",
              "      <td>33.811252</td>\n",
              "      <td>20.000000</td>\n",
              "      <td>24.342205</td>\n",
              "      <td>82.000000</td>\n",
              "      <td>92.163934</td>\n",
              "      <td>383.0</td>\n",
              "      <td>366.617871</td>\n",
              "      <td>15.00</td>\n",
              "      <td>15.013652</td>\n",
              "      <td>82.256659</td>\n",
              "      <td>82.296392</td>\n",
              "      <td>42.546032</td>\n",
              "      <td>42.728188</td>\n",
              "    </tr>\n",
              "    <tr>\n",
              "      <th>1</th>\n",
              "      <td>1</td>\n",
              "      <td>1</td>\n",
              "      <td>0</td>\n",
              "      <td>185.000000</td>\n",
              "      <td>101.445063</td>\n",
              "      <td>135.734722</td>\n",
              "      <td>137.972414</td>\n",
              "      <td>92.000000</td>\n",
              "      <td>122.000000</td>\n",
              "      <td>119.975232</td>\n",
              "      <td>96.316591</td>\n",
              "      <td>50.000000</td>\n",
              "      <td>22.00000</td>\n",
              "      <td>61.756881</td>\n",
              "      <td>53.589231</td>\n",
              "      <td>32.000000</td>\n",
              "      <td>32.000000</td>\n",
              "      <td>38.000000</td>\n",
              "      <td>21.706134</td>\n",
              "      <td>96.000000</td>\n",
              "      <td>111.132497</td>\n",
              "      <td>114.000000</td>\n",
              "      <td>97.765278</td>\n",
              "      <td>36.209722</td>\n",
              "      <td>30.193701</td>\n",
              "      <td>32.313356</td>\n",
              "      <td>29.000000</td>\n",
              "      <td>10.000</td>\n",
              "      <td>94.000000</td>\n",
              "      <td>113.000000</td>\n",
              "      <td>32.000000</td>\n",
              "      <td>40.782313</td>\n",
              "      <td>62.000000</td>\n",
              "      <td>84.000000</td>\n",
              "      <td>125.000000</td>\n",
              "      <td>69.000000</td>\n",
              "      <td>102.000000</td>\n",
              "      <td>153.000000</td>\n",
              "      <td>160.000000</td>\n",
              "      <td>14.00000</td>\n",
              "      <td>...</td>\n",
              "      <td>84.280603</td>\n",
              "      <td>84.341053</td>\n",
              "      <td>453.110942</td>\n",
              "      <td>452.8688</td>\n",
              "      <td>453.369775</td>\n",
              "      <td>452.983221</td>\n",
              "      <td>81.0</td>\n",
              "      <td>81.000000</td>\n",
              "      <td>45.0</td>\n",
              "      <td>45.822142</td>\n",
              "      <td>30.0</td>\n",
              "      <td>29.000000</td>\n",
              "      <td>31.0</td>\n",
              "      <td>31.000000</td>\n",
              "      <td>28.761381</td>\n",
              "      <td>28.820557</td>\n",
              "      <td>25.912088</td>\n",
              "      <td>25.730903</td>\n",
              "      <td>85.904</td>\n",
              "      <td>86.286624</td>\n",
              "      <td>375.562903</td>\n",
              "      <td>375.616162</td>\n",
              "      <td>74.47048</td>\n",
              "      <td>74.474359</td>\n",
              "      <td>49.082569</td>\n",
              "      <td>49.373673</td>\n",
              "      <td>33.980707</td>\n",
              "      <td>33.811252</td>\n",
              "      <td>24.233723</td>\n",
              "      <td>24.342205</td>\n",
              "      <td>92.577128</td>\n",
              "      <td>92.163934</td>\n",
              "      <td>422.0</td>\n",
              "      <td>418.000000</td>\n",
              "      <td>14.65</td>\n",
              "      <td>16.000000</td>\n",
              "      <td>84.000000</td>\n",
              "      <td>85.000000</td>\n",
              "      <td>47.000000</td>\n",
              "      <td>46.000000</td>\n",
              "    </tr>\n",
              "    <tr>\n",
              "      <th>2</th>\n",
              "      <td>1</td>\n",
              "      <td>5</td>\n",
              "      <td>0</td>\n",
              "      <td>172.000000</td>\n",
              "      <td>97.000000</td>\n",
              "      <td>137.000000</td>\n",
              "      <td>138.000000</td>\n",
              "      <td>93.000000</td>\n",
              "      <td>127.000000</td>\n",
              "      <td>122.000000</td>\n",
              "      <td>94.000000</td>\n",
              "      <td>51.000000</td>\n",
              "      <td>25.00000</td>\n",
              "      <td>59.000000</td>\n",
              "      <td>51.000000</td>\n",
              "      <td>34.000000</td>\n",
              "      <td>35.000000</td>\n",
              "      <td>39.000000</td>\n",
              "      <td>21.000000</td>\n",
              "      <td>94.000000</td>\n",
              "      <td>105.000000</td>\n",
              "      <td>107.000000</td>\n",
              "      <td>108.000000</td>\n",
              "      <td>36.000000</td>\n",
              "      <td>32.000000</td>\n",
              "      <td>31.000000</td>\n",
              "      <td>29.000000</td>\n",
              "      <td>11.000</td>\n",
              "      <td>97.000000</td>\n",
              "      <td>121.000000</td>\n",
              "      <td>30.000000</td>\n",
              "      <td>40.782313</td>\n",
              "      <td>60.000000</td>\n",
              "      <td>74.000000</td>\n",
              "      <td>127.000000</td>\n",
              "      <td>68.000000</td>\n",
              "      <td>103.647202</td>\n",
              "      <td>153.000000</td>\n",
              "      <td>144.000000</td>\n",
              "      <td>12.00000</td>\n",
              "      <td>...</td>\n",
              "      <td>91.000000</td>\n",
              "      <td>92.000000</td>\n",
              "      <td>453.000000</td>\n",
              "      <td>454.0000</td>\n",
              "      <td>450.000000</td>\n",
              "      <td>453.000000</td>\n",
              "      <td>88.0</td>\n",
              "      <td>89.000000</td>\n",
              "      <td>49.0</td>\n",
              "      <td>51.000000</td>\n",
              "      <td>30.0</td>\n",
              "      <td>30.000000</td>\n",
              "      <td>33.0</td>\n",
              "      <td>33.000000</td>\n",
              "      <td>30.000000</td>\n",
              "      <td>31.000000</td>\n",
              "      <td>28.000000</td>\n",
              "      <td>28.000000</td>\n",
              "      <td>90.000</td>\n",
              "      <td>91.000000</td>\n",
              "      <td>366.000000</td>\n",
              "      <td>366.000000</td>\n",
              "      <td>82.00000</td>\n",
              "      <td>82.000000</td>\n",
              "      <td>57.000000</td>\n",
              "      <td>55.000000</td>\n",
              "      <td>36.000000</td>\n",
              "      <td>36.000000</td>\n",
              "      <td>26.000000</td>\n",
              "      <td>26.000000</td>\n",
              "      <td>98.000000</td>\n",
              "      <td>95.000000</td>\n",
              "      <td>360.0</td>\n",
              "      <td>360.000000</td>\n",
              "      <td>17.00</td>\n",
              "      <td>16.000000</td>\n",
              "      <td>91.000000</td>\n",
              "      <td>91.000000</td>\n",
              "      <td>46.000000</td>\n",
              "      <td>46.000000</td>\n",
              "    </tr>\n",
              "    <tr>\n",
              "      <th>4</th>\n",
              "      <td>0</td>\n",
              "      <td>1</td>\n",
              "      <td>0</td>\n",
              "      <td>182.699588</td>\n",
              "      <td>101.445063</td>\n",
              "      <td>135.734722</td>\n",
              "      <td>137.972414</td>\n",
              "      <td>95.323651</td>\n",
              "      <td>126.492938</td>\n",
              "      <td>119.975232</td>\n",
              "      <td>96.316591</td>\n",
              "      <td>50.606277</td>\n",
              "      <td>23.98169</td>\n",
              "      <td>61.756881</td>\n",
              "      <td>53.589231</td>\n",
              "      <td>29.832178</td>\n",
              "      <td>33.697872</td>\n",
              "      <td>38.808451</td>\n",
              "      <td>21.706134</td>\n",
              "      <td>96.921098</td>\n",
              "      <td>111.132497</td>\n",
              "      <td>115.239281</td>\n",
              "      <td>97.765278</td>\n",
              "      <td>36.209722</td>\n",
              "      <td>30.193701</td>\n",
              "      <td>32.313356</td>\n",
              "      <td>29.667582</td>\n",
              "      <td>11.112</td>\n",
              "      <td>93.845771</td>\n",
              "      <td>113.583333</td>\n",
              "      <td>30.840796</td>\n",
              "      <td>40.782313</td>\n",
              "      <td>58.827977</td>\n",
              "      <td>75.701754</td>\n",
              "      <td>125.969388</td>\n",
              "      <td>69.675507</td>\n",
              "      <td>103.647202</td>\n",
              "      <td>137.000000</td>\n",
              "      <td>131.000000</td>\n",
              "      <td>12.00000</td>\n",
              "      <td>...</td>\n",
              "      <td>82.000000</td>\n",
              "      <td>83.000000</td>\n",
              "      <td>410.000000</td>\n",
              "      <td>452.8688</td>\n",
              "      <td>402.000000</td>\n",
              "      <td>452.983221</td>\n",
              "      <td>77.0</td>\n",
              "      <td>77.000000</td>\n",
              "      <td>43.0</td>\n",
              "      <td>42.000000</td>\n",
              "      <td>26.0</td>\n",
              "      <td>26.000000</td>\n",
              "      <td>25.0</td>\n",
              "      <td>25.000000</td>\n",
              "      <td>26.000000</td>\n",
              "      <td>28.820557</td>\n",
              "      <td>21.000000</td>\n",
              "      <td>25.730903</td>\n",
              "      <td>73.000</td>\n",
              "      <td>86.286624</td>\n",
              "      <td>348.000000</td>\n",
              "      <td>346.000000</td>\n",
              "      <td>75.00000</td>\n",
              "      <td>75.000000</td>\n",
              "      <td>46.000000</td>\n",
              "      <td>46.000000</td>\n",
              "      <td>29.000000</td>\n",
              "      <td>28.000000</td>\n",
              "      <td>21.000000</td>\n",
              "      <td>20.000000</td>\n",
              "      <td>78.000000</td>\n",
              "      <td>76.000000</td>\n",
              "      <td>344.0</td>\n",
              "      <td>342.000000</td>\n",
              "      <td>14.00</td>\n",
              "      <td>15.000000</td>\n",
              "      <td>79.000000</td>\n",
              "      <td>82.000000</td>\n",
              "      <td>38.000000</td>\n",
              "      <td>39.000000</td>\n",
              "    </tr>\n",
              "    <tr>\n",
              "      <th>7</th>\n",
              "      <td>0</td>\n",
              "      <td>5</td>\n",
              "      <td>0</td>\n",
              "      <td>177.000000</td>\n",
              "      <td>96.000000</td>\n",
              "      <td>143.000000</td>\n",
              "      <td>135.000000</td>\n",
              "      <td>90.000000</td>\n",
              "      <td>122.000000</td>\n",
              "      <td>118.000000</td>\n",
              "      <td>84.000000</td>\n",
              "      <td>47.000000</td>\n",
              "      <td>24.00000</td>\n",
              "      <td>60.000000</td>\n",
              "      <td>50.000000</td>\n",
              "      <td>31.000000</td>\n",
              "      <td>33.000000</td>\n",
              "      <td>37.000000</td>\n",
              "      <td>18.000000</td>\n",
              "      <td>90.000000</td>\n",
              "      <td>115.000000</td>\n",
              "      <td>113.000000</td>\n",
              "      <td>105.000000</td>\n",
              "      <td>34.000000</td>\n",
              "      <td>29.000000</td>\n",
              "      <td>34.000000</td>\n",
              "      <td>30.000000</td>\n",
              "      <td>11.000</td>\n",
              "      <td>90.000000</td>\n",
              "      <td>121.000000</td>\n",
              "      <td>29.000000</td>\n",
              "      <td>40.782313</td>\n",
              "      <td>52.000000</td>\n",
              "      <td>80.000000</td>\n",
              "      <td>128.000000</td>\n",
              "      <td>64.000000</td>\n",
              "      <td>101.000000</td>\n",
              "      <td>146.983019</td>\n",
              "      <td>145.489603</td>\n",
              "      <td>12.10089</td>\n",
              "      <td>...</td>\n",
              "      <td>81.000000</td>\n",
              "      <td>83.000000</td>\n",
              "      <td>507.000000</td>\n",
              "      <td>452.8688</td>\n",
              "      <td>503.000000</td>\n",
              "      <td>452.983221</td>\n",
              "      <td>74.0</td>\n",
              "      <td>80.426386</td>\n",
              "      <td>44.0</td>\n",
              "      <td>44.000000</td>\n",
              "      <td>29.0</td>\n",
              "      <td>30.000000</td>\n",
              "      <td>33.0</td>\n",
              "      <td>32.000000</td>\n",
              "      <td>29.000000</td>\n",
              "      <td>28.820557</td>\n",
              "      <td>25.000000</td>\n",
              "      <td>25.730903</td>\n",
              "      <td>84.000</td>\n",
              "      <td>86.286624</td>\n",
              "      <td>409.000000</td>\n",
              "      <td>409.000000</td>\n",
              "      <td>69.00000</td>\n",
              "      <td>67.000000</td>\n",
              "      <td>47.000000</td>\n",
              "      <td>48.000000</td>\n",
              "      <td>32.000000</td>\n",
              "      <td>33.000000</td>\n",
              "      <td>22.000000</td>\n",
              "      <td>23.000000</td>\n",
              "      <td>88.000000</td>\n",
              "      <td>88.000000</td>\n",
              "      <td>401.0</td>\n",
              "      <td>407.000000</td>\n",
              "      <td>12.00</td>\n",
              "      <td>13.000000</td>\n",
              "      <td>80.000000</td>\n",
              "      <td>81.000000</td>\n",
              "      <td>40.000000</td>\n",
              "      <td>41.000000</td>\n",
              "    </tr>\n",
              "  </tbody>\n",
              "</table>\n",
              "<p>5 rows × 123 columns</p>\n",
              "</div>"
            ],
            "text/plain": [
              "   SEX  RACE  AGEGROUP         GOL  ...   CALCXL_L   CALCXL_R   CALCBR_L   CALCBR_R\n",
              "0    0     1         0  171.000000  ...  82.256659  82.296392  42.546032  42.728188\n",
              "1    1     1         0  185.000000  ...  84.000000  85.000000  47.000000  46.000000\n",
              "2    1     5         0  172.000000  ...  91.000000  91.000000  46.000000  46.000000\n",
              "4    0     1         0  182.699588  ...  79.000000  82.000000  38.000000  39.000000\n",
              "7    0     5         0  177.000000  ...  80.000000  81.000000  40.000000  41.000000\n",
              "\n",
              "[5 rows x 123 columns]"
            ]
          },
          "metadata": {
            "tags": []
          },
          "execution_count": 18
        }
      ]
    },
    {
      "cell_type": "code",
      "metadata": {
        "colab": {
          "base_uri": "https://localhost:8080/"
        },
        "id": "LRnkjkdiFoPd",
        "outputId": "489beedb-47fa-4234-da57-ae33e5eb8a22"
      },
      "source": [
        "# Выведем соответствие числовых значений закодированным\n",
        "encoders['SEX'].inverse_transform([0, 1])"
      ],
      "execution_count": null,
      "outputs": [
        {
          "output_type": "execute_result",
          "data": {
            "text/plain": [
              "array(['F', 'M'], dtype=object)"
            ]
          },
          "metadata": {
            "tags": []
          },
          "execution_count": 19
        }
      ]
    },
    {
      "cell_type": "code",
      "metadata": {
        "colab": {
          "base_uri": "https://localhost:8080/"
        },
        "id": "ZYS-xJ1SHyLT",
        "outputId": "c94b26fb-b63e-4920-da3c-a055746fe81b"
      },
      "source": [
        "encoders['RACE'].inverse_transform([0, 1, 2, 3, 4 , 5])"
      ],
      "execution_count": null,
      "outputs": [
        {
          "output_type": "execute_result",
          "data": {
            "text/plain": [
              "array(['A', 'B', 'C', 'H', 'M', 'W'], dtype=object)"
            ]
          },
          "metadata": {
            "tags": []
          },
          "execution_count": 20
        }
      ]
    },
    {
      "cell_type": "code",
      "metadata": {
        "colab": {
          "base_uri": "https://localhost:8080/"
        },
        "id": "T4eUFc2eIId3",
        "outputId": "2951986f-d9a6-4946-82db-1a6f4897a376"
      },
      "source": [
        "encoders['AGEGROUP'].inverse_transform([0, 1, 2, 3, 4])"
      ],
      "execution_count": null,
      "outputs": [
        {
          "output_type": "execute_result",
          "data": {
            "text/plain": [
              "array(['A', 'C', 'F', 'I', 'S'], dtype=object)"
            ]
          },
          "metadata": {
            "tags": []
          },
          "execution_count": 21
        }
      ]
    },
    {
      "cell_type": "markdown",
      "metadata": {
        "id": "Jd6ueXvGKvSc"
      },
      "source": [
        "## Удалим коррелирующие данные"
      ]
    },
    {
      "cell_type": "code",
      "metadata": {
        "colab": {
          "base_uri": "https://localhost:8080/",
          "height": 253
        },
        "id": "7cPjkFdVK0F0",
        "outputId": "7a10b74c-7f95-46f0-ff61-acdd57c44819"
      },
      "source": [
        "# Построим матрицу корреляции\n",
        "corr = df_encoded.corr()\n",
        "corr.head()"
      ],
      "execution_count": null,
      "outputs": [
        {
          "output_type": "execute_result",
          "data": {
            "text/html": [
              "<div>\n",
              "<style scoped>\n",
              "    .dataframe tbody tr th:only-of-type {\n",
              "        vertical-align: middle;\n",
              "    }\n",
              "\n",
              "    .dataframe tbody tr th {\n",
              "        vertical-align: top;\n",
              "    }\n",
              "\n",
              "    .dataframe thead th {\n",
              "        text-align: right;\n",
              "    }\n",
              "</style>\n",
              "<table border=\"1\" class=\"dataframe\">\n",
              "  <thead>\n",
              "    <tr style=\"text-align: right;\">\n",
              "      <th></th>\n",
              "      <th>SEX</th>\n",
              "      <th>RACE</th>\n",
              "      <th>AGEGROUP</th>\n",
              "      <th>GOL</th>\n",
              "      <th>BNL</th>\n",
              "      <th>BBH</th>\n",
              "      <th>XCB</th>\n",
              "      <th>WFB</th>\n",
              "      <th>ZYB</th>\n",
              "      <th>AUB</th>\n",
              "      <th>BPL</th>\n",
              "      <th>NLH</th>\n",
              "      <th>NLB</th>\n",
              "      <th>MAB</th>\n",
              "      <th>MAL</th>\n",
              "      <th>MDH</th>\n",
              "      <th>OBH</th>\n",
              "      <th>OBB</th>\n",
              "      <th>DKB</th>\n",
              "      <th>EKB</th>\n",
              "      <th>FRC</th>\n",
              "      <th>PAC</th>\n",
              "      <th>OCC</th>\n",
              "      <th>FOL</th>\n",
              "      <th>FOB</th>\n",
              "      <th>GNI</th>\n",
              "      <th>HML</th>\n",
              "      <th>TML</th>\n",
              "      <th>GOG</th>\n",
              "      <th>CDL</th>\n",
              "      <th>WRL</th>\n",
              "      <th>MRL</th>\n",
              "      <th>XRL</th>\n",
              "      <th>MLT</th>\n",
              "      <th>MAN</th>\n",
              "      <th>UFHT</th>\n",
              "      <th>UFBR</th>\n",
              "      <th>CLAXLN_L</th>\n",
              "      <th>CLAXLN_R</th>\n",
              "      <th>CLAAPD_L</th>\n",
              "      <th>...</th>\n",
              "      <th>ISCHLN_L</th>\n",
              "      <th>ISCHLN_R</th>\n",
              "      <th>FEMXLN_L</th>\n",
              "      <th>FEMXLN_R</th>\n",
              "      <th>FEMBLN_L</th>\n",
              "      <th>FEMBLN_R</th>\n",
              "      <th>FEMEBR_L</th>\n",
              "      <th>FEMEBR_R</th>\n",
              "      <th>FEMHDD_L</th>\n",
              "      <th>FEMHDD_R</th>\n",
              "      <th>FEMSAP_L</th>\n",
              "      <th>FEMSAP_R</th>\n",
              "      <th>FEMSTV_L</th>\n",
              "      <th>FEMSTV_R</th>\n",
              "      <th>FEMMAP_L</th>\n",
              "      <th>FEMMAP_R</th>\n",
              "      <th>FEMMTV_L</th>\n",
              "      <th>FEMMTV_R</th>\n",
              "      <th>FEMCIR_L</th>\n",
              "      <th>FEMCIR_R</th>\n",
              "      <th>TIBXLN_L</th>\n",
              "      <th>TIBXLN_R</th>\n",
              "      <th>TIBPEB_L</th>\n",
              "      <th>TIBPEB_R</th>\n",
              "      <th>TIBDEB_L</th>\n",
              "      <th>TIBDEB_R</th>\n",
              "      <th>TIBNFX_L</th>\n",
              "      <th>TIBNFX_R</th>\n",
              "      <th>TIBNFT_L</th>\n",
              "      <th>TIBNFT_R</th>\n",
              "      <th>TIBCIR_L</th>\n",
              "      <th>TIBCIR_R</th>\n",
              "      <th>FIBXLN_L</th>\n",
              "      <th>FIBXLN_R</th>\n",
              "      <th>FIBMDM_L</th>\n",
              "      <th>FIBMDM_R</th>\n",
              "      <th>CALCXL_L</th>\n",
              "      <th>CALCXL_R</th>\n",
              "      <th>CALCBR_L</th>\n",
              "      <th>CALCBR_R</th>\n",
              "    </tr>\n",
              "  </thead>\n",
              "  <tbody>\n",
              "    <tr>\n",
              "      <th>SEX</th>\n",
              "      <td>1.000000</td>\n",
              "      <td>-0.000764</td>\n",
              "      <td>-0.172142</td>\n",
              "      <td>0.464421</td>\n",
              "      <td>0.455127</td>\n",
              "      <td>0.400480</td>\n",
              "      <td>0.394543</td>\n",
              "      <td>0.333737</td>\n",
              "      <td>0.571955</td>\n",
              "      <td>0.442241</td>\n",
              "      <td>0.313160</td>\n",
              "      <td>0.387531</td>\n",
              "      <td>0.294997</td>\n",
              "      <td>0.323426</td>\n",
              "      <td>0.230456</td>\n",
              "      <td>0.438898</td>\n",
              "      <td>0.044180</td>\n",
              "      <td>0.360679</td>\n",
              "      <td>0.212484</td>\n",
              "      <td>0.401853</td>\n",
              "      <td>0.389919</td>\n",
              "      <td>0.304855</td>\n",
              "      <td>0.170188</td>\n",
              "      <td>0.270500</td>\n",
              "      <td>0.233529</td>\n",
              "      <td>0.311159</td>\n",
              "      <td>0.210524</td>\n",
              "      <td>0.162652</td>\n",
              "      <td>0.468679</td>\n",
              "      <td>0.405346</td>\n",
              "      <td>0.232681</td>\n",
              "      <td>0.156775</td>\n",
              "      <td>0.352204</td>\n",
              "      <td>0.266794</td>\n",
              "      <td>-0.060621</td>\n",
              "      <td>0.380356</td>\n",
              "      <td>0.353623</td>\n",
              "      <td>0.421484</td>\n",
              "      <td>0.421500</td>\n",
              "      <td>0.328201</td>\n",
              "      <td>...</td>\n",
              "      <td>0.456106</td>\n",
              "      <td>0.426693</td>\n",
              "      <td>0.376965</td>\n",
              "      <td>0.343942</td>\n",
              "      <td>0.424540</td>\n",
              "      <td>0.430204</td>\n",
              "      <td>0.522397</td>\n",
              "      <td>0.499485</td>\n",
              "      <td>0.637749</td>\n",
              "      <td>0.590151</td>\n",
              "      <td>0.487603</td>\n",
              "      <td>0.463425</td>\n",
              "      <td>0.466110</td>\n",
              "      <td>0.417409</td>\n",
              "      <td>0.447521</td>\n",
              "      <td>0.402974</td>\n",
              "      <td>0.506404</td>\n",
              "      <td>0.460291</td>\n",
              "      <td>0.353489</td>\n",
              "      <td>0.309473</td>\n",
              "      <td>0.367388</td>\n",
              "      <td>0.364546</td>\n",
              "      <td>0.511145</td>\n",
              "      <td>0.479333</td>\n",
              "      <td>0.441864</td>\n",
              "      <td>0.423439</td>\n",
              "      <td>0.496912</td>\n",
              "      <td>0.458049</td>\n",
              "      <td>0.449467</td>\n",
              "      <td>0.435940</td>\n",
              "      <td>0.361472</td>\n",
              "      <td>0.325569</td>\n",
              "      <td>0.352492</td>\n",
              "      <td>0.361479</td>\n",
              "      <td>0.246909</td>\n",
              "      <td>0.247348</td>\n",
              "      <td>0.390990</td>\n",
              "      <td>0.380299</td>\n",
              "      <td>0.347226</td>\n",
              "      <td>0.336694</td>\n",
              "    </tr>\n",
              "    <tr>\n",
              "      <th>RACE</th>\n",
              "      <td>-0.000764</td>\n",
              "      <td>1.000000</td>\n",
              "      <td>0.029144</td>\n",
              "      <td>-0.002393</td>\n",
              "      <td>0.146547</td>\n",
              "      <td>0.355554</td>\n",
              "      <td>0.203405</td>\n",
              "      <td>-0.010923</td>\n",
              "      <td>-0.089476</td>\n",
              "      <td>0.058913</td>\n",
              "      <td>-0.414270</td>\n",
              "      <td>0.097970</td>\n",
              "      <td>-0.424043</td>\n",
              "      <td>-0.448779</td>\n",
              "      <td>-0.391194</td>\n",
              "      <td>-0.068966</td>\n",
              "      <td>-0.210002</td>\n",
              "      <td>0.029417</td>\n",
              "      <td>-0.401734</td>\n",
              "      <td>-0.249013</td>\n",
              "      <td>0.148485</td>\n",
              "      <td>0.005871</td>\n",
              "      <td>0.165477</td>\n",
              "      <td>0.122863</td>\n",
              "      <td>0.331224</td>\n",
              "      <td>-0.367661</td>\n",
              "      <td>-0.236294</td>\n",
              "      <td>-0.141325</td>\n",
              "      <td>0.061375</td>\n",
              "      <td>-0.042997</td>\n",
              "      <td>-0.359554</td>\n",
              "      <td>0.004204</td>\n",
              "      <td>-0.006026</td>\n",
              "      <td>-0.323701</td>\n",
              "      <td>0.197731</td>\n",
              "      <td>-0.125309</td>\n",
              "      <td>-0.139314</td>\n",
              "      <td>-0.057308</td>\n",
              "      <td>-0.032466</td>\n",
              "      <td>-0.202886</td>\n",
              "      <td>...</td>\n",
              "      <td>0.062069</td>\n",
              "      <td>0.020967</td>\n",
              "      <td>-0.060499</td>\n",
              "      <td>-0.036652</td>\n",
              "      <td>-0.086773</td>\n",
              "      <td>-0.076243</td>\n",
              "      <td>0.048816</td>\n",
              "      <td>0.038871</td>\n",
              "      <td>0.077291</td>\n",
              "      <td>0.049720</td>\n",
              "      <td>-0.002852</td>\n",
              "      <td>0.007940</td>\n",
              "      <td>-0.014622</td>\n",
              "      <td>0.015364</td>\n",
              "      <td>-0.032669</td>\n",
              "      <td>0.008036</td>\n",
              "      <td>-0.031473</td>\n",
              "      <td>0.023180</td>\n",
              "      <td>-0.012196</td>\n",
              "      <td>0.012664</td>\n",
              "      <td>-0.095858</td>\n",
              "      <td>-0.103955</td>\n",
              "      <td>-0.031275</td>\n",
              "      <td>-0.030559</td>\n",
              "      <td>0.108837</td>\n",
              "      <td>0.031763</td>\n",
              "      <td>-0.024881</td>\n",
              "      <td>-0.025566</td>\n",
              "      <td>-0.137276</td>\n",
              "      <td>-0.122426</td>\n",
              "      <td>-0.074939</td>\n",
              "      <td>-0.043723</td>\n",
              "      <td>-0.098023</td>\n",
              "      <td>-0.064763</td>\n",
              "      <td>0.039346</td>\n",
              "      <td>0.042372</td>\n",
              "      <td>0.064331</td>\n",
              "      <td>0.039838</td>\n",
              "      <td>-0.016851</td>\n",
              "      <td>-0.022004</td>\n",
              "    </tr>\n",
              "    <tr>\n",
              "      <th>AGEGROUP</th>\n",
              "      <td>-0.172142</td>\n",
              "      <td>0.029144</td>\n",
              "      <td>1.000000</td>\n",
              "      <td>-0.190555</td>\n",
              "      <td>-0.105026</td>\n",
              "      <td>-0.048562</td>\n",
              "      <td>-0.216195</td>\n",
              "      <td>-0.197264</td>\n",
              "      <td>-0.293230</td>\n",
              "      <td>-0.169189</td>\n",
              "      <td>-0.103030</td>\n",
              "      <td>-0.197659</td>\n",
              "      <td>-0.254426</td>\n",
              "      <td>-0.142876</td>\n",
              "      <td>-0.158045</td>\n",
              "      <td>-0.151817</td>\n",
              "      <td>-0.116982</td>\n",
              "      <td>-0.210218</td>\n",
              "      <td>-0.151794</td>\n",
              "      <td>-0.179735</td>\n",
              "      <td>-0.165258</td>\n",
              "      <td>-0.110614</td>\n",
              "      <td>-0.092814</td>\n",
              "      <td>-0.015393</td>\n",
              "      <td>-0.048429</td>\n",
              "      <td>-0.133243</td>\n",
              "      <td>-0.134339</td>\n",
              "      <td>-0.019327</td>\n",
              "      <td>-0.224425</td>\n",
              "      <td>-0.303259</td>\n",
              "      <td>-0.038808</td>\n",
              "      <td>-0.019047</td>\n",
              "      <td>-0.220753</td>\n",
              "      <td>-0.133427</td>\n",
              "      <td>0.075325</td>\n",
              "      <td>-0.192613</td>\n",
              "      <td>-0.174498</td>\n",
              "      <td>-0.311050</td>\n",
              "      <td>-0.279336</td>\n",
              "      <td>-0.156281</td>\n",
              "      <td>...</td>\n",
              "      <td>-0.195166</td>\n",
              "      <td>-0.178937</td>\n",
              "      <td>-0.229824</td>\n",
              "      <td>-0.224222</td>\n",
              "      <td>-0.138116</td>\n",
              "      <td>-0.126641</td>\n",
              "      <td>-0.223179</td>\n",
              "      <td>-0.201300</td>\n",
              "      <td>-0.225642</td>\n",
              "      <td>-0.202509</td>\n",
              "      <td>-0.261341</td>\n",
              "      <td>-0.227677</td>\n",
              "      <td>-0.226387</td>\n",
              "      <td>-0.211267</td>\n",
              "      <td>-0.260379</td>\n",
              "      <td>-0.239960</td>\n",
              "      <td>-0.339218</td>\n",
              "      <td>-0.302766</td>\n",
              "      <td>-0.215373</td>\n",
              "      <td>-0.174346</td>\n",
              "      <td>-0.222116</td>\n",
              "      <td>-0.214408</td>\n",
              "      <td>-0.180225</td>\n",
              "      <td>-0.171957</td>\n",
              "      <td>-0.188092</td>\n",
              "      <td>-0.159534</td>\n",
              "      <td>-0.263735</td>\n",
              "      <td>-0.248138</td>\n",
              "      <td>-0.216807</td>\n",
              "      <td>-0.199331</td>\n",
              "      <td>-0.167195</td>\n",
              "      <td>-0.174535</td>\n",
              "      <td>-0.228907</td>\n",
              "      <td>-0.238504</td>\n",
              "      <td>-0.144600</td>\n",
              "      <td>-0.175414</td>\n",
              "      <td>-0.125894</td>\n",
              "      <td>-0.112023</td>\n",
              "      <td>-0.122313</td>\n",
              "      <td>-0.077679</td>\n",
              "    </tr>\n",
              "    <tr>\n",
              "      <th>GOL</th>\n",
              "      <td>0.464421</td>\n",
              "      <td>-0.002393</td>\n",
              "      <td>-0.190555</td>\n",
              "      <td>1.000000</td>\n",
              "      <td>0.625672</td>\n",
              "      <td>0.440269</td>\n",
              "      <td>0.297173</td>\n",
              "      <td>0.398676</td>\n",
              "      <td>0.461817</td>\n",
              "      <td>0.367032</td>\n",
              "      <td>0.462966</td>\n",
              "      <td>0.422609</td>\n",
              "      <td>0.269856</td>\n",
              "      <td>0.289858</td>\n",
              "      <td>0.393963</td>\n",
              "      <td>0.407130</td>\n",
              "      <td>0.195455</td>\n",
              "      <td>0.410823</td>\n",
              "      <td>0.221214</td>\n",
              "      <td>0.431102</td>\n",
              "      <td>0.613993</td>\n",
              "      <td>0.642712</td>\n",
              "      <td>0.411489</td>\n",
              "      <td>0.349022</td>\n",
              "      <td>0.213101</td>\n",
              "      <td>0.316864</td>\n",
              "      <td>0.185425</td>\n",
              "      <td>0.118545</td>\n",
              "      <td>0.375274</td>\n",
              "      <td>0.345520</td>\n",
              "      <td>0.240245</td>\n",
              "      <td>0.151440</td>\n",
              "      <td>0.278839</td>\n",
              "      <td>0.285441</td>\n",
              "      <td>-0.056421</td>\n",
              "      <td>0.479459</td>\n",
              "      <td>0.369448</td>\n",
              "      <td>0.397509</td>\n",
              "      <td>0.390269</td>\n",
              "      <td>0.212266</td>\n",
              "      <td>...</td>\n",
              "      <td>0.383208</td>\n",
              "      <td>0.389233</td>\n",
              "      <td>0.386486</td>\n",
              "      <td>0.346261</td>\n",
              "      <td>0.356071</td>\n",
              "      <td>0.370557</td>\n",
              "      <td>0.362209</td>\n",
              "      <td>0.351631</td>\n",
              "      <td>0.452891</td>\n",
              "      <td>0.379627</td>\n",
              "      <td>0.426732</td>\n",
              "      <td>0.402843</td>\n",
              "      <td>0.415575</td>\n",
              "      <td>0.341196</td>\n",
              "      <td>0.420561</td>\n",
              "      <td>0.391949</td>\n",
              "      <td>0.450596</td>\n",
              "      <td>0.398247</td>\n",
              "      <td>0.263255</td>\n",
              "      <td>0.257337</td>\n",
              "      <td>0.364038</td>\n",
              "      <td>0.362318</td>\n",
              "      <td>0.353694</td>\n",
              "      <td>0.324224</td>\n",
              "      <td>0.337368</td>\n",
              "      <td>0.317494</td>\n",
              "      <td>0.424371</td>\n",
              "      <td>0.371706</td>\n",
              "      <td>0.393241</td>\n",
              "      <td>0.345050</td>\n",
              "      <td>0.245579</td>\n",
              "      <td>0.212291</td>\n",
              "      <td>0.360842</td>\n",
              "      <td>0.370052</td>\n",
              "      <td>0.246674</td>\n",
              "      <td>0.210123</td>\n",
              "      <td>0.312456</td>\n",
              "      <td>0.307179</td>\n",
              "      <td>0.225555</td>\n",
              "      <td>0.250006</td>\n",
              "    </tr>\n",
              "    <tr>\n",
              "      <th>BNL</th>\n",
              "      <td>0.455127</td>\n",
              "      <td>0.146547</td>\n",
              "      <td>-0.105026</td>\n",
              "      <td>0.625672</td>\n",
              "      <td>1.000000</td>\n",
              "      <td>0.641872</td>\n",
              "      <td>0.270689</td>\n",
              "      <td>0.432655</td>\n",
              "      <td>0.519111</td>\n",
              "      <td>0.458028</td>\n",
              "      <td>0.580943</td>\n",
              "      <td>0.491213</td>\n",
              "      <td>0.214192</td>\n",
              "      <td>0.297277</td>\n",
              "      <td>0.386636</td>\n",
              "      <td>0.392286</td>\n",
              "      <td>0.107014</td>\n",
              "      <td>0.457826</td>\n",
              "      <td>0.178108</td>\n",
              "      <td>0.437334</td>\n",
              "      <td>0.422503</td>\n",
              "      <td>0.294417</td>\n",
              "      <td>0.323813</td>\n",
              "      <td>0.255387</td>\n",
              "      <td>0.299676</td>\n",
              "      <td>0.247122</td>\n",
              "      <td>0.140876</td>\n",
              "      <td>0.117660</td>\n",
              "      <td>0.448749</td>\n",
              "      <td>0.400596</td>\n",
              "      <td>0.295632</td>\n",
              "      <td>0.218691</td>\n",
              "      <td>0.317531</td>\n",
              "      <td>0.276508</td>\n",
              "      <td>-0.047473</td>\n",
              "      <td>0.431269</td>\n",
              "      <td>0.404094</td>\n",
              "      <td>0.417628</td>\n",
              "      <td>0.412740</td>\n",
              "      <td>0.226431</td>\n",
              "      <td>...</td>\n",
              "      <td>0.444149</td>\n",
              "      <td>0.412488</td>\n",
              "      <td>0.437013</td>\n",
              "      <td>0.404358</td>\n",
              "      <td>0.404716</td>\n",
              "      <td>0.421548</td>\n",
              "      <td>0.420923</td>\n",
              "      <td>0.399594</td>\n",
              "      <td>0.453540</td>\n",
              "      <td>0.422852</td>\n",
              "      <td>0.421277</td>\n",
              "      <td>0.415090</td>\n",
              "      <td>0.399299</td>\n",
              "      <td>0.369953</td>\n",
              "      <td>0.440757</td>\n",
              "      <td>0.440127</td>\n",
              "      <td>0.430166</td>\n",
              "      <td>0.404250</td>\n",
              "      <td>0.287466</td>\n",
              "      <td>0.267646</td>\n",
              "      <td>0.405080</td>\n",
              "      <td>0.397229</td>\n",
              "      <td>0.411952</td>\n",
              "      <td>0.375925</td>\n",
              "      <td>0.411350</td>\n",
              "      <td>0.389238</td>\n",
              "      <td>0.436087</td>\n",
              "      <td>0.414293</td>\n",
              "      <td>0.382493</td>\n",
              "      <td>0.374455</td>\n",
              "      <td>0.255444</td>\n",
              "      <td>0.245372</td>\n",
              "      <td>0.409420</td>\n",
              "      <td>0.413515</td>\n",
              "      <td>0.269354</td>\n",
              "      <td>0.254751</td>\n",
              "      <td>0.355166</td>\n",
              "      <td>0.369193</td>\n",
              "      <td>0.225135</td>\n",
              "      <td>0.253291</td>\n",
              "    </tr>\n",
              "  </tbody>\n",
              "</table>\n",
              "<p>5 rows × 123 columns</p>\n",
              "</div>"
            ],
            "text/plain": [
              "               SEX      RACE  AGEGROUP  ...  CALCXL_R  CALCBR_L  CALCBR_R\n",
              "SEX       1.000000 -0.000764 -0.172142  ...  0.380299  0.347226  0.336694\n",
              "RACE     -0.000764  1.000000  0.029144  ...  0.039838 -0.016851 -0.022004\n",
              "AGEGROUP -0.172142  0.029144  1.000000  ... -0.112023 -0.122313 -0.077679\n",
              "GOL       0.464421 -0.002393 -0.190555  ...  0.307179  0.225555  0.250006\n",
              "BNL       0.455127  0.146547 -0.105026  ...  0.369193  0.225135  0.253291\n",
              "\n",
              "[5 rows x 123 columns]"
            ]
          },
          "metadata": {
            "tags": []
          },
          "execution_count": 22
        }
      ]
    },
    {
      "cell_type": "code",
      "metadata": {
        "id": "udYen3EUMnMx"
      },
      "source": [
        "# Найдем столбцы сильно коррелирующие между собой (коэффициент корреляции Пирсона > 0.9)\n",
        "r = corr.stack()[(corr.stack() > 0.9) & (corr.stack() != 1.0)]"
      ],
      "execution_count": null,
      "outputs": []
    },
    {
      "cell_type": "code",
      "metadata": {
        "colab": {
          "base_uri": "https://localhost:8080/"
        },
        "id": "0HY3SOntQVgD",
        "outputId": "02d5d0a3-a1d5-46c3-b3ab-1e0b58365e66"
      },
      "source": [
        "print(r)"
      ],
      "execution_count": null,
      "outputs": [
        {
          "output_type": "stream",
          "text": [
            "RADXLN_L  ULNXLN_L    0.926443\n",
            "ULNXLN_L  RADXLN_L    0.926443\n",
            "FEMXLN_L  TIBXLN_L    0.903181\n",
            "TIBXLN_L  FEMXLN_L    0.903181\n",
            "TIBXLN_R  FIBXLN_R    0.906980\n",
            "FIBXLN_R  TIBXLN_R    0.906980\n",
            "dtype: float64\n"
          ],
          "name": "stdout"
        }
      ]
    },
    {
      "cell_type": "code",
      "metadata": {
        "id": "nrVcvfQkgIUd"
      },
      "source": [
        "# Удалим столбцы с высоким коэффициентом корреляции \n",
        "df_encoded = df_encoded.drop(columns=['RADXLN_L', 'FEMXLN_L', 'FIBXLN_R'])"
      ],
      "execution_count": null,
      "outputs": []
    },
    {
      "cell_type": "code",
      "metadata": {
        "colab": {
          "base_uri": "https://localhost:8080/"
        },
        "id": "qt4wY8-fiX7g",
        "outputId": "68916a96-aee4-4ac6-a9d5-dccb9eb28346"
      },
      "source": [
        "df_encoded.shape"
      ],
      "execution_count": null,
      "outputs": [
        {
          "output_type": "execute_result",
          "data": {
            "text/plain": [
              "(777, 120)"
            ]
          },
          "metadata": {
            "tags": []
          },
          "execution_count": 26
        }
      ]
    },
    {
      "cell_type": "markdown",
      "metadata": {
        "id": "jNx_m7Vii93a"
      },
      "source": [
        "Распределение величин по признакам"
      ]
    },
    {
      "cell_type": "code",
      "metadata": {
        "colab": {
          "base_uri": "https://localhost:8080/",
          "height": 1000
        },
        "id": "DWCP7CDdnsW4",
        "outputId": "5ad4570a-07fd-4581-f902-b978d18fd83f"
      },
      "source": [
        "fig = plt.figure(figsize=(30,50))\n",
        "cols = 5\n",
        "\n",
        "rows = np.ceil(float(df_encoded.shape[1]) / cols)\n",
        "for i, column in enumerate(df_encoded.columns):\n",
        "    ax = fig.add_subplot(rows, cols, i + 1)\n",
        "    ax.set_title(column)\n",
        "    df_encoded[column].hist(axes=ax)\n",
        "    plt.xticks(rotation=\"vertical\")\n",
        "plt.subplots_adjust(hspace=0.5, wspace=0.2)"
      ],
      "execution_count": null,
      "outputs": [
        {
          "output_type": "display_data",
          "data": {
            "image/png": "[encoded data removed]",
            "text/plain": [
              "<Figure size 2160x3600 with 120 Axes>"
            ]
          },
          "metadata": {
            "tags": [],
            "needs_background": "light"
          }
        }
      ]
    },
    {
      "cell_type": "markdown",
      "metadata": {
        "id": "htVNBYOdrDoK"
      },
      "source": [
        "На большей части графиков видим распределение близкое к нормальному."
      ]
    },
    {
      "cell_type": "markdown",
      "metadata": {
        "id": "bcC7aJl7IelA"
      },
      "source": [
        "## Логистическая регрессия для определения пола\n",
        "Применим алгоритм логистической регресии из библиотеки scikit-learn для обучения модели определять пол по данным измерений"
      ]
    },
    {
      "cell_type": "markdown",
      "metadata": {
        "id": "r_bpJTgXhCda"
      },
      "source": [
        "Удалим неиспользуемые на этом этапе категориальные признаки"
      ]
    },
    {
      "cell_type": "code",
      "metadata": {
        "id": "ZUk7MNFghNjM"
      },
      "source": [
        "df_research_1 =  df_encoded.drop(columns=['RACE', 'AGEGROUP'])"
      ],
      "execution_count": null,
      "outputs": []
    },
    {
      "cell_type": "markdown",
      "metadata": {
        "id": "eWPwro9lq6xC"
      },
      "source": [
        "Веделим целевую функцию в отдельную переменную"
      ]
    },
    {
      "cell_type": "code",
      "metadata": {
        "id": "5GE1GaT0rqtV"
      },
      "source": [
        "y = np.array(df_research_1['SEX'])"
      ],
      "execution_count": null,
      "outputs": []
    },
    {
      "cell_type": "markdown",
      "metadata": {
        "id": "Lud6k0G7Fn47"
      },
      "source": [
        "Проверим, сбалансированы ли классы в целевой функции"
      ]
    },
    {
      "cell_type": "code",
      "metadata": {
        "colab": {
          "base_uri": "https://localhost:8080/",
          "height": 333
        },
        "id": "o9P8XaYTFnfn",
        "outputId": "5a1cc161-4324-4db6-e7ef-c24958c114e3"
      },
      "source": [
        "sns.countplot(x='SEX', data=df_research_1)\n",
        "print(df_research_1['SEX'].value_counts())"
      ],
      "execution_count": null,
      "outputs": [
        {
          "output_type": "stream",
          "text": [
            "1    462\n",
            "0    315\n",
            "Name: SEX, dtype: int64\n"
          ],
          "name": "stdout"
        },
        {
          "output_type": "display_data",
          "data": {
            "image/png": "[encoded data removed]",
            "text/plain": [
              "<Figure size 432x288 with 1 Axes>"
            ]
          },
          "metadata": {
            "tags": [],
            "needs_background": "light"
          }
        }
      ]
    },
    {
      "cell_type": "markdown",
      "metadata": {
        "id": "EhzcktDjKfIA"
      },
      "source": [
        "\n",
        "Оставим данные без балансировки\n",
        "\n",
        "Осуществим нормализацию данных"
      ]
    },
    {
      "cell_type": "code",
      "metadata": {
        "colab": {
          "base_uri": "https://localhost:8080/"
        },
        "id": "H4noSpwbsd3h",
        "outputId": "0a40cd06-e882-40f3-c259-182b8d74c200"
      },
      "source": [
        "# Преобразуем DataFrame в формат для обучения модели (np.array)\n",
        "df_research_1.drop(columns='SEX')\n",
        "X = np.array(df_research_1)\n",
        "X"
      ],
      "execution_count": null,
      "outputs": [
        {
          "output_type": "execute_result",
          "data": {
            "text/plain": [
              "array([[  0.        , 171.        ,  92.        , ...,  82.29639175,\n",
              "         42.54603175,  42.72818792],\n",
              "       [  1.        , 185.        , 101.44506259, ...,  85.        ,\n",
              "         47.        ,  46.        ],\n",
              "       [  1.        , 172.        ,  97.        , ...,  91.        ,\n",
              "         46.        ,  46.        ],\n",
              "       ...,\n",
              "       [  1.        , 194.        , 101.        , ...,  82.29639175,\n",
              "         45.        ,  42.72818792],\n",
              "       [  1.        , 192.        ,  99.        , ...,  86.        ,\n",
              "         41.        ,  42.        ],\n",
              "       [  1.        , 183.        ,  98.        , ...,  82.29639175,\n",
              "         47.        ,  42.72818792]])"
            ]
          },
          "metadata": {
            "tags": []
          },
          "execution_count": 31
        }
      ]
    },
    {
      "cell_type": "code",
      "metadata": {
        "colab": {
          "base_uri": "https://localhost:8080/"
        },
        "id": "8g9qH3OzIiXr",
        "outputId": "64b913bd-2d87-42c6-c86b-3b0986b450e1"
      },
      "source": [
        "# Масштабируем признаки\n",
        "from sklearn.preprocessing import scale\n",
        "X_norm = scale(X)\n",
        "X_norm"
      ],
      "execution_count": null,
      "outputs": [
        {
          "output_type": "execute_result",
          "data": {
            "text/plain": [
              "array([[-1.21106014e+00, -1.39231754e+00, -1.66803609e+00, ...,\n",
              "         7.57826722e-04, -1.31821105e-03,  5.36041143e-04],\n",
              "       [ 8.25722824e-01,  2.69248238e-01,  1.81903395e-03, ...,\n",
              "         5.66402607e-01,  1.66963845e+00,  1.25390446e+00],\n",
              "       [ 8.25722824e-01, -1.27363427e+00, -7.84053000e-01, ...,\n",
              "         1.82171342e+00,  1.29447712e+00,  1.25390446e+00],\n",
              "       ...,\n",
              "       [ 8.25722824e-01,  1.33739767e+00, -7.68665264e-02, ...,\n",
              "         7.57826722e-04,  9.19315788e-01,  5.36041143e-04],\n",
              "       [ 8.25722824e-01,  1.10003113e+00, -4.30459763e-01, ...,\n",
              "         7.75621076e-01, -5.81329540e-01, -2.78418777e-01],\n",
              "       [ 8.25722824e-01,  3.18816988e-02, -6.07256382e-01, ...,\n",
              "         7.57826722e-04,  1.66963845e+00,  5.36041143e-04]])"
            ]
          },
          "metadata": {
            "tags": []
          },
          "execution_count": 32
        }
      ]
    },
    {
      "cell_type": "code",
      "metadata": {
        "id": "ywyTGdlvuHKX"
      },
      "source": [
        "# Разобъем выборку на тестовую и тренировочную\n",
        "from sklearn.model_selection import train_test_split\n",
        "\n",
        "X_train, X_test, y_train, y_test = train_test_split(X_norm, y, test_size=0.15, random_state=42)"
      ],
      "execution_count": null,
      "outputs": []
    },
    {
      "cell_type": "markdown",
      "metadata": {
        "id": "JNw9LH9SvBCL"
      },
      "source": [
        "Обучаем логистическу регрессию"
      ]
    },
    {
      "cell_type": "code",
      "metadata": {
        "colab": {
          "base_uri": "https://localhost:8080/"
        },
        "id": "TUqdMzKtuYMh",
        "outputId": "cd7aca85-3cfd-4352-9c44-4c93bb64eb12"
      },
      "source": [
        "# Импортируем необходимые модули\n",
        "from sklearn.linear_model import LogisticRegression\n",
        "from sklearn.model_selection import GridSearchCV\n",
        "from sklearn.metrics import roc_auc_score\n",
        "\n",
        "# Зададим сетку - среди каких значений выбирать наилучший параметр.\n",
        "param_grid = {'C': [0.01, 0.05, 0.1, 0.5, 1, 5, 10, 100]}\n",
        "# Тип оценки\n",
        "estimator_l = LogisticRegression()\n",
        "\n",
        "# Создаем объект для обучения\n",
        "gs_logistic = GridSearchCV(estimator_l,\n",
        "                  param_grid,\n",
        "                  cv=3)\n",
        "\n",
        "# Обучаем его\n",
        "gs_logistic.fit(X_train, y_train)"
      ],
      "execution_count": null,
      "outputs": [
        {
          "output_type": "execute_result",
          "data": {
            "text/plain": [
              "GridSearchCV(cv=3, error_score=nan,\n",
              "             estimator=LogisticRegression(C=1.0, class_weight=None, dual=False,\n",
              "                                          fit_intercept=True,\n",
              "                                          intercept_scaling=1, l1_ratio=None,\n",
              "                                          max_iter=100, multi_class='auto',\n",
              "                                          n_jobs=None, penalty='l2',\n",
              "                                          random_state=None, solver='lbfgs',\n",
              "                                          tol=0.0001, verbose=0,\n",
              "                                          warm_start=False),\n",
              "             iid='deprecated', n_jobs=None,\n",
              "             param_grid={'C': [0.01, 0.05, 0.1, 0.5, 1, 5, 10, 100]},\n",
              "             pre_dispatch='2*n_jobs', refit=True, return_train_score=False,\n",
              "             scoring=None, verbose=0)"
            ]
          },
          "metadata": {
            "tags": []
          },
          "execution_count": 34
        }
      ]
    },
    {
      "cell_type": "code",
      "metadata": {
        "colab": {
          "base_uri": "https://localhost:8080/"
        },
        "id": "Iu4bgNKCwUEx",
        "outputId": "ddb4b8a4-92c4-4a06-a5df-226af6cc6910"
      },
      "source": [
        "# Отобразим результаты обучения\n",
        "print(gs_logistic.best_score_)\n",
        "print(gs_logistic.best_params_)\n",
        "print(gs_logistic.best_estimator_)"
      ],
      "execution_count": null,
      "outputs": [
        {
          "output_type": "stream",
          "text": [
            "0.9924242424242425\n",
            "{'C': 5}\n",
            "LogisticRegression(C=5, class_weight=None, dual=False, fit_intercept=True,\n",
            "                   intercept_scaling=1, l1_ratio=None, max_iter=100,\n",
            "                   multi_class='auto', n_jobs=None, penalty='l2',\n",
            "                   random_state=None, solver='lbfgs', tol=0.0001, verbose=0,\n",
            "                   warm_start=False)\n"
          ],
          "name": "stdout"
        }
      ]
    },
    {
      "cell_type": "markdown",
      "metadata": {
        "id": "uYG6E4EmvhXE"
      },
      "source": [
        "Строим график оценок точности и их стандартных\n",
        " отклонений"
      ]
    },
    {
      "cell_type": "code",
      "metadata": {
        "id": "i89GqtgLvsxS"
      },
      "source": [
        "# Используем функцию построения графика точности и их стандартного отклонения\n",
        "def plot_scores(optimizer):\n",
        "    scores=[]\n",
        "    for i in range(len(optimizer.cv_results_['params'])):\n",
        "        scores.append([optimizer.cv_results_['params'][i]['C'], \n",
        "                optimizer.cv_results_['mean_test_score'][i],\n",
        "                optimizer.cv_results_['std_test_score'][i]])\n",
        "    scores = np.array(scores)\n",
        "    plt.semilogx(scores[:,0], scores[:,1])\n",
        "    plt.fill_between(scores[:,0], scores[:,1]-scores[:,2], \n",
        "                                  scores[:,1]+scores[:,2], alpha=0.3)\n",
        "    plt.show()\n",
        "    "
      ],
      "execution_count": null,
      "outputs": []
    },
    {
      "cell_type": "code",
      "metadata": {
        "colab": {
          "base_uri": "https://localhost:8080/",
          "height": 269
        },
        "id": "8_-cTL9RwCR8",
        "outputId": "bdb2e5e0-aee4-4318-ae8f-bace5ee4e8cf"
      },
      "source": [
        "plot_scores(gs_logistic)"
      ],
      "execution_count": null,
      "outputs": [
        {
          "output_type": "display_data",
          "data": {
            "image/png": "[encoded data removed]",
            "text/plain": [
              "<Figure size 432x288 with 1 Axes>"
            ]
          },
          "metadata": {
            "tags": [],
            "needs_background": "light"
          }
        }
      ]
    },
    {
      "cell_type": "markdown",
      "metadata": {
        "id": "70bBpr3uxwxM"
      },
      "source": [
        "Протестируем обученную модель и применим различные метрики оценки точности модели"
      ]
    },
    {
      "cell_type": "code",
      "metadata": {
        "colab": {
          "base_uri": "https://localhost:8080/"
        },
        "id": "X9atO_wlxpVF",
        "outputId": "397e43db-156c-456d-e6e9-261b33f89a6f"
      },
      "source": [
        "# Выполним предсказание на тестовом наборе данных \n",
        "preds_logistic = gs_logistic.predict(X_test)\n",
        "preds_logistic"
      ],
      "execution_count": null,
      "outputs": [
        {
          "output_type": "execute_result",
          "data": {
            "text/plain": [
              "array([0, 1, 1, 0, 1, 1, 1, 0, 0, 1, 1, 0, 1, 1, 1, 1, 0, 1, 1, 1, 1, 0,\n",
              "       1, 0, 0, 1, 0, 1, 1, 1, 1, 1, 1, 1, 0, 0, 1, 1, 1, 0, 1, 1, 0, 0,\n",
              "       1, 1, 0, 0, 0, 1, 1, 0, 0, 0, 0, 0, 1, 0, 1, 0, 1, 1, 1, 0, 1, 1,\n",
              "       1, 0, 0, 1, 1, 0, 0, 1, 0, 1, 1, 1, 1, 1, 1, 1, 0, 0, 1, 1, 1, 1,\n",
              "       0, 0, 0, 0, 0, 1, 1, 1, 0, 1, 1, 1, 1, 0, 1, 1, 1, 1, 1, 1, 0, 1,\n",
              "       0, 0, 0, 0, 1, 0, 1])"
            ]
          },
          "metadata": {
            "tags": []
          },
          "execution_count": 38
        }
      ]
    },
    {
      "cell_type": "code",
      "metadata": {
        "colab": {
          "base_uri": "https://localhost:8080/"
        },
        "id": "NVTD60D5DR0G",
        "outputId": "cbb6016c-8f46-489d-9415-7303e243f941"
      },
      "source": [
        "y_test"
      ],
      "execution_count": null,
      "outputs": [
        {
          "output_type": "execute_result",
          "data": {
            "text/plain": [
              "array([0, 1, 1, 0, 1, 1, 1, 0, 0, 1, 1, 0, 1, 1, 1, 1, 0, 1, 1, 1, 1, 0,\n",
              "       1, 0, 0, 1, 0, 1, 1, 1, 1, 1, 1, 1, 0, 1, 1, 1, 1, 0, 1, 1, 0, 0,\n",
              "       1, 1, 0, 0, 0, 1, 1, 0, 0, 0, 0, 0, 1, 0, 1, 0, 1, 1, 1, 1, 1, 1,\n",
              "       1, 0, 0, 1, 1, 0, 0, 1, 0, 1, 1, 1, 1, 1, 1, 1, 0, 0, 1, 1, 1, 1,\n",
              "       0, 0, 0, 0, 0, 1, 1, 1, 0, 1, 1, 1, 1, 0, 1, 1, 1, 1, 1, 1, 0, 1,\n",
              "       0, 0, 0, 0, 1, 0, 1])"
            ]
          },
          "metadata": {
            "tags": []
          },
          "execution_count": 39
        }
      ]
    },
    {
      "cell_type": "code",
      "metadata": {
        "colab": {
          "base_uri": "https://localhost:8080/"
        },
        "id": "WIWXdX0yyEtc",
        "outputId": "76ca0da6-352e-42be-fede-a30b5e117eae"
      },
      "source": [
        "# Отобразим метрику R^2 (наилучшее возможное значение 1.0)\n",
        "metrics.r2_score(y_test, preds_logistic)"
      ],
      "execution_count": null,
      "outputs": [
        {
          "output_type": "execute_result",
          "data": {
            "text/plain": [
              "0.927148194271482"
            ]
          },
          "metadata": {
            "tags": []
          },
          "execution_count": 40
        }
      ]
    },
    {
      "cell_type": "code",
      "metadata": {
        "colab": {
          "base_uri": "https://localhost:8080/"
        },
        "id": "FLwFzg51zY1B",
        "outputId": "3faae431-ebc0-4aab-ed44-38ff831d2a98"
      },
      "source": [
        "# Отобразим метрику MAE (наилучшее возможное значение 0.0)\n",
        "metrics.median_absolute_error(y_test, preds_logistic)"
      ],
      "execution_count": null,
      "outputs": [
        {
          "output_type": "execute_result",
          "data": {
            "text/plain": [
              "0.0"
            ]
          },
          "metadata": {
            "tags": []
          },
          "execution_count": 41
        }
      ]
    },
    {
      "cell_type": "code",
      "metadata": {
        "colab": {
          "base_uri": "https://localhost:8080/"
        },
        "id": "xZC7J5fW0COS",
        "outputId": "b46dc1b9-1877-4ef2-860c-eab6142dab12"
      },
      "source": [
        "# Отобразим метрику ROC AUC\n",
        "predict_proba = gs_logistic.predict_proba(X_test)[:, 1]\n",
        "AUC_1 = roc_auc_score(y_test, predict_proba)\n",
        "AUC_1"
      ],
      "execution_count": null,
      "outputs": [
        {
          "output_type": "execute_result",
          "data": {
            "text/plain": [
              "0.9996886674968867"
            ]
          },
          "metadata": {
            "tags": []
          },
          "execution_count": 42
        }
      ]
    },
    {
      "cell_type": "code",
      "metadata": {
        "colab": {
          "base_uri": "https://localhost:8080/",
          "height": 574
        },
        "id": "vgZzNF1-B_8X",
        "outputId": "56445872-5dd0-48bb-86ee-39bdbc4ad9ec"
      },
      "source": [
        "# Построим confusion matrix\n",
        "fig = plt.figure(figsize=(8,8))\n",
        "nn_mtx = metrics.confusion_matrix(y_test, preds_logistic)\n",
        "print(nn_mtx)\n",
        "font = {'weight' : 'bold', 'size'   :22}\n",
        "matplotlib.rc('font', **font)\n",
        "matplotlib.rc('xtick', labelsize=20) \n",
        "matplotlib.rc('ytick', labelsize=20) \n",
        "sns.heatmap(nn_mtx, annot=True, fmt=\"d\", \n",
        "            xticklabels=encoders[\"SEX\"].classes_, \n",
        "            yticklabels=encoders[\"SEX\"].classes_)\n",
        "plt.ylabel(\"Real value\")\n",
        "plt.xlabel(\"Predicted value\")"
      ],
      "execution_count": null,
      "outputs": [
        {
          "output_type": "stream",
          "text": [
            "[[44  0]\n",
            " [ 2 71]]\n"
          ],
          "name": "stdout"
        },
        {
          "output_type": "execute_result",
          "data": {
            "text/plain": [
              "Text(0.5, 42.0, 'Predicted value')"
            ]
          },
          "metadata": {
            "tags": []
          },
          "execution_count": 43
        },
        {
          "output_type": "display_data",
          "data": {
            "image/png": "[encoded data removed]",
            "text/plain": [
              "<Figure size 576x576 with 2 Axes>"
            ]
          },
          "metadata": {
            "tags": [],
            "needs_background": "light"
          }
        }
      ]
    },
    {
      "cell_type": "code",
      "metadata": {
        "colab": {
          "base_uri": "https://localhost:8080/"
        },
        "id": "HZJnh2zWCp3h",
        "outputId": "f9df44dd-0653-42f0-df93-567ac153ed60"
      },
      "source": [
        "# Используем classification_report\n",
        "print(metrics.classification_report(y_test, preds_logistic))"
      ],
      "execution_count": null,
      "outputs": [
        {
          "output_type": "stream",
          "text": [
            "              precision    recall  f1-score   support\n",
            "\n",
            "           0       0.96      1.00      0.98        44\n",
            "           1       1.00      0.97      0.99        73\n",
            "\n",
            "    accuracy                           0.98       117\n",
            "   macro avg       0.98      0.99      0.98       117\n",
            "weighted avg       0.98      0.98      0.98       117\n",
            "\n"
          ],
          "name": "stdout"
        }
      ]
    },
    {
      "cell_type": "code",
      "metadata": {
        "colab": {
          "base_uri": "https://localhost:8080/"
        },
        "id": "HsweWy-iDxK9",
        "outputId": "edcd4b5e-27df-4b99-8d81-62e7db2f3d14"
      },
      "source": [
        "# Используем метрику Accuracy\n",
        "metrics.accuracy_score(y_test, preds_logistic)"
      ],
      "execution_count": null,
      "outputs": [
        {
          "output_type": "execute_result",
          "data": {
            "text/plain": [
              "0.9829059829059829"
            ]
          },
          "metadata": {
            "tags": []
          },
          "execution_count": 45
        }
      ]
    },
    {
      "cell_type": "markdown",
      "metadata": {
        "id": "NoveompDH591"
      },
      "source": [
        "##Метод k ближайших соседей при определении принадлежности к расе\n",
        "\n",
        "\n"
      ]
    },
    {
      "cell_type": "code",
      "metadata": {
        "colab": {
          "base_uri": "https://localhost:8080/"
        },
        "id": "3rcj4AkHPfLT",
        "outputId": "33b8b542-0d4b-441b-e412-ef737ca79d9c"
      },
      "source": [
        "# Выведем соответствие числовых данных закодированным для признака:\n",
        "encoders['RACE'].inverse_transform([0, 1, 2, 3, 4 , 5])"
      ],
      "execution_count": null,
      "outputs": [
        {
          "output_type": "execute_result",
          "data": {
            "text/plain": [
              "array(['A', 'B', 'C', 'H', 'M', 'W'], dtype=object)"
            ]
          },
          "metadata": {
            "tags": []
          },
          "execution_count": 46
        }
      ]
    },
    {
      "cell_type": "code",
      "metadata": {
        "colab": {
          "base_uri": "https://localhost:8080/",
          "height": 423
        },
        "id": "HmMHEWDNNlwz",
        "outputId": "1f147d52-dfa7-442f-bdda-10b00f374827"
      },
      "source": [
        "# Удалим неиспользуемые на этом этапе категориальные признаки\n",
        "df_research_2 =  df_encoded.drop(columns=['SEX', 'AGEGROUP'])\n",
        "\n",
        "# Выделим целевую функцию в отдельную переменную\n",
        "y = np.array(df_research_2['RACE'])\n",
        "\n",
        "# Проверим, сбалансированы ли классы в целевой функции\n",
        "sns.countplot(x='RACE', data=df_research_2)\n",
        "print(df_research_2['RACE'].value_counts())"
      ],
      "execution_count": null,
      "outputs": [
        {
          "output_type": "stream",
          "text": [
            "5    489\n",
            "1    242\n",
            "3     26\n",
            "4     14\n",
            "0      5\n",
            "2      1\n",
            "Name: RACE, dtype: int64\n"
          ],
          "name": "stdout"
        },
        {
          "output_type": "display_data",
          "data": {
            "image/png": "[encoded data removed]",
            "text/plain": [
              "<Figure size 432x288 with 1 Axes>"
            ]
          },
          "metadata": {
            "tags": [],
            "needs_background": "light"
          }
        }
      ]
    },
    {
      "cell_type": "code",
      "metadata": {
        "colab": {
          "base_uri": "https://localhost:8080/",
          "height": 372
        },
        "id": "BVZuL-BCdIwG",
        "outputId": "b0d0b0bf-5dfb-4b8c-db36-aa9536929467"
      },
      "source": [
        "# Изменим строки со значениями целевой функции равными 3, 4, 0 и 2, т.к. обучить модель на такой маленькой в разрезе значения функции выборке невозможно\n",
        "df_research_2 = df_research_2[df_research_2['RACE'] != 2]\n",
        "# Заменим значение с малым числом вхождений на одно. \n",
        "# В итоге в целевой функции будет три значения, которые будут интерпретироваться как \"Black\", \"White\" и \"Other\"\n",
        "df_research_2.loc[df_research_2['RACE'] == 3 ] = 0\n",
        "df_research_2.loc[df_research_2['RACE'] == 4 ] = 0 \n",
        "df_research_2.loc[df_research_2['RACE'] == 2 ] = 0 \n",
        "# Посмотрим еще раз на распределение признаков\n",
        "sns.countplot(x='RACE', data=df_research_2)\n",
        "print(df_research_2['RACE'].value_counts())"
      ],
      "execution_count": null,
      "outputs": [
        {
          "output_type": "stream",
          "text": [
            "5    489\n",
            "1    242\n",
            "0     45\n",
            "Name: RACE, dtype: int64\n"
          ],
          "name": "stdout"
        },
        {
          "output_type": "display_data",
          "data": {
            "image/png": "[encoded data removed]",
            "text/plain": [
              "<Figure size 432x288 with 1 Axes>"
            ]
          },
          "metadata": {
            "tags": [],
            "needs_background": "light"
          }
        }
      ]
    },
    {
      "cell_type": "markdown",
      "metadata": {
        "id": "VTk7DytzS3aU"
      },
      "source": [
        "Данные несбалансированы, поэтому будем использовать для их балансировки метод SMOTE, который  использует oversampling\n"
      ]
    },
    {
      "cell_type": "code",
      "metadata": {
        "id": "jLKH0FTCRs19"
      },
      "source": [
        "from imblearn.over_sampling import SMOTE\n",
        "\n",
        "sm = SMOTE(random_state = 2, k_neighbors=7)"
      ],
      "execution_count": null,
      "outputs": []
    },
    {
      "cell_type": "code",
      "metadata": {
        "id": "qXfeIDx0aBDo"
      },
      "source": [
        "# Выделим целевую функцию в отдельную переменную\n",
        "y_1 = np.array(df_research_2['RACE'])"
      ],
      "execution_count": null,
      "outputs": []
    },
    {
      "cell_type": "code",
      "metadata": {
        "colab": {
          "base_uri": "https://localhost:8080/"
        },
        "id": "uMcAE-MgWuNI",
        "outputId": "d87bef58-c54d-4852-c508-9b1951749ff3"
      },
      "source": [
        "# Преобразуем DataFrame в формат для обучения модели (np.array)\n",
        "df_research_2.drop(columns='RACE')\n",
        "X = np.array(df_research_2)\n",
        "# Масштабируем признаки\n",
        "from sklearn.preprocessing import scale\n",
        "X_norm = scale(X)\n",
        "X_norm"
      ],
      "execution_count": null,
      "outputs": [
        {
          "output_type": "execute_result",
          "data": {
            "text/plain": [
              "array([[-1.21979256, -0.06392679, -0.18540972, ...,  0.2245009 ,\n",
              "         0.21907475,  0.22043682],\n",
              "       [-1.21979256,  0.27533755,  0.22296082, ...,  0.36827785,\n",
              "         0.67548088,  0.55472856],\n",
              "       [ 0.76149269, -0.03969362,  0.0307723 , ...,  0.68735576,\n",
              "         0.57300908,  0.55472856],\n",
              "       ...,\n",
              "       [ 0.76149269,  0.49343606,  0.20371791, ...,  0.2245009 ,\n",
              "         0.47053729,  0.22043682],\n",
              "       [-1.21979256,  0.44496972,  0.1172451 , ...,  0.4214575 ,\n",
              "         0.06065011,  0.14603548],\n",
              "       [-1.21979256,  0.22687122,  0.0740087 , ...,  0.2245009 ,\n",
              "         0.67548088,  0.22043682]])"
            ]
          },
          "metadata": {
            "tags": []
          },
          "execution_count": 97
        }
      ]
    },
    {
      "cell_type": "code",
      "metadata": {
        "id": "ibdRtmdGbBAt"
      },
      "source": [
        "# Разобъем выборку на тестовую и тренировочную\n",
        "from sklearn.model_selection import train_test_split\n",
        "\n",
        "X_train, X_test, y_train, y_test = train_test_split(X_norm, y_1, test_size=0.15, random_state=42)"
      ],
      "execution_count": null,
      "outputs": []
    },
    {
      "cell_type": "code",
      "metadata": {
        "colab": {
          "base_uri": "https://localhost:8080/"
        },
        "id": "JohBRr_RabD5",
        "outputId": "aab209e0-b5f9-446e-9db2-b1c2384a3b3c"
      },
      "source": [
        "# Осуществляем oversampling с использованием SMOTE\n",
        "X_sm, y_sm = sm.fit_resample(X_train, y_train)\n",
        "y_sm"
      ],
      "execution_count": null,
      "outputs": [
        {
          "output_type": "execute_result",
          "data": {
            "text/plain": [
              "array([5, 1, 5, ..., 1, 1, 1])"
            ]
          },
          "metadata": {
            "tags": []
          },
          "execution_count": 99
        }
      ]
    },
    {
      "cell_type": "markdown",
      "metadata": {
        "id": "Q8SVr9TBeZoZ"
      },
      "source": [
        "Используем кросс-валидацию"
      ]
    },
    {
      "cell_type": "code",
      "metadata": {
        "colab": {
          "base_uri": "https://localhost:8080/"
        },
        "id": "JhnLOnhqeW6V",
        "outputId": "6ac0d653-64e2-4086-d246-4ccb764ee1b0"
      },
      "source": [
        "# Будем использовать модель k ближайших соседей\n",
        "from sklearn.neighbors import KNeighborsClassifier\n",
        "\n",
        "knn = KNeighborsClassifier()\n",
        "# В sklearn есть специальный модуль для работы с кросс-валидацией\n",
        "from sklearn.model_selection import GridSearchCV\n",
        "\n",
        "# Зададим сетку - среди каких значений выбирать наилучший параметр.\n",
        "knn_grid = {'n_neighbors': np.array(np.linspace(1, 100, 100), dtype='int')} # перебираем по параметру <<n_neighbors>> по сетке \n",
        "\n",
        "# Создаем объект кросс-валидации\n",
        "gs = GridSearchCV(knn, knn_grid, cv=5)\n",
        "\n",
        "# Обучаем его\n",
        "gs.fit(X_sm, y_sm)"
      ],
      "execution_count": null,
      "outputs": [
        {
          "output_type": "execute_result",
          "data": {
            "text/plain": [
              "GridSearchCV(cv=5, error_score=nan,\n",
              "             estimator=KNeighborsClassifier(algorithm='auto', leaf_size=30,\n",
              "                                            metric='minkowski',\n",
              "                                            metric_params=None, n_jobs=None,\n",
              "                                            n_neighbors=5, p=2,\n",
              "                                            weights='uniform'),\n",
              "             iid='deprecated', n_jobs=None,\n",
              "             param_grid={'n_neighbors': array([  1,   2,   3,   4,   5,   6,   7,   8,   9,  10,  11,  12,  13,\n",
              "        14,  15,  16,  17,  18,  19,  20,  21,  22,  23,  24,  25,  26,\n",
              "        27,  28,  29,  30,  31,  32,  33,  34,  35,  36,  37,  38,  39,\n",
              "        40,  41,  42,  43,  44,  45,  46,  47,  48,  49,  50,  51,  52,\n",
              "        53,  54,  55,  56,  57,  58,  59,  60,  61,  62,  63,  64,  65,\n",
              "        66,  67,  68,  69,  70,  71,  72,  73,  74,  75,  76,  77,  78,\n",
              "        79,  80,  81,  82,  83,  84,  85,  86,  87,  88,  89,  90,  91,\n",
              "        92,  93,  94,  95,  96,  97,  98,  99, 100])},\n",
              "             pre_dispatch='2*n_jobs', refit=True, return_train_score=False,\n",
              "             scoring=None, verbose=0)"
            ]
          },
          "metadata": {
            "tags": []
          },
          "execution_count": 100
        }
      ]
    },
    {
      "cell_type": "code",
      "metadata": {
        "colab": {
          "base_uri": "https://localhost:8080/"
        },
        "id": "bw54mHlWh9Ku",
        "outputId": "7cbd346b-a56d-43e7-b31c-2121fa4a5565"
      },
      "source": [
        "# best_params_ содержит в себе лучшие подобранные параметры, best_score_ лучшее качество\n",
        "gs.best_params_, gs.best_score_"
      ],
      "execution_count": null,
      "outputs": [
        {
          "output_type": "execute_result",
          "data": {
            "text/plain": [
              "({'n_neighbors': 3}, 0.9937007874015749)"
            ]
          },
          "metadata": {
            "tags": []
          },
          "execution_count": 101
        }
      ]
    },
    {
      "cell_type": "code",
      "metadata": {
        "id": "Es-7b9A2iW5z"
      },
      "source": [
        "# импортируем и создаем knn классификатор\n",
        "knn = KNeighborsClassifier(n_neighbors=gs.best_params_['n_neighbors']) \n",
        "# тренируем для knn\n",
        "clf_knn = knn.fit(X_sm, y_sm)\n",
        "# получаем предсказание на тестовых данных\n",
        "y_knn = clf_knn.predict(X_test)"
      ],
      "execution_count": null,
      "outputs": []
    },
    {
      "cell_type": "markdown",
      "metadata": {
        "id": "knjmTl2DintH"
      },
      "source": [
        "Для оценки точности модели используем метрику classification report"
      ]
    },
    {
      "cell_type": "code",
      "metadata": {
        "colab": {
          "base_uri": "https://localhost:8080/"
        },
        "id": "st-DB6Kdi0lr",
        "outputId": "63ee2ecd-6187-42e7-d321-38ba7f67383f"
      },
      "source": [
        "print(metrics.classification_report(y_test, y_knn))"
      ],
      "execution_count": null,
      "outputs": [
        {
          "output_type": "stream",
          "text": [
            "              precision    recall  f1-score   support\n",
            "\n",
            "           0       0.88      0.88      0.88         8\n",
            "           1       0.97      0.91      0.94        43\n",
            "           5       0.94      0.98      0.96        66\n",
            "\n",
            "    accuracy                           0.95       117\n",
            "   macro avg       0.93      0.92      0.93       117\n",
            "weighted avg       0.95      0.95      0.95       117\n",
            "\n"
          ],
          "name": "stdout"
        }
      ]
    },
    {
      "cell_type": "markdown",
      "metadata": {
        "id": "1O_lQzxZpWVW"
      },
      "source": [
        "Построим confusion matrix"
      ]
    },
    {
      "cell_type": "code",
      "metadata": {
        "colab": {
          "base_uri": "https://localhost:8080/",
          "height": 590
        },
        "id": "x3jBlHTApSMM",
        "outputId": "b497cb55-e499-4c9f-844f-cf73c3dba5b8"
      },
      "source": [
        "# Построим confusion matrix\n",
        "fig = plt.figure(figsize=(8,8))\n",
        "nn_mtx = metrics.confusion_matrix(y_test, y_knn)\n",
        "print(nn_mtx)\n",
        "font = {'weight' : 'bold', 'size'   :22}\n",
        "matplotlib.rc('font', **font)\n",
        "matplotlib.rc('xtick', labelsize=20) \n",
        "matplotlib.rc('ytick', labelsize=20) \n",
        "sns.heatmap(nn_mtx, annot=True, fmt=\"d\", \n",
        "            xticklabels=encoders[\"RACE\"].classes_[[0, 1, 5]], \n",
        "            yticklabels=encoders[\"RACE\"].classes_[[0, 1, 5]])\n",
        "plt.ylabel(\"Real value\")\n",
        "plt.xlabel(\"Predicted value\")"
      ],
      "execution_count": null,
      "outputs": [
        {
          "output_type": "stream",
          "text": [
            "[[ 7  1  0]\n",
            " [ 0 39  4]\n",
            " [ 1  0 65]]\n"
          ],
          "name": "stdout"
        },
        {
          "output_type": "execute_result",
          "data": {
            "text/plain": [
              "Text(0.5, 42.0, 'Predicted value')"
            ]
          },
          "metadata": {
            "tags": []
          },
          "execution_count": 104
        },
        {
          "output_type": "display_data",
          "data": {
            "image/png": "[encoded data removed]",
            "text/plain": [
              "<Figure size 576x576 with 2 Axes>"
            ]
          },
          "metadata": {
            "tags": [],
            "needs_background": "light"
          }
        }
      ]
    },
    {
      "cell_type": "code",
      "metadata": {
        "colab": {
          "base_uri": "https://localhost:8080/"
        },
        "id": "8BI14-YFrhp-",
        "outputId": "0926a55a-77bc-420b-d34a-ae04e6325ef5"
      },
      "source": [
        "# Используем метрику Accuracy\n",
        "metrics.accuracy_score(y_test, y_knn)"
      ],
      "execution_count": null,
      "outputs": [
        {
          "output_type": "execute_result",
          "data": {
            "text/plain": [
              "0.9487179487179487"
            ]
          },
          "metadata": {
            "tags": []
          },
          "execution_count": 105
        }
      ]
    },
    {
      "cell_type": "markdown",
      "metadata": {
        "id": "wJlK6p9c8vWv"
      },
      "source": [
        "##Используем взвешенную логистическу регрессию при определении принадлежности к возрастной группе"
      ]
    },
    {
      "cell_type": "code",
      "metadata": {
        "colab": {
          "base_uri": "https://localhost:8080/"
        },
        "id": "WKof-CxB9J9D",
        "outputId": "07396be6-09dd-4ee4-fed8-9b41d78e87b1"
      },
      "source": [
        "# Выведем соответствие числовых данных закодированным для признака:\n",
        "encoders['AGEGROUP'].inverse_transform([0, 1, 2, 3, 4])"
      ],
      "execution_count": null,
      "outputs": [
        {
          "output_type": "execute_result",
          "data": {
            "text/plain": [
              "array(['A', 'C', 'F', 'I', 'S'], dtype=object)"
            ]
          },
          "metadata": {
            "tags": []
          },
          "execution_count": 106
        }
      ]
    },
    {
      "cell_type": "code",
      "metadata": {
        "colab": {
          "base_uri": "https://localhost:8080/",
          "height": 406
        },
        "id": "cDB6BYY1_9ai",
        "outputId": "93892e53-a0e7-4bc7-f6d1-905c49de666b"
      },
      "source": [
        "# Удалим неиспользуемые на этом этапе категориальные признаки\n",
        "df_research_3 =  df_encoded.drop(columns=['SEX', 'RACE'])\n",
        "\n",
        "\n",
        "# Проверим, сбалансированы ли классы в целевой функции\n",
        "sns.countplot(x='AGEGROUP', data=df_research_3)\n",
        "print(df_research_3['AGEGROUP'].value_counts())"
      ],
      "execution_count": null,
      "outputs": [
        {
          "output_type": "stream",
          "text": [
            "0    710\n",
            "4     43\n",
            "1     20\n",
            "3      3\n",
            "2      1\n",
            "Name: AGEGROUP, dtype: int64\n"
          ],
          "name": "stdout"
        },
        {
          "output_type": "display_data",
          "data": {
            "image/png": "[encoded data removed]",
            "text/plain": [
              "<Figure size 432x288 with 1 Axes>"
            ]
          },
          "metadata": {
            "tags": [],
            "needs_background": "light"
          }
        }
      ]
    },
    {
      "cell_type": "markdown",
      "metadata": {
        "id": "jah-r15HBRH9"
      },
      "source": [
        "Данные несбалансированы, поэтому будем использовать для их балансировки *sklearn.linear_model.LogisticRegression* с параметром *class_weight = 'balanced'*.\n",
        "\n",
        "*'balanced'* - это  режим, который  осуществляет автоматическую настройков весов по числу вхождений значений целевой функции для класса, отнесенному к  частотам классов во входных данных: $\\frac{n\\_samples}{n\\_classes \\cdot np.bincount (y)}$, где $np.bincount (y)$ - функция из библиотеки *numpy*, которая возвращает количество вхождений значения в массив."
      ]
    },
    {
      "cell_type": "code",
      "metadata": {
        "colab": {
          "base_uri": "https://localhost:8080/",
          "height": 372
        },
        "id": "F0xB2Kp4aL3-",
        "outputId": "ecd07ce3-dc8d-45aa-f75e-8dd0246f42c8"
      },
      "source": [
        "# Изменим строки со значениями целевой функции равными 1, 2,  и 3, т.к. обучить модель на такой маленькой в разрезе значения функции выборке невозможно\n",
        "# Заменим значение с малым числом вхождений на одно. \n",
        "# В итоге в целевой функции будет три значения, которые будут интерпретироваться как \"A\", \"S\" и \"C\"\n",
        "df_research_3.loc[df_research_3['AGEGROUP'] == 2 ] = 1\n",
        "df_research_3.loc[df_research_3['AGEGROUP'] == 3 ] = 1\n",
        "# Посмотрим еще раз на распределение признаков\n",
        "sns.countplot(x='AGEGROUP', data=df_research_3)\n",
        "print(df_research_3['AGEGROUP'].value_counts())"
      ],
      "execution_count": null,
      "outputs": [
        {
          "output_type": "stream",
          "text": [
            "0    710\n",
            "4     43\n",
            "1     24\n",
            "Name: AGEGROUP, dtype: int64\n"
          ],
          "name": "stdout"
        },
        {
          "output_type": "display_data",
          "data": {
            "image/png": "[encoded data removed]",
            "text/plain": [
              "<Figure size 432x288 with 1 Axes>"
            ]
          },
          "metadata": {
            "tags": [],
            "needs_background": "light"
          }
        }
      ]
    },
    {
      "cell_type": "code",
      "metadata": {
        "id": "cp9SlhgQBQme"
      },
      "source": [
        "# Выделим целевую функцию в отдельную переменную\n",
        "y_2 = np.array(df_research_3['AGEGROUP'])"
      ],
      "execution_count": null,
      "outputs": []
    },
    {
      "cell_type": "code",
      "metadata": {
        "colab": {
          "base_uri": "https://localhost:8080/"
        },
        "id": "Mf2mUcXJV1U2",
        "outputId": "8298b45b-182c-44f8-e012-72617bf3941b"
      },
      "source": [
        "# Преобразуем DataFrame в формат для обучения модели (np.array)\n",
        "df_research_3.drop(columns='AGEGROUP')\n",
        "X = np.array(df_research_3)\n",
        "# Масштабируем признаки\n",
        "from sklearn.preprocessing import scale\n",
        "X_norm = scale(X)\n",
        "X_norm"
      ],
      "execution_count": null,
      "outputs": [
        {
          "output_type": "execute_result",
          "data": {
            "text/plain": [
              "array([[-0.27317027, -0.70109431, -0.98437766, ...,  0.05606552,\n",
              "         0.05267937,  0.05451349],\n",
              "       [-0.27317027,  0.20464721,  0.05410157, ...,  0.41514187,\n",
              "         1.16803471,  0.87941879],\n",
              "       [-0.27317027, -0.63639848, -0.43463052, ...,  1.21202437,\n",
              "         0.91761637,  0.87941879],\n",
              "       ...,\n",
              "       [-0.27317027,  0.78690962,  0.0051672 , ...,  0.05606552,\n",
              "         0.66719803,  0.05451349],\n",
              "       [-0.27317027,  0.65751797, -0.21473166, ...,  0.54795562,\n",
              "        -0.33447533, -0.12908081],\n",
              "       [-0.27317027,  0.07525557, -0.32468109, ...,  0.05606552,\n",
              "         1.16803471,  0.05451349]])"
            ]
          },
          "metadata": {
            "tags": []
          },
          "execution_count": 110
        }
      ]
    },
    {
      "cell_type": "code",
      "metadata": {
        "id": "wNvmaJggWOY2"
      },
      "source": [
        "# Разобъем выборку на тестовую и тренировочную\n",
        "from sklearn.model_selection import train_test_split\n",
        "\n",
        "X_train, X_test, y_train, y_test = train_test_split(X_norm, y_2, test_size=0.15, random_state=42)"
      ],
      "execution_count": null,
      "outputs": []
    },
    {
      "cell_type": "markdown",
      "metadata": {
        "id": "qd0AFXNdW6IZ"
      },
      "source": [
        "Создадим модель логистической регрессии с балансировкой по классам и обучим её"
      ]
    },
    {
      "cell_type": "code",
      "metadata": {
        "colab": {
          "base_uri": "https://localhost:8080/"
        },
        "id": "Fna9jrXXW4fd",
        "outputId": "e1ef931f-d836-4ce8-94cf-4baa0bf3d1f1"
      },
      "source": [
        "# Зададим сетку - среди каких значений выбирать наилучший параметр.\n",
        "param_grid = {'C': [0.001, 0.01, 0.05, 0.1, 0.5, 1, 5, 10, 100, 1000]}\n",
        "# Тип оценки\n",
        "estimator_lb = LogisticRegression(class_weight='balanced')\n",
        "\n",
        "# Создаем объект для обучения\n",
        "gs_logistic_balanced = GridSearchCV(estimator_lb,\n",
        "                  param_grid,\n",
        "                  cv=3)\n",
        "\n",
        "# Обучаем его\n",
        "gs_logistic_balanced.fit(X_train, y_train)"
      ],
      "execution_count": null,
      "outputs": [
        {
          "output_type": "execute_result",
          "data": {
            "text/plain": [
              "GridSearchCV(cv=3, error_score=nan,\n",
              "             estimator=LogisticRegression(C=1.0, class_weight='balanced',\n",
              "                                          dual=False, fit_intercept=True,\n",
              "                                          intercept_scaling=1, l1_ratio=None,\n",
              "                                          max_iter=100, multi_class='auto',\n",
              "                                          n_jobs=None, penalty='l2',\n",
              "                                          random_state=None, solver='lbfgs',\n",
              "                                          tol=0.0001, verbose=0,\n",
              "                                          warm_start=False),\n",
              "             iid='deprecated', n_jobs=None,\n",
              "             param_grid={'C': [0.001, 0.01, 0.05, 0.1, 0.5, 1, 5, 10, 100,\n",
              "                               1000]},\n",
              "             pre_dispatch='2*n_jobs', refit=True, return_train_score=False,\n",
              "             scoring=None, verbose=0)"
            ]
          },
          "metadata": {
            "tags": []
          },
          "execution_count": 112
        }
      ]
    },
    {
      "cell_type": "markdown",
      "metadata": {
        "id": "lYTbn1pHXr_e"
      },
      "source": [
        "Строим график оценок точности и их стандартных\n",
        " отклонений"
      ]
    },
    {
      "cell_type": "code",
      "metadata": {
        "colab": {
          "base_uri": "https://localhost:8080/",
          "height": 283
        },
        "id": "nIqTQwAaXwNc",
        "outputId": "ab49ca2c-31a9-402a-8e73-458ce883a453"
      },
      "source": [
        "plot_scores(gs_logistic_balanced)"
      ],
      "execution_count": null,
      "outputs": [
        {
          "output_type": "display_data",
          "data": {
            "image/png": "[encoded data removed]",
            "text/plain": [
              "<Figure size 432x288 with 1 Axes>"
            ]
          },
          "metadata": {
            "tags": [],
            "needs_background": "light"
          }
        }
      ]
    },
    {
      "cell_type": "markdown",
      "metadata": {
        "id": "9VxzP3l5YBHF"
      },
      "source": [
        "Протестируем обученную модель и применим различные метрики оценки точности модели"
      ]
    },
    {
      "cell_type": "code",
      "metadata": {
        "colab": {
          "base_uri": "https://localhost:8080/"
        },
        "id": "GRmXm2vRYIzQ",
        "outputId": "93e45d15-1055-4c9b-dfe9-7ffbb818b933"
      },
      "source": [
        "# Выполним предсказание на тестовом наборе данных \n",
        "preds_logistic_balanced = gs_logistic_balanced.predict(X_test)\n",
        "preds_logistic_balanced"
      ],
      "execution_count": null,
      "outputs": [
        {
          "output_type": "execute_result",
          "data": {
            "text/plain": [
              "array([0, 0, 0, 0, 0, 0, 0, 0, 0, 0, 0, 1, 0, 0, 0, 0, 0, 0, 0, 0, 0, 0,\n",
              "       0, 0, 4, 4, 0, 0, 0, 0, 0, 4, 0, 0, 0, 1, 0, 0, 0, 0, 0, 0, 0, 0,\n",
              "       0, 0, 0, 0, 0, 0, 0, 0, 0, 0, 1, 0, 0, 0, 0, 0, 0, 0, 0, 1, 0, 0,\n",
              "       0, 1, 0, 0, 0, 0, 0, 0, 4, 0, 0, 0, 4, 0, 0, 0, 0, 1, 0, 0, 4, 0,\n",
              "       4, 0, 0, 0, 0, 0, 0, 0, 0, 0, 0, 0, 0, 4, 0, 0, 0, 0, 0, 0, 0, 0,\n",
              "       1, 0, 4, 0, 0, 0, 0])"
            ]
          },
          "metadata": {
            "tags": []
          },
          "execution_count": 114
        }
      ]
    },
    {
      "cell_type": "code",
      "metadata": {
        "colab": {
          "base_uri": "https://localhost:8080/"
        },
        "id": "_XwyNoa2YYFQ",
        "outputId": "447b4888-03d3-413c-e62e-03a8bab135c3"
      },
      "source": [
        "# Используем classification_report\n",
        "print(metrics.classification_report(y_test, preds_logistic_balanced))"
      ],
      "execution_count": null,
      "outputs": [
        {
          "output_type": "stream",
          "text": [
            "              precision    recall  f1-score   support\n",
            "\n",
            "           0       1.00      1.00      1.00       101\n",
            "           1       1.00      1.00      1.00         7\n",
            "           4       1.00      1.00      1.00         9\n",
            "\n",
            "    accuracy                           1.00       117\n",
            "   macro avg       1.00      1.00      1.00       117\n",
            "weighted avg       1.00      1.00      1.00       117\n",
            "\n"
          ],
          "name": "stdout"
        }
      ]
    },
    {
      "cell_type": "code",
      "metadata": {
        "colab": {
          "base_uri": "https://localhost:8080/",
          "height": 593
        },
        "id": "BxQda5ouYx1C",
        "outputId": "91d4d20f-991c-415c-e0a8-603f54113e7d"
      },
      "source": [
        "# Построим confusion matrix\n",
        "fig = plt.figure(figsize=(8,8))\n",
        "nn_mtx = metrics.confusion_matrix(y_test, preds_logistic_balanced)\n",
        "print(nn_mtx)\n",
        "font = {'weight' : 'bold', 'size'   :22}\n",
        "matplotlib.rc('font', **font)\n",
        "matplotlib.rc('xtick', labelsize=20) \n",
        "matplotlib.rc('ytick', labelsize=20) \n",
        "sns.heatmap(nn_mtx, annot=True, fmt=\"d\", \n",
        "            xticklabels=encoders[\"AGEGROUP\"].classes_[[0,1,4]], \n",
        "            yticklabels=encoders[\"AGEGROUP\"].classes_[[0,1,4]])\n",
        "plt.ylabel(\"Real value\")\n",
        "plt.xlabel(\"Predicted value\")"
      ],
      "execution_count": null,
      "outputs": [
        {
          "output_type": "stream",
          "text": [
            "[[101   0   0]\n",
            " [  0   7   0]\n",
            " [  0   0   9]]\n"
          ],
          "name": "stdout"
        },
        {
          "output_type": "execute_result",
          "data": {
            "text/plain": [
              "Text(0.5, 42.0, 'Predicted value')"
            ]
          },
          "metadata": {
            "tags": []
          },
          "execution_count": 116
        },
        {
          "output_type": "display_data",
          "data": {
            "image/png": "[encoded data removed]",
            "text/plain": [
              "<Figure size 576x576 with 2 Axes>"
            ]
          },
          "metadata": {
            "tags": [],
            "needs_background": "light"
          }
        }
      ]
    },
    {
      "cell_type": "code",
      "metadata": {
        "colab": {
          "base_uri": "https://localhost:8080/"
        },
        "id": "2M1vhc9Jb1ZA",
        "outputId": "869a0630-fef0-4a76-8b0b-78d1e2e50dee"
      },
      "source": [
        "# Используем метрику Accuracy\n",
        "metrics.accuracy_score(y_test, preds_logistic_balanced)"
      ],
      "execution_count": null,
      "outputs": [
        {
          "output_type": "execute_result",
          "data": {
            "text/plain": [
              "1.0"
            ]
          },
          "metadata": {
            "tags": []
          },
          "execution_count": 117
        }
      ]
    }
  ]
}