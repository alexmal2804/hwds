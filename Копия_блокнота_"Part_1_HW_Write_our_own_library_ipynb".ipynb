{
  "nbformat": 4,
  "nbformat_minor": 0,
  "metadata": {
    "colab": {
      "name": "Копия блокнота \"Part_1_HW_Write_our_own_library.ipynb\"",
      "provenance": [],
      "collapsed_sections": [],
      "include_colab_link": true
    },
    "kernelspec": {
      "name": "python3",
      "display_name": "Python 3"
    }
  },
  "cells": [
    {
      "cell_type": "markdown",
      "metadata": {
        "id": "view-in-github",
        "colab_type": "text"
      },
      "source": [
        "<a href=\"https://colab.research.google.com/github/alexmal2804/hwds/blob/master/%D0%9A%D0%BE%D0%BF%D0%B8%D1%8F_%D0%B1%D0%BB%D0%BE%D0%BA%D0%BD%D0%BE%D1%82%D0%B0_%22Part_1_HW_Write_our_own_library_ipynb%22.ipynb\" target=\"_parent\"><img src=\"https://colab.research.google.com/assets/colab-badge.svg\" alt=\"Open In Colab\"/></a>"
      ]
    },
    {
      "cell_type": "markdown",
      "metadata": {
        "id": "-PkQ9hSoulSP"
      },
      "source": [
        "## Домашнее задание. Часть 1.\n",
        "\n",
        "- напишем свою собственную библиотеку\n",
        "\n",
        "Вего за эту часть ДЗ можно набрать максимум **11.5 баллов**. Разбиение баллов по каждой из задач представлено непосредственно перед текстом каждой задачи.\n",
        "\n",
        "**Дедлайн - пятница, 11.12.2020 в 23:59.**\n",
        "\n",
        "Дедлайн жесткий, сдача после дедлайна - 0 баллов за ДЗ."
      ]
    },
    {
      "cell_type": "markdown",
      "metadata": {
        "id": "raMUrDs_OUUp"
      },
      "source": [
        "Ссылка на ноутбук в колабе: https://colab.research.google.com/drive/1LgWtESFmiNW1WlVFCHKyNl_BxAWxoL3Z?usp=sharing"
      ]
    },
    {
      "cell_type": "markdown",
      "metadata": {
        "id": "DlJPKMxvBZDq"
      },
      "source": [
        "Допустим мы хотим написать фнкцию, которая складывает 2 числа и сохранить ее в отдельный .py файл. Пример:"
      ]
    },
    {
      "cell_type": "code",
      "metadata": {
        "colab": {
          "base_uri": "https://localhost:8080/"
        },
        "id": "YWxx_tJFBWXc",
        "outputId": "8976b37e-b176-44ee-cae0-d001c83b17b5"
      },
      "source": [
        "%%writefile lib.py\n",
        "def summ(a1, b1):\n",
        "    return a1+b1"
      ],
      "execution_count": 79,
      "outputs": [
        {
          "output_type": "stream",
          "text": [
            "Overwriting lib.py\n"
          ],
          "name": "stdout"
        }
      ]
    },
    {
      "cell_type": "code",
      "metadata": {
        "id": "GpwqwV2XBWe0"
      },
      "source": [
        "import lib"
      ],
      "execution_count": 81,
      "outputs": []
    },
    {
      "cell_type": "code",
      "metadata": {
        "colab": {
          "base_uri": "https://localhost:8080/"
        },
        "id": "PdSwrEkYud_1",
        "outputId": "bf85d34e-6b0f-4dee-c2e5-cbc3cd9b71ea"
      },
      "source": [
        "lib.summ(2,6)"
      ],
      "execution_count": 82,
      "outputs": [
        {
          "output_type": "execute_result",
          "data": {
            "text/plain": [
              "8"
            ]
          },
          "metadata": {
            "tags": []
          },
          "execution_count": 82
        }
      ]
    },
    {
      "cell_type": "markdown",
      "metadata": {
        "id": "lzVEq6dcB_B6"
      },
      "source": [
        "Попробуем запустить через \"терминал\""
      ]
    },
    {
      "cell_type": "code",
      "metadata": {
        "id": "GnvjY52dB9F0"
      },
      "source": [
        "!python3 lib.py"
      ],
      "execution_count": null,
      "outputs": []
    },
    {
      "cell_type": "markdown",
      "metadata": {
        "id": "12k4C-iDCGD5"
      },
      "source": [
        "Ничего не происходит. А теперь добавим `if __name__ == \"__main__\"` в наш код и пересохраним файл lib.py"
      ]
    },
    {
      "cell_type": "code",
      "metadata": {
        "colab": {
          "base_uri": "https://localhost:8080/"
        },
        "id": "EXxDy4EoujyT",
        "outputId": "29755a03-a987-491d-d514-ede7ee8d673c"
      },
      "source": [
        "%%writefile lib.py\n",
        "import sys\n",
        "\n",
        "a1 = float( sys.argv[1] ) # Считываем аргументы прямо из терминала\n",
        "b1 = float( sys.argv[2] ) # Считываем аргументы прямо из терминала\n",
        "\n",
        "def summ(a1, b1):\n",
        "    return a1+b1\n",
        "\n",
        "if __name__ == \"__main__\":\n",
        "    print(summ(a1, b1))\n"
      ],
      "execution_count": null,
      "outputs": [
        {
          "output_type": "stream",
          "text": [
            "Overwriting lib.py\n"
          ],
          "name": "stdout"
        }
      ]
    },
    {
      "cell_type": "code",
      "metadata": {
        "colab": {
          "base_uri": "https://localhost:8080/"
        },
        "id": "9kg9IKcWuj1F",
        "outputId": "fadd61f8-9d97-4a65-8fe2-481cde9d581a"
      },
      "source": [
        "!python3 lib.py 2 4"
      ],
      "execution_count": null,
      "outputs": [
        {
          "output_type": "stream",
          "text": [
            "6.0\n"
          ],
          "name": "stdout"
        }
      ]
    },
    {
      "cell_type": "markdown",
      "metadata": {
        "id": "MEQd0OJnD4ut"
      },
      "source": [
        "# **Задание 1**\n",
        "\n",
        "Реализуйте следующие функции и сохраните их в библиотеку **my_math_lib.py** (пока без использования конструкции `if __name__ == \"__main__\"`)"
      ]
    },
    {
      "cell_type": "markdown",
      "metadata": {
        "id": "-irvYNmrD9FA"
      },
      "source": [
        "**1 point** \n",
        "1. **def deg_to_rad()**. Напишите программу на Python для преобразования градусов в радианы.  *(Note: Радиан - это стандартная единица измерения угла, используемая во многих областях математики. Измерение угла в радианах численно равно длине соответствующей дуги единичного круга; один радиан чуть меньше 57,3 градуса)* **1 point**\n",
        "\n",
        "**1 point** \n",
        "2. **def rad_to_def()**. Напишите программу Python для преобразования радианов в градусы.\n",
        "\n",
        "**1.5 point** \n",
        "3. **def discriminant()**. Напишите программу на Python для вычисления значения дискриминанта (вспоминаем квадратные уравнения). Входные данные три числа: x, y, z (учтите что корни могут быть комлЕксными!)\n",
        "\n",
        "**1.5 point** \n",
        "4. **def power_base_sum()**. Напишите программу на Python, чтобы вычислить сумму всех цифр основания в указанной степени.\n",
        "\n",
        "Пример: power_base_sum(2, 100)\n",
        "\n",
        "Выход: 115\n",
        "\n",
        "\n",
        "\n",
        "**2 point** \n",
        "5. **def magic_square()**. Напишите программу на Python для вычисления [магического квадрата](https://ru.wikipedia.org/wiki/Магический_квадрат)\n",
        "\n",
        "Note:\n",
        "\n",
        "Магический, или волшебный квадрат — это квадратная таблица , заполненная числами таким образом, что сумма чисел в каждой строке, каждом столбце и на обеих диагоналях одинакова. Сумма чисел в каждой строке, столбце и на диагоналях, называется магической константой, M.\n",
        "\n",
        "**1 point** \n",
        "6. **def mult_list()**. Напишите функцию Python для умножения всех чисел в массиве list(), (размер листа на входе произвольный)\n",
        "\n",
        "**1 point** \n",
        "7. **def create_list()**. Напишите функцию Python для создания и вывода списка (при помощи print()), в котором значения представляют собой квадрат чисел от 1 до 30 (оба включительно)."
      ]
    },
    {
      "cell_type": "code",
      "metadata": {
        "id": "cxjYPNRAIBqe",
        "colab": {
          "base_uri": "https://localhost:8080/"
        },
        "outputId": "ea4eb0b6-0c02-4f33-8a49-c7b6073db4ba"
      },
      "source": [
        "%%writefile my_math_lib.py\n",
        " \n",
        "import sys\n",
        "\n",
        "# Преобразование градусов в радианы\n",
        "def deg_to_rad(deg): \n",
        "  return  deg * 3.14 / 180\n",
        "# Преобразование радианов в градусы\n",
        "def rad_to_ged(rad):\n",
        "  return rad * 180 / 3.14\n",
        "\n",
        "# Вычисление дискриминанта\n",
        "def discriminant(x, y, z):\n",
        "   x = int(x)\n",
        "   y = int(y)\n",
        "   z = int(z)\n",
        "   print(y**2 - 4 * x * z)\n",
        "   return y ** 2 - 4 * x * z\n",
        "\n",
        "# Вычисление суммы всех цифр основания в указанной степени\n",
        "def power_base_sum(num, deg):\n",
        "  s = 0\n",
        "  n = num ** deg\n",
        "  while n > 0:\n",
        "    s += n % 10\n",
        "    n //= 10\n",
        "  return s\n",
        "\n",
        "# Построение магического квадрата нечетной размерности\n",
        "def magic_square(n = 5):\n",
        "  m = n * (n ** 2 + 1)/2\n",
        "  sq = [[0] * n for i in range(n)]\n",
        "  n0 = 1\n",
        "  i0 = 0 \n",
        "  j0 = n // 2\n",
        "  while n0 <= n ** 2:\n",
        "      i1 = (i0 - 1) % n\n",
        "      j1 =  (j0 + 1) % n\n",
        "      sq[i0][j0] = n0\n",
        "      n0 += 1\n",
        "      if sq[i1][j1]:\n",
        "          i0 += 1\n",
        "      else:\n",
        "          i0 = i1\n",
        "          j0 = j1\n",
        "  for s in sq:\n",
        "      print(s)\n",
        "  return m\n",
        "\n",
        "# Умножение всех чисел в массиве\n",
        "def mult_list(lst):\n",
        "  p = 1\n",
        "  for l in lst:\n",
        "    p *= l\n",
        "  return p\n",
        "\n",
        "# Вывод списка\n",
        "def create_list(n = 30):\n",
        "  lst =[]\n",
        "  for i in range(1, n + 1):\n",
        "    lst.append(i ** 2)\n",
        "  print(lst)\n",
        "  return lst\n",
        "\n",
        "if __name__ == \"__main__\":\n",
        "  discriminant(sys.argv[1], sys.argv[2], sys.argv[3])"
      ],
      "execution_count": 1,
      "outputs": [
        {
          "output_type": "stream",
          "text": [
            "Writing my_math_lib.py\n"
          ],
          "name": "stdout"
        }
      ]
    },
    {
      "cell_type": "code",
      "metadata": {
        "id": "vnvGIVZc0_zE"
      },
      "source": [
        "import my_math_lib"
      ],
      "execution_count": 2,
      "outputs": []
    },
    {
      "cell_type": "code",
      "metadata": {
        "id": "YcvXEEFsD8Pn",
        "colab": {
          "base_uri": "https://localhost:8080/"
        },
        "outputId": "28f7ece2-0361-4d11-f0a1-f09cbb83c518"
      },
      "source": [
        "d = my_math_lib.deg_to_rad(45)\n",
        "print(d)\n",
        "r = my_math_lib.rad_to_ged(2)\n",
        "print(r)\n",
        "d = my_math_lib.discriminant(1-10j, 3-4j, 3)\n",
        "print(d)\n",
        "x = my_math_lib.power_base_sum(2, 100)\n",
        "print(x)\n",
        "x = my_math_lib.magic_square(3)\n",
        "print(x)\n",
        "x = my_math_lib.mult_list([2, 3, 4])\n",
        "print(x)\n",
        "x = my_math_lib.create_list()\n",
        "print(x)"
      ],
      "execution_count": 3,
      "outputs": [
        {
          "output_type": "stream",
          "text": [
            "0.785\n",
            "114.64968152866241\n",
            "(-19+96j)\n",
            "115\n",
            "[8, 1, 6]\n",
            "[3, 5, 7]\n",
            "[4, 9, 2]\n",
            "15.0\n",
            "24\n",
            "[1, 4, 9, 16, 25, 36, 49, 64, 81, 100, 121, 144, 169, 196, 225, 256, 289, 324, 361, 400, 441, 484, 529, 576, 625, 676, 729, 784, 841, 900]\n",
            "[1, 4, 9, 16, 25, 36, 49, 64, 81, 100, 121, 144, 169, 196, 225, 256, 289, 324, 361, 400, 441, 484, 529, 576, 625, 676, 729, 784, 841, 900]\n"
          ],
          "name": "stdout"
        }
      ]
    },
    {
      "cell_type": "code",
      "metadata": {
        "id": "zJQR_6lrzDmB"
      },
      "source": [
        "#import os\n",
        "#os.remove('my_math_lib.py')"
      ],
      "execution_count": 3,
      "outputs": []
    },
    {
      "cell_type": "markdown",
      "metadata": {
        "id": "cSdLK3ZSID3B"
      },
      "source": [
        "# **Задание 2**\n",
        "Импортируйте все методы из модуля my_math_lib.\n",
        "\n",
        " **0.25 point** \n",
        " - при помощи функции **def discriminant()** посчитайте дискриминант следующего уравнения: \n",
        " $x^{2}+3 x+4=0$\n",
        "\n",
        "**0.25 point** \n",
        " - постройте магический квадрат размера 5х5"
      ]
    },
    {
      "cell_type": "code",
      "metadata": {
        "id": "k1Jhjs6FD8Sy"
      },
      "source": [
        "from my_math_lib import *"
      ],
      "execution_count": 2,
      "outputs": []
    },
    {
      "cell_type": "code",
      "metadata": {
        "id": "zjQVS7m8uj4J",
        "colab": {
          "base_uri": "https://localhost:8080/"
        },
        "outputId": "bad3a6c4-2b5e-4580-ebda-b5fa6d7933b3"
      },
      "source": [
        "# при помощи функции def discriminant() посчитайте дискриминант следующего уравнения:  𝑥2+3𝑥+4=0 \n",
        "print(discriminant(1, 3, 4))"
      ],
      "execution_count": 3,
      "outputs": [
        {
          "output_type": "stream",
          "text": [
            "-7\n"
          ],
          "name": "stdout"
        }
      ]
    },
    {
      "cell_type": "markdown",
      "metadata": {
        "id": "1xqoQlZkId3s"
      },
      "source": [
        "# **Задание 3**\n",
        "\n",
        "**2 point**\n",
        "* Добавьте в вашу библиотеку конструкцию `if __name__ == \"__main__\"`, которая должна принимать одну из вышеперечисленных функций. \n",
        "* Важно! аргументы, подаваемые в функцию, должны подаваться напряму через терминал (как в примере)! Используйте для этого библиотеку `sys`"
      ]
    },
    {
      "cell_type": "code",
      "metadata": {
        "id": "CPMx4V4DJIVx",
        "colab": {
          "base_uri": "https://localhost:8080/"
        },
        "outputId": "7b158023-2faa-4991-b579-a80246f9f6e6"
      },
      "source": [
        "#TODO\n",
        "!python3 my_math_lib.py 3 4 5"
      ],
      "execution_count": 2,
      "outputs": [
        {
          "output_type": "stream",
          "text": [
            "-44\n"
          ],
          "name": "stdout"
        }
      ]
    },
    {
      "cell_type": "code",
      "metadata": {
        "id": "RAeJ3p1BJX05",
        "colab": {
          "base_uri": "https://localhost:8080/"
        },
        "outputId": "1c2710f9-d64b-4032-909b-11a773c4d01d"
      },
      "source": [
        "# Пример вызова функции - Вы можете вызвать любую другую\n",
        "!python3 my_math_lib.py 3 4 5 # Например если в __main__ вы указали def discriminant()"
      ],
      "execution_count": 5,
      "outputs": [
        {
          "output_type": "stream",
          "text": [
            "-44\n"
          ],
          "name": "stdout"
        }
      ]
    },
    {
      "cell_type": "code",
      "metadata": {
        "id": "UDQ_wTJbJAS7"
      },
      "source": [
        ""
      ],
      "execution_count": null,
      "outputs": []
    }
  ]
}