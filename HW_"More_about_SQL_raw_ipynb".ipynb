{
  "nbformat": 4,
  "nbformat_minor": 0,
  "metadata": {
    "colab": {
      "name": "HW \"More_about_SQL_raw.ipynb\"",
      "provenance": [],
      "collapsed_sections": [],
      "include_colab_link": true
    },
    "kernelspec": {
      "name": "python3",
      "display_name": "Python 3"
    }
  },
  "cells": [
    {
      "cell_type": "markdown",
      "metadata": {
        "id": "view-in-github",
        "colab_type": "text"
      },
      "source": [
        "<a href=\"https://colab.research.google.com/github/alexmal2804/hwds/blob/master/HW_%22More_about_SQL_raw_ipynb%22.ipynb\" target=\"_parent\"><img src=\"https://colab.research.google.com/assets/colab-badge.svg\" alt=\"Open In Colab\"/></a>"
      ]
    },
    {
      "cell_type": "markdown",
      "metadata": {
        "id": "fPu_17Y2qo8X"
      },
      "source": [
        "## План занятия\n",
        "\n",
        "- Повторим как создавать БД при помощи SQLalchemy\n",
        "- Разберем новые операторы в SQL\n",
        "- Разберем подробнее ORM (объектно-реляционное отображение) в SQLalchemy"
      ]
    },
    {
      "cell_type": "markdown",
      "metadata": {
        "id": "eug_b6nh7G83"
      },
      "source": [
        "(задание из презентации)"
      ]
    },
    {
      "cell_type": "code",
      "metadata": {
        "id": "BS7R-wFwTkiF"
      },
      "source": [
        "import matplotlib.pyplot as plt\n",
        "import pandas as pd\n",
        "import numpy as np"
      ],
      "execution_count": 90,
      "outputs": []
    },
    {
      "cell_type": "code",
      "metadata": {
        "id": "98olMNYWJS4y",
        "colab": {
          "base_uri": "https://localhost:8080/"
        },
        "outputId": "e906c3fc-4ea8-4bd9-ce78-87b9866eadd2"
      },
      "source": [
        "prices = np.random.permutation(np.arange(10))\n",
        "prices"
      ],
      "execution_count": 91,
      "outputs": [
        {
          "output_type": "execute_result",
          "data": {
            "text/plain": [
              "array([2, 3, 1, 5, 6, 8, 4, 7, 9, 0])"
            ]
          },
          "metadata": {
            "tags": []
          },
          "execution_count": 91
        }
      ]
    },
    {
      "cell_type": "code",
      "metadata": {
        "id": "EH4RpcYeJS7v",
        "colab": {
          "base_uri": "https://localhost:8080/"
        },
        "outputId": "a5a60481-1a65-4256-be12-27dc2c4d80e3"
      },
      "source": [
        "k = 3\n",
        "for i in range(len(prices)):\n",
        "    n_leq = 0\n",
        "    for j in range(len(prices)):\n",
        "        if prices[j] >= prices[i]:\n",
        "            n_leq += 1\n",
        "    if n_leq == k:\n",
        "        print(prices[i])\n",
        "        break"
      ],
      "execution_count": 92,
      "outputs": [
        {
          "output_type": "stream",
          "text": [
            "7\n"
          ],
          "name": "stdout"
        }
      ]
    },
    {
      "cell_type": "markdown",
      "metadata": {
        "id": "BoZKQ5V3piYh"
      },
      "source": [
        "# SQLAlchemy. Recap"
      ]
    },
    {
      "cell_type": "code",
      "metadata": {
        "id": "0_PUKeLFHoXG"
      },
      "source": [
        "import sys\n",
        "from sqlalchemy import Column, ForeignKey, Integer, String\n",
        "from sqlalchemy.ext.declarative import declarative_base\n",
        "from sqlalchemy.orm import relationship\n",
        "from sqlalchemy import create_engine"
      ],
      "execution_count": 93,
      "outputs": []
    },
    {
      "cell_type": "code",
      "metadata": {
        "id": "XcyrGKGQNakJ"
      },
      "source": [
        "from IPython.display import display\n",
        "import pandas as pd\n",
        "import sqlalchemy\n",
        "\n",
        "def sql(query):\n",
        "    print()\n",
        "    print(query)\n",
        "    print()\n",
        "\n",
        "def get_results(query):\n",
        "    global engine\n",
        "    q = query.statement if isinstance(query, sqlalchemy.orm.query.Query) else query\n",
        "    return pd.read_sql(q, engine)\n",
        "\n",
        "def display_results(query):\n",
        "    df = get_results(query)\n",
        "    display(df)\n",
        "    #sql(query)\n"
      ],
      "execution_count": 94,
      "outputs": []
    },
    {
      "cell_type": "code",
      "metadata": {
        "id": "U9unHD1rHoZ-"
      },
      "source": [
        "Base = declarative_base()\n",
        "\n",
        "class Person(Base):\n",
        "    __tablename__= 'person'\n",
        "    id = Column(Integer, primary_key=True)\n",
        "    name = Column(String(250), nullable=False)\n",
        "    \n",
        "class Address(Base):\n",
        "    __tablename__ = 'address'\n",
        "    id = Column(Integer, primary_key=True)\n",
        "    country = Column(String(250))\n",
        "    state = Column(String(250))\n",
        "    street_name = Column(String(250))\n",
        "    street_number = Column(String(250))\n",
        "    post_code = Column(String(250))\n",
        "    person_id = Column(Integer, ForeignKey('person.id'))\n",
        "    person = relationship(Person)\n",
        "\n",
        "engine = create_engine('sqlite:///sqlalchemy_example.db')\n",
        "\n",
        "connection = engine.connect()\n",
        "\n",
        "Base.metadata.create_all(engine)"
      ],
      "execution_count": 95,
      "outputs": []
    },
    {
      "cell_type": "code",
      "metadata": {
        "id": "LkspRLHqHodh"
      },
      "source": [
        "from sqlalchemy import create_engine\n",
        "from sqlalchemy.orm import sessionmaker"
      ],
      "execution_count": 96,
      "outputs": []
    },
    {
      "cell_type": "code",
      "metadata": {
        "id": "85QKyqHBH92d"
      },
      "source": [
        "DBSession = sessionmaker(bind=engine)\n",
        "session = DBSession()\n",
        "\n",
        "new_person = Person(name='Nawin')\n",
        "session.add(new_person)\n",
        "session.commit()\n",
        "\n",
        "new_address = Address(post_code='48103',country = 'USA', state = 'WA', street_name ='West Huron Street',street_number ='1', person=new_person)\n",
        "session.add(new_address)\n",
        "session.commit()"
      ],
      "execution_count": 97,
      "outputs": []
    },
    {
      "cell_type": "code",
      "metadata": {
        "id": "i2ZumUw_H-Ex",
        "colab": {
          "base_uri": "https://localhost:8080/"
        },
        "outputId": "4d8064ee-5acf-4599-df0a-ed591b4a70d0"
      },
      "source": [
        "engine.table_names()"
      ],
      "execution_count": 98,
      "outputs": [
        {
          "output_type": "execute_result",
          "data": {
            "text/plain": [
              "['address',\n",
              " 'log_data',\n",
              " 'people',\n",
              " 'person',\n",
              " 'subscriptions',\n",
              " 'test_table',\n",
              " 'users']"
            ]
          },
          "metadata": {
            "tags": []
          },
          "execution_count": 98
        }
      ]
    },
    {
      "cell_type": "code",
      "metadata": {
        "id": "v3N1k0QRNcwj",
        "colab": {
          "base_uri": "https://localhost:8080/",
          "height": 297
        },
        "outputId": "a474e290-b424-4ce7-d716-af0c697c8813"
      },
      "source": [
        "from sqlalchemy import select \n",
        "\n",
        "query = select([Person])\n",
        "display_results(query)"
      ],
      "execution_count": 99,
      "outputs": [
        {
          "output_type": "display_data",
          "data": {
            "text/html": [
              "<div>\n",
              "<style scoped>\n",
              "    .dataframe tbody tr th:only-of-type {\n",
              "        vertical-align: middle;\n",
              "    }\n",
              "\n",
              "    .dataframe tbody tr th {\n",
              "        vertical-align: top;\n",
              "    }\n",
              "\n",
              "    .dataframe thead th {\n",
              "        text-align: right;\n",
              "    }\n",
              "</style>\n",
              "<table border=\"1\" class=\"dataframe\">\n",
              "  <thead>\n",
              "    <tr style=\"text-align: right;\">\n",
              "      <th></th>\n",
              "      <th>id</th>\n",
              "      <th>name</th>\n",
              "    </tr>\n",
              "  </thead>\n",
              "  <tbody>\n",
              "    <tr>\n",
              "      <th>0</th>\n",
              "      <td>1</td>\n",
              "      <td>Nawin</td>\n",
              "    </tr>\n",
              "    <tr>\n",
              "      <th>1</th>\n",
              "      <td>2</td>\n",
              "      <td>Moshe</td>\n",
              "    </tr>\n",
              "    <tr>\n",
              "      <th>2</th>\n",
              "      <td>3</td>\n",
              "      <td>Lisa</td>\n",
              "    </tr>\n",
              "    <tr>\n",
              "      <th>3</th>\n",
              "      <td>4</td>\n",
              "      <td>Nika</td>\n",
              "    </tr>\n",
              "    <tr>\n",
              "      <th>4</th>\n",
              "      <td>5</td>\n",
              "      <td>Max</td>\n",
              "    </tr>\n",
              "    <tr>\n",
              "      <th>5</th>\n",
              "      <td>6</td>\n",
              "      <td>Dan</td>\n",
              "    </tr>\n",
              "    <tr>\n",
              "      <th>6</th>\n",
              "      <td>7</td>\n",
              "      <td>Alex</td>\n",
              "    </tr>\n",
              "    <tr>\n",
              "      <th>7</th>\n",
              "      <td>8</td>\n",
              "      <td>Nawin</td>\n",
              "    </tr>\n",
              "  </tbody>\n",
              "</table>\n",
              "</div>"
            ],
            "text/plain": [
              "   id   name\n",
              "0   1  Nawin\n",
              "1   2  Moshe\n",
              "2   3   Lisa\n",
              "3   4   Nika\n",
              "4   5    Max\n",
              "5   6    Dan\n",
              "6   7   Alex\n",
              "7   8  Nawin"
            ]
          },
          "metadata": {
            "tags": []
          }
        }
      ]
    },
    {
      "cell_type": "code",
      "metadata": {
        "id": "JIojZxdwacFy",
        "colab": {
          "base_uri": "https://localhost:8080/",
          "height": 204
        },
        "outputId": "8a2c8c23-fc2c-4ed9-cde7-57b89961ab17"
      },
      "source": [
        "query = select([Address])\n",
        "display_results(query)"
      ],
      "execution_count": 100,
      "outputs": [
        {
          "output_type": "display_data",
          "data": {
            "text/html": [
              "<div>\n",
              "<style scoped>\n",
              "    .dataframe tbody tr th:only-of-type {\n",
              "        vertical-align: middle;\n",
              "    }\n",
              "\n",
              "    .dataframe tbody tr th {\n",
              "        vertical-align: top;\n",
              "    }\n",
              "\n",
              "    .dataframe thead th {\n",
              "        text-align: right;\n",
              "    }\n",
              "</style>\n",
              "<table border=\"1\" class=\"dataframe\">\n",
              "  <thead>\n",
              "    <tr style=\"text-align: right;\">\n",
              "      <th></th>\n",
              "      <th>id</th>\n",
              "      <th>country</th>\n",
              "      <th>state</th>\n",
              "      <th>street_name</th>\n",
              "      <th>street_number</th>\n",
              "      <th>post_code</th>\n",
              "      <th>person_id</th>\n",
              "    </tr>\n",
              "  </thead>\n",
              "  <tbody>\n",
              "    <tr>\n",
              "      <th>0</th>\n",
              "      <td>1</td>\n",
              "      <td>USA</td>\n",
              "      <td>WA</td>\n",
              "      <td>West Huron Street</td>\n",
              "      <td>1</td>\n",
              "      <td>48103</td>\n",
              "      <td>1</td>\n",
              "    </tr>\n",
              "    <tr>\n",
              "      <th>1</th>\n",
              "      <td>2</td>\n",
              "      <td>Russia</td>\n",
              "      <td>Moscow</td>\n",
              "      <td>Pervomay Street</td>\n",
              "      <td>42</td>\n",
              "      <td>141700</td>\n",
              "      <td>2</td>\n",
              "    </tr>\n",
              "    <tr>\n",
              "      <th>2</th>\n",
              "      <td>3</td>\n",
              "      <td>Russia</td>\n",
              "      <td>Moscow</td>\n",
              "      <td>Pervomay Street</td>\n",
              "      <td>42</td>\n",
              "      <td>141700</td>\n",
              "      <td>3</td>\n",
              "    </tr>\n",
              "    <tr>\n",
              "      <th>3</th>\n",
              "      <td>4</td>\n",
              "      <td>USA</td>\n",
              "      <td>CA</td>\n",
              "      <td>Green Street</td>\n",
              "      <td>104</td>\n",
              "      <td>655689</td>\n",
              "      <td>4</td>\n",
              "    </tr>\n",
              "    <tr>\n",
              "      <th>4</th>\n",
              "      <td>5</td>\n",
              "      <td>USA</td>\n",
              "      <td>WA</td>\n",
              "      <td>West Huron Street</td>\n",
              "      <td>1</td>\n",
              "      <td>48103</td>\n",
              "      <td>8</td>\n",
              "    </tr>\n",
              "  </tbody>\n",
              "</table>\n",
              "</div>"
            ],
            "text/plain": [
              "   id country   state        street_name street_number post_code  person_id\n",
              "0   1     USA      WA  West Huron Street             1     48103          1\n",
              "1   2  Russia  Moscow    Pervomay Street            42    141700          2\n",
              "2   3  Russia  Moscow    Pervomay Street            42    141700          3\n",
              "3   4     USA      CA       Green Street           104    655689          4\n",
              "4   5     USA      WA  West Huron Street             1     48103          8"
            ]
          },
          "metadata": {
            "tags": []
          }
        }
      ]
    },
    {
      "cell_type": "markdown",
      "metadata": {
        "id": "Q9tgst13N3z7"
      },
      "source": [
        "Добавим несколько людей с разными адресами"
      ]
    },
    {
      "cell_type": "code",
      "metadata": {
        "id": "e6hvE5fqO4mI"
      },
      "source": [
        "from sqlalchemy import exists\n",
        "def record_exists(session, name):\n",
        "    return session.query(exists().where(Person.name == name)).scalar()"
      ],
      "execution_count": 101,
      "outputs": []
    },
    {
      "cell_type": "code",
      "metadata": {
        "id": "_IEuM9rAO4ud",
        "colab": {
          "base_uri": "https://localhost:8080/"
        },
        "outputId": "309da8dc-6e70-4b67-ec5a-c085e896e267"
      },
      "source": [
        "record_exists(session, 'Nawin')"
      ],
      "execution_count": 102,
      "outputs": [
        {
          "output_type": "execute_result",
          "data": {
            "text/plain": [
              "True"
            ]
          },
          "metadata": {
            "tags": []
          },
          "execution_count": 102
        }
      ]
    },
    {
      "cell_type": "code",
      "metadata": {
        "id": "EQ1xe2CNPsHN",
        "colab": {
          "base_uri": "https://localhost:8080/"
        },
        "outputId": "80ea1ff5-1623-4d66-ee9e-9f88ba65c297"
      },
      "source": [
        "record_exists(session, 'Lisa')"
      ],
      "execution_count": 103,
      "outputs": [
        {
          "output_type": "execute_result",
          "data": {
            "text/plain": [
              "True"
            ]
          },
          "metadata": {
            "tags": []
          },
          "execution_count": 103
        }
      ]
    },
    {
      "cell_type": "code",
      "metadata": {
        "id": "9f9xwmVfU7x9"
      },
      "source": [
        "names = ['Moshe', 'Lisa', 'Nika']\n",
        "adress_info = [('141700', 'Russia', 'Moscow', 'Pervomay Street', '42'), #Moshe adress\n",
        "               ('141700', 'Russia', 'Moscow', 'Pervomay Street', '42'), #Lisa adress\n",
        "               ('655689', 'USA', 'CA', 'Green Street', '104')] #Nika adress"
      ],
      "execution_count": 104,
      "outputs": []
    },
    {
      "cell_type": "code",
      "metadata": {
        "id": "ryWBclC4PZco",
        "colab": {
          "base_uri": "https://localhost:8080/"
        },
        "outputId": "11de977b-3ce4-425f-fd6c-f2a302ab99db"
      },
      "source": [
        "for i, name, adress in zip(range(len(names)), names, adress_info):\n",
        "    if not record_exists(session, name):\n",
        "        new_person = Person(name=name)\n",
        "        new_address = Address(country=adress[1],state=adress[2], street_number=adress[4], post_code=adress[0],street_name =adress[3], person=new_person)\n",
        "        session.add(new_person)\n",
        "        session.add(new_address)\n",
        "    else:\n",
        "        print(\"Already exists, skipping...\")\n",
        "\n",
        "session.commit()"
      ],
      "execution_count": 105,
      "outputs": [
        {
          "output_type": "stream",
          "text": [
            "Already exists, skipping...\n",
            "Already exists, skipping...\n",
            "Already exists, skipping...\n"
          ],
          "name": "stdout"
        }
      ]
    },
    {
      "cell_type": "markdown",
      "metadata": {
        "id": "VpBJwAU8QJ92"
      },
      "source": [
        "Проверим теперь таблицу"
      ]
    },
    {
      "cell_type": "code",
      "metadata": {
        "id": "OmotKm8-PZgu",
        "colab": {
          "base_uri": "https://localhost:8080/",
          "height": 297
        },
        "outputId": "90e2bfec-a2d6-4c09-e9c3-8c672fa4628a"
      },
      "source": [
        "query = select([Person.id, Person.name])\n",
        "display_results(query)"
      ],
      "execution_count": 106,
      "outputs": [
        {
          "output_type": "display_data",
          "data": {
            "text/html": [
              "<div>\n",
              "<style scoped>\n",
              "    .dataframe tbody tr th:only-of-type {\n",
              "        vertical-align: middle;\n",
              "    }\n",
              "\n",
              "    .dataframe tbody tr th {\n",
              "        vertical-align: top;\n",
              "    }\n",
              "\n",
              "    .dataframe thead th {\n",
              "        text-align: right;\n",
              "    }\n",
              "</style>\n",
              "<table border=\"1\" class=\"dataframe\">\n",
              "  <thead>\n",
              "    <tr style=\"text-align: right;\">\n",
              "      <th></th>\n",
              "      <th>id</th>\n",
              "      <th>name</th>\n",
              "    </tr>\n",
              "  </thead>\n",
              "  <tbody>\n",
              "    <tr>\n",
              "      <th>0</th>\n",
              "      <td>1</td>\n",
              "      <td>Nawin</td>\n",
              "    </tr>\n",
              "    <tr>\n",
              "      <th>1</th>\n",
              "      <td>2</td>\n",
              "      <td>Moshe</td>\n",
              "    </tr>\n",
              "    <tr>\n",
              "      <th>2</th>\n",
              "      <td>3</td>\n",
              "      <td>Lisa</td>\n",
              "    </tr>\n",
              "    <tr>\n",
              "      <th>3</th>\n",
              "      <td>4</td>\n",
              "      <td>Nika</td>\n",
              "    </tr>\n",
              "    <tr>\n",
              "      <th>4</th>\n",
              "      <td>5</td>\n",
              "      <td>Max</td>\n",
              "    </tr>\n",
              "    <tr>\n",
              "      <th>5</th>\n",
              "      <td>6</td>\n",
              "      <td>Dan</td>\n",
              "    </tr>\n",
              "    <tr>\n",
              "      <th>6</th>\n",
              "      <td>7</td>\n",
              "      <td>Alex</td>\n",
              "    </tr>\n",
              "    <tr>\n",
              "      <th>7</th>\n",
              "      <td>8</td>\n",
              "      <td>Nawin</td>\n",
              "    </tr>\n",
              "  </tbody>\n",
              "</table>\n",
              "</div>"
            ],
            "text/plain": [
              "   id   name\n",
              "0   1  Nawin\n",
              "1   2  Moshe\n",
              "2   3   Lisa\n",
              "3   4   Nika\n",
              "4   5    Max\n",
              "5   6    Dan\n",
              "6   7   Alex\n",
              "7   8  Nawin"
            ]
          },
          "metadata": {
            "tags": []
          }
        }
      ]
    },
    {
      "cell_type": "code",
      "metadata": {
        "id": "tReT7S1HVxNL",
        "colab": {
          "base_uri": "https://localhost:8080/",
          "height": 204
        },
        "outputId": "05c9532e-ad9a-44f2-bb6c-91a4db3952a7"
      },
      "source": [
        "query = select([Address])\n",
        "display_results(query)"
      ],
      "execution_count": 107,
      "outputs": [
        {
          "output_type": "display_data",
          "data": {
            "text/html": [
              "<div>\n",
              "<style scoped>\n",
              "    .dataframe tbody tr th:only-of-type {\n",
              "        vertical-align: middle;\n",
              "    }\n",
              "\n",
              "    .dataframe tbody tr th {\n",
              "        vertical-align: top;\n",
              "    }\n",
              "\n",
              "    .dataframe thead th {\n",
              "        text-align: right;\n",
              "    }\n",
              "</style>\n",
              "<table border=\"1\" class=\"dataframe\">\n",
              "  <thead>\n",
              "    <tr style=\"text-align: right;\">\n",
              "      <th></th>\n",
              "      <th>id</th>\n",
              "      <th>country</th>\n",
              "      <th>state</th>\n",
              "      <th>street_name</th>\n",
              "      <th>street_number</th>\n",
              "      <th>post_code</th>\n",
              "      <th>person_id</th>\n",
              "    </tr>\n",
              "  </thead>\n",
              "  <tbody>\n",
              "    <tr>\n",
              "      <th>0</th>\n",
              "      <td>1</td>\n",
              "      <td>USA</td>\n",
              "      <td>WA</td>\n",
              "      <td>West Huron Street</td>\n",
              "      <td>1</td>\n",
              "      <td>48103</td>\n",
              "      <td>1</td>\n",
              "    </tr>\n",
              "    <tr>\n",
              "      <th>1</th>\n",
              "      <td>2</td>\n",
              "      <td>Russia</td>\n",
              "      <td>Moscow</td>\n",
              "      <td>Pervomay Street</td>\n",
              "      <td>42</td>\n",
              "      <td>141700</td>\n",
              "      <td>2</td>\n",
              "    </tr>\n",
              "    <tr>\n",
              "      <th>2</th>\n",
              "      <td>3</td>\n",
              "      <td>Russia</td>\n",
              "      <td>Moscow</td>\n",
              "      <td>Pervomay Street</td>\n",
              "      <td>42</td>\n",
              "      <td>141700</td>\n",
              "      <td>3</td>\n",
              "    </tr>\n",
              "    <tr>\n",
              "      <th>3</th>\n",
              "      <td>4</td>\n",
              "      <td>USA</td>\n",
              "      <td>CA</td>\n",
              "      <td>Green Street</td>\n",
              "      <td>104</td>\n",
              "      <td>655689</td>\n",
              "      <td>4</td>\n",
              "    </tr>\n",
              "    <tr>\n",
              "      <th>4</th>\n",
              "      <td>5</td>\n",
              "      <td>USA</td>\n",
              "      <td>WA</td>\n",
              "      <td>West Huron Street</td>\n",
              "      <td>1</td>\n",
              "      <td>48103</td>\n",
              "      <td>8</td>\n",
              "    </tr>\n",
              "  </tbody>\n",
              "</table>\n",
              "</div>"
            ],
            "text/plain": [
              "   id country   state        street_name street_number post_code  person_id\n",
              "0   1     USA      WA  West Huron Street             1     48103          1\n",
              "1   2  Russia  Moscow    Pervomay Street            42    141700          2\n",
              "2   3  Russia  Moscow    Pervomay Street            42    141700          3\n",
              "3   4     USA      CA       Green Street           104    655689          4\n",
              "4   5     USA      WA  West Huron Street             1     48103          8"
            ]
          },
          "metadata": {
            "tags": []
          }
        }
      ]
    },
    {
      "cell_type": "markdown",
      "metadata": {
        "id": "G1TjwzfiSnSi"
      },
      "source": [
        "Другой способ добавления с использованием **add_all()**"
      ]
    },
    {
      "cell_type": "code",
      "metadata": {
        "id": "ux3E1H-_QOEY"
      },
      "source": [
        "session.add_all([Person(name='Max'),\n",
        "                 Person(name='Dan'),\n",
        "                 Person(name='Alex')])\n",
        "session.commit()"
      ],
      "execution_count": 108,
      "outputs": []
    },
    {
      "cell_type": "code",
      "metadata": {
        "id": "KQ0xg_YwQOIi",
        "colab": {
          "base_uri": "https://localhost:8080/",
          "height": 390
        },
        "outputId": "92f99bda-e2a1-4cca-e793-2fdf53b0e4b5"
      },
      "source": [
        "query = select([Person.id, Person.name])\n",
        "display_results(query)"
      ],
      "execution_count": 109,
      "outputs": [
        {
          "output_type": "display_data",
          "data": {
            "text/html": [
              "<div>\n",
              "<style scoped>\n",
              "    .dataframe tbody tr th:only-of-type {\n",
              "        vertical-align: middle;\n",
              "    }\n",
              "\n",
              "    .dataframe tbody tr th {\n",
              "        vertical-align: top;\n",
              "    }\n",
              "\n",
              "    .dataframe thead th {\n",
              "        text-align: right;\n",
              "    }\n",
              "</style>\n",
              "<table border=\"1\" class=\"dataframe\">\n",
              "  <thead>\n",
              "    <tr style=\"text-align: right;\">\n",
              "      <th></th>\n",
              "      <th>id</th>\n",
              "      <th>name</th>\n",
              "    </tr>\n",
              "  </thead>\n",
              "  <tbody>\n",
              "    <tr>\n",
              "      <th>0</th>\n",
              "      <td>1</td>\n",
              "      <td>Nawin</td>\n",
              "    </tr>\n",
              "    <tr>\n",
              "      <th>1</th>\n",
              "      <td>2</td>\n",
              "      <td>Moshe</td>\n",
              "    </tr>\n",
              "    <tr>\n",
              "      <th>2</th>\n",
              "      <td>3</td>\n",
              "      <td>Lisa</td>\n",
              "    </tr>\n",
              "    <tr>\n",
              "      <th>3</th>\n",
              "      <td>4</td>\n",
              "      <td>Nika</td>\n",
              "    </tr>\n",
              "    <tr>\n",
              "      <th>4</th>\n",
              "      <td>5</td>\n",
              "      <td>Max</td>\n",
              "    </tr>\n",
              "    <tr>\n",
              "      <th>5</th>\n",
              "      <td>6</td>\n",
              "      <td>Dan</td>\n",
              "    </tr>\n",
              "    <tr>\n",
              "      <th>6</th>\n",
              "      <td>7</td>\n",
              "      <td>Alex</td>\n",
              "    </tr>\n",
              "    <tr>\n",
              "      <th>7</th>\n",
              "      <td>8</td>\n",
              "      <td>Nawin</td>\n",
              "    </tr>\n",
              "    <tr>\n",
              "      <th>8</th>\n",
              "      <td>9</td>\n",
              "      <td>Max</td>\n",
              "    </tr>\n",
              "    <tr>\n",
              "      <th>9</th>\n",
              "      <td>10</td>\n",
              "      <td>Dan</td>\n",
              "    </tr>\n",
              "    <tr>\n",
              "      <th>10</th>\n",
              "      <td>11</td>\n",
              "      <td>Alex</td>\n",
              "    </tr>\n",
              "  </tbody>\n",
              "</table>\n",
              "</div>"
            ],
            "text/plain": [
              "    id   name\n",
              "0    1  Nawin\n",
              "1    2  Moshe\n",
              "2    3   Lisa\n",
              "3    4   Nika\n",
              "4    5    Max\n",
              "5    6    Dan\n",
              "6    7   Alex\n",
              "7    8  Nawin\n",
              "8    9    Max\n",
              "9   10    Dan\n",
              "10  11   Alex"
            ]
          },
          "metadata": {
            "tags": []
          }
        }
      ]
    },
    {
      "cell_type": "code",
      "metadata": {
        "id": "agOyki3aUGv5",
        "colab": {
          "base_uri": "https://localhost:8080/",
          "height": 204
        },
        "outputId": "080feae0-1edc-4662-d7f7-125ce467d230"
      },
      "source": [
        "query = select([Address])\n",
        "display_results(query)"
      ],
      "execution_count": 110,
      "outputs": [
        {
          "output_type": "display_data",
          "data": {
            "text/html": [
              "<div>\n",
              "<style scoped>\n",
              "    .dataframe tbody tr th:only-of-type {\n",
              "        vertical-align: middle;\n",
              "    }\n",
              "\n",
              "    .dataframe tbody tr th {\n",
              "        vertical-align: top;\n",
              "    }\n",
              "\n",
              "    .dataframe thead th {\n",
              "        text-align: right;\n",
              "    }\n",
              "</style>\n",
              "<table border=\"1\" class=\"dataframe\">\n",
              "  <thead>\n",
              "    <tr style=\"text-align: right;\">\n",
              "      <th></th>\n",
              "      <th>id</th>\n",
              "      <th>country</th>\n",
              "      <th>state</th>\n",
              "      <th>street_name</th>\n",
              "      <th>street_number</th>\n",
              "      <th>post_code</th>\n",
              "      <th>person_id</th>\n",
              "    </tr>\n",
              "  </thead>\n",
              "  <tbody>\n",
              "    <tr>\n",
              "      <th>0</th>\n",
              "      <td>1</td>\n",
              "      <td>USA</td>\n",
              "      <td>WA</td>\n",
              "      <td>West Huron Street</td>\n",
              "      <td>1</td>\n",
              "      <td>48103</td>\n",
              "      <td>1</td>\n",
              "    </tr>\n",
              "    <tr>\n",
              "      <th>1</th>\n",
              "      <td>2</td>\n",
              "      <td>Russia</td>\n",
              "      <td>Moscow</td>\n",
              "      <td>Pervomay Street</td>\n",
              "      <td>42</td>\n",
              "      <td>141700</td>\n",
              "      <td>2</td>\n",
              "    </tr>\n",
              "    <tr>\n",
              "      <th>2</th>\n",
              "      <td>3</td>\n",
              "      <td>Russia</td>\n",
              "      <td>Moscow</td>\n",
              "      <td>Pervomay Street</td>\n",
              "      <td>42</td>\n",
              "      <td>141700</td>\n",
              "      <td>3</td>\n",
              "    </tr>\n",
              "    <tr>\n",
              "      <th>3</th>\n",
              "      <td>4</td>\n",
              "      <td>USA</td>\n",
              "      <td>CA</td>\n",
              "      <td>Green Street</td>\n",
              "      <td>104</td>\n",
              "      <td>655689</td>\n",
              "      <td>4</td>\n",
              "    </tr>\n",
              "    <tr>\n",
              "      <th>4</th>\n",
              "      <td>5</td>\n",
              "      <td>USA</td>\n",
              "      <td>WA</td>\n",
              "      <td>West Huron Street</td>\n",
              "      <td>1</td>\n",
              "      <td>48103</td>\n",
              "      <td>8</td>\n",
              "    </tr>\n",
              "  </tbody>\n",
              "</table>\n",
              "</div>"
            ],
            "text/plain": [
              "   id country   state        street_name street_number post_code  person_id\n",
              "0   1     USA      WA  West Huron Street             1     48103          1\n",
              "1   2  Russia  Moscow    Pervomay Street            42    141700          2\n",
              "2   3  Russia  Moscow    Pervomay Street            42    141700          3\n",
              "3   4     USA      CA       Green Street           104    655689          4\n",
              "4   5     USA      WA  West Huron Street             1     48103          8"
            ]
          },
          "metadata": {
            "tags": []
          }
        }
      ]
    },
    {
      "cell_type": "markdown",
      "metadata": {
        "id": "Tk8GSFPQJUq1"
      },
      "source": [
        "# Синтаксис 'чистых' SQL запросов. Повторение + новый материал"
      ]
    },
    {
      "cell_type": "markdown",
      "metadata": {
        "id": "1TVvVSm-KR27"
      },
      "source": [
        "## Create"
      ]
    },
    {
      "cell_type": "code",
      "metadata": {
        "id": "UvXnXjd2gSwV",
        "colab": {
          "base_uri": "https://localhost:8080/"
        },
        "outputId": "75db93fc-e0a8-49e6-9550-40a25f40d265"
      },
      "source": [
        "engine.table_names()"
      ],
      "execution_count": 111,
      "outputs": [
        {
          "output_type": "execute_result",
          "data": {
            "text/plain": [
              "['address',\n",
              " 'log_data',\n",
              " 'people',\n",
              " 'person',\n",
              " 'subscriptions',\n",
              " 'test_table',\n",
              " 'users']"
            ]
          },
          "metadata": {
            "tags": []
          },
          "execution_count": 111
        }
      ]
    },
    {
      "cell_type": "code",
      "metadata": {
        "id": "BBwCJxdhJJKq",
        "colab": {
          "base_uri": "https://localhost:8080/"
        },
        "outputId": "83961442-7bf1-4a45-f3fe-43486628ff93"
      },
      "source": [
        "connection.execute('''\n",
        "CREATE TABLE friends (\n",
        "    id_ INT UNSIGNED AUTO_INCREMENT,\n",
        "    friendName VARCHAR(50),\n",
        "    phone VARCHAR(50),\n",
        "    addressLine1 VARCHAR(50),\n",
        "    addressLine2 VARCHAR(50),\n",
        "    city VARCHAR(50),\n",
        "    state VARCHAR(50),\n",
        "    postalCode VARCHAR(50),\n",
        "    country VARCHAR(50),\n",
        "    PRIMARY KEY(id_)\n",
        ");\n",
        "''')"
      ],
      "execution_count": 112,
      "outputs": [
        {
          "output_type": "execute_result",
          "data": {
            "text/plain": [
              "<sqlalchemy.engine.result.ResultProxy at 0x7f16be886978>"
            ]
          },
          "metadata": {
            "tags": []
          },
          "execution_count": 112
        }
      ]
    },
    {
      "cell_type": "code",
      "metadata": {
        "id": "rQjWWZT7JJNm",
        "colab": {
          "base_uri": "https://localhost:8080/"
        },
        "outputId": "0add34b8-cdcc-428f-d5be-4538d3eb7aac"
      },
      "source": [
        "engine.table_names()"
      ],
      "execution_count": 113,
      "outputs": [
        {
          "output_type": "execute_result",
          "data": {
            "text/plain": [
              "['address',\n",
              " 'friends',\n",
              " 'log_data',\n",
              " 'people',\n",
              " 'person',\n",
              " 'subscriptions',\n",
              " 'test_table',\n",
              " 'users']"
            ]
          },
          "metadata": {
            "tags": []
          },
          "execution_count": 113
        }
      ]
    },
    {
      "cell_type": "code",
      "metadata": {
        "id": "JLldzWvUTgma"
      },
      "source": [
        "result = connection.execute(\"select * from friends\")\n",
        "for row in result:\n",
        "    print(\"Friend info\", row)"
      ],
      "execution_count": 114,
      "outputs": []
    },
    {
      "cell_type": "code",
      "metadata": {
        "id": "kPLBrNtccwR6",
        "colab": {
          "base_uri": "https://localhost:8080/",
          "height": 48
        },
        "outputId": "3aaeafd0-2179-4a25-e92a-223495ec6419"
      },
      "source": [
        "pd.read_sql('SELECT * from friends;', connection)"
      ],
      "execution_count": 115,
      "outputs": [
        {
          "output_type": "execute_result",
          "data": {
            "text/html": [
              "<div>\n",
              "<style scoped>\n",
              "    .dataframe tbody tr th:only-of-type {\n",
              "        vertical-align: middle;\n",
              "    }\n",
              "\n",
              "    .dataframe tbody tr th {\n",
              "        vertical-align: top;\n",
              "    }\n",
              "\n",
              "    .dataframe thead th {\n",
              "        text-align: right;\n",
              "    }\n",
              "</style>\n",
              "<table border=\"1\" class=\"dataframe\">\n",
              "  <thead>\n",
              "    <tr style=\"text-align: right;\">\n",
              "      <th></th>\n",
              "      <th>id_</th>\n",
              "      <th>friendName</th>\n",
              "      <th>phone</th>\n",
              "      <th>addressLine1</th>\n",
              "      <th>addressLine2</th>\n",
              "      <th>city</th>\n",
              "      <th>state</th>\n",
              "      <th>postalCode</th>\n",
              "      <th>country</th>\n",
              "    </tr>\n",
              "  </thead>\n",
              "  <tbody>\n",
              "  </tbody>\n",
              "</table>\n",
              "</div>"
            ],
            "text/plain": [
              "Empty DataFrame\n",
              "Columns: [id_, friendName, phone, addressLine1, addressLine2, city, state, postalCode, country]\n",
              "Index: []"
            ]
          },
          "metadata": {
            "tags": []
          },
          "execution_count": 115
        }
      ]
    },
    {
      "cell_type": "code",
      "metadata": {
        "id": "pGEHbMkXdCVm",
        "colab": {
          "base_uri": "https://localhost:8080/",
          "height": 390
        },
        "outputId": "d0fe7df3-5884-42ab-9d6f-99a971d96597"
      },
      "source": [
        "pd.read_sql('SELECT * from person;', connection)"
      ],
      "execution_count": 116,
      "outputs": [
        {
          "output_type": "execute_result",
          "data": {
            "text/html": [
              "<div>\n",
              "<style scoped>\n",
              "    .dataframe tbody tr th:only-of-type {\n",
              "        vertical-align: middle;\n",
              "    }\n",
              "\n",
              "    .dataframe tbody tr th {\n",
              "        vertical-align: top;\n",
              "    }\n",
              "\n",
              "    .dataframe thead th {\n",
              "        text-align: right;\n",
              "    }\n",
              "</style>\n",
              "<table border=\"1\" class=\"dataframe\">\n",
              "  <thead>\n",
              "    <tr style=\"text-align: right;\">\n",
              "      <th></th>\n",
              "      <th>id</th>\n",
              "      <th>name</th>\n",
              "    </tr>\n",
              "  </thead>\n",
              "  <tbody>\n",
              "    <tr>\n",
              "      <th>0</th>\n",
              "      <td>1</td>\n",
              "      <td>Nawin</td>\n",
              "    </tr>\n",
              "    <tr>\n",
              "      <th>1</th>\n",
              "      <td>2</td>\n",
              "      <td>Moshe</td>\n",
              "    </tr>\n",
              "    <tr>\n",
              "      <th>2</th>\n",
              "      <td>3</td>\n",
              "      <td>Lisa</td>\n",
              "    </tr>\n",
              "    <tr>\n",
              "      <th>3</th>\n",
              "      <td>4</td>\n",
              "      <td>Nika</td>\n",
              "    </tr>\n",
              "    <tr>\n",
              "      <th>4</th>\n",
              "      <td>5</td>\n",
              "      <td>Max</td>\n",
              "    </tr>\n",
              "    <tr>\n",
              "      <th>5</th>\n",
              "      <td>6</td>\n",
              "      <td>Dan</td>\n",
              "    </tr>\n",
              "    <tr>\n",
              "      <th>6</th>\n",
              "      <td>7</td>\n",
              "      <td>Alex</td>\n",
              "    </tr>\n",
              "    <tr>\n",
              "      <th>7</th>\n",
              "      <td>8</td>\n",
              "      <td>Nawin</td>\n",
              "    </tr>\n",
              "    <tr>\n",
              "      <th>8</th>\n",
              "      <td>9</td>\n",
              "      <td>Max</td>\n",
              "    </tr>\n",
              "    <tr>\n",
              "      <th>9</th>\n",
              "      <td>10</td>\n",
              "      <td>Dan</td>\n",
              "    </tr>\n",
              "    <tr>\n",
              "      <th>10</th>\n",
              "      <td>11</td>\n",
              "      <td>Alex</td>\n",
              "    </tr>\n",
              "  </tbody>\n",
              "</table>\n",
              "</div>"
            ],
            "text/plain": [
              "    id   name\n",
              "0    1  Nawin\n",
              "1    2  Moshe\n",
              "2    3   Lisa\n",
              "3    4   Nika\n",
              "4    5    Max\n",
              "5    6    Dan\n",
              "6    7   Alex\n",
              "7    8  Nawin\n",
              "8    9    Max\n",
              "9   10    Dan\n",
              "10  11   Alex"
            ]
          },
          "metadata": {
            "tags": []
          },
          "execution_count": 116
        }
      ]
    },
    {
      "cell_type": "code",
      "metadata": {
        "id": "aliIYD8hdRol",
        "colab": {
          "base_uri": "https://localhost:8080/"
        },
        "outputId": "1899c489-8001-4873-d09f-d013ecb31e4f"
      },
      "source": [
        "result = connection.execute(\n",
        "'''SELECT\n",
        "    country,\n",
        "    state,\n",
        "    post_code\n",
        "FROM \n",
        "    address\n",
        "WHERE \n",
        "    country = 'USA' AND \n",
        "    state = 'CA';\n",
        "''')\n",
        "\n",
        "for row in result:\n",
        "    print(\"adress info\", row)"
      ],
      "execution_count": 117,
      "outputs": [
        {
          "output_type": "stream",
          "text": [
            "adress info ('USA', 'CA', '655689')\n"
          ],
          "name": "stdout"
        }
      ]
    },
    {
      "cell_type": "markdown",
      "metadata": {
        "id": "buDcmd75lGfi"
      },
      "source": [
        "## Insert into"
      ]
    },
    {
      "cell_type": "code",
      "metadata": {
        "id": "eypcVnH4kGOI",
        "colab": {
          "base_uri": "https://localhost:8080/"
        },
        "outputId": "6e4ca9d2-17f6-4523-d166-8012c2dfd520"
      },
      "source": [
        "connection.execute(\n",
        "\"\"\"\n",
        "INSERT INTO friends (\n",
        "    id_,\n",
        "    country,\n",
        "    state,\n",
        "    postalCode\n",
        ")\n",
        "VALUES (1, \"UK\", \"London\", 5678)\n",
        "\"\"\"\n",
        ")"
      ],
      "execution_count": 118,
      "outputs": [
        {
          "output_type": "execute_result",
          "data": {
            "text/plain": [
              "<sqlalchemy.engine.result.ResultProxy at 0x7f16be820e48>"
            ]
          },
          "metadata": {
            "tags": []
          },
          "execution_count": 118
        }
      ]
    },
    {
      "cell_type": "code",
      "metadata": {
        "id": "YGOVUsVUlJyW",
        "colab": {
          "base_uri": "https://localhost:8080/",
          "height": 80
        },
        "outputId": "ece3ce9a-f9d7-4a52-ac78-f6cc8cb7ed0d"
      },
      "source": [
        "pd.read_sql('SELECT * from friends;', connection)"
      ],
      "execution_count": 119,
      "outputs": [
        {
          "output_type": "execute_result",
          "data": {
            "text/html": [
              "<div>\n",
              "<style scoped>\n",
              "    .dataframe tbody tr th:only-of-type {\n",
              "        vertical-align: middle;\n",
              "    }\n",
              "\n",
              "    .dataframe tbody tr th {\n",
              "        vertical-align: top;\n",
              "    }\n",
              "\n",
              "    .dataframe thead th {\n",
              "        text-align: right;\n",
              "    }\n",
              "</style>\n",
              "<table border=\"1\" class=\"dataframe\">\n",
              "  <thead>\n",
              "    <tr style=\"text-align: right;\">\n",
              "      <th></th>\n",
              "      <th>id_</th>\n",
              "      <th>friendName</th>\n",
              "      <th>phone</th>\n",
              "      <th>addressLine1</th>\n",
              "      <th>addressLine2</th>\n",
              "      <th>city</th>\n",
              "      <th>state</th>\n",
              "      <th>postalCode</th>\n",
              "      <th>country</th>\n",
              "    </tr>\n",
              "  </thead>\n",
              "  <tbody>\n",
              "    <tr>\n",
              "      <th>0</th>\n",
              "      <td>1</td>\n",
              "      <td>None</td>\n",
              "      <td>None</td>\n",
              "      <td>None</td>\n",
              "      <td>None</td>\n",
              "      <td>None</td>\n",
              "      <td>London</td>\n",
              "      <td>5678</td>\n",
              "      <td>UK</td>\n",
              "    </tr>\n",
              "  </tbody>\n",
              "</table>\n",
              "</div>"
            ],
            "text/plain": [
              "   id_ friendName phone addressLine1  ...  city   state postalCode country\n",
              "0    1       None  None         None  ...  None  London       5678      UK\n",
              "\n",
              "[1 rows x 9 columns]"
            ]
          },
          "metadata": {
            "tags": []
          },
          "execution_count": 119
        }
      ]
    },
    {
      "cell_type": "markdown",
      "metadata": {
        "id": "OgcTKIWalDc6"
      },
      "source": [
        "## Update"
      ]
    },
    {
      "cell_type": "code",
      "metadata": {
        "id": "I3LAmOy2k0ti",
        "colab": {
          "base_uri": "https://localhost:8080/"
        },
        "outputId": "b9d9a074-96c2-469d-a63d-306b9de58188"
      },
      "source": [
        "connection.execute(\n",
        "'''\n",
        "UPDATE friends \n",
        "\n",
        "SET\n",
        "    friendName = \"Mike\"\n",
        "WHERE \n",
        "    country = \"UK\"\n",
        "''')"
      ],
      "execution_count": 120,
      "outputs": [
        {
          "output_type": "execute_result",
          "data": {
            "text/plain": [
              "<sqlalchemy.engine.result.ResultProxy at 0x7f16be8e7ba8>"
            ]
          },
          "metadata": {
            "tags": []
          },
          "execution_count": 120
        }
      ]
    },
    {
      "cell_type": "code",
      "metadata": {
        "id": "8F8nAH2YkW53",
        "colab": {
          "base_uri": "https://localhost:8080/",
          "height": 80
        },
        "outputId": "2facad95-d572-4d57-b9bb-a25a3884b635"
      },
      "source": [
        "pd.read_sql('SELECT * from friends;', connection)"
      ],
      "execution_count": 121,
      "outputs": [
        {
          "output_type": "execute_result",
          "data": {
            "text/html": [
              "<div>\n",
              "<style scoped>\n",
              "    .dataframe tbody tr th:only-of-type {\n",
              "        vertical-align: middle;\n",
              "    }\n",
              "\n",
              "    .dataframe tbody tr th {\n",
              "        vertical-align: top;\n",
              "    }\n",
              "\n",
              "    .dataframe thead th {\n",
              "        text-align: right;\n",
              "    }\n",
              "</style>\n",
              "<table border=\"1\" class=\"dataframe\">\n",
              "  <thead>\n",
              "    <tr style=\"text-align: right;\">\n",
              "      <th></th>\n",
              "      <th>id_</th>\n",
              "      <th>friendName</th>\n",
              "      <th>phone</th>\n",
              "      <th>addressLine1</th>\n",
              "      <th>addressLine2</th>\n",
              "      <th>city</th>\n",
              "      <th>state</th>\n",
              "      <th>postalCode</th>\n",
              "      <th>country</th>\n",
              "    </tr>\n",
              "  </thead>\n",
              "  <tbody>\n",
              "    <tr>\n",
              "      <th>0</th>\n",
              "      <td>1</td>\n",
              "      <td>Mike</td>\n",
              "      <td>None</td>\n",
              "      <td>None</td>\n",
              "      <td>None</td>\n",
              "      <td>None</td>\n",
              "      <td>London</td>\n",
              "      <td>5678</td>\n",
              "      <td>UK</td>\n",
              "    </tr>\n",
              "  </tbody>\n",
              "</table>\n",
              "</div>"
            ],
            "text/plain": [
              "   id_ friendName phone addressLine1  ...  city   state postalCode country\n",
              "0    1       Mike  None         None  ...  None  London       5678      UK\n",
              "\n",
              "[1 rows x 9 columns]"
            ]
          },
          "metadata": {
            "tags": []
          },
          "execution_count": 121
        }
      ]
    },
    {
      "cell_type": "markdown",
      "metadata": {
        "id": "migpKc_tX5rq"
      },
      "source": [
        "## Insert into select"
      ]
    },
    {
      "cell_type": "code",
      "metadata": {
        "id": "4IWsR3znTgrZ",
        "colab": {
          "base_uri": "https://localhost:8080/"
        },
        "outputId": "c01d7bb5-a43a-48b2-c863-f8de8c83b788"
      },
      "source": [
        "connection.execute(\n",
        "'''\n",
        "INSERT INTO friends (\n",
        "    country,\n",
        "    state,\n",
        "    postalCode\n",
        ")\n",
        "SELECT\n",
        "    country,\n",
        "    state,\n",
        "    post_code\n",
        "FROM \n",
        "    address\n",
        "WHERE \n",
        "    country = 'USA' AND \n",
        "    state = 'CA';\n",
        "''')"
      ],
      "execution_count": 122,
      "outputs": [
        {
          "output_type": "execute_result",
          "data": {
            "text/plain": [
              "<sqlalchemy.engine.result.ResultProxy at 0x7f16be82a160>"
            ]
          },
          "metadata": {
            "tags": []
          },
          "execution_count": 122
        }
      ]
    },
    {
      "cell_type": "code",
      "metadata": {
        "id": "1yV3A2AsTgwr",
        "colab": {
          "base_uri": "https://localhost:8080/",
          "height": 111
        },
        "outputId": "2607b516-773b-46c8-fb05-a1fa94a1c48a"
      },
      "source": [
        "pd.read_sql('SELECT * from friends;', connection)"
      ],
      "execution_count": 123,
      "outputs": [
        {
          "output_type": "execute_result",
          "data": {
            "text/html": [
              "<div>\n",
              "<style scoped>\n",
              "    .dataframe tbody tr th:only-of-type {\n",
              "        vertical-align: middle;\n",
              "    }\n",
              "\n",
              "    .dataframe tbody tr th {\n",
              "        vertical-align: top;\n",
              "    }\n",
              "\n",
              "    .dataframe thead th {\n",
              "        text-align: right;\n",
              "    }\n",
              "</style>\n",
              "<table border=\"1\" class=\"dataframe\">\n",
              "  <thead>\n",
              "    <tr style=\"text-align: right;\">\n",
              "      <th></th>\n",
              "      <th>id_</th>\n",
              "      <th>friendName</th>\n",
              "      <th>phone</th>\n",
              "      <th>addressLine1</th>\n",
              "      <th>addressLine2</th>\n",
              "      <th>city</th>\n",
              "      <th>state</th>\n",
              "      <th>postalCode</th>\n",
              "      <th>country</th>\n",
              "    </tr>\n",
              "  </thead>\n",
              "  <tbody>\n",
              "    <tr>\n",
              "      <th>0</th>\n",
              "      <td>1.0</td>\n",
              "      <td>Mike</td>\n",
              "      <td>None</td>\n",
              "      <td>None</td>\n",
              "      <td>None</td>\n",
              "      <td>None</td>\n",
              "      <td>London</td>\n",
              "      <td>5678</td>\n",
              "      <td>UK</td>\n",
              "    </tr>\n",
              "    <tr>\n",
              "      <th>1</th>\n",
              "      <td>NaN</td>\n",
              "      <td>None</td>\n",
              "      <td>None</td>\n",
              "      <td>None</td>\n",
              "      <td>None</td>\n",
              "      <td>None</td>\n",
              "      <td>CA</td>\n",
              "      <td>655689</td>\n",
              "      <td>USA</td>\n",
              "    </tr>\n",
              "  </tbody>\n",
              "</table>\n",
              "</div>"
            ],
            "text/plain": [
              "   id_ friendName phone addressLine1  ...  city   state postalCode country\n",
              "0  1.0       Mike  None         None  ...  None  London       5678      UK\n",
              "1  NaN       None  None         None  ...  None      CA     655689     USA\n",
              "\n",
              "[2 rows x 9 columns]"
            ]
          },
          "metadata": {
            "tags": []
          },
          "execution_count": 123
        }
      ]
    },
    {
      "cell_type": "markdown",
      "metadata": {
        "id": "Skkm-u8_nVIX"
      },
      "source": [
        "## Drop"
      ]
    },
    {
      "cell_type": "code",
      "metadata": {
        "id": "hrlHc-kknTG5",
        "colab": {
          "base_uri": "https://localhost:8080/"
        },
        "outputId": "446f283d-e3b7-4336-bee0-95e9488313a4"
      },
      "source": [
        "connection.execute('DROP TABLE friends;')"
      ],
      "execution_count": 124,
      "outputs": [
        {
          "output_type": "execute_result",
          "data": {
            "text/plain": [
              "<sqlalchemy.engine.result.ResultProxy at 0x7f16be8d9908>"
            ]
          },
          "metadata": {
            "tags": []
          },
          "execution_count": 124
        }
      ]
    },
    {
      "cell_type": "code",
      "metadata": {
        "id": "dodI0YRrnLST",
        "colab": {
          "base_uri": "https://localhost:8080/"
        },
        "outputId": "98fddbe1-325b-44d0-e08f-908b2b635c18"
      },
      "source": [
        "engine.table_names()"
      ],
      "execution_count": 125,
      "outputs": [
        {
          "output_type": "execute_result",
          "data": {
            "text/plain": [
              "['address',\n",
              " 'log_data',\n",
              " 'people',\n",
              " 'person',\n",
              " 'subscriptions',\n",
              " 'test_table',\n",
              " 'users']"
            ]
          },
          "metadata": {
            "tags": []
          },
          "execution_count": 125
        }
      ]
    },
    {
      "cell_type": "markdown",
      "metadata": {
        "id": "JomhfuPXnlTM"
      },
      "source": [
        "## Create view\n",
        "\n",
        "CREATE VIEW создаст представление по заданному вами условию"
      ]
    },
    {
      "cell_type": "code",
      "metadata": {
        "id": "ubXisimnninm",
        "colab": {
          "base_uri": "https://localhost:8080/"
        },
        "outputId": "80941f0a-b06e-4da6-c8b9-66b0f12b0e38"
      },
      "source": [
        "connection.execute('''\n",
        "CREATE VIEW test_view AS\n",
        "    SELECT \n",
        "        street_name, \n",
        "        street_number\n",
        "    FROM\n",
        "        address\n",
        "    ORDER BY street_number;\n",
        "''')"
      ],
      "execution_count": 126,
      "outputs": [
        {
          "output_type": "execute_result",
          "data": {
            "text/plain": [
              "<sqlalchemy.engine.result.ResultProxy at 0x7f16be7cba58>"
            ]
          },
          "metadata": {
            "tags": []
          },
          "execution_count": 126
        }
      ]
    },
    {
      "cell_type": "code",
      "metadata": {
        "id": "0lVQhhwcnive",
        "colab": {
          "base_uri": "https://localhost:8080/"
        },
        "outputId": "0020db59-00bc-48d2-e160-ef141e2e8cc7"
      },
      "source": [
        "engine.table_names()"
      ],
      "execution_count": 127,
      "outputs": [
        {
          "output_type": "execute_result",
          "data": {
            "text/plain": [
              "['address',\n",
              " 'log_data',\n",
              " 'people',\n",
              " 'person',\n",
              " 'subscriptions',\n",
              " 'test_table',\n",
              " 'users']"
            ]
          },
          "metadata": {
            "tags": []
          },
          "execution_count": 127
        }
      ]
    },
    {
      "cell_type": "markdown",
      "metadata": {
        "id": "YdTxSpTSpGe3"
      },
      "source": [
        "Но в pandas таблицы и представления разделяют одно пространство имен "
      ]
    },
    {
      "cell_type": "code",
      "metadata": {
        "id": "Zn_-IxDAhaXF",
        "colab": {
          "base_uri": "https://localhost:8080/",
          "height": 204
        },
        "outputId": "abae5405-8d4d-4b6a-8428-eb70edb97f07"
      },
      "source": [
        "pd.read_sql('SELECT * from test_view;', connection)"
      ],
      "execution_count": 128,
      "outputs": [
        {
          "output_type": "execute_result",
          "data": {
            "text/html": [
              "<div>\n",
              "<style scoped>\n",
              "    .dataframe tbody tr th:only-of-type {\n",
              "        vertical-align: middle;\n",
              "    }\n",
              "\n",
              "    .dataframe tbody tr th {\n",
              "        vertical-align: top;\n",
              "    }\n",
              "\n",
              "    .dataframe thead th {\n",
              "        text-align: right;\n",
              "    }\n",
              "</style>\n",
              "<table border=\"1\" class=\"dataframe\">\n",
              "  <thead>\n",
              "    <tr style=\"text-align: right;\">\n",
              "      <th></th>\n",
              "      <th>street_name</th>\n",
              "      <th>street_number</th>\n",
              "    </tr>\n",
              "  </thead>\n",
              "  <tbody>\n",
              "    <tr>\n",
              "      <th>0</th>\n",
              "      <td>West Huron Street</td>\n",
              "      <td>1</td>\n",
              "    </tr>\n",
              "    <tr>\n",
              "      <th>1</th>\n",
              "      <td>West Huron Street</td>\n",
              "      <td>1</td>\n",
              "    </tr>\n",
              "    <tr>\n",
              "      <th>2</th>\n",
              "      <td>Green Street</td>\n",
              "      <td>104</td>\n",
              "    </tr>\n",
              "    <tr>\n",
              "      <th>3</th>\n",
              "      <td>Pervomay Street</td>\n",
              "      <td>42</td>\n",
              "    </tr>\n",
              "    <tr>\n",
              "      <th>4</th>\n",
              "      <td>Pervomay Street</td>\n",
              "      <td>42</td>\n",
              "    </tr>\n",
              "  </tbody>\n",
              "</table>\n",
              "</div>"
            ],
            "text/plain": [
              "         street_name street_number\n",
              "0  West Huron Street             1\n",
              "1  West Huron Street             1\n",
              "2       Green Street           104\n",
              "3    Pervomay Street            42\n",
              "4    Pervomay Street            42"
            ]
          },
          "metadata": {
            "tags": []
          },
          "execution_count": 128
        }
      ]
    },
    {
      "cell_type": "code",
      "metadata": {
        "id": "vGZvvVcKpv8S",
        "colab": {
          "base_uri": "https://localhost:8080/"
        },
        "outputId": "2b131b94-1360-4b61-d751-34967b178432"
      },
      "source": [
        "connection.execute('''\n",
        "drop view test_view;\n",
        "''')"
      ],
      "execution_count": 129,
      "outputs": [
        {
          "output_type": "execute_result",
          "data": {
            "text/plain": [
              "<sqlalchemy.engine.result.ResultProxy at 0x7f16be7cbba8>"
            ]
          },
          "metadata": {
            "tags": []
          },
          "execution_count": 129
        }
      ]
    },
    {
      "cell_type": "markdown",
      "metadata": {
        "id": "wovwv7tisQMD"
      },
      "source": [
        "## Case\n",
        "\n",
        "Выражение MySQL CASE - это структура потока управления, которая позволяет добавлять логику if-else к запросу. Вообще говоря, вы можете использовать выражение CASE в любом месте, которое допускает допустимое выражение, например, предложения SELECT, WHERE и ORDER BY."
      ]
    },
    {
      "cell_type": "code",
      "metadata": {
        "id": "bRf5I9ZmsbP6",
        "colab": {
          "base_uri": "https://localhost:8080/",
          "height": 204
        },
        "outputId": "bbe13abd-ee46-4c3d-bf69-b9a6fadebb23"
      },
      "source": [
        "pd.read_sql('SELECT * from address;', connection)"
      ],
      "execution_count": 130,
      "outputs": [
        {
          "output_type": "execute_result",
          "data": {
            "text/html": [
              "<div>\n",
              "<style scoped>\n",
              "    .dataframe tbody tr th:only-of-type {\n",
              "        vertical-align: middle;\n",
              "    }\n",
              "\n",
              "    .dataframe tbody tr th {\n",
              "        vertical-align: top;\n",
              "    }\n",
              "\n",
              "    .dataframe thead th {\n",
              "        text-align: right;\n",
              "    }\n",
              "</style>\n",
              "<table border=\"1\" class=\"dataframe\">\n",
              "  <thead>\n",
              "    <tr style=\"text-align: right;\">\n",
              "      <th></th>\n",
              "      <th>id</th>\n",
              "      <th>country</th>\n",
              "      <th>state</th>\n",
              "      <th>street_name</th>\n",
              "      <th>street_number</th>\n",
              "      <th>post_code</th>\n",
              "      <th>person_id</th>\n",
              "    </tr>\n",
              "  </thead>\n",
              "  <tbody>\n",
              "    <tr>\n",
              "      <th>0</th>\n",
              "      <td>1</td>\n",
              "      <td>USA</td>\n",
              "      <td>WA</td>\n",
              "      <td>West Huron Street</td>\n",
              "      <td>1</td>\n",
              "      <td>48103</td>\n",
              "      <td>1</td>\n",
              "    </tr>\n",
              "    <tr>\n",
              "      <th>1</th>\n",
              "      <td>2</td>\n",
              "      <td>Russia</td>\n",
              "      <td>Moscow</td>\n",
              "      <td>Pervomay Street</td>\n",
              "      <td>42</td>\n",
              "      <td>141700</td>\n",
              "      <td>2</td>\n",
              "    </tr>\n",
              "    <tr>\n",
              "      <th>2</th>\n",
              "      <td>3</td>\n",
              "      <td>Russia</td>\n",
              "      <td>Moscow</td>\n",
              "      <td>Pervomay Street</td>\n",
              "      <td>42</td>\n",
              "      <td>141700</td>\n",
              "      <td>3</td>\n",
              "    </tr>\n",
              "    <tr>\n",
              "      <th>3</th>\n",
              "      <td>4</td>\n",
              "      <td>USA</td>\n",
              "      <td>CA</td>\n",
              "      <td>Green Street</td>\n",
              "      <td>104</td>\n",
              "      <td>655689</td>\n",
              "      <td>4</td>\n",
              "    </tr>\n",
              "    <tr>\n",
              "      <th>4</th>\n",
              "      <td>5</td>\n",
              "      <td>USA</td>\n",
              "      <td>WA</td>\n",
              "      <td>West Huron Street</td>\n",
              "      <td>1</td>\n",
              "      <td>48103</td>\n",
              "      <td>8</td>\n",
              "    </tr>\n",
              "  </tbody>\n",
              "</table>\n",
              "</div>"
            ],
            "text/plain": [
              "   id country   state        street_name street_number post_code  person_id\n",
              "0   1     USA      WA  West Huron Street             1     48103          1\n",
              "1   2  Russia  Moscow    Pervomay Street            42    141700          2\n",
              "2   3  Russia  Moscow    Pervomay Street            42    141700          3\n",
              "3   4     USA      CA       Green Street           104    655689          4\n",
              "4   5     USA      WA  West Huron Street             1     48103          8"
            ]
          },
          "metadata": {
            "tags": []
          },
          "execution_count": 130
        }
      ]
    },
    {
      "cell_type": "code",
      "metadata": {
        "id": "We_1tKRysPRT",
        "colab": {
          "base_uri": "https://localhost:8080/",
          "height": 204
        },
        "outputId": "d1d735e2-b982-4c6d-9bf1-223e98a71f3e"
      },
      "source": [
        "pd.read_sql('''\n",
        "SELECT \n",
        "    name,\n",
        "    country `Страна`,\n",
        "    CASE country\n",
        "\t\tWHEN \"Russia\" THEN 'Живет в России'\n",
        "        WHEN \"USA\" THEN 'Живет в США'\n",
        "        ELSE 'Живет в другой стране'\n",
        "\tend `Страна проживания`\n",
        "FROM\n",
        "    (SELECT \n",
        "\t\tcountry,\n",
        "    person.name\n",
        "\tFROM\n",
        "\t\taddress\n",
        "\tINNER JOIN person\n",
        "\t\tON  address.person_id = person.id) as cte\n",
        "ORDER BY country;\n",
        "''', connection)"
      ],
      "execution_count": 131,
      "outputs": [
        {
          "output_type": "execute_result",
          "data": {
            "text/html": [
              "<div>\n",
              "<style scoped>\n",
              "    .dataframe tbody tr th:only-of-type {\n",
              "        vertical-align: middle;\n",
              "    }\n",
              "\n",
              "    .dataframe tbody tr th {\n",
              "        vertical-align: top;\n",
              "    }\n",
              "\n",
              "    .dataframe thead th {\n",
              "        text-align: right;\n",
              "    }\n",
              "</style>\n",
              "<table border=\"1\" class=\"dataframe\">\n",
              "  <thead>\n",
              "    <tr style=\"text-align: right;\">\n",
              "      <th></th>\n",
              "      <th>name</th>\n",
              "      <th>Страна</th>\n",
              "      <th>Страна проживания</th>\n",
              "    </tr>\n",
              "  </thead>\n",
              "  <tbody>\n",
              "    <tr>\n",
              "      <th>0</th>\n",
              "      <td>Moshe</td>\n",
              "      <td>Russia</td>\n",
              "      <td>Живет в России</td>\n",
              "    </tr>\n",
              "    <tr>\n",
              "      <th>1</th>\n",
              "      <td>Lisa</td>\n",
              "      <td>Russia</td>\n",
              "      <td>Живет в России</td>\n",
              "    </tr>\n",
              "    <tr>\n",
              "      <th>2</th>\n",
              "      <td>Nawin</td>\n",
              "      <td>USA</td>\n",
              "      <td>Живет в США</td>\n",
              "    </tr>\n",
              "    <tr>\n",
              "      <th>3</th>\n",
              "      <td>Nika</td>\n",
              "      <td>USA</td>\n",
              "      <td>Живет в США</td>\n",
              "    </tr>\n",
              "    <tr>\n",
              "      <th>4</th>\n",
              "      <td>Nawin</td>\n",
              "      <td>USA</td>\n",
              "      <td>Живет в США</td>\n",
              "    </tr>\n",
              "  </tbody>\n",
              "</table>\n",
              "</div>"
            ],
            "text/plain": [
              "    name  Страна Страна проживания\n",
              "0  Moshe  Russia    Живет в России\n",
              "1   Lisa  Russia    Живет в России\n",
              "2  Nawin     USA       Живет в США\n",
              "3   Nika     USA       Живет в США\n",
              "4  Nawin     USA       Живет в США"
            ]
          },
          "metadata": {
            "tags": []
          },
          "execution_count": 131
        }
      ]
    },
    {
      "cell_type": "markdown",
      "metadata": {
        "id": "dDbCLqIwxk-y"
      },
      "source": [
        "Вопрос: Почему в данном случае плохо использовать следующий синтаксис \"JOIN ... USING (id)\" ?\n",
        "\n",
        "Как это исправить?"
      ]
    },
    {
      "cell_type": "code",
      "metadata": {
        "id": "XIpyB4h5wKoK"
      },
      "source": [
        "# TODO"
      ],
      "execution_count": 132,
      "outputs": []
    },
    {
      "cell_type": "markdown",
      "metadata": {
        "id": "4m8LUONLwBjo"
      },
      "source": [
        "ЗАДАНИЕ\n",
        "\n",
        "Добавить еще один столбец - Имя человека"
      ]
    },
    {
      "cell_type": "code",
      "metadata": {
        "id": "ZCkDQdavx0ro"
      },
      "source": [
        "#TODO"
      ],
      "execution_count": 133,
      "outputs": []
    },
    {
      "cell_type": "code",
      "metadata": {
        "id": "UApCLBYExNmq"
      },
      "source": [
        "# TODO"
      ],
      "execution_count": 134,
      "outputs": []
    },
    {
      "cell_type": "markdown",
      "metadata": {
        "id": "vhK_7BXMxCEP"
      },
      "source": [
        "ДОП ЗАДАНИЕ**\n",
        "\n",
        "Если человек живет в Москве, то вывести его имя, улицу и почтовый код"
      ]
    },
    {
      "cell_type": "code",
      "metadata": {
        "id": "NYh6M4KvsPh_",
        "colab": {
          "base_uri": "https://localhost:8080/",
          "height": 111
        },
        "outputId": "d0fab7dd-5b74-4d3b-8e3c-2ea54c372a49"
      },
      "source": [
        "sql = '''\n",
        "  SELECT person.name, address.post_code \n",
        "  FROM person, address\n",
        "  WHERE person.id = address.person_id and address.state = 'Moscow';\n",
        "'''\n",
        "pd.read_sql(sql, connection)"
      ],
      "execution_count": 141,
      "outputs": [
        {
          "output_type": "execute_result",
          "data": {
            "text/html": [
              "<div>\n",
              "<style scoped>\n",
              "    .dataframe tbody tr th:only-of-type {\n",
              "        vertical-align: middle;\n",
              "    }\n",
              "\n",
              "    .dataframe tbody tr th {\n",
              "        vertical-align: top;\n",
              "    }\n",
              "\n",
              "    .dataframe thead th {\n",
              "        text-align: right;\n",
              "    }\n",
              "</style>\n",
              "<table border=\"1\" class=\"dataframe\">\n",
              "  <thead>\n",
              "    <tr style=\"text-align: right;\">\n",
              "      <th></th>\n",
              "      <th>name</th>\n",
              "      <th>post_code</th>\n",
              "    </tr>\n",
              "  </thead>\n",
              "  <tbody>\n",
              "    <tr>\n",
              "      <th>0</th>\n",
              "      <td>Moshe</td>\n",
              "      <td>141700</td>\n",
              "    </tr>\n",
              "    <tr>\n",
              "      <th>1</th>\n",
              "      <td>Lisa</td>\n",
              "      <td>141700</td>\n",
              "    </tr>\n",
              "  </tbody>\n",
              "</table>\n",
              "</div>"
            ],
            "text/plain": [
              "    name post_code\n",
              "0  Moshe    141700\n",
              "1   Lisa    141700"
            ]
          },
          "metadata": {
            "tags": []
          },
          "execution_count": 141
        }
      ]
    },
    {
      "cell_type": "markdown",
      "metadata": {
        "id": "JKrp-BOtxVz7"
      },
      "source": [
        "# Работа с датами"
      ]
    },
    {
      "cell_type": "markdown",
      "metadata": {
        "id": "dEEI2CaFyHH1"
      },
      "source": [
        "## Date\n",
        "\n",
        "MySQL DATE - один из пяти временных типов данных, используемых для управления значениями даты. MySQL использует формат гггг-мм-дд для хранения значения даты. Этот формат является фиксированным, и его невозможно изменить. (Для собственных форматов дат используйте DATE_FORMAT)\n",
        "\n",
        "MySQL использует 3 байта для хранения значения DATE. Значения ДАТЫ варьируются от 1000-01-01 до 9999-12-31."
      ]
    },
    {
      "cell_type": "code",
      "metadata": {
        "id": "mfCSKHubqHOq",
        "colab": {
          "base_uri": "https://localhost:8080/",
          "height": 647
        },
        "outputId": "52df3f1a-4ff7-45e8-8489-621ac9394e8a"
      },
      "source": [
        "connection.execute('''\n",
        "CREATE TABLE people (\n",
        "    id INT AUTO_INCREMENT PRIMARY KEY,\n",
        "    first_name VARCHAR(50) NOT NULL,\n",
        "    last_name VARCHAR(50) NOT NULL,\n",
        "    birth_date DATE NOT NULL\n",
        ");\n",
        "''')"
      ],
      "execution_count": 135,
      "outputs": [
        {
          "output_type": "stream",
          "text": [
            "ERROR:root:An unexpected error occurred while tokenizing input\n",
            "The following traceback may be corrupted or invalid\n",
            "The error message is: ('EOF in multi-line string', (1, 0))\n",
            "\n"
          ],
          "name": "stderr"
        },
        {
          "output_type": "error",
          "ename": "OperationalError",
          "evalue": "ignored",
          "traceback": [
            "\u001b[0;31m---------------------------------------------------------------------------\u001b[0m",
            "\u001b[0;31mOperationalError\u001b[0m                          Traceback (most recent call last)",
            "\u001b[0;32m/usr/local/lib/python3.6/dist-packages/sqlalchemy/engine/base.py\u001b[0m in \u001b[0;36m_execute_context\u001b[0;34m(self, dialect, constructor, statement, parameters, *args)\u001b[0m\n\u001b[1;32m   1276\u001b[0m                     self.dialect.do_execute(\n\u001b[0;32m-> 1277\u001b[0;31m                         \u001b[0mcursor\u001b[0m\u001b[0;34m,\u001b[0m \u001b[0mstatement\u001b[0m\u001b[0;34m,\u001b[0m \u001b[0mparameters\u001b[0m\u001b[0;34m,\u001b[0m \u001b[0mcontext\u001b[0m\u001b[0;34m\u001b[0m\u001b[0;34m\u001b[0m\u001b[0m\n\u001b[0m\u001b[1;32m   1278\u001b[0m                     )\n",
            "\u001b[0;32m/usr/local/lib/python3.6/dist-packages/sqlalchemy/engine/default.py\u001b[0m in \u001b[0;36mdo_execute\u001b[0;34m(self, cursor, statement, parameters, context)\u001b[0m\n\u001b[1;32m    592\u001b[0m     \u001b[0;32mdef\u001b[0m \u001b[0mdo_execute\u001b[0m\u001b[0;34m(\u001b[0m\u001b[0mself\u001b[0m\u001b[0;34m,\u001b[0m \u001b[0mcursor\u001b[0m\u001b[0;34m,\u001b[0m \u001b[0mstatement\u001b[0m\u001b[0;34m,\u001b[0m \u001b[0mparameters\u001b[0m\u001b[0;34m,\u001b[0m \u001b[0mcontext\u001b[0m\u001b[0;34m=\u001b[0m\u001b[0;32mNone\u001b[0m\u001b[0;34m)\u001b[0m\u001b[0;34m:\u001b[0m\u001b[0;34m\u001b[0m\u001b[0;34m\u001b[0m\u001b[0m\n\u001b[0;32m--> 593\u001b[0;31m         \u001b[0mcursor\u001b[0m\u001b[0;34m.\u001b[0m\u001b[0mexecute\u001b[0m\u001b[0;34m(\u001b[0m\u001b[0mstatement\u001b[0m\u001b[0;34m,\u001b[0m \u001b[0mparameters\u001b[0m\u001b[0;34m)\u001b[0m\u001b[0;34m\u001b[0m\u001b[0;34m\u001b[0m\u001b[0m\n\u001b[0m\u001b[1;32m    594\u001b[0m \u001b[0;34m\u001b[0m\u001b[0m\n",
            "\u001b[0;31mOperationalError\u001b[0m: table people already exists",
            "\nThe above exception was the direct cause of the following exception:\n",
            "\u001b[0;31mOperationalError\u001b[0m                          Traceback (most recent call last)",
            "\u001b[0;32m<ipython-input-135-ab5488e68ee2>\u001b[0m in \u001b[0;36m<module>\u001b[0;34m()\u001b[0m\n\u001b[1;32m      6\u001b[0m     \u001b[0mbirth_date\u001b[0m \u001b[0mDATE\u001b[0m \u001b[0mNOT\u001b[0m \u001b[0mNULL\u001b[0m\u001b[0;34m\u001b[0m\u001b[0;34m\u001b[0m\u001b[0m\n\u001b[1;32m      7\u001b[0m );\n\u001b[0;32m----> 8\u001b[0;31m ''')\n\u001b[0m",
            "\u001b[0;32m/usr/local/lib/python3.6/dist-packages/sqlalchemy/engine/base.py\u001b[0m in \u001b[0;36mexecute\u001b[0;34m(self, object_, *multiparams, **params)\u001b[0m\n\u001b[1;32m   1001\u001b[0m         \"\"\"\n\u001b[1;32m   1002\u001b[0m         \u001b[0;32mif\u001b[0m \u001b[0misinstance\u001b[0m\u001b[0;34m(\u001b[0m\u001b[0mobject_\u001b[0m\u001b[0;34m,\u001b[0m \u001b[0mutil\u001b[0m\u001b[0;34m.\u001b[0m\u001b[0mstring_types\u001b[0m\u001b[0;34m[\u001b[0m\u001b[0;36m0\u001b[0m\u001b[0;34m]\u001b[0m\u001b[0;34m)\u001b[0m\u001b[0;34m:\u001b[0m\u001b[0;34m\u001b[0m\u001b[0;34m\u001b[0m\u001b[0m\n\u001b[0;32m-> 1003\u001b[0;31m             \u001b[0;32mreturn\u001b[0m \u001b[0mself\u001b[0m\u001b[0;34m.\u001b[0m\u001b[0m_execute_text\u001b[0m\u001b[0;34m(\u001b[0m\u001b[0mobject_\u001b[0m\u001b[0;34m,\u001b[0m \u001b[0mmultiparams\u001b[0m\u001b[0;34m,\u001b[0m \u001b[0mparams\u001b[0m\u001b[0;34m)\u001b[0m\u001b[0;34m\u001b[0m\u001b[0;34m\u001b[0m\u001b[0m\n\u001b[0m\u001b[1;32m   1004\u001b[0m         \u001b[0;32mtry\u001b[0m\u001b[0;34m:\u001b[0m\u001b[0;34m\u001b[0m\u001b[0;34m\u001b[0m\u001b[0m\n\u001b[1;32m   1005\u001b[0m             \u001b[0mmeth\u001b[0m \u001b[0;34m=\u001b[0m \u001b[0mobject_\u001b[0m\u001b[0;34m.\u001b[0m\u001b[0m_execute_on_connection\u001b[0m\u001b[0;34m\u001b[0m\u001b[0;34m\u001b[0m\u001b[0m\n",
            "\u001b[0;32m/usr/local/lib/python3.6/dist-packages/sqlalchemy/engine/base.py\u001b[0m in \u001b[0;36m_execute_text\u001b[0;34m(self, statement, multiparams, params)\u001b[0m\n\u001b[1;32m   1176\u001b[0m             \u001b[0mparameters\u001b[0m\u001b[0;34m,\u001b[0m\u001b[0;34m\u001b[0m\u001b[0;34m\u001b[0m\u001b[0m\n\u001b[1;32m   1177\u001b[0m             \u001b[0mstatement\u001b[0m\u001b[0;34m,\u001b[0m\u001b[0;34m\u001b[0m\u001b[0;34m\u001b[0m\u001b[0m\n\u001b[0;32m-> 1178\u001b[0;31m             \u001b[0mparameters\u001b[0m\u001b[0;34m,\u001b[0m\u001b[0;34m\u001b[0m\u001b[0;34m\u001b[0m\u001b[0m\n\u001b[0m\u001b[1;32m   1179\u001b[0m         )\n\u001b[1;32m   1180\u001b[0m         \u001b[0;32mif\u001b[0m \u001b[0mself\u001b[0m\u001b[0;34m.\u001b[0m\u001b[0m_has_events\u001b[0m \u001b[0;32mor\u001b[0m \u001b[0mself\u001b[0m\u001b[0;34m.\u001b[0m\u001b[0mengine\u001b[0m\u001b[0;34m.\u001b[0m\u001b[0m_has_events\u001b[0m\u001b[0;34m:\u001b[0m\u001b[0;34m\u001b[0m\u001b[0;34m\u001b[0m\u001b[0m\n",
            "\u001b[0;32m/usr/local/lib/python3.6/dist-packages/sqlalchemy/engine/base.py\u001b[0m in \u001b[0;36m_execute_context\u001b[0;34m(self, dialect, constructor, statement, parameters, *args)\u001b[0m\n\u001b[1;32m   1315\u001b[0m         \u001b[0;32mexcept\u001b[0m \u001b[0mBaseException\u001b[0m \u001b[0;32mas\u001b[0m \u001b[0me\u001b[0m\u001b[0;34m:\u001b[0m\u001b[0;34m\u001b[0m\u001b[0;34m\u001b[0m\u001b[0m\n\u001b[1;32m   1316\u001b[0m             self._handle_dbapi_exception(\n\u001b[0;32m-> 1317\u001b[0;31m                 \u001b[0me\u001b[0m\u001b[0;34m,\u001b[0m \u001b[0mstatement\u001b[0m\u001b[0;34m,\u001b[0m \u001b[0mparameters\u001b[0m\u001b[0;34m,\u001b[0m \u001b[0mcursor\u001b[0m\u001b[0;34m,\u001b[0m \u001b[0mcontext\u001b[0m\u001b[0;34m\u001b[0m\u001b[0;34m\u001b[0m\u001b[0m\n\u001b[0m\u001b[1;32m   1318\u001b[0m             )\n\u001b[1;32m   1319\u001b[0m \u001b[0;34m\u001b[0m\u001b[0m\n",
            "\u001b[0;32m/usr/local/lib/python3.6/dist-packages/sqlalchemy/engine/base.py\u001b[0m in \u001b[0;36m_handle_dbapi_exception\u001b[0;34m(self, e, statement, parameters, cursor, context)\u001b[0m\n\u001b[1;32m   1509\u001b[0m             \u001b[0;32melif\u001b[0m \u001b[0mshould_wrap\u001b[0m\u001b[0;34m:\u001b[0m\u001b[0;34m\u001b[0m\u001b[0;34m\u001b[0m\u001b[0m\n\u001b[1;32m   1510\u001b[0m                 util.raise_(\n\u001b[0;32m-> 1511\u001b[0;31m                     \u001b[0msqlalchemy_exception\u001b[0m\u001b[0;34m,\u001b[0m \u001b[0mwith_traceback\u001b[0m\u001b[0;34m=\u001b[0m\u001b[0mexc_info\u001b[0m\u001b[0;34m[\u001b[0m\u001b[0;36m2\u001b[0m\u001b[0;34m]\u001b[0m\u001b[0;34m,\u001b[0m \u001b[0mfrom_\u001b[0m\u001b[0;34m=\u001b[0m\u001b[0me\u001b[0m\u001b[0;34m\u001b[0m\u001b[0;34m\u001b[0m\u001b[0m\n\u001b[0m\u001b[1;32m   1512\u001b[0m                 )\n\u001b[1;32m   1513\u001b[0m             \u001b[0;32melse\u001b[0m\u001b[0;34m:\u001b[0m\u001b[0;34m\u001b[0m\u001b[0;34m\u001b[0m\u001b[0m\n",
            "\u001b[0;32m/usr/local/lib/python3.6/dist-packages/sqlalchemy/util/compat.py\u001b[0m in \u001b[0;36mraise_\u001b[0;34m(***failed resolving arguments***)\u001b[0m\n\u001b[1;32m    180\u001b[0m \u001b[0;34m\u001b[0m\u001b[0m\n\u001b[1;32m    181\u001b[0m         \u001b[0;32mtry\u001b[0m\u001b[0;34m:\u001b[0m\u001b[0;34m\u001b[0m\u001b[0;34m\u001b[0m\u001b[0m\n\u001b[0;32m--> 182\u001b[0;31m             \u001b[0;32mraise\u001b[0m \u001b[0mexception\u001b[0m\u001b[0;34m\u001b[0m\u001b[0;34m\u001b[0m\u001b[0m\n\u001b[0m\u001b[1;32m    183\u001b[0m         \u001b[0;32mfinally\u001b[0m\u001b[0;34m:\u001b[0m\u001b[0;34m\u001b[0m\u001b[0;34m\u001b[0m\u001b[0m\n\u001b[1;32m    184\u001b[0m             \u001b[0;31m# credit to\u001b[0m\u001b[0;34m\u001b[0m\u001b[0;34m\u001b[0m\u001b[0;34m\u001b[0m\u001b[0m\n",
            "\u001b[0;32m/usr/local/lib/python3.6/dist-packages/sqlalchemy/engine/base.py\u001b[0m in \u001b[0;36m_execute_context\u001b[0;34m(self, dialect, constructor, statement, parameters, *args)\u001b[0m\n\u001b[1;32m   1275\u001b[0m                 \u001b[0;32mif\u001b[0m \u001b[0;32mnot\u001b[0m \u001b[0mevt_handled\u001b[0m\u001b[0;34m:\u001b[0m\u001b[0;34m\u001b[0m\u001b[0;34m\u001b[0m\u001b[0m\n\u001b[1;32m   1276\u001b[0m                     self.dialect.do_execute(\n\u001b[0;32m-> 1277\u001b[0;31m                         \u001b[0mcursor\u001b[0m\u001b[0;34m,\u001b[0m \u001b[0mstatement\u001b[0m\u001b[0;34m,\u001b[0m \u001b[0mparameters\u001b[0m\u001b[0;34m,\u001b[0m \u001b[0mcontext\u001b[0m\u001b[0;34m\u001b[0m\u001b[0;34m\u001b[0m\u001b[0m\n\u001b[0m\u001b[1;32m   1278\u001b[0m                     )\n\u001b[1;32m   1279\u001b[0m \u001b[0;34m\u001b[0m\u001b[0m\n",
            "\u001b[0;32m/usr/local/lib/python3.6/dist-packages/sqlalchemy/engine/default.py\u001b[0m in \u001b[0;36mdo_execute\u001b[0;34m(self, cursor, statement, parameters, context)\u001b[0m\n\u001b[1;32m    591\u001b[0m \u001b[0;34m\u001b[0m\u001b[0m\n\u001b[1;32m    592\u001b[0m     \u001b[0;32mdef\u001b[0m \u001b[0mdo_execute\u001b[0m\u001b[0;34m(\u001b[0m\u001b[0mself\u001b[0m\u001b[0;34m,\u001b[0m \u001b[0mcursor\u001b[0m\u001b[0;34m,\u001b[0m \u001b[0mstatement\u001b[0m\u001b[0;34m,\u001b[0m \u001b[0mparameters\u001b[0m\u001b[0;34m,\u001b[0m \u001b[0mcontext\u001b[0m\u001b[0;34m=\u001b[0m\u001b[0;32mNone\u001b[0m\u001b[0;34m)\u001b[0m\u001b[0;34m:\u001b[0m\u001b[0;34m\u001b[0m\u001b[0;34m\u001b[0m\u001b[0m\n\u001b[0;32m--> 593\u001b[0;31m         \u001b[0mcursor\u001b[0m\u001b[0;34m.\u001b[0m\u001b[0mexecute\u001b[0m\u001b[0;34m(\u001b[0m\u001b[0mstatement\u001b[0m\u001b[0;34m,\u001b[0m \u001b[0mparameters\u001b[0m\u001b[0;34m)\u001b[0m\u001b[0;34m\u001b[0m\u001b[0;34m\u001b[0m\u001b[0m\n\u001b[0m\u001b[1;32m    594\u001b[0m \u001b[0;34m\u001b[0m\u001b[0m\n\u001b[1;32m    595\u001b[0m     \u001b[0;32mdef\u001b[0m \u001b[0mdo_execute_no_params\u001b[0m\u001b[0;34m(\u001b[0m\u001b[0mself\u001b[0m\u001b[0;34m,\u001b[0m \u001b[0mcursor\u001b[0m\u001b[0;34m,\u001b[0m \u001b[0mstatement\u001b[0m\u001b[0;34m,\u001b[0m \u001b[0mcontext\u001b[0m\u001b[0;34m=\u001b[0m\u001b[0;32mNone\u001b[0m\u001b[0;34m)\u001b[0m\u001b[0;34m:\u001b[0m\u001b[0;34m\u001b[0m\u001b[0;34m\u001b[0m\u001b[0m\n",
            "\u001b[0;31mOperationalError\u001b[0m: (sqlite3.OperationalError) table people already exists\n[SQL: \nCREATE TABLE people (\n    id INT AUTO_INCREMENT PRIMARY KEY,\n    first_name VARCHAR(50) NOT NULL,\n    last_name VARCHAR(50) NOT NULL,\n    birth_date DATE NOT NULL\n);\n]\n(Background on this error at: http://sqlalche.me/e/13/e3q8)"
          ]
        }
      ]
    },
    {
      "cell_type": "code",
      "metadata": {
        "id": "d00r9x71xYgO"
      },
      "source": [
        "engine.table_names()"
      ],
      "execution_count": null,
      "outputs": []
    },
    {
      "cell_type": "code",
      "metadata": {
        "id": "1tld4rn9xYpM"
      },
      "source": [
        "pd.read_sql('''SELECT * from people''', connection)"
      ],
      "execution_count": null,
      "outputs": []
    },
    {
      "cell_type": "markdown",
      "metadata": {
        "id": "HK4I_i6Pyk8q"
      },
      "source": [
        "Добавим элемент"
      ]
    },
    {
      "cell_type": "code",
      "metadata": {
        "id": "HwU9Vu4VqHQj"
      },
      "source": [
        "connection.execute('''\n",
        "INSERT INTO people(first_name, last_name, birth_date)\n",
        "VALUES('John','Doe','1990-09-01');\n",
        "''')"
      ],
      "execution_count": null,
      "outputs": []
    },
    {
      "cell_type": "markdown",
      "metadata": {
        "id": "ujZcNsq7yjPV"
      },
      "source": [
        "Посмотрим на результат"
      ]
    },
    {
      "cell_type": "code",
      "metadata": {
        "id": "UlTPeilgyfFF"
      },
      "source": [
        "pd.read_sql('''\n",
        "SELECT \n",
        "    first_name, \n",
        "    last_name, \n",
        "    birth_date\n",
        "FROM\n",
        "    people;\n",
        "''', connection)"
      ],
      "execution_count": null,
      "outputs": []
    },
    {
      "cell_type": "markdown",
      "metadata": {
        "id": "_qtkJ766yuL3"
      },
      "source": [
        "## Функции от дат"
      ]
    },
    {
      "cell_type": "code",
      "metadata": {
        "id": "XJSZqubizNTu"
      },
      "source": [
        "!pip install mysql-connector-python"
      ],
      "execution_count": null,
      "outputs": []
    },
    {
      "cell_type": "code",
      "metadata": {
        "id": "RZRazmmpyfPK"
      },
      "source": [
        "import datetime\n",
        "datetime.datetime.now() #текущее время"
      ],
      "execution_count": null,
      "outputs": []
    },
    {
      "cell_type": "code",
      "metadata": {
        "id": "OpmjMO4Gywo-"
      },
      "source": [
        "pd.read_sql('''\n",
        "SELECT CURRENT_TIMESTAMP\n",
        "''', connection)"
      ],
      "execution_count": null,
      "outputs": []
    },
    {
      "cell_type": "code",
      "metadata": {
        "id": "GAL3TJ-P19LU"
      },
      "source": [
        "pd.read_sql('''\n",
        "SELECT DATE(CURRENT_TIMESTAMP) as `текущее время`;\n",
        "''', connection)"
      ],
      "execution_count": null,
      "outputs": []
    },
    {
      "cell_type": "code",
      "metadata": {
        "id": "zkjNwB8Bywey"
      },
      "source": [
        "pd.read_sql('''\n",
        "SELECT CURRENT_TIME\n",
        "''', connection)"
      ],
      "execution_count": null,
      "outputs": []
    },
    {
      "cell_type": "markdown",
      "metadata": {
        "id": "G1L0QsEr9Z_q"
      },
      "source": [
        "## Работа с триггером\n",
        "\n",
        "Триггеры по своей сути представляют обработчики событий. Они выполняются при наступлении какого-либо простого действия в SQL. Такими действиями обычно являются: удаление, вставка и обновление данных.\n",
        "\n",
        "То есть, триггер — это по сути ловушка, которая срабатывает при определенном действии. Триггер позволяет автоматизировать некоторые расчетные рутинные действия. Примеры мы разберем дальше.\n",
        "\n",
        "Оператор для создания следующий:\n",
        "\n",
        "`CREATE TRIGGER name_trigger`\n",
        "\n",
        "После оператора и имени триггера необходимо указать в каком случае будет срабатывать триггер. Возможно 6 вариантов:\n",
        "\n",
        "* BEFORE INSERT\n",
        "* BEFORE UPDATE\n",
        "* BEFORE DELETE\n",
        "* AFTER INSERT\n",
        "* AFTER UPDATE\n",
        "* AFTER DELETE"
      ]
    },
    {
      "cell_type": "code",
      "metadata": {
        "id": "Qn2B8hiZ9eha"
      },
      "source": [
        "connection.execute(\n",
        "'''\n",
        "CREATE TABLE IF NOT EXISTS test_table(\n",
        "    id int INTEGER AUTO_INCREMENT PRIMARY KEY NOT NULL,\n",
        "    text TEXT NOT NULL\n",
        ");\n",
        "''')"
      ],
      "execution_count": null,
      "outputs": []
    },
    {
      "cell_type": "code",
      "metadata": {
        "id": "RXjeOmK59m6E"
      },
      "source": [
        "connection.execute('''\n",
        "    CREATE TABLE IF NOT EXISTS log_data(\n",
        "        id int AUTO_INCREMENT PRIMARY KEY,\n",
        "        action text not null,\n",
        "        table_name text not null\n",
        "    );\n",
        "''')"
      ],
      "execution_count": null,
      "outputs": []
    },
    {
      "cell_type": "code",
      "metadata": {
        "id": "lYFVO6GR_Zj_"
      },
      "source": [
        "connection.execute('''\n",
        "    CREATE TRIGGER log_changes AFTER INSERT ON test_table\n",
        "    FOR EACH ROW BEGIN\n",
        "        INSERT INTO log_data (table_name, action) \n",
        "        VALUES ('test_table', 'add row');\n",
        "    END;\n",
        "''')"
      ],
      "execution_count": null,
      "outputs": []
    },
    {
      "cell_type": "code",
      "metadata": {
        "id": "fP41iFDh9esN"
      },
      "source": [
        "connection.execute('''\n",
        "insert into test_table(id, text) values (1, 'tt')\n",
        "''')"
      ],
      "execution_count": null,
      "outputs": []
    },
    {
      "cell_type": "code",
      "metadata": {
        "id": "t8EB0mPG-Ec-"
      },
      "source": [
        "pd.read_sql('Select * from test_table', connection)"
      ],
      "execution_count": null,
      "outputs": []
    },
    {
      "cell_type": "code",
      "metadata": {
        "id": "lZoi0DRj9euw"
      },
      "source": [
        "pd.read_sql('Select * from log_data', connection)"
      ],
      "execution_count": null,
      "outputs": []
    },
    {
      "cell_type": "code",
      "metadata": {
        "id": "wKBZUDNP_y67"
      },
      "source": [
        "connection.execute('''\n",
        "insert into test_table(id, text) values (2, 'tt')\n",
        "''')"
      ],
      "execution_count": null,
      "outputs": []
    },
    {
      "cell_type": "code",
      "metadata": {
        "id": "bw81iNJg_zG_"
      },
      "source": [
        "pd.read_sql('Select * from log_data', connection)"
      ],
      "execution_count": null,
      "outputs": []
    },
    {
      "cell_type": "markdown",
      "metadata": {
        "id": "QCZ58eH2AE0M"
      },
      "source": [
        "Создание базы данных подписок по id"
      ]
    },
    {
      "cell_type": "code",
      "metadata": {
        "id": "FddD76GpADex"
      },
      "source": [
        "connection.execute('''\n",
        "CREATE TABLE IF NOT EXISTS subscriptions(\n",
        "    subscriptionId INT AUTO_INCREMENT,\n",
        "    userId INT,\n",
        "    dailyEmail BOOLEAN NOT NULL DEFAULT FALSE,\n",
        "    weeklyEmail BOOLEAN NOT NULL DEFAULT FALSE,\n",
        "    specialOffer BOOLEAN NOT NULL DEFAULT FALSE,\n",
        "    phone BOOLEAN NOT NULL DEFAULT FALSE,\n",
        "    PRIMARY KEY (subscriptionId)\n",
        "    );\n",
        "''')"
      ],
      "execution_count": null,
      "outputs": []
    },
    {
      "cell_type": "markdown",
      "metadata": {
        "id": "5n35eu7LAJHP"
      },
      "source": [
        "Создание базы данных пользователей с внешним ключем на список подписок"
      ]
    },
    {
      "cell_type": "code",
      "metadata": {
        "id": "vw1SpcrcADq5"
      },
      "source": [
        "connection.execute('''\n",
        "CREATE TABLE IF NOT EXISTS users(\n",
        "    userId INT AUTO_INCREMENT,\n",
        "    subscription_id INT,\n",
        "    firstName VARCHAR(255) NOT NULL,\n",
        "    secondName VARCHAR(255) NOT NULL,\n",
        "    email VARCHAR(255) NOT NULL,\n",
        "    emailConfimed BOOLEAN NOT NULL DEFAULT FALSE,\n",
        "    PRIMARY KEY (userId),\n",
        "    FOREIGN KEY (subscription_id)\n",
        "        REFERENCES subscriptions(subscriptionId)\n",
        "        ON UPDATE RESTRICT ON DELETE CASCADE\n",
        "    );\n",
        "''')"
      ],
      "execution_count": null,
      "outputs": []
    },
    {
      "cell_type": "markdown",
      "metadata": {
        "id": "JsN2ORwZAOOT"
      },
      "source": [
        "Загрузим пустую бд и удалим id (чтоб не получить ошибки автоинкремента)"
      ]
    },
    {
      "cell_type": "code",
      "metadata": {
        "id": "YfWVewCzAD4O"
      },
      "source": [
        "subscriptions = pd.read_sql('Select * from subscriptions', connection)\n",
        "# дропаем столбец, который автоинкрементируется\n",
        "del subscriptions['subscriptionId']\n",
        "subscriptions.head()"
      ],
      "execution_count": null,
      "outputs": []
    },
    {
      "cell_type": "markdown",
      "metadata": {
        "id": "Pd5TWDImAQtd"
      },
      "source": [
        "добавим строку в конец датафрейма"
      ]
    },
    {
      "cell_type": "code",
      "metadata": {
        "id": "843IXEF3AD61"
      },
      "source": [
        "subscriptions.loc[len(subscriptions)] = [0, False, False, False, False]\n",
        "subscriptions.head()"
      ],
      "execution_count": null,
      "outputs": []
    },
    {
      "cell_type": "markdown",
      "metadata": {
        "id": "_pLNxwlkAV6W"
      },
      "source": [
        "Добавим датафрейм в таблицу"
      ]
    },
    {
      "cell_type": "code",
      "metadata": {
        "id": "azOHj7C1ARqO"
      },
      "source": [
        "# добавляем в конец\n",
        "subscriptions.to_sql('subscriptions', connection, if_exists='append', index=False)"
      ],
      "execution_count": null,
      "outputs": []
    },
    {
      "cell_type": "code",
      "metadata": {
        "id": "fuVJkyqeAXgy"
      },
      "source": [
        "pd.read_sql('Select * from subscriptions', connection)"
      ],
      "execution_count": null,
      "outputs": []
    },
    {
      "cell_type": "markdown",
      "metadata": {
        "id": "ZyQFsIVgAeJq"
      },
      "source": [
        "\n",
        "Создадим пользователя и удалим userId (чтоб не было ошибок автоинкремента)"
      ]
    },
    {
      "cell_type": "code",
      "metadata": {
        "id": "NOJg_X2iAXtW"
      },
      "source": [
        "# создаем пользователя\n",
        "users = pd.read_sql('Select * from users', connection)\n",
        "# дропаем столбец, который автоинкрементируется\n",
        "del users['userId']\n",
        "users.head()"
      ],
      "execution_count": null,
      "outputs": []
    },
    {
      "cell_type": "code",
      "metadata": {
        "id": "uvXQ9gZ-ARsx"
      },
      "source": [
        "users.loc[len(users)] = [1, 'Illya', 'Tykhov', 'tixons.work@gmail.com', True]\n",
        "users.head()"
      ],
      "execution_count": null,
      "outputs": []
    },
    {
      "cell_type": "markdown",
      "metadata": {
        "id": "Zran9v4kAoiI"
      },
      "source": [
        "Добавим датафрейм в таблицу sql"
      ]
    },
    {
      "cell_type": "code",
      "metadata": {
        "id": "e0aDpDulAEQz"
      },
      "source": [
        "users.to_sql('users', connection, if_exists='append', index=False)"
      ],
      "execution_count": null,
      "outputs": []
    },
    {
      "cell_type": "code",
      "metadata": {
        "id": "Uy7tyfG5Akgv"
      },
      "source": [
        "pd.read_sql('Select * from users', connection)"
      ],
      "execution_count": null,
      "outputs": []
    },
    {
      "cell_type": "markdown",
      "metadata": {
        "id": "HOHZx79eBdiG"
      },
      "source": [
        "Агрегатная функция выполняет вычисление для нескольких значений и возвращает одно значение. Например, можно использовать агрегатную функцию AVG (), которая принимает несколько чисел и возвращает среднее значение чисел. Синтаксис:\n",
        "\n",
        "`\n",
        "function_name(DISTINCT | ALL expression)\n",
        "`"
      ]
    },
    {
      "cell_type": "code",
      "metadata": {
        "id": "qNhaSleQBVlJ"
      },
      "source": [
        "pd.read_sql('''\n",
        "SELECT \n",
        "    COUNT(subscription_id) `количество`,\n",
        "    AVG(subscription_id) `средняя величина`,\n",
        "    MIN(subscription_id) `минимальная величина`,\n",
        "    MAX(subscription_id) `максимальная величина`\n",
        "FROM \n",
        "    users;\n",
        "''', connection)"
      ],
      "execution_count": null,
      "outputs": []
    },
    {
      "cell_type": "code",
      "metadata": {
        "id": "63Qq_dJWB2rL"
      },
      "source": [
        "pd.read_sql('''\n",
        "SELECT \n",
        "    firstName `Имя`, \n",
        "    COUNT(*) `Количество`\n",
        "FROM\n",
        "    users\n",
        "GROUP BY subscription_id\n",
        "ORDER BY subscription_id;\n",
        "''', connection)"
      ],
      "execution_count": null,
      "outputs": []
    },
    {
      "cell_type": "code",
      "metadata": {
        "id": "S63hrWPhIzUq"
      },
      "source": [
        "# Пример интерфейса для работы с данными"
      ],
      "execution_count": null,
      "outputs": []
    },
    {
      "cell_type": "code",
      "metadata": {
        "id": "Cy7OzdFTI3pn"
      },
      "source": [
        "import sqlite3\n",
        "conn = sqlite3.connect('mydatabase.db')\n",
        "\n",
        "cursor = conn.cursor()"
      ],
      "execution_count": null,
      "outputs": []
    },
    {
      "cell_type": "code",
      "metadata": {
        "id": "g0Opz_OOI34b"
      },
      "source": [
        "cursor.execute(\n",
        "'''\n",
        "CREATE TABLE user\n",
        "    (id INTEGER PRIMARY KEY AUTOINCREMENT,\n",
        "    name VARCHAR(255),\n",
        "    lastName VARCHAR(255),\n",
        "    age integer,\n",
        "    deletedFlg integer\n",
        "    )\n",
        "'''\n",
        ")\n",
        "conn.commit()"
      ],
      "execution_count": null,
      "outputs": []
    },
    {
      "cell_type": "code",
      "metadata": {
        "id": "5PwPbgbeI4HZ"
      },
      "source": [
        "cursor.execute(\n",
        "'''\n",
        "INSERT INTO user(\n",
        "    name,\n",
        "    lastName,\n",
        "    age,\n",
        "    deletedFlg\n",
        ")\n",
        "VALUES ('Петя', 'Иванов', 31, 0)\n",
        "'''\n",
        ")\n",
        "conn.commit()"
      ],
      "execution_count": null,
      "outputs": []
    },
    {
      "cell_type": "code",
      "metadata": {
        "id": "f2z6fXExI4Kb"
      },
      "source": [
        "cursor.execute('SELECT * FROM user')\n",
        "db_ =  cursor.fetchall()\n",
        "\n",
        "for element in db_:\n",
        "    print(element)"
      ],
      "execution_count": null,
      "outputs": []
    },
    {
      "cell_type": "markdown",
      "metadata": {
        "id": "sjKHYejeJ1ii"
      },
      "source": [
        "Добавим еще элементов 2умя способами"
      ]
    },
    {
      "cell_type": "markdown",
      "metadata": {
        "id": "mnC03T0yJ45B"
      },
      "source": [
        "1 способ"
      ]
    },
    {
      "cell_type": "code",
      "metadata": {
        "id": "UrE21eYeI4b5"
      },
      "source": [
        "cursor.execute(\n",
        "'''\n",
        "INSERT INTO user(\n",
        "    name,\n",
        "    lastName,\n",
        "    age,\n",
        "    deletedFlg\n",
        ")\n",
        "VALUES ('Катя', 'Петрова', 30, 0),\n",
        "        ('Аня', 'Воронцова', 25, 0),\n",
        "        ('Дима', 'Петров', 35, 0)\n",
        "'''\n",
        ")\n",
        "conn.commit()"
      ],
      "execution_count": null,
      "outputs": []
    },
    {
      "cell_type": "code",
      "metadata": {
        "id": "VucwRbBzJjBM"
      },
      "source": [
        "cursor.execute('SELECT * FROM user')\n",
        "db_ =  cursor.fetchall()\n",
        "\n",
        "for element in db_:\n",
        "    print(element)"
      ],
      "execution_count": null,
      "outputs": []
    },
    {
      "cell_type": "markdown",
      "metadata": {
        "id": "JOUotcYdJ7sJ"
      },
      "source": [
        "2 способ"
      ]
    },
    {
      "cell_type": "code",
      "metadata": {
        "id": "TK4JhQX3J7Ez"
      },
      "source": [
        "values = [\n",
        "          ('Карина', 'Иванова', 26, 0),\n",
        "          ('Вася', 'Воронцов', 28, 0),\n",
        "          ('Света', 'Михайлова', 31, 0)\n",
        "]\n",
        "\n",
        "cursor.executemany('''\n",
        "INSERT INTO user(\n",
        "    name,\n",
        "    lastName,\n",
        "    age,\n",
        "    deletedFlg\n",
        ")\n",
        "VALUES (?, ?, ?, ?)\n",
        "''', values)\n",
        "conn.commit()"
      ],
      "execution_count": null,
      "outputs": []
    },
    {
      "cell_type": "code",
      "metadata": {
        "id": "4CtHmsK3KG9X"
      },
      "source": [
        "cursor.execute('SELECT * FROM user')\n",
        "db_ =  cursor.fetchall()\n",
        "\n",
        "for element in db_:\n",
        "    print(element)"
      ],
      "execution_count": null,
      "outputs": []
    },
    {
      "cell_type": "markdown",
      "metadata": {
        "id": "FYtlz-y-Jk3F"
      },
      "source": [
        "ЗАДАНИЕ\n",
        "\n",
        "Как вывести результат в таблице pandas dataframe?"
      ]
    },
    {
      "cell_type": "code",
      "metadata": {
        "id": "P6-XBwIzJuzv"
      },
      "source": [
        "# TODO\n",
        "df = pd.read_sql('SELECT * FROM user', conn)\n",
        "df"
      ],
      "execution_count": null,
      "outputs": []
    },
    {
      "cell_type": "markdown",
      "metadata": {
        "id": "PszocDAeKKuq"
      },
      "source": [
        "Пример интерфейса для дальнейшей работы с данными"
      ]
    },
    {
      "cell_type": "code",
      "metadata": {
        "id": "t_m6eI84KOuV"
      },
      "source": [
        "import sqlite3\n",
        "import pandas as pd\n",
        "\n",
        "class my_interface():\n",
        "    # db_name - название таблицы\n",
        "    def __init__(self, db_name):\n",
        "        # создаем объект подключения с названием бд\n",
        "        self.conn = sqlite3.connect(f'{db_name}.db')\n",
        "        # операции с бд\n",
        "        self.cursor = self.conn.cursor()\n",
        "        \n",
        "        # создание таблиц\n",
        "        # таблица пользователей\n",
        "        self.create_users()\n",
        "        # таблица логирования\n",
        "        self.create_log_info()\n",
        "        \n",
        "#         print(pd.read_sql(\"SELECT name FROM sqlite_master WHERE type='table';\", conn) )\n",
        "    \n",
        "    # создание таблицы пользователей\n",
        "    def create_users(self):\n",
        "        try:\n",
        "            self.cursor.execute(\n",
        "            '''\n",
        "            CREATE TABLE users\n",
        "                (id INTEGER PRIMARY KEY AUTOINCREMENT,\n",
        "                name VARCHAR(255),\n",
        "                lastName VARCHAR(255),\n",
        "                age integer,\n",
        "                deletedFlg integer\n",
        "                )\n",
        "            '''\n",
        "            )\n",
        "        except Exception as e:\n",
        "            print(e)\n",
        "      \n",
        "    # создание таблицы логирования\n",
        "    def create_log_info(self):\n",
        "        try:\n",
        "            self.cursor.execute(\n",
        "            '''\n",
        "            CREATE TABLE loginfo\n",
        "                (id INTEGER PRIMARY KEY AUTOINCREMENT,\n",
        "                tablename VARCHAR(255) NOT NULL,\n",
        "                action VARCHAR(255) NOT NULL,\n",
        "                timestamp DATE DEFAULT (datetime('now','localtime'))\n",
        "                )\n",
        "            '''\n",
        "            )\n",
        "        except Exception as e:\n",
        "            print(e)\n",
        "      \n",
        "    # логирование действий\n",
        "    def log_info(self, tablename, action):\n",
        "        self.cursor.execute(f'INSERT INTO loginfo(tablename, action) VALUES (\\'{tablename}\\', \\'{action}\\');')\n",
        "        self.conn.commit()\n",
        "      \n",
        "    # логическое удаление из таблицы tablename по id\n",
        "    def delete(self, tablename, id_, **kwargs):\n",
        "        print(f'UPDATE {tablename} SET deletedFlg = 1 WHERE id = {id_}')\n",
        "        self.cursor.execute(f'UPDATE {tablename} SET deletedFlg = 1 WHERE id = {id_}')\n",
        "        self.log_info(tablename, 'delete')\n",
        "        self.conn.commit()\n",
        "\n",
        "    # отобразить данные из тыблицы tablename с ограничениями, описанными в kwargs\n",
        "    def show_data(self, tablename, **kwargs):\n",
        "        self.log_info(tablename, 'show')\n",
        "        if kwargs != {}:\n",
        "            if kwargs.get('limit') is not None:\n",
        "                # возвращаем запрос с ограничениями на кол-во элементов, которые считываем из kwargs\n",
        "                return pd.read_sql(f\"SELECT * FROM {tablename} LIMIT {kwargs.get('limit')};\", self.conn) \n",
        "        return pd.read_sql(f\"SELECT * FROM {tablename}\", self.conn) \n",
        "      \n",
        "#     def add_users(self, values):\n",
        "#         self.cursor.executemany('''\n",
        "#         INSERT INTO users(    \n",
        "#             name,\n",
        "#             lastName,\n",
        "#             age,\n",
        "#             deletedFlg\n",
        "#         )\n",
        "#         VALUES (?, ?, ?, ?)\n",
        "#         ''', values)\n",
        "#         self.conn.commit()\n",
        "    \n",
        "    # добавление данных в таблицу tablename с полями, описанными в fields (list)\n",
        "    def add_data(self, tablename, fields, values):\n",
        "        # продумать интеграцию через to_sql библиотеки pandas\n",
        "        # вставляем значения в таблицу, распаковываем названия полей и ? для подстановки данных\n",
        "        # объединяем в одну строку суммированием\n",
        "        self.cursor.executemany(\n",
        "              \"INSERT INTO \" + \n",
        "              tablename + '(' + \n",
        "              ', '.join(fields) +\n",
        "              ') VALUES (' + \n",
        "              ', '.join(['?' for i in range(len(values[0]))]) + ');'\n",
        "        , values)\n",
        "        self.conn.commit()\n",
        "        self.log_info(tablename, 'add')\n"
      ],
      "execution_count": null,
      "outputs": []
    },
    {
      "cell_type": "code",
      "metadata": {
        "id": "IQWi-jUbKay1"
      },
      "source": [
        "values = [\n",
        "          ('Аня', 'Иванова', 26, 0),\n",
        "          ('Вася', 'Воронцов', 28, 0),\n",
        "          ('Лена', 'Петрова', 31, 0)\n",
        "        ]\n",
        "        "
      ],
      "execution_count": null,
      "outputs": []
    },
    {
      "cell_type": "markdown",
      "metadata": {
        "id": "7bK17g7fKk-N"
      },
      "source": [
        "ЗАДАНИЕ\n",
        "\n",
        "1. Создать таблицу при помощи my_interface()"
      ]
    },
    {
      "cell_type": "code",
      "metadata": {
        "id": "ddOFKcZCNF1C"
      },
      "source": [
        "# TODO"
      ],
      "execution_count": null,
      "outputs": []
    },
    {
      "cell_type": "code",
      "metadata": {
        "id": "BT_RjoUULRXi"
      },
      "source": [
        "interface.show_data('users')"
      ],
      "execution_count": null,
      "outputs": []
    },
    {
      "cell_type": "markdown",
      "metadata": {
        "id": "r55XnePBKzCz"
      },
      "source": [
        "2. Добавить данные в таблицу `users` при помощи метода add_data()"
      ]
    },
    {
      "cell_type": "code",
      "metadata": {
        "id": "jOrRavs1NIoq"
      },
      "source": [
        "# TODO"
      ],
      "execution_count": null,
      "outputs": []
    },
    {
      "cell_type": "code",
      "metadata": {
        "id": "UXUVNnMlLAEu"
      },
      "source": [
        "interface.show_data('users')"
      ],
      "execution_count": null,
      "outputs": []
    },
    {
      "cell_type": "markdown",
      "metadata": {
        "id": "vK6l-k5ULgVp"
      },
      "source": [
        "3. Удалить пользователя с id = 1 при помощи delete()"
      ]
    },
    {
      "cell_type": "code",
      "metadata": {
        "id": "cpZNjSzKNKHG"
      },
      "source": [
        "# TODO"
      ],
      "execution_count": null,
      "outputs": []
    },
    {
      "cell_type": "code",
      "metadata": {
        "id": "hXc5cRSbK5Jo"
      },
      "source": [
        "interface.show_data('users')"
      ],
      "execution_count": null,
      "outputs": []
    },
    {
      "cell_type": "markdown",
      "metadata": {
        "id": "YowWDOSjLq7T"
      },
      "source": [
        "4. Вывести логи по всем предыдущим операциям show_data('loginfo', limit = 5)"
      ]
    },
    {
      "cell_type": "code",
      "metadata": {
        "id": "a1gTbDuRNLTy"
      },
      "source": [
        "# TODO"
      ],
      "execution_count": null,
      "outputs": []
    },
    {
      "cell_type": "markdown",
      "metadata": {
        "id": "kZkT8LzDThIA"
      },
      "source": [
        "# ORM (объектно-реляционное отображение) на примере SQLalchemy"
      ]
    },
    {
      "cell_type": "markdown",
      "metadata": {
        "id": "Dwdjv9HgTnZZ"
      },
      "source": [
        "В этой части мы пройдем основные функции и подходы к созданию БД при помощи такого замечательного инструмента как SQLAlchemy :)"
      ]
    },
    {
      "cell_type": "markdown",
      "metadata": {
        "id": "txyJbOACsGKF"
      },
      "source": [
        "Переключим наше внимание на объектно-реляционное отображение. Первой целью является использование описанной нами системы таблиц метаданных для предоставления возможности переноса функций заданного пользователем класса на коллекцию столбцов в таблице базы данных. Второй целью является предоставление возможности описания отношений между заданными пользователем классами, которые будут основываться на отношениях между таблицами в базе данных.\n",
        "\n",
        "В **SQLAlchemy** такая связь называется «отображением», что соответствует широко известному шаблону проектирования с названием «DataMapper»"
      ]
    },
    {
      "cell_type": "markdown",
      "metadata": {
        "id": "6c5sZ6H_sQp0"
      },
      "source": [
        "## Классическое представление классов таблиц"
      ]
    },
    {
      "cell_type": "markdown",
      "metadata": {
        "id": "KP9i3rXYsYKX"
      },
      "source": [
        "Объект класса `sqlalchemy.orm.mapper.Mapper` связывает колонки из схемы таблицы и атрибуты Python класса."
      ]
    },
    {
      "cell_type": "code",
      "metadata": {
        "id": "zbSSgbIc2_Lv"
      },
      "source": [
        "from sqlalchemy import Table, MetaData, Column, Integer, String, ForeignKey\n",
        "from sqlalchemy.orm import mapper, relationship\n",
        "\n",
        "metadata = MetaData()\n",
        "\n",
        "user = Table('user', metadata,\n",
        "             Column('id', Integer, primary_key=True),\n",
        "             Column('name', String(50)),\n",
        "             Column('fullname', String(50)),\n",
        "             Column('password', String(12))\n",
        "             )\n",
        "\n",
        "\n",
        "address = Table('address', metadata,\n",
        "                Column('id', Integer, primary_key=True),\n",
        "                Column('user_id', Integer, ForeignKey('user.id')),\n",
        "                Column('email_address', String(50))\n",
        "                )\n",
        "\n",
        "\n",
        "class User(object):\n",
        "    pass\n",
        "\n",
        "\n",
        "class Address(object):\n",
        "    pass\n",
        "\n",
        "print(dir(User))\n",
        "\n",
        "mapper(\n",
        "    User, user,\n",
        "    properties={\n",
        "        'addresses': relationship(Address, backref='user',\n",
        "                                  order_by=address.c.id)\n",
        "    })\n",
        "\n",
        "print(dir(User))\n",
        "\n",
        "mapper(Address, address)"
      ],
      "execution_count": null,
      "outputs": []
    },
    {
      "cell_type": "markdown",
      "metadata": {
        "id": "BYg54dxDshzM"
      },
      "source": [
        "## Декларативное представление классов таблиц"
      ]
    },
    {
      "cell_type": "markdown",
      "metadata": {
        "id": "gz5c6LBSslyA"
      },
      "source": [
        "Каждый класс, представляющий таблицу в БД, должен наследоваться от базового класса который создается при помощи функции `sqlalchemy.ext.declarative.declarative_base().`"
      ]
    },
    {
      "cell_type": "code",
      "metadata": {
        "id": "1FybWPQVqHfp"
      },
      "source": [
        "from sqlalchemy.ext.declarative import declarative_base\n",
        "Base = declarative_base()\n"
      ],
      "execution_count": null,
      "outputs": []
    },
    {
      "cell_type": "code",
      "metadata": {
        "id": "g3rcxgKuJJTm"
      },
      "source": [
        "from sqlalchemy import Column, Integer, String\n",
        "\n",
        "class User(Base):\n",
        "     __tablename__ = 'user'\n",
        "\n",
        "     id = Column(Integer, primary_key=True)\n",
        "     name = Column(String)\n",
        "     fullname = Column(String)\n",
        "\n",
        "     def __repr__(self):\n",
        "         return \"<User(%r, %r)>\" % (\n",
        "                 self.name, self.fullname\n",
        "             )"
      ],
      "execution_count": null,
      "outputs": []
    },
    {
      "cell_type": "markdown",
      "metadata": {
        "id": "h-_3zplBs6rY"
      },
      "source": [
        "## Схема таблицы"
      ]
    },
    {
      "cell_type": "markdown",
      "metadata": {
        "id": "-EeEeeYss9hH"
      },
      "source": [
        "Для каждого класса унаследованного от базового автоматически создается схема таблицы (объект класса sqlalchemy.schema.Table) и привязывается к нему через атрибут` __table__.`"
      ]
    },
    {
      "cell_type": "code",
      "metadata": {
        "id": "yxqs2RUps4Nl"
      },
      "source": [
        "User.__table__"
      ],
      "execution_count": null,
      "outputs": []
    },
    {
      "cell_type": "markdown",
      "metadata": {
        "id": "PfyVBINXtDN5"
      },
      "source": [
        "## MetaData"
      ]
    },
    {
      "cell_type": "markdown",
      "metadata": {
        "id": "nWgQ5QtltGbF"
      },
      "source": [
        "Любой класс таблицы автоматически ассоциируется с объектом sqlalchemy.schema.Table, который автоматически добавляется в список `sqlalchemy.schema.MetaData. `\n",
        "\n",
        "Базовый класс `Base`, созданный при помощи функции `sqlalchemy.ext.declarative.declarative_base()`, является более высокоуровневой абстракцией над `sqlalchemy.schema.MetaData`, которая позволяет описывать таблицы декларативным способом. Таким образом все классы-таблицы имеют свою схему, которая хранится в атрибуте metadata базового класса Base:"
      ]
    },
    {
      "cell_type": "code",
      "metadata": {
        "id": "S8MymSzEs4gm"
      },
      "source": [
        "Base.metadata"
      ],
      "execution_count": null,
      "outputs": []
    },
    {
      "cell_type": "code",
      "metadata": {
        "id": "279Z_l_stBID"
      },
      "source": [
        "Base.metadata.tables.items()"
      ],
      "execution_count": null,
      "outputs": []
    },
    {
      "cell_type": "markdown",
      "metadata": {
        "id": "qhfMiKdYtVbR"
      },
      "source": [
        "Благодаря тому что Base содержит в себе объект `sqlalchemy.schema.MetaData`, вы можете пользоваться всеми его возможностями."
      ]
    },
    {
      "cell_type": "code",
      "metadata": {
        "id": "iqj_S0NdtBao"
      },
      "source": [
        "from sqlalchemy import create_engine\n",
        "engine = create_engine('sqlite://')\n",
        "Base.metadata.create_all(engine)"
      ],
      "execution_count": null,
      "outputs": []
    },
    {
      "cell_type": "markdown",
      "metadata": {
        "id": "YpRExr-Btfla"
      },
      "source": [
        "## Mapper"
      ]
    },
    {
      "cell_type": "markdown",
      "metadata": {
        "id": "5Xv05ph0tlPQ"
      },
      "source": [
        "Объект класса `sqlalchemy.orm.mapper.Mapper` связывает колонки из схемы таблицы и атрибуты из класса таблицы унаследованного от Base."
      ]
    },
    {
      "cell_type": "code",
      "metadata": {
        "id": "REk0CCQftBd-"
      },
      "source": [
        "from sqlalchemy import Column, ForeignKey, Integer, String\n",
        "from sqlalchemy.ext.declarative import declarative_base\n",
        "from sqlalchemy.orm import relationship\n",
        "\n",
        "Base = declarative_base()\n",
        "\n",
        "\n",
        "class User(Base):\n",
        "    __tablename__ = 'user'\n",
        "\n",
        "    id = Column(Integer, primary_key=True)\n",
        "    name = Column(String)\n",
        "    fullname = Column(String)\n",
        "    password = Column('password', String)\n",
        "\n",
        "    addresses = relationship(\"Address\", backref=\"user\",\n",
        "                             order_by=\"Address.id\")\n",
        "\n",
        "\n",
        "class Address(Base):\n",
        "    __tablename__ = 'address'\n",
        "\n",
        "    id = Column(Integer, primary_key=True)\n",
        "    user_id = Column(ForeignKey('user.id'))\n",
        "    email_address = Column(String)\n",
        "\n",
        "address1 = Address(email_address=\"vas@example.com\")\n",
        "address2 = Address(email_address=\"vas2@example.com\")\n",
        "address3 = Address(email_address=\"vasya@example.com\")\n",
        "\n",
        "print(\"Mapper relationship: \" + str(User.__mapper__.relationships))\n",
        "print(\"Mapper columns: \" + str(User.__mapper__.c.items()))\n",
        "\n",
        "user1 = User(name=\"Вася\")\n",
        "user1.addresses = [address1, address2, address3]\n",
        "print(\"User1 columns: \" + str(user1.__table__.c.items()))\n",
        "print(address1.user.name)"
      ],
      "execution_count": null,
      "outputs": []
    },
    {
      "cell_type": "code",
      "metadata": {
        "id": "FKNgvGgtxp-q"
      },
      "source": [
        "engine = create_engine('sqlite://')\n",
        "Base.metadata.create_all(engine)"
      ],
      "execution_count": null,
      "outputs": []
    },
    {
      "cell_type": "markdown",
      "metadata": {
        "id": "PeJwLX1jtvAZ"
      },
      "source": [
        "## Конструктор класса"
      ]
    },
    {
      "cell_type": "markdown",
      "metadata": {
        "id": "sx-9FTC2tz7t"
      },
      "source": [
        "Декларативно описанный класс таблицы содержит в себе конструктор по умолчанию."
      ]
    },
    {
      "cell_type": "code",
      "metadata": {
        "id": "4Wgm3cA_txFc"
      },
      "source": [
        "ed_user = User(name='ed', fullname='Edward Jones', password = '123456')"
      ],
      "execution_count": null,
      "outputs": []
    },
    {
      "cell_type": "markdown",
      "metadata": {
        "id": "pKMBQVb3t67E"
      },
      "source": [
        "Можно переопределить конструктор вручную\n",
        "\n",
        "```\n",
        "class User(Base):\n",
        "    __tablename__ = 'user'\n",
        "\n",
        "    def __init__(self, name, fullname):\n",
        "       self.name = name\n",
        "       self.fullname = fullname\n",
        "\n",
        "    id = Column(Integer, primary_key=True)\n",
        "    name = Column(String)\n",
        "    fullname = Column(String)\n",
        "    password = Column(String)\n",
        "\n",
        "    addresses = relationship(\"Address\", backref=\"user\",\n",
        "                             order_by=\"Address.id\")\n",
        "```"
      ]
    },
    {
      "cell_type": "markdown",
      "metadata": {
        "id": "ZGD9H06ZuKGZ"
      },
      "source": [
        "Поле `User.id` является первичным ключом, если его значение не указанно явно или такой id не существует в БД, то объект считается новым. После записи объекта в БД, значение поля id автоматически присваивается."
      ]
    },
    {
      "cell_type": "code",
      "metadata": {
        "id": "NklPYGLptxuI"
      },
      "source": [
        "print(ed_user.name, ed_user.fullname, ed_user.password)"
      ],
      "execution_count": null,
      "outputs": []
    },
    {
      "cell_type": "code",
      "metadata": {
        "id": "QfAErzkutxxV"
      },
      "source": [
        "print(ed_user.id)"
      ],
      "execution_count": null,
      "outputs": []
    },
    {
      "cell_type": "markdown",
      "metadata": {
        "id": "gajlh9mkuW0K"
      },
      "source": [
        "## Сессии"
      ]
    },
    {
      "cell_type": "markdown",
      "metadata": {
        "id": "yuPGEoq7uatn"
      },
      "source": [
        "Сессии являются более абстрактным уровнем над механизмом соединения с СУБД `sqlalchemy.engine.Engine.` Они включают в себя функции хранения состояния объектов таблиц и записи этого состояния, по требованию, в БД.\n",
        "\n",
        "См:\n",
        "\n",
        "http://docs.sqlalchemy.org/en/latest/orm/session_basics.html\n",
        "\n",
        "https://ru.wikibooks.org/wiki/SQLAlchemy/Sessions"
      ]
    },
    {
      "cell_type": "markdown",
      "metadata": {
        "id": "kBZHIYv0umXh"
      },
      "source": [
        "Сессии создаются при помощи экземпляра класса `sqlalchemy.orm.session.Session.`"
      ]
    },
    {
      "cell_type": "code",
      "metadata": {
        "id": "xma3cHkntyGP"
      },
      "source": [
        "from sqlalchemy.orm import Session\n",
        "session = Session(bind=engine)"
      ],
      "execution_count": null,
      "outputs": []
    },
    {
      "cell_type": "code",
      "metadata": {
        "id": "WHUX1MMjtyal"
      },
      "source": [
        "session.add(ed_user)"
      ],
      "execution_count": null,
      "outputs": []
    },
    {
      "cell_type": "code",
      "metadata": {
        "id": "dKuXJcX4w7HS"
      },
      "source": [
        "session.commit()"
      ],
      "execution_count": null,
      "outputs": []
    },
    {
      "cell_type": "markdown",
      "metadata": {
        "id": "dJHUoFYwux8V"
      },
      "source": [
        "Перед выполнением любого запроса из сессии, состояние сессии автоматически переносится в БД. В нашем случае, не сохраненный объект `ed_user` добавляется в БД."
      ]
    },
    {
      "cell_type": "code",
      "metadata": {
        "id": "rW3CjoW3usFC"
      },
      "source": [
        "our_user = session.query(User).filter_by(name='ed').first()"
      ],
      "execution_count": null,
      "outputs": []
    },
    {
      "cell_type": "code",
      "metadata": {
        "id": "lJCIenUqusah"
      },
      "source": [
        "our_user"
      ],
      "execution_count": null,
      "outputs": []
    },
    {
      "cell_type": "code",
      "metadata": {
        "id": "vdP6AB1ltyu-"
      },
      "source": [
        "our_user.id"
      ],
      "execution_count": null,
      "outputs": []
    },
    {
      "cell_type": "code",
      "metadata": {
        "id": "v4BI_ofEs4jw"
      },
      "source": [
        "ed_user.id\n"
      ],
      "execution_count": null,
      "outputs": []
    },
    {
      "cell_type": "markdown",
      "metadata": {
        "id": "0-aMpjmtx9hd"
      },
      "source": [
        "Что проверяет следующее условие?"
      ]
    },
    {
      "cell_type": "code",
      "metadata": {
        "id": "mt8wMDfss45r"
      },
      "source": [
        "ed_user == our_user is ed_user"
      ],
      "execution_count": null,
      "outputs": []
    },
    {
      "cell_type": "code",
      "metadata": {
        "id": "dN4N6xRSyELU"
      },
      "source": [
        "session.add_all([\n",
        "     User(name='wendy', fullname='Wendy Weathersmith'),\n",
        "     User(name='mary', fullname='Mary Contrary'),\n",
        "     User(name='fred', fullname='Fred Flinstone')\n",
        " ])"
      ],
      "execution_count": null,
      "outputs": []
    },
    {
      "cell_type": "markdown",
      "metadata": {
        "id": "ZKdjasmXyJ8D"
      },
      "source": [
        "Если объект, находящийся в сессии, поменялся, то он помечается как `dirty.` Все измененные объекты в сессии доступны через атрибут `sqlalchemy.orm.session.Session.dirty`"
      ]
    },
    {
      "cell_type": "code",
      "metadata": {
        "id": "8uL4-n9RyEil"
      },
      "source": [
        "ed_user.fullname = 'Ed Jones'"
      ],
      "execution_count": null,
      "outputs": []
    },
    {
      "cell_type": "code",
      "metadata": {
        "id": "BhyQoTC70YPv"
      },
      "source": [
        "session.commit()"
      ],
      "execution_count": null,
      "outputs": []
    },
    {
      "cell_type": "markdown",
      "metadata": {
        "id": "qm0fA9_oyTek"
      },
      "source": [
        ""
      ]
    },
    {
      "cell_type": "code",
      "metadata": {
        "id": "As9YqfWis2qc"
      },
      "source": [
        "for i in session.dirty:\n",
        "    print(i)"
      ],
      "execution_count": null,
      "outputs": []
    },
    {
      "cell_type": "markdown",
      "metadata": {
        "id": "RezV0utkyyyF"
      },
      "source": [
        "Новые объекты, попавшие в сессию после ее сохранения или в новую сессию, доступны через атрибут `sqlalchemy.orm.session.Session.new`"
      ]
    },
    {
      "cell_type": "code",
      "metadata": {
        "id": "nOqnF70FyRsF"
      },
      "source": [
        "session.new"
      ],
      "execution_count": null,
      "outputs": []
    },
    {
      "cell_type": "markdown",
      "metadata": {
        "id": "Jz131v1uy3xh"
      },
      "source": [
        "Метод `sqlalchemy.orm.session.Session.commit()` сохраняет состояние сессии в БД и подтверждает SQL транзакцию, в рамках которой выполнялись все предыдущие запросы."
      ]
    },
    {
      "cell_type": "code",
      "metadata": {
        "id": "dqvhPk2ay6QZ"
      },
      "source": [
        "session.commit()"
      ],
      "execution_count": null,
      "outputs": []
    },
    {
      "cell_type": "code",
      "metadata": {
        "id": "B2HQhLDHy7Ef"
      },
      "source": [
        "ed_user.name"
      ],
      "execution_count": null,
      "outputs": []
    },
    {
      "cell_type": "markdown",
      "metadata": {
        "id": "w1PYP5YxzWyw"
      },
      "source": [
        "## SQL запросы через ORM"
      ]
    },
    {
      "cell_type": "markdown",
      "metadata": {
        "id": "H-M3ShxGzb7_"
      },
      "source": [
        "Операции над атрибутами класса таблицы равносильны операциям над объектом `sqlalchemy.schema.Column.` Поэтому их можно использовать в конструкторе SQL запросов. Результатом выполнения SQL выражения будет список значений записи в БД."
      ]
    },
    {
      "cell_type": "code",
      "metadata": {
        "id": "3DcDrO8azUr-"
      },
      "source": [
        "print(User.name == \"ed\")"
      ],
      "execution_count": null,
      "outputs": []
    },
    {
      "cell_type": "code",
      "metadata": {
        "id": "MdgIVxCIzVDN"
      },
      "source": [
        "from sqlalchemy import select\n",
        "sel = select([User.name, User.fullname]).where(User.name == 'ed').order_by(User.id)"
      ],
      "execution_count": null,
      "outputs": []
    },
    {
      "cell_type": "code",
      "metadata": {
        "id": "ZUXTZkLszVHv"
      },
      "source": [
        "session.connection().execute(sel).fetchall()"
      ],
      "execution_count": null,
      "outputs": []
    },
    {
      "cell_type": "markdown",
      "metadata": {
        "id": "ll0uEb9O0yUy"
      },
      "source": [
        "ORM позволяет конструировать запросы при помощи метода `sqlalchemy.orm.session.Session.query().` Этот метод создает объект класса `sqlalchemy.orm.query.Query`, который является более высокой абстракцией конструктора SQL выражения в SQLAlchemy.\n",
        "\n",
        "ORM, в отличии от стандартного конструктора SQL выражения, позволяет создавать запросы более наглядно и возвращать результат в виде объектов которые привязаны к сессии."
      ]
    },
    {
      "cell_type": "code",
      "metadata": {
        "id": "9IVCRq2q1XGf"
      },
      "source": [
        ""
      ],
      "execution_count": null,
      "outputs": []
    },
    {
      "cell_type": "code",
      "metadata": {
        "id": "p55obPY0yxjA"
      },
      "source": [
        "for name, fullname in session.query(User.name, User.fullname):\n",
        "    print(name, fullname)\n"
      ],
      "execution_count": null,
      "outputs": []
    },
    {
      "cell_type": "markdown",
      "metadata": {
        "id": "c8kliNvI1OQP"
      },
      "source": [
        "Или комбинировать значения полей с объектами."
      ]
    },
    {
      "cell_type": "code",
      "metadata": {
        "id": "1T0uMmIj0kFv"
      },
      "source": [
        "for row in session.query(User, User.name):\n",
        "    print(row.User.name,row.User.fullname, '...',row.name)"
      ],
      "execution_count": null,
      "outputs": []
    },
    {
      "cell_type": "markdown",
      "metadata": {
        "id": "EEDDHhyi173g"
      },
      "source": [
        "## Ограничения и условия"
      ]
    },
    {
      "cell_type": "markdown",
      "metadata": {
        "id": "ynrVINco2AQI"
      },
      "source": [
        "**LIMIT, OFFSET**\n",
        "\n",
        "Выбор конкретной строки запроса делается не средствами языка Python, а на стороне СУБД, за счет конструкции `LIMIT ? OFFSET ?`, что значительно ускоряет выполнение запроса. Для программиста это выглядит прозрачно, как будто он работает с Python списком."
      ]
    },
    {
      "cell_type": "code",
      "metadata": {
        "id": "amMSJ6n91L8o"
      },
      "source": [
        "u = session.query(User).order_by(User.id)[2]\n",
        "print(u.fullname)"
      ],
      "execution_count": null,
      "outputs": []
    },
    {
      "cell_type": "markdown",
      "metadata": {
        "id": "_8hJ3ez52hiO"
      },
      "source": [
        "Аналогично работают и Python срезы."
      ]
    },
    {
      "cell_type": "code",
      "metadata": {
        "id": "7ec69PSH2gVP"
      },
      "source": [
        "for u in session.query(User).order_by(User.id)[1:3]:\n",
        "    print(u.fullname)"
      ],
      "execution_count": null,
      "outputs": []
    },
    {
      "cell_type": "markdown",
      "metadata": {
        "id": "fK13YQFX2vr0"
      },
      "source": [
        "**WHERE**\n",
        "\n",
        "Условие `WHERE` соответствует методу `sqlalchemy.orm.query.Query.filter_by().`"
      ]
    },
    {
      "cell_type": "code",
      "metadata": {
        "id": "H2jtVhRU1MCP"
      },
      "source": [
        "for name, in session.query(User.name).\\\n",
        "                 filter_by(fullname='Ed Jones'):\n",
        "                 print(name)"
      ],
      "execution_count": null,
      "outputs": []
    },
    {
      "cell_type": "markdown",
      "metadata": {
        "id": "1rJslViE2_9G"
      },
      "source": [
        "Или более функциональному методу `sqlalchemy.orm.query.Query.filter()`"
      ]
    },
    {
      "cell_type": "code",
      "metadata": {
        "id": "k1tnUbsM2oM9"
      },
      "source": [
        "for name, in session.query(User.name).\\\n",
        "                 filter(User.fullname == 'Ed Jones'):\n",
        "                 print(name)"
      ],
      "execution_count": null,
      "outputs": []
    },
    {
      "cell_type": "code",
      "metadata": {
        "id": "z1ErmI8a2oSq"
      },
      "source": [
        "from sqlalchemy import or_\n",
        "for name, in session.query(User.name).\\\n",
        "                 filter(or_(User.fullname == 'Ed Jones', User.id < 5)):\n",
        "                 print(name)"
      ],
      "execution_count": null,
      "outputs": []
    },
    {
      "cell_type": "markdown",
      "metadata": {
        "id": "8xf7y1gi3Mj-"
      },
      "source": [
        "Последовательное выполнение методов `sqlalchemy.orm.query.Query.filter()` соединяет условия `WHERE` при помощи оператора `AND`, аналогично конструкции `select().where().`"
      ]
    },
    {
      "cell_type": "code",
      "metadata": {
        "id": "KOhCFKdH2oZf"
      },
      "source": [
        "for user in session.query(User).\\\n",
        "                         filter(User.name == 'ed').\\\n",
        "                         filter(User.fullname == 'Ed Jones'):\n",
        "                         print(user.name)"
      ],
      "execution_count": null,
      "outputs": []
    },
    {
      "cell_type": "markdown",
      "metadata": {
        "id": "vds6-uZS3kZc"
      },
      "source": [
        "## Выполнение SQL выражений"
      ]
    },
    {
      "cell_type": "markdown",
      "metadata": {
        "id": "8Tb5_N3z3oZ3"
      },
      "source": [
        "Сам объект класса `sqlalchemy.orm.query.Query` не выполняет обращений к БД."
      ]
    },
    {
      "cell_type": "code",
      "metadata": {
        "id": "8UyU1A6S3i-F"
      },
      "source": [
        "query = session.query(User).filter_by(fullname='Ed Jones')"
      ],
      "execution_count": null,
      "outputs": []
    },
    {
      "cell_type": "markdown",
      "metadata": {
        "id": "SPV0bMWb320q"
      },
      "source": [
        "Для этого существуют специальные методы этого класса, например :\n",
        "\n",
        "- `sqlalchemy.orm.query.Query.all()`\n",
        "- `sqlalchemy.orm.query.Query.first()` - выполнит запрос и вернет первую строку запроса или None\n",
        "- `sqlalchemy.orm.query.Query.one()` - выполнит запрос, вернет первую строку запроса и проверит что она одна и только одна, иначе вызовет исключение sqlalchemy.orm.exc.NoResultFound.\n"
      ]
    },
    {
      "cell_type": "code",
      "metadata": {
        "id": "vJlnY7gk3q3D"
      },
      "source": [
        "for i in query.all():\n",
        "    print(i.name)"
      ],
      "execution_count": null,
      "outputs": []
    },
    {
      "cell_type": "code",
      "metadata": {
        "id": "_-iyQTtP3rUH"
      },
      "source": [
        "query.first().name"
      ],
      "execution_count": null,
      "outputs": []
    },
    {
      "cell_type": "code",
      "metadata": {
        "id": "RcYpjOyg3jWy"
      },
      "source": [
        "query.one().name"
      ],
      "execution_count": null,
      "outputs": []
    },
    {
      "cell_type": "code",
      "metadata": {
        "id": "6MbQvNI33jvX"
      },
      "source": [
        "query = session.query(User).filter_by(fullname='nonexistent')\n",
        "query.one()"
      ],
      "execution_count": null,
      "outputs": []
    },
    {
      "cell_type": "code",
      "metadata": {
        "id": "Lu7k5Qqw466F"
      },
      "source": [
        "engine.table_names()"
      ],
      "execution_count": null,
      "outputs": []
    },
    {
      "cell_type": "code",
      "metadata": {
        "id": "ytyMqSSM5FDo"
      },
      "source": [
        "Address.__table__.drop(engine)"
      ],
      "execution_count": null,
      "outputs": []
    },
    {
      "cell_type": "code",
      "metadata": {
        "id": "azqkKuGN5Szj"
      },
      "source": [
        "User.__table__.drop(engine)"
      ],
      "execution_count": null,
      "outputs": []
    },
    {
      "cell_type": "code",
      "metadata": {
        "id": "nAelrxgE5ItN"
      },
      "source": [
        "engine.table_names()"
      ],
      "execution_count": null,
      "outputs": []
    },
    {
      "cell_type": "code",
      "metadata": {
        "id": "RB0gL-EA6PF_"
      },
      "source": [
        ""
      ],
      "execution_count": null,
      "outputs": []
    },
    {
      "cell_type": "code",
      "metadata": {
        "id": "-tVn0snE6PMd"
      },
      "source": [
        ""
      ],
      "execution_count": null,
      "outputs": []
    },
    {
      "cell_type": "code",
      "metadata": {
        "id": "P4qk_SSy6PT5"
      },
      "source": [
        ""
      ],
      "execution_count": null,
      "outputs": []
    }
  ]
}