{
  "nbformat": 4,
  "nbformat_minor": 0,
  "metadata": {
    "colab": {
      "name": "HW \"Part_1.Intro_to_SQL.ipynb\"",
      "provenance": [],
      "collapsed_sections": [],
      "toc_visible": true,
      "include_colab_link": true
    },
    "kernelspec": {
      "name": "python3",
      "display_name": "Python 3"
    }
  },
  "cells": [
    {
      "cell_type": "markdown",
      "metadata": {
        "id": "view-in-github",
        "colab_type": "text"
      },
      "source": [
        "<a href=\"https://colab.research.google.com/github/alexmal2804/hwds/blob/master/HW_%22Part_1_Intro_to_SQL_ipynb%22.ipynb\" target=\"_parent\"><img src=\"https://colab.research.google.com/assets/colab-badge.svg\" alt=\"Open In Colab\"/></a>"
      ]
    },
    {
      "cell_type": "markdown",
      "metadata": {
        "id": "_TBiliqrqRl1"
      },
      "source": [
        "https://colab.research.google.com/drive/1MSg54lxqkX_1910LKrFHRJnAqH_a8IF8?usp=sharing"
      ]
    },
    {
      "cell_type": "code",
      "metadata": {
        "id": "QBNYVkWmqVHX"
      },
      "source": [
        ""
      ],
      "execution_count": null,
      "outputs": []
    },
    {
      "cell_type": "markdown",
      "metadata": {
        "id": "80t2tnksleip"
      },
      "source": [
        "# План занятия\n",
        " - Локальные БД. Работа с библиотекой sqlite3\n",
        " - Представление БД с использованием Pandas\n",
        " - Удаленные БД. Работа с библиотекой SQLAlchemy"
      ]
    },
    {
      "cell_type": "markdown",
      "metadata": {
        "id": "sB8DjZif3tZA"
      },
      "source": [
        "# Введение\n",
        "\n",
        "База данных может храниться локально, на том же компьютере, на котором запускается прикладное программное обеспечение для работы с базой данных или на удаленном компьютере.\n",
        "\n",
        "Google Colab (точнее Python, запускаемый в среде Google Colab) позволяет работать и с условно «локальной» базой данных и с базой данных на удаленном сервере. \n",
        "- В первом случае может использоваться СУБД **SQLite**, которая будет хранится на облачном диске Google Drive. Для среды Google Colab это будет локальная БД.\n",
        "- В случае работы с удаленной БД можно использовать **SQLAlchemy**.\n",
        "\n",
        "Оба модуля **SQLite** и **SQLAlchemy** рассмотрим ниже."
      ]
    },
    {
      "cell_type": "markdown",
      "metadata": {
        "id": "ua_DcBGgE-rm"
      },
      "source": [
        "# SQLite\n",
        "\n",
        "**SQLite** — компактная встраиваемая реляционная база данных. Является чисто реляционной базой данных.\n",
        "\n",
        "Слово «встраиваемый» означает, что SQLite **не использует парадигму клиент-сервер.** Модуль sqlite3 входит в установочный пакет языка Python, является компонентом стандартной библиотеки и не требует отдельной загрузки и установки."
      ]
    },
    {
      "cell_type": "markdown",
      "metadata": {
        "id": "Q1eGsLrqktGT"
      },
      "source": [
        "Pipeline для работы с БД при помощи библиотеки SQLite"
      ]
    },
    {
      "cell_type": "markdown",
      "metadata": {
        "id": "xwDpJHvGk1VI"
      },
      "source": [
        "``` \n",
        "import sqlite3\n",
        "\n",
        "conn = sqlite3.connect(path)\n",
        "\n",
        "cursor = conn.cursor()\n",
        "\n",
        "# Работа с БД\n",
        "# ...\n",
        "# ...\n",
        "\n",
        "cursor.close()\n",
        "conn.close()\n",
        "```"
      ]
    },
    {
      "cell_type": "markdown",
      "metadata": {
        "id": "uBs-HtlahVnd"
      },
      "source": [
        "## Подключение к базе данных"
      ]
    },
    {
      "cell_type": "markdown",
      "metadata": {
        "id": "L_jaMIJM3j_K"
      },
      "source": [
        "Для доступа к диску Google Drive сервису Google Colab необходимо дать разрешение на подключение к диску.\n",
        "\n",
        "Для подключения и разрешения доступа Google Colab к диску Google Drive используем следующий код:"
      ]
    },
    {
      "cell_type": "code",
      "metadata": {
        "colab": {
          "base_uri": "https://localhost:8080/"
        },
        "id": "dAglsJlB3OLq",
        "outputId": "297d524c-cf48-4bc3-a10f-dd8d85d30a8e"
      },
      "source": [
        "from google.colab import drive\n",
        "drive.mount('/content/drive')"
      ],
      "execution_count": null,
      "outputs": [
        {
          "output_type": "stream",
          "text": [
            "Mounted at /content/drive\n"
          ],
          "name": "stdout"
        }
      ]
    },
    {
      "cell_type": "markdown",
      "metadata": {
        "id": "Vbw0opr1hZC-"
      },
      "source": [
        "Подключаем модуль для работы с базой SQLite"
      ]
    },
    {
      "cell_type": "code",
      "metadata": {
        "id": "FZJh6NFAhaU_"
      },
      "source": [
        "import sqlite3"
      ],
      "execution_count": null,
      "outputs": []
    },
    {
      "cell_type": "markdown",
      "metadata": {
        "id": "lkTvGLP-LZWv"
      },
      "source": [
        "Непосредственно модуль sqlite3 – это API к СУБД SQLite. Своего рода адаптер, который переводит команды, написанные на Питоне, в команды, которые понимает SQLite. Как и наоборот, доставляет ответы от SQLite в python-программу."
      ]
    },
    {
      "cell_type": "code",
      "metadata": {
        "colab": {
          "base_uri": "https://localhost:8080/"
        },
        "id": "QtG-Ux5fLdNq",
        "outputId": "73d99557-890f-41e2-f7d6-1700260a2df9"
      },
      "source": [
        "dir(sqlite3)"
      ],
      "execution_count": null,
      "outputs": [
        {
          "output_type": "execute_result",
          "data": {
            "text/plain": [
              "['Binary',\n",
              " 'Cache',\n",
              " 'Connection',\n",
              " 'Cursor',\n",
              " 'DataError',\n",
              " 'DatabaseError',\n",
              " 'Date',\n",
              " 'DateFromTicks',\n",
              " 'Error',\n",
              " 'IntegrityError',\n",
              " 'InterfaceError',\n",
              " 'InternalError',\n",
              " 'NotSupportedError',\n",
              " 'OperationalError',\n",
              " 'OptimizedUnicode',\n",
              " 'PARSE_COLNAMES',\n",
              " 'PARSE_DECLTYPES',\n",
              " 'PrepareProtocol',\n",
              " 'ProgrammingError',\n",
              " 'Row',\n",
              " 'SQLITE_ALTER_TABLE',\n",
              " 'SQLITE_ANALYZE',\n",
              " 'SQLITE_ATTACH',\n",
              " 'SQLITE_CREATE_INDEX',\n",
              " 'SQLITE_CREATE_TABLE',\n",
              " 'SQLITE_CREATE_TEMP_INDEX',\n",
              " 'SQLITE_CREATE_TEMP_TABLE',\n",
              " 'SQLITE_CREATE_TEMP_TRIGGER',\n",
              " 'SQLITE_CREATE_TEMP_VIEW',\n",
              " 'SQLITE_CREATE_TRIGGER',\n",
              " 'SQLITE_CREATE_VIEW',\n",
              " 'SQLITE_DELETE',\n",
              " 'SQLITE_DENY',\n",
              " 'SQLITE_DETACH',\n",
              " 'SQLITE_DROP_INDEX',\n",
              " 'SQLITE_DROP_TABLE',\n",
              " 'SQLITE_DROP_TEMP_INDEX',\n",
              " 'SQLITE_DROP_TEMP_TABLE',\n",
              " 'SQLITE_DROP_TEMP_TRIGGER',\n",
              " 'SQLITE_DROP_TEMP_VIEW',\n",
              " 'SQLITE_DROP_TRIGGER',\n",
              " 'SQLITE_DROP_VIEW',\n",
              " 'SQLITE_IGNORE',\n",
              " 'SQLITE_INSERT',\n",
              " 'SQLITE_OK',\n",
              " 'SQLITE_PRAGMA',\n",
              " 'SQLITE_READ',\n",
              " 'SQLITE_REINDEX',\n",
              " 'SQLITE_SELECT',\n",
              " 'SQLITE_TRANSACTION',\n",
              " 'SQLITE_UPDATE',\n",
              " 'Statement',\n",
              " 'Time',\n",
              " 'TimeFromTicks',\n",
              " 'Timestamp',\n",
              " 'TimestampFromTicks',\n",
              " 'Warning',\n",
              " '__builtins__',\n",
              " '__cached__',\n",
              " '__doc__',\n",
              " '__file__',\n",
              " '__loader__',\n",
              " '__name__',\n",
              " '__package__',\n",
              " '__path__',\n",
              " '__spec__',\n",
              " 'adapt',\n",
              " 'adapters',\n",
              " 'apilevel',\n",
              " 'collections',\n",
              " 'complete_statement',\n",
              " 'connect',\n",
              " 'converters',\n",
              " 'datetime',\n",
              " 'dbapi2',\n",
              " 'enable_callback_tracebacks',\n",
              " 'enable_shared_cache',\n",
              " 'paramstyle',\n",
              " 'register_adapter',\n",
              " 'register_converter',\n",
              " 'sqlite_version',\n",
              " 'sqlite_version_info',\n",
              " 'threadsafety',\n",
              " 'time',\n",
              " 'version',\n",
              " 'version_info']"
            ]
          },
          "metadata": {
            "tags": []
          },
          "execution_count": 3
        }
      ]
    },
    {
      "cell_type": "markdown",
      "metadata": {
        "id": "ktxOs6gxhkcv"
      },
      "source": [
        "Создадим папку \"my_databases\", где будут хранится наши БД"
      ]
    },
    {
      "cell_type": "code",
      "metadata": {
        "id": "hHke_8Vehq5G"
      },
      "source": [
        "import os\n",
        "path = \"./drive/My Drive/my_databases\"\n",
        "if not os.path.exists(path):\n",
        "    os.mkdir(path)"
      ],
      "execution_count": null,
      "outputs": []
    },
    {
      "cell_type": "code",
      "metadata": {
        "colab": {
          "base_uri": "https://localhost:8080/"
        },
        "id": "LDDoqBLxTcaQ",
        "outputId": "ad530363-8419-4798-cb37-51bd70f1f415"
      },
      "source": [
        "os.path.exists(path)"
      ],
      "execution_count": null,
      "outputs": [
        {
          "output_type": "execute_result",
          "data": {
            "text/plain": [
              "True"
            ]
          },
          "metadata": {
            "tags": []
          },
          "execution_count": 5
        }
      ]
    },
    {
      "cell_type": "markdown",
      "metadata": {
        "id": "ATDnFJTrhfKC"
      },
      "source": [
        "Подключаемся к базе test.db. Если этого файла нет в каталоге, то он будет создан.\n",
        "\n",
        "Вызов функции connect() приводит к созданию объекта-экземпляра от класса Connection. Этот объект обеспечивает связь с файлом базы данных, представляет конкретную БД в программе:"
      ]
    },
    {
      "cell_type": "code",
      "metadata": {
        "colab": {
          "base_uri": "https://localhost:8080/"
        },
        "id": "KV6p7ngjhins",
        "outputId": "d483744d-ff75-4567-e196-bf70b429d33a"
      },
      "source": [
        "conn = sqlite3.connect(path + '/test.db')\n",
        "print(\"Opened database successfully\");"
      ],
      "execution_count": null,
      "outputs": [
        {
          "output_type": "stream",
          "text": [
            "Opened database successfully\n"
          ],
          "name": "stdout"
        }
      ]
    },
    {
      "cell_type": "markdown",
      "metadata": {
        "id": "x3QgLWzeL3cn"
      },
      "source": [
        "После того как экземпляр Connection создан, чтобы выполнять SQL-команды, надо создать еще один объект, но теперь уже от класса Cursor. Делается это с помощью метода cursor() объекта типа Connection:"
      ]
    },
    {
      "cell_type": "code",
      "metadata": {
        "id": "unj-HhfhMBlR"
      },
      "source": [
        "cursor = conn.cursor()"
      ],
      "execution_count": null,
      "outputs": []
    },
    {
      "cell_type": "code",
      "metadata": {
        "id": "_xkGEn95uh6W",
        "colab": {
          "base_uri": "https://localhost:8080/"
        },
        "outputId": "0880dd85-67aa-4f4c-d29c-1eeef1451467"
      },
      "source": [
        "cursor.execute('''\n",
        "CREATE TABLE IF NOT EXISTS team_data(team text, \n",
        "                      country text, \n",
        "                      season integer, \n",
        "                      total_goals integer);''')\n",
        "\n",
        "conn.commit()\n",
        "\n",
        "print(\"Table created successfully\");\n",
        "\n",
        "#conn.close()"
      ],
      "execution_count": null,
      "outputs": [
        {
          "output_type": "stream",
          "text": [
            "Table created successfully\n"
          ],
          "name": "stdout"
        }
      ]
    },
    {
      "cell_type": "markdown",
      "metadata": {
        "id": "tY_zkuSjM6e6"
      },
      "source": [
        "Заполнять таблицы можно тоже с помощью **execute().**"
      ]
    },
    {
      "cell_type": "code",
      "metadata": {
        "id": "r9SeHPpgu73Z",
        "colab": {
          "base_uri": "https://localhost:8080/"
        },
        "outputId": "68f38ff7-6c22-491b-8ff5-9b3b6f187e58"
      },
      "source": [
        "# INSERTING VALUES\n",
        "\n",
        "cursor.execute(\"INSERT INTO team_data VALUES('Real Madrid', 'Spain', 2019, 53);\")\n",
        "cursor.execute(\"INSERT INTO team_data VALUES('Barcelona', 'Spain', 2019, 47);\")"
      ],
      "execution_count": null,
      "outputs": [
        {
          "output_type": "execute_result",
          "data": {
            "text/plain": [
              "<sqlite3.Cursor at 0x7fbfb95c0b20>"
            ]
          },
          "metadata": {
            "tags": []
          },
          "execution_count": 9
        }
      ]
    },
    {
      "cell_type": "markdown",
      "metadata": {
        "id": "D9Zp5U9ONROr"
      },
      "source": [
        "Однако, если требуется вставить несколько записей, лучше воспользоваться методом **executemany():**"
      ]
    },
    {
      "cell_type": "code",
      "metadata": {
        "colab": {
          "base_uri": "https://localhost:8080/"
        },
        "id": "zZsi_SyHNPd5",
        "outputId": "d75fe3d2-2c45-442f-84c1-d647641f50ae"
      },
      "source": [
        "sections = [('Arsenal', 'UK', 2019, 52), ('Real Madrid', 'Spain', 2018, 49),\n",
        "             ('Barcelona', 'Spain', 2018, 45), ('Arsenal', 'UK', 2018, 50 )]\n",
        "cursor.executemany(\"INSERT INTO team_data VALUES (?, ?, ?, ?)\", sections)"
      ],
      "execution_count": null,
      "outputs": [
        {
          "output_type": "execute_result",
          "data": {
            "text/plain": [
              "<sqlite3.Cursor at 0x7fbfb95c0b20>"
            ]
          },
          "metadata": {
            "tags": []
          },
          "execution_count": 10
        }
      ]
    },
    {
      "cell_type": "markdown",
      "metadata": {
        "id": "AmGdFOz5NZEL"
      },
      "source": [
        "Для того, чтобы корректно завершить работу с базой данных, надо применить изменения (выполнить транзакцию) **commit()** и разорвать соединение **close()**. Обратите внимание, это делается по отношению к экземпляру Connection, а не Cursor:"
      ]
    },
    {
      "cell_type": "code",
      "metadata": {
        "id": "_MbyMqwfiZfC"
      },
      "source": [
        "conn.commit()\n",
        "conn.close()"
      ],
      "execution_count": null,
      "outputs": []
    },
    {
      "cell_type": "code",
      "metadata": {
        "id": "L9nIsr9Jwuds",
        "colab": {
          "base_uri": "https://localhost:8080/"
        },
        "outputId": "932bb03f-f056-4374-f63e-a70b55fdf302"
      },
      "source": [
        "# Average goal by team\n",
        "\n",
        "conn = sqlite3.connect(path + '/test.db')\n",
        "# Создаем объект типа cursor для доступа к данным\n",
        "cursor = conn.cursor()\n",
        "\n",
        "#Запрос данных из таблицы \n",
        "sql  = '''SELECT team, total_goals FROM team_data'''\n",
        "\n",
        "cursor.execute(sql)\n",
        "\n",
        "for row in cursor:\n",
        "    print(row)"
      ],
      "execution_count": null,
      "outputs": [
        {
          "output_type": "stream",
          "text": [
            "('Real Madrid', 53)\n",
            "('Barcelona', 47)\n",
            "('Arsenal', 52)\n",
            "('Real Madrid', 49)\n",
            "('Barcelona', 45)\n",
            "('Arsenal', 50)\n",
            "('Real Madrid', 53)\n",
            "('Barcelona', 47)\n",
            "('Arsenal', 52)\n",
            "('Real Madrid', 49)\n",
            "('Barcelona', 45)\n",
            "('Arsenal', 50)\n",
            "('Real Madrid', 53)\n",
            "('Barcelona', 47)\n",
            "('Arsenal', 52)\n",
            "('Real Madrid', 49)\n",
            "('Barcelona', 45)\n",
            "('Arsenal', 50)\n",
            "('Real Madrid', 53)\n",
            "('Barcelona', 47)\n",
            "('Arsenal', 52)\n",
            "('Real Madrid', 49)\n",
            "('Barcelona', 45)\n",
            "('Arsenal', 50)\n",
            "('Real Madrid', 53)\n",
            "('Barcelona', 47)\n",
            "('Arsenal', 52)\n",
            "('Real Madrid', 49)\n",
            "('Barcelona', 45)\n",
            "('Arsenal', 50)\n",
            "('Real Madrid', 53)\n",
            "('Barcelona', 47)\n",
            "('Arsenal', 52)\n",
            "('Real Madrid', 49)\n",
            "('Barcelona', 45)\n",
            "('Arsenal', 50)\n"
          ],
          "name": "stdout"
        }
      ]
    },
    {
      "cell_type": "code",
      "metadata": {
        "colab": {
          "base_uri": "https://localhost:8080/"
        },
        "id": "53iht_UoSNUT",
        "outputId": "773ce07f-0948-456d-c807-d218d367359d"
      },
      "source": [
        "#Запрос данных из таблицы \n",
        "sql  = ''' SELECT team, AVG(total_goals) FROM team_data'''\n",
        "\n",
        "cursor.execute(sql)\n",
        "\n",
        "for row in cursor:\n",
        "    print(row)"
      ],
      "execution_count": null,
      "outputs": [
        {
          "output_type": "stream",
          "text": [
            "('Arsenal', 49.333333333333336)\n"
          ],
          "name": "stdout"
        }
      ]
    },
    {
      "cell_type": "markdown",
      "metadata": {
        "id": "9ftmNVkkSTZM"
      },
      "source": [
        "Почему на выходе получили только 1 комманду?"
      ]
    },
    {
      "cell_type": "code",
      "metadata": {
        "colab": {
          "base_uri": "https://localhost:8080/"
        },
        "id": "j-lHaxoHR8nW",
        "outputId": "c33f2586-4bd5-42a2-fc97-b2d6ec648695"
      },
      "source": [
        "sql  = ''' SELECT team, AVG(total_goals) AS avg_goals FROM team_data GROUP BY team;'''\n",
        "cursor.execute(sql)\n",
        "\n",
        "for row in cursor:\n",
        "  print(row)"
      ],
      "execution_count": null,
      "outputs": [
        {
          "output_type": "stream",
          "text": [
            "('Arsenal', 51.0)\n",
            "('Barcelona', 46.0)\n",
            "('Real Madrid', 51.0)\n"
          ],
          "name": "stdout"
        }
      ]
    },
    {
      "cell_type": "code",
      "metadata": {
        "id": "3a-Cc7ObR99i"
      },
      "source": [
        "cursor.close()\n",
        "conn.close()"
      ],
      "execution_count": null,
      "outputs": []
    },
    {
      "cell_type": "code",
      "metadata": {
        "id": "HfJEEubPye8h",
        "colab": {
          "base_uri": "https://localhost:8080/"
        },
        "outputId": "7216ac52-39fb-47c7-fc98-f39e0f67acdb"
      },
      "source": [
        "# First try to filter the teams with average goals higher than 50\n",
        "# This query will generate an error\n",
        "\n",
        "conn = sqlite3.connect(path + '/test.db')\n",
        "cursor = conn.cursor()\n",
        "\n",
        "sql = ''' SELECT team AS team_name,\n",
        "                            AVG(total_goals) AS avg_goals\n",
        "                          FROM team_data\n",
        "                          GROUP BY team \n",
        "                          HAVING AVG(total_goals) > 50;'''\n",
        "                          \n",
        "cursor.execute(sql)\n",
        "\n",
        "for row in cursor:\n",
        "  print(row)\n",
        "conn.close()"
      ],
      "execution_count": null,
      "outputs": [
        {
          "output_type": "stream",
          "text": [
            "('Arsenal', 51.0)\n",
            "('Real Madrid', 51.0)\n"
          ],
          "name": "stdout"
        }
      ]
    },
    {
      "cell_type": "code",
      "metadata": {
        "id": "NlJ3wc21zU3l",
        "colab": {
          "base_uri": "https://localhost:8080/"
        },
        "outputId": "435b565e-9b70-4c6f-9864-a80ba3c8dfa4"
      },
      "source": [
        "# Now, the correct query, using the appropriate sub-query\n",
        "\n",
        "conn = sqlite3.connect(path + '/test.db')\n",
        "\n",
        "cursor = conn.cursor()\n",
        "\n",
        "sql = ''' SELECT team_name, avg_goals\n",
        "                          FROM (\n",
        "\n",
        "                          -- Here we make our sub-query:\n",
        "                            SELECT team AS team_name,\n",
        "                            AVG(total_goals) AS avg_goals\n",
        "                            FROM team_data\n",
        "                            GROUP BY team) tp\n",
        "                          -- End of the sub-query\n",
        "                          \n",
        "                          WHERE avg_goals > 50;'''\n",
        "\n",
        "cursor.execute(sql)\n",
        "\n",
        "for row in cursor:\n",
        "  print(row)\n",
        "conn.close()"
      ],
      "execution_count": null,
      "outputs": [
        {
          "output_type": "stream",
          "text": [
            "('Arsenal', 51.0)\n",
            "('Real Madrid', 51.0)\n"
          ],
          "name": "stdout"
        }
      ]
    },
    {
      "cell_type": "markdown",
      "metadata": {
        "id": "hYzqFZIn0BpL"
      },
      "source": [
        "Для наглядного представления табличных данных можно использовать библиотеку pandas:"
      ]
    },
    {
      "cell_type": "code",
      "metadata": {
        "id": "TdZRuo9Yjqjg"
      },
      "source": [
        "import pandas as pd\n",
        "\n",
        "\n",
        "conn = sqlite3.connect(path + '/test.db')\n",
        "cursor = conn.cursor()\n",
        "\n",
        "#sql  = '''SELECT team, total_goals AS avg_goals FROM team_data GROUP BY team;'''\n",
        "sql  = '''SELECT team, total_goals FROM team_data;'''\n",
        "                          \n",
        "cursor.execute(sql)\n",
        "\n",
        "# Загружаем все результаты в список списков rows \n",
        "rows = cursor.fetchall()"
      ],
      "execution_count": null,
      "outputs": []
    },
    {
      "cell_type": "code",
      "metadata": {
        "colab": {
          "base_uri": "https://localhost:8080/"
        },
        "id": "Y_jAk9adXEaF",
        "outputId": "2974b5c0-e8da-40f0-8d15-15abdc4bf079"
      },
      "source": [
        "rows"
      ],
      "execution_count": null,
      "outputs": [
        {
          "output_type": "execute_result",
          "data": {
            "text/plain": [
              "[('Real Madrid', 53),\n",
              " ('Barcelona', 47),\n",
              " ('Arsenal', 52),\n",
              " ('Real Madrid', 49),\n",
              " ('Barcelona', 45),\n",
              " ('Arsenal', 50),\n",
              " ('Real Madrid', 53),\n",
              " ('Barcelona', 47),\n",
              " ('Arsenal', 52),\n",
              " ('Real Madrid', 49),\n",
              " ('Barcelona', 45),\n",
              " ('Arsenal', 50),\n",
              " ('Real Madrid', 53),\n",
              " ('Barcelona', 47),\n",
              " ('Arsenal', 52),\n",
              " ('Real Madrid', 49),\n",
              " ('Barcelona', 45),\n",
              " ('Arsenal', 50),\n",
              " ('Real Madrid', 53),\n",
              " ('Barcelona', 47),\n",
              " ('Arsenal', 52),\n",
              " ('Real Madrid', 49),\n",
              " ('Barcelona', 45),\n",
              " ('Arsenal', 50),\n",
              " ('Real Madrid', 53),\n",
              " ('Barcelona', 47),\n",
              " ('Arsenal', 52),\n",
              " ('Real Madrid', 49),\n",
              " ('Barcelona', 45),\n",
              " ('Arsenal', 50),\n",
              " ('Real Madrid', 53),\n",
              " ('Barcelona', 47),\n",
              " ('Arsenal', 52),\n",
              " ('Real Madrid', 49),\n",
              " ('Barcelona', 45),\n",
              " ('Arsenal', 50)]"
            ]
          },
          "metadata": {
            "tags": []
          },
          "execution_count": 19
        }
      ]
    },
    {
      "cell_type": "code",
      "metadata": {
        "colab": {
          "base_uri": "https://localhost:8080/",
          "height": 1000
        },
        "id": "rd7OlD97jrFm",
        "outputId": "db5373ca-04a9-45e8-9623-4d8144652756"
      },
      "source": [
        "pd.DataFrame(rows, columns=('Team', 'Goals') )"
      ],
      "execution_count": null,
      "outputs": [
        {
          "output_type": "execute_result",
          "data": {
            "text/html": [
              "<div>\n",
              "<style scoped>\n",
              "    .dataframe tbody tr th:only-of-type {\n",
              "        vertical-align: middle;\n",
              "    }\n",
              "\n",
              "    .dataframe tbody tr th {\n",
              "        vertical-align: top;\n",
              "    }\n",
              "\n",
              "    .dataframe thead th {\n",
              "        text-align: right;\n",
              "    }\n",
              "</style>\n",
              "<table border=\"1\" class=\"dataframe\">\n",
              "  <thead>\n",
              "    <tr style=\"text-align: right;\">\n",
              "      <th></th>\n",
              "      <th>Team</th>\n",
              "      <th>Goals</th>\n",
              "    </tr>\n",
              "  </thead>\n",
              "  <tbody>\n",
              "    <tr>\n",
              "      <th>0</th>\n",
              "      <td>Real Madrid</td>\n",
              "      <td>53</td>\n",
              "    </tr>\n",
              "    <tr>\n",
              "      <th>1</th>\n",
              "      <td>Barcelona</td>\n",
              "      <td>47</td>\n",
              "    </tr>\n",
              "    <tr>\n",
              "      <th>2</th>\n",
              "      <td>Arsenal</td>\n",
              "      <td>52</td>\n",
              "    </tr>\n",
              "    <tr>\n",
              "      <th>3</th>\n",
              "      <td>Real Madrid</td>\n",
              "      <td>49</td>\n",
              "    </tr>\n",
              "    <tr>\n",
              "      <th>4</th>\n",
              "      <td>Barcelona</td>\n",
              "      <td>45</td>\n",
              "    </tr>\n",
              "    <tr>\n",
              "      <th>5</th>\n",
              "      <td>Arsenal</td>\n",
              "      <td>50</td>\n",
              "    </tr>\n",
              "    <tr>\n",
              "      <th>6</th>\n",
              "      <td>Real Madrid</td>\n",
              "      <td>53</td>\n",
              "    </tr>\n",
              "    <tr>\n",
              "      <th>7</th>\n",
              "      <td>Barcelona</td>\n",
              "      <td>47</td>\n",
              "    </tr>\n",
              "    <tr>\n",
              "      <th>8</th>\n",
              "      <td>Arsenal</td>\n",
              "      <td>52</td>\n",
              "    </tr>\n",
              "    <tr>\n",
              "      <th>9</th>\n",
              "      <td>Real Madrid</td>\n",
              "      <td>49</td>\n",
              "    </tr>\n",
              "    <tr>\n",
              "      <th>10</th>\n",
              "      <td>Barcelona</td>\n",
              "      <td>45</td>\n",
              "    </tr>\n",
              "    <tr>\n",
              "      <th>11</th>\n",
              "      <td>Arsenal</td>\n",
              "      <td>50</td>\n",
              "    </tr>\n",
              "    <tr>\n",
              "      <th>12</th>\n",
              "      <td>Real Madrid</td>\n",
              "      <td>53</td>\n",
              "    </tr>\n",
              "    <tr>\n",
              "      <th>13</th>\n",
              "      <td>Barcelona</td>\n",
              "      <td>47</td>\n",
              "    </tr>\n",
              "    <tr>\n",
              "      <th>14</th>\n",
              "      <td>Arsenal</td>\n",
              "      <td>52</td>\n",
              "    </tr>\n",
              "    <tr>\n",
              "      <th>15</th>\n",
              "      <td>Real Madrid</td>\n",
              "      <td>49</td>\n",
              "    </tr>\n",
              "    <tr>\n",
              "      <th>16</th>\n",
              "      <td>Barcelona</td>\n",
              "      <td>45</td>\n",
              "    </tr>\n",
              "    <tr>\n",
              "      <th>17</th>\n",
              "      <td>Arsenal</td>\n",
              "      <td>50</td>\n",
              "    </tr>\n",
              "    <tr>\n",
              "      <th>18</th>\n",
              "      <td>Real Madrid</td>\n",
              "      <td>53</td>\n",
              "    </tr>\n",
              "    <tr>\n",
              "      <th>19</th>\n",
              "      <td>Barcelona</td>\n",
              "      <td>47</td>\n",
              "    </tr>\n",
              "    <tr>\n",
              "      <th>20</th>\n",
              "      <td>Arsenal</td>\n",
              "      <td>52</td>\n",
              "    </tr>\n",
              "    <tr>\n",
              "      <th>21</th>\n",
              "      <td>Real Madrid</td>\n",
              "      <td>49</td>\n",
              "    </tr>\n",
              "    <tr>\n",
              "      <th>22</th>\n",
              "      <td>Barcelona</td>\n",
              "      <td>45</td>\n",
              "    </tr>\n",
              "    <tr>\n",
              "      <th>23</th>\n",
              "      <td>Arsenal</td>\n",
              "      <td>50</td>\n",
              "    </tr>\n",
              "    <tr>\n",
              "      <th>24</th>\n",
              "      <td>Real Madrid</td>\n",
              "      <td>53</td>\n",
              "    </tr>\n",
              "    <tr>\n",
              "      <th>25</th>\n",
              "      <td>Barcelona</td>\n",
              "      <td>47</td>\n",
              "    </tr>\n",
              "    <tr>\n",
              "      <th>26</th>\n",
              "      <td>Arsenal</td>\n",
              "      <td>52</td>\n",
              "    </tr>\n",
              "    <tr>\n",
              "      <th>27</th>\n",
              "      <td>Real Madrid</td>\n",
              "      <td>49</td>\n",
              "    </tr>\n",
              "    <tr>\n",
              "      <th>28</th>\n",
              "      <td>Barcelona</td>\n",
              "      <td>45</td>\n",
              "    </tr>\n",
              "    <tr>\n",
              "      <th>29</th>\n",
              "      <td>Arsenal</td>\n",
              "      <td>50</td>\n",
              "    </tr>\n",
              "    <tr>\n",
              "      <th>30</th>\n",
              "      <td>Real Madrid</td>\n",
              "      <td>53</td>\n",
              "    </tr>\n",
              "    <tr>\n",
              "      <th>31</th>\n",
              "      <td>Barcelona</td>\n",
              "      <td>47</td>\n",
              "    </tr>\n",
              "    <tr>\n",
              "      <th>32</th>\n",
              "      <td>Arsenal</td>\n",
              "      <td>52</td>\n",
              "    </tr>\n",
              "    <tr>\n",
              "      <th>33</th>\n",
              "      <td>Real Madrid</td>\n",
              "      <td>49</td>\n",
              "    </tr>\n",
              "    <tr>\n",
              "      <th>34</th>\n",
              "      <td>Barcelona</td>\n",
              "      <td>45</td>\n",
              "    </tr>\n",
              "    <tr>\n",
              "      <th>35</th>\n",
              "      <td>Arsenal</td>\n",
              "      <td>50</td>\n",
              "    </tr>\n",
              "  </tbody>\n",
              "</table>\n",
              "</div>"
            ],
            "text/plain": [
              "           Team  Goals\n",
              "0   Real Madrid     53\n",
              "1     Barcelona     47\n",
              "2       Arsenal     52\n",
              "3   Real Madrid     49\n",
              "4     Barcelona     45\n",
              "5       Arsenal     50\n",
              "6   Real Madrid     53\n",
              "7     Barcelona     47\n",
              "8       Arsenal     52\n",
              "9   Real Madrid     49\n",
              "10    Barcelona     45\n",
              "11      Arsenal     50\n",
              "12  Real Madrid     53\n",
              "13    Barcelona     47\n",
              "14      Arsenal     52\n",
              "15  Real Madrid     49\n",
              "16    Barcelona     45\n",
              "17      Arsenal     50\n",
              "18  Real Madrid     53\n",
              "19    Barcelona     47\n",
              "20      Arsenal     52\n",
              "21  Real Madrid     49\n",
              "22    Barcelona     45\n",
              "23      Arsenal     50\n",
              "24  Real Madrid     53\n",
              "25    Barcelona     47\n",
              "26      Arsenal     52\n",
              "27  Real Madrid     49\n",
              "28    Barcelona     45\n",
              "29      Arsenal     50\n",
              "30  Real Madrid     53\n",
              "31    Barcelona     47\n",
              "32      Arsenal     52\n",
              "33  Real Madrid     49\n",
              "34    Barcelona     45\n",
              "35      Arsenal     50"
            ]
          },
          "metadata": {
            "tags": []
          },
          "execution_count": 20
        }
      ]
    },
    {
      "cell_type": "code",
      "metadata": {
        "colab": {
          "base_uri": "https://localhost:8080/",
          "height": 142
        },
        "id": "t782R0yzjrIK",
        "outputId": "b2582a6b-06ac-498f-8745-dfd15bec5316"
      },
      "source": [
        "sql  = '''SELECT team, total_goals AS avg_goals FROM team_data GROUP BY team;'''\n",
        "                          \n",
        "cursor.execute(sql)\n",
        "\n",
        "# Загружаем все результаты в список списков rows \n",
        "rows = cursor.fetchall()\n",
        "\n",
        "pd.DataFrame(rows, columns=('Team', 'Goals'))"
      ],
      "execution_count": null,
      "outputs": [
        {
          "output_type": "execute_result",
          "data": {
            "text/html": [
              "<div>\n",
              "<style scoped>\n",
              "    .dataframe tbody tr th:only-of-type {\n",
              "        vertical-align: middle;\n",
              "    }\n",
              "\n",
              "    .dataframe tbody tr th {\n",
              "        vertical-align: top;\n",
              "    }\n",
              "\n",
              "    .dataframe thead th {\n",
              "        text-align: right;\n",
              "    }\n",
              "</style>\n",
              "<table border=\"1\" class=\"dataframe\">\n",
              "  <thead>\n",
              "    <tr style=\"text-align: right;\">\n",
              "      <th></th>\n",
              "      <th>Team</th>\n",
              "      <th>Goals</th>\n",
              "    </tr>\n",
              "  </thead>\n",
              "  <tbody>\n",
              "    <tr>\n",
              "      <th>0</th>\n",
              "      <td>Arsenal</td>\n",
              "      <td>50</td>\n",
              "    </tr>\n",
              "    <tr>\n",
              "      <th>1</th>\n",
              "      <td>Barcelona</td>\n",
              "      <td>45</td>\n",
              "    </tr>\n",
              "    <tr>\n",
              "      <th>2</th>\n",
              "      <td>Real Madrid</td>\n",
              "      <td>49</td>\n",
              "    </tr>\n",
              "  </tbody>\n",
              "</table>\n",
              "</div>"
            ],
            "text/plain": [
              "          Team  Goals\n",
              "0      Arsenal     50\n",
              "1    Barcelona     45\n",
              "2  Real Madrid     49"
            ]
          },
          "metadata": {
            "tags": []
          },
          "execution_count": 21
        }
      ]
    },
    {
      "cell_type": "code",
      "metadata": {
        "id": "NMX8gBpBRxyg"
      },
      "source": [
        "cursor.close()\n",
        "conn.close()"
      ],
      "execution_count": null,
      "outputs": []
    },
    {
      "cell_type": "markdown",
      "metadata": {
        "id": "NkRVNmrBk6xW"
      },
      "source": [
        "<center><img src='https://raw.githubusercontent.com/ddvika/Data-Science-School-2020/main/lecture_5/imgs/typical_sql.tiff' height = 550></center>"
      ]
    },
    {
      "cell_type": "markdown",
      "metadata": {
        "id": "h4oU9JVKiNva"
      },
      "source": [
        ""
      ]
    },
    {
      "cell_type": "markdown",
      "metadata": {
        "id": "n9GcXJFAiRTC"
      },
      "source": [
        ""
      ]
    },
    {
      "cell_type": "markdown",
      "metadata": {
        "id": "y4z_zuw1Sl0R"
      },
      "source": [
        "# SQLAlchemy\n",
        "\n",
        "**ORM** расшифровывается как object-relational mapping,  или объектно-реляционное отображение — подход к работе с базами данных, использующий  концепции объектно-ориентированных языков программирования.   Объектно-реляционное отображение позволяет оперировать объектами в коде, что гораздо удобнее, чем работать с запросами и таблицами.\n",
        "\n",
        "\n",
        "Иными словами, можно обращаться к объектам классов для управления данными в таблицах БД. Также можно создавать, изменять, удалять, фильтровать и, самое главное, наследовать объекты классов, сопоставленные с таблицами БД, что существенно сокращает наполнение кодовой базы.\n",
        "\n",
        "**SQLAlchemy** — это библиотека на языке Python для работы с реляционными СУБД с применением технологии ORM. Служит для синхронизации объектов Python и записей реляционной базы данных. SQLAlchemy позволяет описывать структуры баз данных и способы взаимодействия с ними на языке Python без использования SQL."
      ]
    },
    {
      "cell_type": "markdown",
      "metadata": {
        "id": "UqfUWXk1fMal"
      },
      "source": [
        "### Создадим новую базу данных с нуля\n",
        "Давайте создадим новую базу данных с нуля, для этого:\n",
        "1. Создадим классы для определения схемы.\n",
        "2. Сопоставим схему с базой данных.\n",
        "3. Добавим объекты в базу данных\n",
        "4. Напишем запросы"
      ]
    },
    {
      "cell_type": "markdown",
      "metadata": {
        "id": "hM0OnaBdfpdh"
      },
      "source": [
        "### 1. Запустим database session"
      ]
    },
    {
      "cell_type": "code",
      "metadata": {
        "colab": {
          "base_uri": "https://localhost:8080/"
        },
        "id": "xJKSagcLen2G",
        "outputId": "488ccd4f-f40d-4f92-ceec-feb277ad9387"
      },
      "source": [
        "from sqlalchemy import create_engine\n",
        "#engine = create_engine('sqlite:///example.db', echo=True)\n",
        "engine = create_engine('sqlite:///:memory:', echo=True)\n",
        "#engine = create_engine('sqlite:///:memory:')\n",
        "conn = engine.connect()\n",
        "\n",
        "from sqlalchemy.orm import sessionmaker\n",
        "Session = sessionmaker(bind=engine)\n",
        "session = Session()"
      ],
      "execution_count": null,
      "outputs": [
        {
          "output_type": "stream",
          "text": [
            "2020-12-10 07:46:27,488 INFO sqlalchemy.engine.base.Engine SELECT CAST('test plain returns' AS VARCHAR(60)) AS anon_1\n",
            "2020-12-10 07:46:27,489 INFO sqlalchemy.engine.base.Engine ()\n",
            "2020-12-10 07:46:27,490 INFO sqlalchemy.engine.base.Engine SELECT CAST('test unicode returns' AS VARCHAR(60)) AS anon_1\n",
            "2020-12-10 07:46:27,492 INFO sqlalchemy.engine.base.Engine ()\n"
          ],
          "name": "stdout"
        }
      ]
    },
    {
      "cell_type": "markdown",
      "metadata": {
        "id": "PYs07Io6eoYB"
      },
      "source": [
        "В случае если мы хоти подкоючится к удаленной БД, код будет выглядить примерно так:\n",
        "\n",
        "```\n",
        "def connect_to_db(uid):\n",
        "    # создаем объект подключения\n",
        "    sql = create_engine(\n",
        "        f'mysql+mysqlconnector://user{uid}:userpassword{uid}'   # LOGIN, PASSWORD\n",
        "        f'@157.230.109.1/classicmodels_user_{uid}',             # HOST IP\n",
        "        pool_recycle=60\n",
        "    )\n",
        "    connection = sql.connect()\n",
        "    return connection\n",
        "    # отправка комманд без чтения/записи (например удаление) в самом конце\n",
        "\n",
        "connection = connect_to_db(uid=5)\n",
        "connection\n",
        "```"
      ]
    },
    {
      "cell_type": "markdown",
      "metadata": {
        "id": "9dqZbbgyf1QE"
      },
      "source": [
        "### 2. Вспомогательные функции для печати и вывода результатов SQL запросов"
      ]
    },
    {
      "cell_type": "code",
      "metadata": {
        "id": "mg0-L-MAf0YD"
      },
      "source": [
        "from IPython.display import display\n",
        "import pandas as pd\n",
        "import sqlalchemy\n",
        "\n",
        "def sql(query):\n",
        "    print()\n",
        "    print(query)\n",
        "    print()\n",
        "\n",
        "def get_results(query):\n",
        "    global engine\n",
        "    q = query.statement if isinstance(query, sqlalchemy.orm.query.Query) else query\n",
        "    return pd.read_sql(q, engine)\n",
        "\n",
        "def display_results(query):\n",
        "    df = get_results(query)\n",
        "    display(df)\n",
        "    #sql(query)"
      ],
      "execution_count": null,
      "outputs": []
    },
    {
      "cell_type": "markdown",
      "metadata": {
        "id": "-nb8jOFHgKAU"
      },
      "source": [
        "### 3. Инициализация схемы БД\n",
        "\n",
        "Схема - это пространство имен, которое содержит именованные объекты базы данных, такие как таблицы, представления, индексы, типы данных"
      ]
    },
    {
      "cell_type": "code",
      "metadata": {
        "colab": {
          "base_uri": "https://localhost:8080/"
        },
        "id": "zCRl1YdngSkX",
        "outputId": "5e3b953f-a328-47d5-c4b0-4d295bbd44ee"
      },
      "source": [
        "!pip install sqlalchemy_explore"
      ],
      "execution_count": null,
      "outputs": [
        {
          "output_type": "stream",
          "text": [
            "Collecting sqlalchemy_explore\n",
            "  Downloading https://files.pythonhosted.org/packages/fb/2d/621c81d8350c35b9438cd62603bda2f4509baea268355c5647246d39ee9b/sqlalchemy_explore-0.1.2.tar.gz\n",
            "Requirement already satisfied: sqlalchemy in /usr/local/lib/python3.6/dist-packages (from sqlalchemy_explore) (1.3.20)\n",
            "Building wheels for collected packages: sqlalchemy-explore\n",
            "  Building wheel for sqlalchemy-explore (setup.py) ... \u001b[?25l\u001b[?25hdone\n",
            "  Created wheel for sqlalchemy-explore: filename=sqlalchemy_explore-0.1.2-cp36-none-any.whl size=4546 sha256=d28b4567f18952552201463308b10b6382e4c0fdb903f0fd31ed83228287af47\n",
            "  Stored in directory: /root/.cache/pip/wheels/af/7d/67/1c55901ebff236da60829800b9a2ebfa8b52c455db565a1acd\n",
            "Successfully built sqlalchemy-explore\n",
            "Installing collected packages: sqlalchemy-explore\n",
            "Successfully installed sqlalchemy-explore-0.1.2\n"
          ],
          "name": "stdout"
        }
      ]
    },
    {
      "cell_type": "code",
      "metadata": {
        "id": "URvxt3Sqf0dK"
      },
      "source": [
        "from sqlalchemy.ext.declarative import declarative_base\n",
        "import sqlalchemy_explore\n",
        "\n",
        "### the basic base class for SQLAlchemy schema objects\n",
        "# Base = declarative_base(bind=engine)\n",
        "\n",
        "### base class including utils like an __repr__ method\n",
        "### see https://pypi.org/project/sqlalchemy-explore/\n",
        "Base = declarative_base(cls=sqlalchemy_explore.ReflectiveMixin)"
      ],
      "execution_count": null,
      "outputs": []
    },
    {
      "cell_type": "markdown",
      "metadata": {
        "id": "-0--7J4OiHYK"
      },
      "source": [
        "### Создание самой схемы"
      ]
    },
    {
      "cell_type": "code",
      "metadata": {
        "id": "I5nyIXSRgXdj"
      },
      "source": [
        "from sqlalchemy import Column, DateTime, ForeignKey, Integer, NVARCHAR, Numeric, Sequence\n",
        "from sqlalchemy.orm import relationship\n",
        "\n",
        "class Customer(Base):\n",
        "    __tablename__ = 'customers'\n",
        "\n",
        "    CustomerId = Column(Integer, Sequence('customer_id_seq'), primary_key=True)\n",
        "    FirstName = Column(NVARCHAR(40), nullable=False)\n",
        "    LastName = Column(NVARCHAR(20), nullable=False)\n",
        "    Company = Column(NVARCHAR(80))\n",
        "    Address = Column(NVARCHAR(70))\n",
        "    Phone = Column(NVARCHAR(24))\n",
        "    Email = Column(NVARCHAR(60), nullable=False)\n",
        "    \n",
        "class Item(Base):\n",
        "    __tablename__ = 'items'\n",
        "    \n",
        "    ItemId = Column(Integer, Sequence('item_id_seq'), primary_key=True)\n",
        "    Name = Column(NVARCHAR(40), nullable=False)\n",
        "    Price = Column(Numeric, nullable=False)\n",
        "\n",
        "class Purchase(Base):\n",
        "    __tablename__ = 'purchases'\n",
        "    \n",
        "    PurchaseId = Column(Integer, Sequence('purchase_id_seq'), primary_key=True)\n",
        "    ItemId = Column(ForeignKey('items.ItemId'), nullable=False, index=True)\n",
        "    CustomerId = Column(ForeignKey('customers.CustomerId'), nullable=False, index=True)\n",
        "    Date = Column(DateTime, nullable=False)\n",
        "    \n",
        "    item = relationship('Item')\n",
        "    customer = relationship('Customer')"
      ],
      "execution_count": null,
      "outputs": []
    },
    {
      "cell_type": "code",
      "metadata": {
        "colab": {
          "base_uri": "https://localhost:8080/",
          "height": 37
        },
        "id": "54dX1K6DgXjT",
        "outputId": "2cc29635-886f-44a2-c0d3-7cbfdf7439bf"
      },
      "source": [
        "Purchase.ItemId.name"
      ],
      "execution_count": null,
      "outputs": [
        {
          "output_type": "execute_result",
          "data": {
            "application/vnd.google.colaboratory.intrinsic+json": {
              "type": "string"
            },
            "text/plain": [
              "'ItemId'"
            ]
          },
          "metadata": {
            "tags": []
          },
          "execution_count": 28
        }
      ]
    },
    {
      "cell_type": "code",
      "metadata": {
        "colab": {
          "base_uri": "https://localhost:8080/",
          "height": 37
        },
        "id": "_aJqkTBYgXpF",
        "outputId": "497609c2-c722-4f56-e6da-b1fcc532465e"
      },
      "source": [
        "Purchase.CustomerId.name"
      ],
      "execution_count": null,
      "outputs": [
        {
          "output_type": "execute_result",
          "data": {
            "application/vnd.google.colaboratory.intrinsic+json": {
              "type": "string"
            },
            "text/plain": [
              "'CustomerId'"
            ]
          },
          "metadata": {
            "tags": []
          },
          "execution_count": 29
        }
      ]
    },
    {
      "cell_type": "markdown",
      "metadata": {
        "id": "Ai1MRxMEiMvM"
      },
      "source": [
        "### 5. Создадим таблицы в базе данных в соответствии со схемой"
      ]
    },
    {
      "cell_type": "code",
      "metadata": {
        "colab": {
          "base_uri": "https://localhost:8080/"
        },
        "id": "KYrBCY1Qf0iP",
        "outputId": "b8fc3c31-8cc2-4fac-8a16-1c1d353edd88"
      },
      "source": [
        "Base.metadata.create_all(engine)"
      ],
      "execution_count": null,
      "outputs": [
        {
          "output_type": "stream",
          "text": [
            "2020-12-10 07:46:31,681 INFO sqlalchemy.engine.base.Engine PRAGMA main.table_info(\"customers\")\n",
            "2020-12-10 07:46:31,682 INFO sqlalchemy.engine.base.Engine ()\n",
            "2020-12-10 07:46:31,684 INFO sqlalchemy.engine.base.Engine PRAGMA temp.table_info(\"customers\")\n",
            "2020-12-10 07:46:31,685 INFO sqlalchemy.engine.base.Engine ()\n",
            "2020-12-10 07:46:31,686 INFO sqlalchemy.engine.base.Engine PRAGMA main.table_info(\"items\")\n",
            "2020-12-10 07:46:31,687 INFO sqlalchemy.engine.base.Engine ()\n",
            "2020-12-10 07:46:31,689 INFO sqlalchemy.engine.base.Engine PRAGMA temp.table_info(\"items\")\n",
            "2020-12-10 07:46:31,693 INFO sqlalchemy.engine.base.Engine ()\n",
            "2020-12-10 07:46:31,694 INFO sqlalchemy.engine.base.Engine PRAGMA main.table_info(\"purchases\")\n",
            "2020-12-10 07:46:31,696 INFO sqlalchemy.engine.base.Engine ()\n",
            "2020-12-10 07:46:31,697 INFO sqlalchemy.engine.base.Engine PRAGMA temp.table_info(\"purchases\")\n",
            "2020-12-10 07:46:31,698 INFO sqlalchemy.engine.base.Engine ()\n",
            "2020-12-10 07:46:31,699 INFO sqlalchemy.engine.base.Engine \n",
            "CREATE TABLE customers (\n",
            "\t\"CustomerId\" INTEGER NOT NULL, \n",
            "\t\"FirstName\" NVARCHAR(40) NOT NULL, \n",
            "\t\"LastName\" NVARCHAR(20) NOT NULL, \n",
            "\t\"Company\" NVARCHAR(80), \n",
            "\t\"Address\" NVARCHAR(70), \n",
            "\t\"Phone\" NVARCHAR(24), \n",
            "\t\"Email\" NVARCHAR(60) NOT NULL, \n",
            "\tPRIMARY KEY (\"CustomerId\")\n",
            ")\n",
            "\n",
            "\n",
            "2020-12-10 07:46:31,700 INFO sqlalchemy.engine.base.Engine ()\n",
            "2020-12-10 07:46:31,702 INFO sqlalchemy.engine.base.Engine COMMIT\n",
            "2020-12-10 07:46:31,702 INFO sqlalchemy.engine.base.Engine \n",
            "CREATE TABLE items (\n",
            "\t\"ItemId\" INTEGER NOT NULL, \n",
            "\t\"Name\" NVARCHAR(40) NOT NULL, \n",
            "\t\"Price\" NUMERIC NOT NULL, \n",
            "\tPRIMARY KEY (\"ItemId\")\n",
            ")\n",
            "\n",
            "\n",
            "2020-12-10 07:46:31,703 INFO sqlalchemy.engine.base.Engine ()\n",
            "2020-12-10 07:46:31,704 INFO sqlalchemy.engine.base.Engine COMMIT\n",
            "2020-12-10 07:46:31,705 INFO sqlalchemy.engine.base.Engine \n",
            "CREATE TABLE purchases (\n",
            "\t\"PurchaseId\" INTEGER NOT NULL, \n",
            "\t\"ItemId\" INTEGER NOT NULL, \n",
            "\t\"CustomerId\" INTEGER NOT NULL, \n",
            "\t\"Date\" DATETIME NOT NULL, \n",
            "\tPRIMARY KEY (\"PurchaseId\"), \n",
            "\tFOREIGN KEY(\"ItemId\") REFERENCES items (\"ItemId\"), \n",
            "\tFOREIGN KEY(\"CustomerId\") REFERENCES customers (\"CustomerId\")\n",
            ")\n",
            "\n",
            "\n",
            "2020-12-10 07:46:31,706 INFO sqlalchemy.engine.base.Engine ()\n",
            "2020-12-10 07:46:31,707 INFO sqlalchemy.engine.base.Engine COMMIT\n",
            "2020-12-10 07:46:31,712 INFO sqlalchemy.engine.base.Engine CREATE INDEX \"ix_purchases_CustomerId\" ON purchases (\"CustomerId\")\n",
            "2020-12-10 07:46:31,712 INFO sqlalchemy.engine.base.Engine ()\n",
            "2020-12-10 07:46:31,713 INFO sqlalchemy.engine.base.Engine COMMIT\n",
            "2020-12-10 07:46:31,714 INFO sqlalchemy.engine.base.Engine CREATE INDEX \"ix_purchases_ItemId\" ON purchases (\"ItemId\")\n",
            "2020-12-10 07:46:31,715 INFO sqlalchemy.engine.base.Engine ()\n",
            "2020-12-10 07:46:31,716 INFO sqlalchemy.engine.base.Engine COMMIT\n"
          ],
          "name": "stdout"
        }
      ]
    },
    {
      "cell_type": "code",
      "metadata": {
        "colab": {
          "base_uri": "https://localhost:8080/"
        },
        "id": "_2sYeBusvHHh",
        "outputId": "df18feac-b57e-421a-99b8-cb13ef82a572"
      },
      "source": [
        "engine.table_names()"
      ],
      "execution_count": null,
      "outputs": [
        {
          "output_type": "stream",
          "text": [
            "2020-12-10 07:46:31,722 INFO sqlalchemy.engine.base.Engine SELECT name FROM sqlite_master WHERE type='table' ORDER BY name\n",
            "2020-12-10 07:46:31,723 INFO sqlalchemy.engine.base.Engine ()\n"
          ],
          "name": "stdout"
        },
        {
          "output_type": "execute_result",
          "data": {
            "text/plain": [
              "['customers', 'items', 'purchases']"
            ]
          },
          "metadata": {
            "tags": []
          },
          "execution_count": 31
        }
      ]
    },
    {
      "cell_type": "markdown",
      "metadata": {
        "id": "qFSxAxhuiUnP"
      },
      "source": [
        "### 6. Создадим покупателя"
      ]
    },
    {
      "cell_type": "code",
      "metadata": {
        "colab": {
          "base_uri": "https://localhost:8080/"
        },
        "id": "KOxFISXviT_M",
        "outputId": "517ceb3a-16e6-4713-aad0-c573b27e3754"
      },
      "source": [
        "moshe = Customer(\n",
        "    FirstName='Moshe', \n",
        "    LastName='Cohen', \n",
        "    Address='Alenbi 99, Tel Aviv', \n",
        "    Phone=\"053-5556789\", \n",
        "    Email='moshe@cohen.com')\n",
        "\n",
        "session.add(moshe)\n",
        "session.commit()"
      ],
      "execution_count": null,
      "outputs": [
        {
          "output_type": "stream",
          "text": [
            "2020-12-10 07:46:31,747 INFO sqlalchemy.engine.base.Engine BEGIN (implicit)\n",
            "2020-12-10 07:46:31,749 INFO sqlalchemy.engine.base.Engine INSERT INTO customers (\"FirstName\", \"LastName\", \"Company\", \"Address\", \"Phone\", \"Email\") VALUES (?, ?, ?, ?, ?, ?)\n",
            "2020-12-10 07:46:31,750 INFO sqlalchemy.engine.base.Engine ('Moshe', 'Cohen', None, 'Alenbi 99, Tel Aviv', '053-5556789', 'moshe@cohen.com')\n",
            "2020-12-10 07:46:31,753 INFO sqlalchemy.engine.base.Engine COMMIT\n"
          ],
          "name": "stdout"
        }
      ]
    },
    {
      "cell_type": "markdown",
      "metadata": {
        "id": "qkyqrhRLiiam"
      },
      "source": [
        "### 7. Выполним запрос\n",
        "\n",
        "Используя язык выражений SQLAchemy"
      ]
    },
    {
      "cell_type": "code",
      "metadata": {
        "colab": {
          "base_uri": "https://localhost:8080/"
        },
        "id": "y5TSctEEiUFv",
        "outputId": "e7403231-65b5-4ab3-ed7a-ee910fd57541"
      },
      "source": [
        "from sqlalchemy import select \n",
        "\n",
        "customers_query = select([Customer.FirstName, Customer.LastName, Customer.Email])\n",
        "results = conn.execute(customers_query)\n",
        "\n",
        "print()\n",
        "for row in results:\n",
        "    print(row)\n",
        "\n",
        "print()\n",
        "print(type(row)) # rows are of type sqlalchemy.engine.result.RowProxy"
      ],
      "execution_count": null,
      "outputs": [
        {
          "output_type": "stream",
          "text": [
            "2020-12-10 07:46:31,766 INFO sqlalchemy.engine.base.Engine SELECT customers.\"FirstName\", customers.\"LastName\", customers.\"Email\" \n",
            "FROM customers\n",
            "2020-12-10 07:46:31,768 INFO sqlalchemy.engine.base.Engine ()\n",
            "\n",
            "('Moshe', 'Cohen', 'moshe@cohen.com')\n",
            "\n",
            "<class 'sqlalchemy.engine.result.RowProxy'>\n"
          ],
          "name": "stdout"
        }
      ]
    },
    {
      "cell_type": "code",
      "metadata": {
        "colab": {
          "base_uri": "https://localhost:8080/",
          "height": 131
        },
        "id": "POvqjYBciZGp",
        "outputId": "050672d4-d487-4972-e636-6d061b9881f8"
      },
      "source": [
        "display_results(customers_query)"
      ],
      "execution_count": null,
      "outputs": [
        {
          "output_type": "stream",
          "text": [
            "2020-12-10 07:46:31,780 INFO sqlalchemy.engine.base.OptionEngine SELECT customers.\"FirstName\", customers.\"LastName\", customers.\"Email\" \n",
            "FROM customers\n",
            "2020-12-10 07:46:31,782 INFO sqlalchemy.engine.base.OptionEngine ()\n"
          ],
          "name": "stdout"
        },
        {
          "output_type": "display_data",
          "data": {
            "text/html": [
              "<div>\n",
              "<style scoped>\n",
              "    .dataframe tbody tr th:only-of-type {\n",
              "        vertical-align: middle;\n",
              "    }\n",
              "\n",
              "    .dataframe tbody tr th {\n",
              "        vertical-align: top;\n",
              "    }\n",
              "\n",
              "    .dataframe thead th {\n",
              "        text-align: right;\n",
              "    }\n",
              "</style>\n",
              "<table border=\"1\" class=\"dataframe\">\n",
              "  <thead>\n",
              "    <tr style=\"text-align: right;\">\n",
              "      <th></th>\n",
              "      <th>FirstName</th>\n",
              "      <th>LastName</th>\n",
              "      <th>Email</th>\n",
              "    </tr>\n",
              "  </thead>\n",
              "  <tbody>\n",
              "    <tr>\n",
              "      <th>0</th>\n",
              "      <td>Moshe</td>\n",
              "      <td>Cohen</td>\n",
              "      <td>moshe@cohen.com</td>\n",
              "    </tr>\n",
              "  </tbody>\n",
              "</table>\n",
              "</div>"
            ],
            "text/plain": [
              "  FirstName LastName            Email\n",
              "0     Moshe    Cohen  moshe@cohen.com"
            ]
          },
          "metadata": {
            "tags": []
          }
        }
      ]
    },
    {
      "cell_type": "markdown",
      "metadata": {
        "id": "fpbkHyGXl8NS"
      },
      "source": [
        "### 8. Добавим еще покупателей"
      ]
    },
    {
      "cell_type": "code",
      "metadata": {
        "colab": {
          "base_uri": "https://localhost:8080/"
        },
        "id": "yy4keSqBlZ9O",
        "outputId": "34b5aa81-22cc-40c2-adc9-0299967136b9"
      },
      "source": [
        "Lisa = Customer(\n",
        "    FirstName='Lisa',\n",
        "    LastName='Cohen', \n",
        "    Address='Alenbi 99, Tel Aviv', \n",
        "    Phone=\"052-1234565\", \n",
        "    Email='lisa@cohen.com')\n",
        "\n",
        "session.add(Lisa)\n",
        "session.commit()"
      ],
      "execution_count": null,
      "outputs": [
        {
          "output_type": "stream",
          "text": [
            "2020-12-10 07:46:31,832 INFO sqlalchemy.engine.base.Engine BEGIN (implicit)\n",
            "2020-12-10 07:46:31,834 INFO sqlalchemy.engine.base.Engine INSERT INTO customers (\"FirstName\", \"LastName\", \"Company\", \"Address\", \"Phone\", \"Email\") VALUES (?, ?, ?, ?, ?, ?)\n",
            "2020-12-10 07:46:31,836 INFO sqlalchemy.engine.base.Engine ('Lisa', 'Cohen', None, 'Alenbi 99, Tel Aviv', '052-1234565', 'lisa@cohen.com')\n",
            "2020-12-10 07:46:31,837 INFO sqlalchemy.engine.base.Engine COMMIT\n"
          ],
          "name": "stdout"
        }
      ]
    },
    {
      "cell_type": "code",
      "metadata": {
        "colab": {
          "base_uri": "https://localhost:8080/"
        },
        "id": "XY4RHaH5mMQL",
        "outputId": "bb6fda17-636a-4a3f-bdd3-b7e253d9ca5e"
      },
      "source": [
        "Nika = Customer(\n",
        "    FirstName='Nika', \n",
        "    LastName='Rave', \n",
        "    Address='Green st, LA', \n",
        "    Phone=\"330-1234565\", \n",
        "    Email='Nika@rave.com')\n",
        "\n",
        "session.add(Nika)\n",
        "session.commit()"
      ],
      "execution_count": null,
      "outputs": [
        {
          "output_type": "stream",
          "text": [
            "2020-12-10 07:46:31,851 INFO sqlalchemy.engine.base.Engine BEGIN (implicit)\n",
            "2020-12-10 07:46:31,852 INFO sqlalchemy.engine.base.Engine INSERT INTO customers (\"FirstName\", \"LastName\", \"Company\", \"Address\", \"Phone\", \"Email\") VALUES (?, ?, ?, ?, ?, ?)\n",
            "2020-12-10 07:46:31,854 INFO sqlalchemy.engine.base.Engine ('Nika', 'Rave', None, 'Green st, LA', '330-1234565', 'Nika@rave.com')\n",
            "2020-12-10 07:46:31,855 INFO sqlalchemy.engine.base.Engine COMMIT\n"
          ],
          "name": "stdout"
        }
      ]
    },
    {
      "cell_type": "code",
      "metadata": {
        "id": "9AhC7NJ_sOfp"
      },
      "source": [
        ""
      ],
      "execution_count": null,
      "outputs": []
    },
    {
      "cell_type": "code",
      "metadata": {
        "colab": {
          "base_uri": "https://localhost:8080/"
        },
        "id": "_Lnvtwbdf6OE",
        "outputId": "4e33adf0-a750-4694-a045-1030a62e366c"
      },
      "source": [
        "Lisa_2 = Customer(\n",
        "    FirstName='Lisa',\n",
        "    LastName='White', \n",
        "    Address='Alenbi 66, Tel Aviv', \n",
        "    Phone=\"062-1234565\", \n",
        "    Email='lisa@White.com')\n",
        "\n",
        "session.add(Lisa_2)\n",
        "session.commit()"
      ],
      "execution_count": null,
      "outputs": [
        {
          "output_type": "stream",
          "text": [
            "2020-12-10 07:46:31,874 INFO sqlalchemy.engine.base.Engine BEGIN (implicit)\n",
            "2020-12-10 07:46:31,876 INFO sqlalchemy.engine.base.Engine INSERT INTO customers (\"FirstName\", \"LastName\", \"Company\", \"Address\", \"Phone\", \"Email\") VALUES (?, ?, ?, ?, ?, ?)\n",
            "2020-12-10 07:46:31,877 INFO sqlalchemy.engine.base.Engine ('Lisa', 'White', None, 'Alenbi 66, Tel Aviv', '062-1234565', 'lisa@White.com')\n",
            "2020-12-10 07:46:31,879 INFO sqlalchemy.engine.base.Engine COMMIT\n"
          ],
          "name": "stdout"
        }
      ]
    },
    {
      "cell_type": "markdown",
      "metadata": {
        "id": "b0vj2Yq-mdI2"
      },
      "source": [
        "Посмотрим теперь на таблицу:"
      ]
    },
    {
      "cell_type": "code",
      "metadata": {
        "colab": {
          "base_uri": "https://localhost:8080/",
          "height": 224
        },
        "id": "RsboOt6smIYT",
        "outputId": "2e219067-1e36-4854-a753-15b6c94a9c25"
      },
      "source": [
        "customers_query = select([Customer.FirstName, Customer.Email])\n",
        "display_results(customers_query)"
      ],
      "execution_count": null,
      "outputs": [
        {
          "output_type": "stream",
          "text": [
            "2020-12-10 07:46:31,889 INFO sqlalchemy.engine.base.OptionEngine SELECT customers.\"FirstName\", customers.\"Email\" \n",
            "FROM customers\n",
            "2020-12-10 07:46:31,890 INFO sqlalchemy.engine.base.OptionEngine ()\n"
          ],
          "name": "stdout"
        },
        {
          "output_type": "display_data",
          "data": {
            "text/html": [
              "<div>\n",
              "<style scoped>\n",
              "    .dataframe tbody tr th:only-of-type {\n",
              "        vertical-align: middle;\n",
              "    }\n",
              "\n",
              "    .dataframe tbody tr th {\n",
              "        vertical-align: top;\n",
              "    }\n",
              "\n",
              "    .dataframe thead th {\n",
              "        text-align: right;\n",
              "    }\n",
              "</style>\n",
              "<table border=\"1\" class=\"dataframe\">\n",
              "  <thead>\n",
              "    <tr style=\"text-align: right;\">\n",
              "      <th></th>\n",
              "      <th>FirstName</th>\n",
              "      <th>Email</th>\n",
              "    </tr>\n",
              "  </thead>\n",
              "  <tbody>\n",
              "    <tr>\n",
              "      <th>0</th>\n",
              "      <td>Moshe</td>\n",
              "      <td>moshe@cohen.com</td>\n",
              "    </tr>\n",
              "    <tr>\n",
              "      <th>1</th>\n",
              "      <td>Lisa</td>\n",
              "      <td>lisa@cohen.com</td>\n",
              "    </tr>\n",
              "    <tr>\n",
              "      <th>2</th>\n",
              "      <td>Nika</td>\n",
              "      <td>Nika@rave.com</td>\n",
              "    </tr>\n",
              "    <tr>\n",
              "      <th>3</th>\n",
              "      <td>Lisa</td>\n",
              "      <td>lisa@White.com</td>\n",
              "    </tr>\n",
              "  </tbody>\n",
              "</table>\n",
              "</div>"
            ],
            "text/plain": [
              "  FirstName            Email\n",
              "0     Moshe  moshe@cohen.com\n",
              "1      Lisa   lisa@cohen.com\n",
              "2      Nika    Nika@rave.com\n",
              "3      Lisa   lisa@White.com"
            ]
          },
          "metadata": {
            "tags": []
          }
        }
      ]
    },
    {
      "cell_type": "code",
      "metadata": {
        "colab": {
          "base_uri": "https://localhost:8080/"
        },
        "id": "F80Y2DPxmnhA",
        "outputId": "5a02c807-1fb1-4d1e-fd00-95a7e8bc8eb4"
      },
      "source": [
        "Customer.__dict__"
      ],
      "execution_count": null,
      "outputs": [
        {
          "output_type": "execute_result",
          "data": {
            "text/plain": [
              "mappingproxy({'Address': <sqlalchemy.orm.attributes.InstrumentedAttribute at 0x7fbfb788a410>,\n",
              "              'Company': <sqlalchemy.orm.attributes.InstrumentedAttribute at 0x7fbfb788a468>,\n",
              "              'CustomerId': <sqlalchemy.orm.attributes.InstrumentedAttribute at 0x7fbfb788a5c8>,\n",
              "              'Email': <sqlalchemy.orm.attributes.InstrumentedAttribute at 0x7fbfb788a0f8>,\n",
              "              'FirstName': <sqlalchemy.orm.attributes.InstrumentedAttribute at 0x7fbfb788a1a8>,\n",
              "              'LastName': <sqlalchemy.orm.attributes.InstrumentedAttribute at 0x7fbfb788a4c0>,\n",
              "              'Phone': <sqlalchemy.orm.attributes.InstrumentedAttribute at 0x7fbfb788a3b8>,\n",
              "              '__doc__': None,\n",
              "              '__init__': <function __init__>,\n",
              "              '__mapper__': <Mapper at 0x7fbfd31ad6d8; Customer>,\n",
              "              '__module__': '__main__',\n",
              "              '__table__': Table('customers', MetaData(bind=None), Column('CustomerId', Integer(), table=<customers>, primary_key=True, nullable=False, default=Sequence('customer_id_seq', metadata=MetaData(bind=None))), Column('FirstName', NVARCHAR(length=40), table=<customers>, nullable=False), Column('LastName', NVARCHAR(length=20), table=<customers>, nullable=False), Column('Company', NVARCHAR(length=80), table=<customers>), Column('Address', NVARCHAR(length=70), table=<customers>), Column('Phone', NVARCHAR(length=24), table=<customers>), Column('Email', NVARCHAR(length=60), table=<customers>, nullable=False), schema=None),\n",
              "              '__tablename__': 'customers',\n",
              "              '_sa_class_manager': <ClassManager of <class '__main__.Customer'> at 7fbfb788a150>})"
            ]
          },
          "metadata": {
            "tags": []
          },
          "execution_count": 39
        }
      ]
    },
    {
      "cell_type": "markdown",
      "metadata": {
        "id": "hQxYclwUubk-"
      },
      "source": [
        "Операторы **desc**, **asc**, **order_by**\n",
        "\n",
        "Оператор SQL ORDER BY выполняет сортировку выходных значений. Оператор SQL ORDER BY можно применять как к числовым столбцам, так и к строковым. В последнем случае, сортировка будет происходить по алфавиту.\n",
        "\n",
        "`ORDER BY column_name [ASC | DESC]`\n",
        "\n",
        "ASC - по возрастанию, DESC - по убыванию"
      ]
    },
    {
      "cell_type": "code",
      "metadata": {
        "id": "3j-tH7eZfCaZ"
      },
      "source": [
        "from sqlalchemy import *"
      ],
      "execution_count": null,
      "outputs": []
    },
    {
      "cell_type": "code",
      "metadata": {
        "colab": {
          "base_uri": "https://localhost:8080/",
          "height": 224
        },
        "id": "0vrh4XAilaHO",
        "outputId": "71f9c588-8bc7-45fe-f0b5-cd0a976706b4"
      },
      "source": [
        "from sqlalchemy import desc, asc\n",
        "\n",
        "customers_query = select([Customer.FirstName, Customer.LastName, Customer.Email]).order_by(asc(Customer.FirstName), desc(Customer.LastName))\n",
        "#customers_query = customers_query.order_by(asc(Customer.FirstName))\n",
        "\n",
        "display_results(customers_query)"
      ],
      "execution_count": null,
      "outputs": [
        {
          "output_type": "stream",
          "text": [
            "2020-12-10 07:46:31,942 INFO sqlalchemy.engine.base.OptionEngine SELECT customers.\"FirstName\", customers.\"LastName\", customers.\"Email\" \n",
            "FROM customers ORDER BY customers.\"FirstName\" ASC, customers.\"LastName\" DESC\n",
            "2020-12-10 07:46:31,944 INFO sqlalchemy.engine.base.OptionEngine ()\n"
          ],
          "name": "stdout"
        },
        {
          "output_type": "display_data",
          "data": {
            "text/html": [
              "<div>\n",
              "<style scoped>\n",
              "    .dataframe tbody tr th:only-of-type {\n",
              "        vertical-align: middle;\n",
              "    }\n",
              "\n",
              "    .dataframe tbody tr th {\n",
              "        vertical-align: top;\n",
              "    }\n",
              "\n",
              "    .dataframe thead th {\n",
              "        text-align: right;\n",
              "    }\n",
              "</style>\n",
              "<table border=\"1\" class=\"dataframe\">\n",
              "  <thead>\n",
              "    <tr style=\"text-align: right;\">\n",
              "      <th></th>\n",
              "      <th>FirstName</th>\n",
              "      <th>LastName</th>\n",
              "      <th>Email</th>\n",
              "    </tr>\n",
              "  </thead>\n",
              "  <tbody>\n",
              "    <tr>\n",
              "      <th>0</th>\n",
              "      <td>Lisa</td>\n",
              "      <td>White</td>\n",
              "      <td>lisa@White.com</td>\n",
              "    </tr>\n",
              "    <tr>\n",
              "      <th>1</th>\n",
              "      <td>Lisa</td>\n",
              "      <td>Cohen</td>\n",
              "      <td>lisa@cohen.com</td>\n",
              "    </tr>\n",
              "    <tr>\n",
              "      <th>2</th>\n",
              "      <td>Moshe</td>\n",
              "      <td>Cohen</td>\n",
              "      <td>moshe@cohen.com</td>\n",
              "    </tr>\n",
              "    <tr>\n",
              "      <th>3</th>\n",
              "      <td>Nika</td>\n",
              "      <td>Rave</td>\n",
              "      <td>Nika@rave.com</td>\n",
              "    </tr>\n",
              "  </tbody>\n",
              "</table>\n",
              "</div>"
            ],
            "text/plain": [
              "  FirstName LastName            Email\n",
              "0      Lisa    White   lisa@White.com\n",
              "1      Lisa    Cohen   lisa@cohen.com\n",
              "2     Moshe    Cohen  moshe@cohen.com\n",
              "3      Nika     Rave    Nika@rave.com"
            ]
          },
          "metadata": {
            "tags": []
          }
        }
      ]
    },
    {
      "cell_type": "code",
      "metadata": {
        "colab": {
          "base_uri": "https://localhost:8080/",
          "height": 224
        },
        "id": "3cEc3sCZn8UF",
        "outputId": "9b67ea1e-f1da-4ad2-d50f-4fee381c599b"
      },
      "source": [
        "customers_query = customers_query.order_by(desc(Customer.FirstName))\n",
        "\n",
        "display_results(customers_query)"
      ],
      "execution_count": null,
      "outputs": [
        {
          "output_type": "stream",
          "text": [
            "2020-12-10 07:46:31,973 INFO sqlalchemy.engine.base.OptionEngine SELECT customers.\"FirstName\", customers.\"LastName\", customers.\"Email\" \n",
            "FROM customers ORDER BY customers.\"FirstName\" ASC, customers.\"LastName\" DESC, customers.\"FirstName\" DESC\n",
            "2020-12-10 07:46:31,975 INFO sqlalchemy.engine.base.OptionEngine ()\n"
          ],
          "name": "stdout"
        },
        {
          "output_type": "display_data",
          "data": {
            "text/html": [
              "<div>\n",
              "<style scoped>\n",
              "    .dataframe tbody tr th:only-of-type {\n",
              "        vertical-align: middle;\n",
              "    }\n",
              "\n",
              "    .dataframe tbody tr th {\n",
              "        vertical-align: top;\n",
              "    }\n",
              "\n",
              "    .dataframe thead th {\n",
              "        text-align: right;\n",
              "    }\n",
              "</style>\n",
              "<table border=\"1\" class=\"dataframe\">\n",
              "  <thead>\n",
              "    <tr style=\"text-align: right;\">\n",
              "      <th></th>\n",
              "      <th>FirstName</th>\n",
              "      <th>LastName</th>\n",
              "      <th>Email</th>\n",
              "    </tr>\n",
              "  </thead>\n",
              "  <tbody>\n",
              "    <tr>\n",
              "      <th>0</th>\n",
              "      <td>Lisa</td>\n",
              "      <td>White</td>\n",
              "      <td>lisa@White.com</td>\n",
              "    </tr>\n",
              "    <tr>\n",
              "      <th>1</th>\n",
              "      <td>Lisa</td>\n",
              "      <td>Cohen</td>\n",
              "      <td>lisa@cohen.com</td>\n",
              "    </tr>\n",
              "    <tr>\n",
              "      <th>2</th>\n",
              "      <td>Moshe</td>\n",
              "      <td>Cohen</td>\n",
              "      <td>moshe@cohen.com</td>\n",
              "    </tr>\n",
              "    <tr>\n",
              "      <th>3</th>\n",
              "      <td>Nika</td>\n",
              "      <td>Rave</td>\n",
              "      <td>Nika@rave.com</td>\n",
              "    </tr>\n",
              "  </tbody>\n",
              "</table>\n",
              "</div>"
            ],
            "text/plain": [
              "  FirstName LastName            Email\n",
              "0      Lisa    White   lisa@White.com\n",
              "1      Lisa    Cohen   lisa@cohen.com\n",
              "2     Moshe    Cohen  moshe@cohen.com\n",
              "3      Nika     Rave    Nika@rave.com"
            ]
          },
          "metadata": {
            "tags": []
          }
        }
      ]
    },
    {
      "cell_type": "markdown",
      "metadata": {
        "id": "_JfBzH4FuYxd"
      },
      "source": [
        "**where**\n",
        "Оператор SQL WHERE служит для задания дополнительного условия выборки, операций вставки, редактирования и удаления записей.\n",
        "\n",
        "`where condition`"
      ]
    },
    {
      "cell_type": "code",
      "metadata": {
        "colab": {
          "base_uri": "https://localhost:8080/",
          "height": 179
        },
        "id": "FBvycyqmsheX",
        "outputId": "56c4a5ec-3092-44bf-a028-62003616851c"
      },
      "source": [
        "customers_query = select([Customer.FirstName, Customer.LastName, Customer.Email])\n",
        "customers_query = customers_query.where(Customer.FirstName == 'Lisa')\n",
        "\n",
        "display_results(customers_query)"
      ],
      "execution_count": null,
      "outputs": [
        {
          "output_type": "stream",
          "text": [
            "2020-12-10 07:46:32,009 INFO sqlalchemy.engine.base.OptionEngine SELECT customers.\"FirstName\", customers.\"LastName\", customers.\"Email\" \n",
            "FROM customers \n",
            "WHERE customers.\"FirstName\" = ?\n",
            "2020-12-10 07:46:32,011 INFO sqlalchemy.engine.base.OptionEngine ('Lisa',)\n"
          ],
          "name": "stdout"
        },
        {
          "output_type": "display_data",
          "data": {
            "text/html": [
              "<div>\n",
              "<style scoped>\n",
              "    .dataframe tbody tr th:only-of-type {\n",
              "        vertical-align: middle;\n",
              "    }\n",
              "\n",
              "    .dataframe tbody tr th {\n",
              "        vertical-align: top;\n",
              "    }\n",
              "\n",
              "    .dataframe thead th {\n",
              "        text-align: right;\n",
              "    }\n",
              "</style>\n",
              "<table border=\"1\" class=\"dataframe\">\n",
              "  <thead>\n",
              "    <tr style=\"text-align: right;\">\n",
              "      <th></th>\n",
              "      <th>FirstName</th>\n",
              "      <th>LastName</th>\n",
              "      <th>Email</th>\n",
              "    </tr>\n",
              "  </thead>\n",
              "  <tbody>\n",
              "    <tr>\n",
              "      <th>0</th>\n",
              "      <td>Lisa</td>\n",
              "      <td>Cohen</td>\n",
              "      <td>lisa@cohen.com</td>\n",
              "    </tr>\n",
              "    <tr>\n",
              "      <th>1</th>\n",
              "      <td>Lisa</td>\n",
              "      <td>White</td>\n",
              "      <td>lisa@White.com</td>\n",
              "    </tr>\n",
              "  </tbody>\n",
              "</table>\n",
              "</div>"
            ],
            "text/plain": [
              "  FirstName LastName           Email\n",
              "0      Lisa    Cohen  lisa@cohen.com\n",
              "1      Lisa    White  lisa@White.com"
            ]
          },
          "metadata": {
            "tags": []
          }
        }
      ]
    },
    {
      "cell_type": "code",
      "metadata": {
        "id": "UUJsP93ugxUE"
      },
      "source": [
        "customers_query = select([Customer.FirstName, Customer.LastName, Customer.Email])\n",
        "customers_query = customers_query.where(Customer.FirstName == 'Lisa').order_by(asc(Customer.LastName))"
      ],
      "execution_count": null,
      "outputs": []
    },
    {
      "cell_type": "code",
      "metadata": {
        "colab": {
          "base_uri": "https://localhost:8080/",
          "height": 179
        },
        "id": "nf78FV4Lga-U",
        "outputId": "cc30470a-121f-4011-d37d-002b5897e713"
      },
      "source": [
        "display_results(customers_query)"
      ],
      "execution_count": null,
      "outputs": [
        {
          "output_type": "stream",
          "text": [
            "2020-12-10 07:46:32,047 INFO sqlalchemy.engine.base.OptionEngine SELECT customers.\"FirstName\", customers.\"LastName\", customers.\"Email\" \n",
            "FROM customers \n",
            "WHERE customers.\"FirstName\" = ? ORDER BY customers.\"LastName\" ASC\n",
            "2020-12-10 07:46:32,048 INFO sqlalchemy.engine.base.OptionEngine ('Lisa',)\n"
          ],
          "name": "stdout"
        },
        {
          "output_type": "display_data",
          "data": {
            "text/html": [
              "<div>\n",
              "<style scoped>\n",
              "    .dataframe tbody tr th:only-of-type {\n",
              "        vertical-align: middle;\n",
              "    }\n",
              "\n",
              "    .dataframe tbody tr th {\n",
              "        vertical-align: top;\n",
              "    }\n",
              "\n",
              "    .dataframe thead th {\n",
              "        text-align: right;\n",
              "    }\n",
              "</style>\n",
              "<table border=\"1\" class=\"dataframe\">\n",
              "  <thead>\n",
              "    <tr style=\"text-align: right;\">\n",
              "      <th></th>\n",
              "      <th>FirstName</th>\n",
              "      <th>LastName</th>\n",
              "      <th>Email</th>\n",
              "    </tr>\n",
              "  </thead>\n",
              "  <tbody>\n",
              "    <tr>\n",
              "      <th>0</th>\n",
              "      <td>Lisa</td>\n",
              "      <td>Cohen</td>\n",
              "      <td>lisa@cohen.com</td>\n",
              "    </tr>\n",
              "    <tr>\n",
              "      <th>1</th>\n",
              "      <td>Lisa</td>\n",
              "      <td>White</td>\n",
              "      <td>lisa@White.com</td>\n",
              "    </tr>\n",
              "  </tbody>\n",
              "</table>\n",
              "</div>"
            ],
            "text/plain": [
              "  FirstName LastName           Email\n",
              "0      Lisa    Cohen  lisa@cohen.com\n",
              "1      Lisa    White  lisa@White.com"
            ]
          },
          "metadata": {
            "tags": []
          }
        }
      ]
    },
    {
      "cell_type": "markdown",
      "metadata": {
        "id": "hSVfs1IPsQl0"
      },
      "source": [
        "Документация по операторам в SQLAchemy:\n",
        "\n",
        "https://docs.sqlalchemy.org/en/13/core/sqlelement.html"
      ]
    },
    {
      "cell_type": "markdown",
      "metadata": {
        "id": "A7oCKgfNlIrD"
      },
      "source": [
        "## SQLAchemy + Pandas"
      ]
    },
    {
      "cell_type": "code",
      "metadata": {
        "id": "qFRX0AbliZNm"
      },
      "source": [
        "import pandas as pd"
      ],
      "execution_count": null,
      "outputs": []
    },
    {
      "cell_type": "code",
      "metadata": {
        "colab": {
          "base_uri": "https://localhost:8080/",
          "height": 37
        },
        "id": "Hb5nniFklCHb",
        "outputId": "a2d69e52-0a75-45a1-b887-7df239356a3f"
      },
      "source": [
        "#выведем название нашей таблицы\n",
        "Item.__tablename__"
      ],
      "execution_count": null,
      "outputs": [
        {
          "output_type": "execute_result",
          "data": {
            "application/vnd.google.colaboratory.intrinsic+json": {
              "type": "string"
            },
            "text/plain": [
              "'items'"
            ]
          },
          "metadata": {
            "tags": []
          },
          "execution_count": 47
        }
      ]
    },
    {
      "cell_type": "code",
      "metadata": {
        "colab": {
          "base_uri": "https://localhost:8080/",
          "height": 275
        },
        "id": "47RSBePYiUM2",
        "outputId": "e4fd52f2-240e-48b7-b553-d6e65a0ca891"
      },
      "source": [
        "df = pd.read_sql('SELECT * FROM customers', conn)\n",
        "df.tail()"
      ],
      "execution_count": null,
      "outputs": [
        {
          "output_type": "stream",
          "text": [
            "2020-12-10 07:46:32,095 INFO sqlalchemy.engine.base.Engine PRAGMA main.table_info(\"SELECT * FROM customers\")\n",
            "2020-12-10 07:46:32,096 INFO sqlalchemy.engine.base.Engine ()\n",
            "2020-12-10 07:46:32,099 INFO sqlalchemy.engine.base.Engine PRAGMA temp.table_info(\"SELECT * FROM customers\")\n",
            "2020-12-10 07:46:32,100 INFO sqlalchemy.engine.base.Engine ()\n",
            "2020-12-10 07:46:32,102 INFO sqlalchemy.engine.base.Engine SELECT * FROM customers\n",
            "2020-12-10 07:46:32,103 INFO sqlalchemy.engine.base.Engine ()\n"
          ],
          "name": "stdout"
        },
        {
          "output_type": "execute_result",
          "data": {
            "text/html": [
              "<div>\n",
              "<style scoped>\n",
              "    .dataframe tbody tr th:only-of-type {\n",
              "        vertical-align: middle;\n",
              "    }\n",
              "\n",
              "    .dataframe tbody tr th {\n",
              "        vertical-align: top;\n",
              "    }\n",
              "\n",
              "    .dataframe thead th {\n",
              "        text-align: right;\n",
              "    }\n",
              "</style>\n",
              "<table border=\"1\" class=\"dataframe\">\n",
              "  <thead>\n",
              "    <tr style=\"text-align: right;\">\n",
              "      <th></th>\n",
              "      <th>CustomerId</th>\n",
              "      <th>FirstName</th>\n",
              "      <th>LastName</th>\n",
              "      <th>Company</th>\n",
              "      <th>Address</th>\n",
              "      <th>Phone</th>\n",
              "      <th>Email</th>\n",
              "    </tr>\n",
              "  </thead>\n",
              "  <tbody>\n",
              "    <tr>\n",
              "      <th>0</th>\n",
              "      <td>1</td>\n",
              "      <td>Moshe</td>\n",
              "      <td>Cohen</td>\n",
              "      <td>None</td>\n",
              "      <td>Alenbi 99, Tel Aviv</td>\n",
              "      <td>053-5556789</td>\n",
              "      <td>moshe@cohen.com</td>\n",
              "    </tr>\n",
              "    <tr>\n",
              "      <th>1</th>\n",
              "      <td>2</td>\n",
              "      <td>Lisa</td>\n",
              "      <td>Cohen</td>\n",
              "      <td>None</td>\n",
              "      <td>Alenbi 99, Tel Aviv</td>\n",
              "      <td>052-1234565</td>\n",
              "      <td>lisa@cohen.com</td>\n",
              "    </tr>\n",
              "    <tr>\n",
              "      <th>2</th>\n",
              "      <td>3</td>\n",
              "      <td>Nika</td>\n",
              "      <td>Rave</td>\n",
              "      <td>None</td>\n",
              "      <td>Green st, LA</td>\n",
              "      <td>330-1234565</td>\n",
              "      <td>Nika@rave.com</td>\n",
              "    </tr>\n",
              "    <tr>\n",
              "      <th>3</th>\n",
              "      <td>4</td>\n",
              "      <td>Lisa</td>\n",
              "      <td>White</td>\n",
              "      <td>None</td>\n",
              "      <td>Alenbi 66, Tel Aviv</td>\n",
              "      <td>062-1234565</td>\n",
              "      <td>lisa@White.com</td>\n",
              "    </tr>\n",
              "  </tbody>\n",
              "</table>\n",
              "</div>"
            ],
            "text/plain": [
              "   CustomerId FirstName  ...        Phone            Email\n",
              "0           1     Moshe  ...  053-5556789  moshe@cohen.com\n",
              "1           2      Lisa  ...  052-1234565   lisa@cohen.com\n",
              "2           3      Nika  ...  330-1234565    Nika@rave.com\n",
              "3           4      Lisa  ...  062-1234565   lisa@White.com\n",
              "\n",
              "[4 rows x 7 columns]"
            ]
          },
          "metadata": {
            "tags": []
          },
          "execution_count": 48
        }
      ]
    },
    {
      "cell_type": "code",
      "metadata": {
        "colab": {
          "base_uri": "https://localhost:8080/",
          "height": 632
        },
        "id": "8N_pMxycvWZ7",
        "outputId": "e36bcc41-64de-41e6-b9e7-c5a4b04020a9"
      },
      "source": [
        "# Если хотим получить отсортированные значения - ключевая команда ORDER BY\n",
        "sql = \"\"\"\n",
        "SELECT \n",
        "    *\n",
        "FROM\n",
        "    customers\n",
        "ORDER BY \n",
        "    LastName ASC;\n",
        "\"\"\"\n",
        "df = pd.read_sql(sql, conn)\n",
        "\n",
        "df.head()"
      ],
      "execution_count": null,
      "outputs": [
        {
          "output_type": "stream",
          "text": [
            "2020-12-10 07:46:32,149 INFO sqlalchemy.engine.base.Engine PRAGMA main.table_info(\"\n",
            "SELECT \n",
            "    *\n",
            "FROM\n",
            "    customers\n",
            "ORDER BY \n",
            "    LastName ASC;\n",
            "\")\n",
            "2020-12-10 07:46:32,151 INFO sqlalchemy.engine.base.Engine ()\n",
            "2020-12-10 07:46:32,153 INFO sqlalchemy.engine.base.Engine PRAGMA temp.table_info(\"\n",
            "SELECT \n",
            "    *\n",
            "FROM\n",
            "    customers\n",
            "ORDER BY \n",
            "    LastName ASC;\n",
            "\")\n",
            "2020-12-10 07:46:32,158 INFO sqlalchemy.engine.base.Engine ()\n",
            "2020-12-10 07:46:32,160 INFO sqlalchemy.engine.base.Engine \n",
            "SELECT \n",
            "    *\n",
            "FROM\n",
            "    customers\n",
            "ORDER BY \n",
            "    LastName ASC;\n",
            "\n",
            "2020-12-10 07:46:32,162 INFO sqlalchemy.engine.base.Engine ()\n"
          ],
          "name": "stdout"
        },
        {
          "output_type": "execute_result",
          "data": {
            "text/html": [
              "<div>\n",
              "<style scoped>\n",
              "    .dataframe tbody tr th:only-of-type {\n",
              "        vertical-align: middle;\n",
              "    }\n",
              "\n",
              "    .dataframe tbody tr th {\n",
              "        vertical-align: top;\n",
              "    }\n",
              "\n",
              "    .dataframe thead th {\n",
              "        text-align: right;\n",
              "    }\n",
              "</style>\n",
              "<table border=\"1\" class=\"dataframe\">\n",
              "  <thead>\n",
              "    <tr style=\"text-align: right;\">\n",
              "      <th></th>\n",
              "      <th>CustomerId</th>\n",
              "      <th>FirstName</th>\n",
              "      <th>LastName</th>\n",
              "      <th>Company</th>\n",
              "      <th>Address</th>\n",
              "      <th>Phone</th>\n",
              "      <th>Email</th>\n",
              "    </tr>\n",
              "  </thead>\n",
              "  <tbody>\n",
              "    <tr>\n",
              "      <th>0</th>\n",
              "      <td>1</td>\n",
              "      <td>Moshe</td>\n",
              "      <td>Cohen</td>\n",
              "      <td>None</td>\n",
              "      <td>Alenbi 99, Tel Aviv</td>\n",
              "      <td>053-5556789</td>\n",
              "      <td>moshe@cohen.com</td>\n",
              "    </tr>\n",
              "    <tr>\n",
              "      <th>1</th>\n",
              "      <td>2</td>\n",
              "      <td>Lisa</td>\n",
              "      <td>Cohen</td>\n",
              "      <td>None</td>\n",
              "      <td>Alenbi 99, Tel Aviv</td>\n",
              "      <td>052-1234565</td>\n",
              "      <td>lisa@cohen.com</td>\n",
              "    </tr>\n",
              "    <tr>\n",
              "      <th>2</th>\n",
              "      <td>3</td>\n",
              "      <td>Nika</td>\n",
              "      <td>Rave</td>\n",
              "      <td>None</td>\n",
              "      <td>Green st, LA</td>\n",
              "      <td>330-1234565</td>\n",
              "      <td>Nika@rave.com</td>\n",
              "    </tr>\n",
              "    <tr>\n",
              "      <th>3</th>\n",
              "      <td>4</td>\n",
              "      <td>Lisa</td>\n",
              "      <td>White</td>\n",
              "      <td>None</td>\n",
              "      <td>Alenbi 66, Tel Aviv</td>\n",
              "      <td>062-1234565</td>\n",
              "      <td>lisa@White.com</td>\n",
              "    </tr>\n",
              "  </tbody>\n",
              "</table>\n",
              "</div>"
            ],
            "text/plain": [
              "   CustomerId FirstName  ...        Phone            Email\n",
              "0           1     Moshe  ...  053-5556789  moshe@cohen.com\n",
              "1           2      Lisa  ...  052-1234565   lisa@cohen.com\n",
              "2           3      Nika  ...  330-1234565    Nika@rave.com\n",
              "3           4      Lisa  ...  062-1234565   lisa@White.com\n",
              "\n",
              "[4 rows x 7 columns]"
            ]
          },
          "metadata": {
            "tags": []
          },
          "execution_count": 49
        }
      ]
    },
    {
      "cell_type": "code",
      "metadata": {
        "colab": {
          "base_uri": "https://localhost:8080/",
          "height": 601
        },
        "id": "-UA9_QlHf0ne",
        "outputId": "77a4f33e-320c-4e45-f997-eea13b7fb2f2"
      },
      "source": [
        "# Если хотим получить уникальные значения - ключевая команда DISTINCT\n",
        "df = pd.read_sql(\"\"\"\n",
        "SELECT \n",
        "    DISTINCT LastName\n",
        "FROM\n",
        "    customers\n",
        "ORDER BY \n",
        "    LastName;\n",
        "\"\"\", conn)\n",
        "\n",
        "df.head()"
      ],
      "execution_count": null,
      "outputs": [
        {
          "output_type": "stream",
          "text": [
            "2020-12-10 07:46:32,200 INFO sqlalchemy.engine.base.Engine PRAGMA main.table_info(\"\n",
            "SELECT \n",
            "    DISTINCT LastName\n",
            "FROM\n",
            "    customers\n",
            "ORDER BY \n",
            "    LastName;\n",
            "\")\n",
            "2020-12-10 07:46:32,201 INFO sqlalchemy.engine.base.Engine ()\n",
            "2020-12-10 07:46:32,204 INFO sqlalchemy.engine.base.Engine PRAGMA temp.table_info(\"\n",
            "SELECT \n",
            "    DISTINCT LastName\n",
            "FROM\n",
            "    customers\n",
            "ORDER BY \n",
            "    LastName;\n",
            "\")\n",
            "2020-12-10 07:46:32,205 INFO sqlalchemy.engine.base.Engine ()\n",
            "2020-12-10 07:46:32,207 INFO sqlalchemy.engine.base.Engine \n",
            "SELECT \n",
            "    DISTINCT LastName\n",
            "FROM\n",
            "    customers\n",
            "ORDER BY \n",
            "    LastName;\n",
            "\n",
            "2020-12-10 07:46:32,209 INFO sqlalchemy.engine.base.Engine ()\n"
          ],
          "name": "stdout"
        },
        {
          "output_type": "execute_result",
          "data": {
            "text/html": [
              "<div>\n",
              "<style scoped>\n",
              "    .dataframe tbody tr th:only-of-type {\n",
              "        vertical-align: middle;\n",
              "    }\n",
              "\n",
              "    .dataframe tbody tr th {\n",
              "        vertical-align: top;\n",
              "    }\n",
              "\n",
              "    .dataframe thead th {\n",
              "        text-align: right;\n",
              "    }\n",
              "</style>\n",
              "<table border=\"1\" class=\"dataframe\">\n",
              "  <thead>\n",
              "    <tr style=\"text-align: right;\">\n",
              "      <th></th>\n",
              "      <th>LastName</th>\n",
              "    </tr>\n",
              "  </thead>\n",
              "  <tbody>\n",
              "    <tr>\n",
              "      <th>0</th>\n",
              "      <td>Cohen</td>\n",
              "    </tr>\n",
              "    <tr>\n",
              "      <th>1</th>\n",
              "      <td>Rave</td>\n",
              "    </tr>\n",
              "    <tr>\n",
              "      <th>2</th>\n",
              "      <td>White</td>\n",
              "    </tr>\n",
              "  </tbody>\n",
              "</table>\n",
              "</div>"
            ],
            "text/plain": [
              "  LastName\n",
              "0    Cohen\n",
              "1     Rave\n",
              "2    White"
            ]
          },
          "metadata": {
            "tags": []
          },
          "execution_count": 50
        }
      ]
    },
    {
      "cell_type": "markdown",
      "metadata": {
        "id": "mckZNlhL2NLq"
      },
      "source": [
        "# ДЗ\n",
        " Дедлайн **15.12.2020, 23:59**\n",
        "  \n",
        "- Решить первые 20 задач с сайта https://www.sql-ex.ru (Раздел SELECT(обучающий этап)). Оценивается пропорционально кол-ву выполненных задач. + 20 % (еще 15 задач)\n",
        "\n",
        "- Дополнить таблицу 'items' и 'purchases' 5ью экземплярами (каждую) на Ваш Выбор. Важно: они должны быть привязаны к существующим покупателям Lisa, Nika, Moshe.\n",
        "- При помощи запроса SQLAlchemy вывести все покупки Lisa. Вывести тоже самое при помощи Pandas."
      ]
    },
    {
      "cell_type": "markdown",
      "metadata": {
        "id": "fykV6I7tkAPK"
      },
      "source": [
        "\n",
        "<center><img src='https://github.com/ddvika/Data-Science-School-2020/blob/main/lecture_5/imgs/i-know-sql.jpg?raw=true'></center>"
      ]
    },
    {
      "cell_type": "markdown",
      "metadata": {
        "id": "QrVac7DlidTC"
      },
      "source": [
        "##Задание 1. \n",
        "Решить первые 20 задач с сайта https://www.sql-ex.ru (Раздел SELECT(обучающий этап)). Оценивается пропорционально кол-ву выполненных задач.\n",
        "\n",
        "<center><img src='https://github.com/alexmal2804/hwds/blob/master/hw_sql_picture2.jpg?raw=true'></center>\n"
      ]
    },
    {
      "cell_type": "markdown",
      "metadata": {
        "id": "yG1JhoIvl25h"
      },
      "source": [
        "##Задание 2\n",
        "Дополнить таблицу 'items' и 'purchases' 5ью экземплярами (каждую) на Ваш Выбор. Важно: они должны быть привязаны к существующим покупателям Lisa, Nika, Moshe.\n",
        "\n",
        "class Item(Base):\n",
        "    __tablename__ = 'items'\n",
        "    \n",
        "    ItemId = Column(Integer, Sequence('item_id_seq'), primary_key=True)\n",
        "    Name = Column(NVARCHAR(40), nullable=False)\n",
        "    Price = Column(Numeric, nullable=False)\n",
        "\n",
        "class Purchase(Base):\n",
        "    __tablename__ = 'purchases'\n",
        "    \n",
        "    PurchaseId = Column(Integer, Sequence('purchase_id_seq'), primary_key=True)\n",
        "    ItemId = Column(ForeignKey('items.ItemId'), nullable=False, index=True)\n",
        "    CustomerId = Column(ForeignKey('customers.CustomerId'), nullable=False, index=True)\n",
        "    Date = Column(DateTime, nullable=False)\n",
        "    \n",
        "    item = relationship('Item')\n",
        "    customer = relationship('Customer')"
      ]
    },
    {
      "cell_type": "code",
      "metadata": {
        "id": "j4pm7LPcmCZ3"
      },
      "source": [
        "from sqlalchemy import create_engine\n",
        "#engine = create_engine('sqlite:///example.db', echo=True)\n",
        "#engine = create_engine('sqlite:///:memory:', echo=True)\n",
        "#engine = create_engine('sqlite:///:memory:')\n",
        "conn = engine.connect()\n",
        "\n",
        "from sqlalchemy.orm import sessionmaker\n",
        "Session = sessionmaker(bind=engine)\n",
        "session = Session()"
      ],
      "execution_count": null,
      "outputs": []
    },
    {
      "cell_type": "code",
      "metadata": {
        "colab": {
          "base_uri": "https://localhost:8080/",
          "height": 224
        },
        "id": "W-UYIUg4nEhb",
        "outputId": "c2f27143-8317-4381-c647-155dc1c2f899"
      },
      "source": [
        "from sqlalchemy import select\n",
        "customers_query = select([Customer.CustomerId, Customer.FirstName, Customer.LastName, Customer.Email, Customer.Address, Customer.Company, Customer.Phone])\n",
        "display_results(customers_query)"
      ],
      "execution_count": null,
      "outputs": [
        {
          "output_type": "stream",
          "text": [
            "2020-12-10 07:46:32,244 INFO sqlalchemy.engine.base.OptionEngine SELECT customers.\"CustomerId\", customers.\"FirstName\", customers.\"LastName\", customers.\"Email\", customers.\"Address\", customers.\"Company\", customers.\"Phone\" \n",
            "FROM customers\n",
            "2020-12-10 07:46:32,245 INFO sqlalchemy.engine.base.OptionEngine ()\n"
          ],
          "name": "stdout"
        },
        {
          "output_type": "display_data",
          "data": {
            "text/html": [
              "<div>\n",
              "<style scoped>\n",
              "    .dataframe tbody tr th:only-of-type {\n",
              "        vertical-align: middle;\n",
              "    }\n",
              "\n",
              "    .dataframe tbody tr th {\n",
              "        vertical-align: top;\n",
              "    }\n",
              "\n",
              "    .dataframe thead th {\n",
              "        text-align: right;\n",
              "    }\n",
              "</style>\n",
              "<table border=\"1\" class=\"dataframe\">\n",
              "  <thead>\n",
              "    <tr style=\"text-align: right;\">\n",
              "      <th></th>\n",
              "      <th>CustomerId</th>\n",
              "      <th>FirstName</th>\n",
              "      <th>LastName</th>\n",
              "      <th>Email</th>\n",
              "      <th>Address</th>\n",
              "      <th>Company</th>\n",
              "      <th>Phone</th>\n",
              "    </tr>\n",
              "  </thead>\n",
              "  <tbody>\n",
              "    <tr>\n",
              "      <th>0</th>\n",
              "      <td>1</td>\n",
              "      <td>Moshe</td>\n",
              "      <td>Cohen</td>\n",
              "      <td>moshe@cohen.com</td>\n",
              "      <td>Alenbi 99, Tel Aviv</td>\n",
              "      <td>None</td>\n",
              "      <td>053-5556789</td>\n",
              "    </tr>\n",
              "    <tr>\n",
              "      <th>1</th>\n",
              "      <td>2</td>\n",
              "      <td>Lisa</td>\n",
              "      <td>Cohen</td>\n",
              "      <td>lisa@cohen.com</td>\n",
              "      <td>Alenbi 99, Tel Aviv</td>\n",
              "      <td>None</td>\n",
              "      <td>052-1234565</td>\n",
              "    </tr>\n",
              "    <tr>\n",
              "      <th>2</th>\n",
              "      <td>3</td>\n",
              "      <td>Nika</td>\n",
              "      <td>Rave</td>\n",
              "      <td>Nika@rave.com</td>\n",
              "      <td>Green st, LA</td>\n",
              "      <td>None</td>\n",
              "      <td>330-1234565</td>\n",
              "    </tr>\n",
              "    <tr>\n",
              "      <th>3</th>\n",
              "      <td>4</td>\n",
              "      <td>Lisa</td>\n",
              "      <td>White</td>\n",
              "      <td>lisa@White.com</td>\n",
              "      <td>Alenbi 66, Tel Aviv</td>\n",
              "      <td>None</td>\n",
              "      <td>062-1234565</td>\n",
              "    </tr>\n",
              "  </tbody>\n",
              "</table>\n",
              "</div>"
            ],
            "text/plain": [
              "   CustomerId FirstName LastName  ...              Address Company        Phone\n",
              "0           1     Moshe    Cohen  ...  Alenbi 99, Tel Aviv    None  053-5556789\n",
              "1           2      Lisa    Cohen  ...  Alenbi 99, Tel Aviv    None  052-1234565\n",
              "2           3      Nika     Rave  ...         Green st, LA    None  330-1234565\n",
              "3           4      Lisa    White  ...  Alenbi 66, Tel Aviv    None  062-1234565\n",
              "\n",
              "[4 rows x 7 columns]"
            ]
          },
          "metadata": {
            "tags": []
          }
        }
      ]
    },
    {
      "cell_type": "code",
      "metadata": {
        "colab": {
          "base_uri": "https://localhost:8080/"
        },
        "id": "dIx5QgkusVn6",
        "outputId": "aec08444-d823-4dd6-f76e-b52c7cb7bb27"
      },
      "source": [
        "Knife = Item(\n",
        "    Name = 'Knife',\n",
        "    Price = 124\n",
        "    )\n",
        "session.add(Knife)\n",
        "\n",
        "Fork = Item(\n",
        "    Name = 'Fork',\n",
        "    Price = 75\n",
        ")\n",
        "session.add(Fork)\n",
        "\n",
        "Spoon = Item(\n",
        "    Name = 'Spoon',\n",
        "    Price = 87\n",
        ")\n",
        "session.add(Spoon)\n",
        "\n",
        "Plate = Item(\n",
        "    Name = 'Plate',\n",
        "    Price = 93\n",
        ")\n",
        "session.add(Plate)\n",
        "\n",
        "Candlestick = Item(\n",
        "    Name = 'Candlestick',\n",
        "    Price = 178\n",
        ")\n",
        "session.add(Candlestick)\n",
        "\n",
        "session.commit()"
      ],
      "execution_count": null,
      "outputs": [
        {
          "output_type": "stream",
          "text": [
            "2020-12-10 07:46:32,283 INFO sqlalchemy.engine.base.Engine BEGIN (implicit)\n",
            "2020-12-10 07:46:32,284 INFO sqlalchemy.engine.base.Engine INSERT INTO items (\"Name\", \"Price\") VALUES (?, ?)\n",
            "2020-12-10 07:46:32,286 INFO sqlalchemy.engine.base.Engine ('Knife', 124.0)\n",
            "2020-12-10 07:46:32,288 INFO sqlalchemy.engine.base.Engine INSERT INTO items (\"Name\", \"Price\") VALUES (?, ?)\n",
            "2020-12-10 07:46:32,289 INFO sqlalchemy.engine.base.Engine ('Fork', 75.0)\n",
            "2020-12-10 07:46:32,290 INFO sqlalchemy.engine.base.Engine INSERT INTO items (\"Name\", \"Price\") VALUES (?, ?)\n",
            "2020-12-10 07:46:32,291 INFO sqlalchemy.engine.base.Engine ('Spoon', 87.0)\n",
            "2020-12-10 07:46:32,293 INFO sqlalchemy.engine.base.Engine INSERT INTO items (\"Name\", \"Price\") VALUES (?, ?)\n",
            "2020-12-10 07:46:32,293 INFO sqlalchemy.engine.base.Engine ('Plate', 93.0)\n",
            "2020-12-10 07:46:32,296 INFO sqlalchemy.engine.base.Engine INSERT INTO items (\"Name\", \"Price\") VALUES (?, ?)\n",
            "2020-12-10 07:46:32,296 INFO sqlalchemy.engine.base.Engine ('Candlestick', 178.0)\n",
            "2020-12-10 07:46:32,298 INFO sqlalchemy.engine.base.Engine COMMIT\n"
          ],
          "name": "stdout"
        }
      ]
    },
    {
      "cell_type": "code",
      "metadata": {
        "colab": {
          "base_uri": "https://localhost:8080/",
          "height": 309
        },
        "id": "3DSkD69JvCHG",
        "outputId": "98f10d9a-a12b-48d7-ed48-51199a38fefb"
      },
      "source": [
        "items_query = select([Item.ItemId, Item.Name, Item.Price])\n",
        "display_results(items_query)"
      ],
      "execution_count": null,
      "outputs": [
        {
          "output_type": "stream",
          "text": [
            "2020-12-10 07:46:32,306 INFO sqlalchemy.engine.base.OptionEngine SELECT items.\"ItemId\", items.\"Name\", items.\"Price\" \n",
            "FROM items\n",
            "2020-12-10 07:46:32,307 INFO sqlalchemy.engine.base.OptionEngine ()\n"
          ],
          "name": "stdout"
        },
        {
          "output_type": "stream",
          "text": [
            "/usr/local/lib/python3.6/dist-packages/sqlalchemy/sql/sqltypes.py:668: SAWarning: Dialect sqlite+pysqlite does *not* support Decimal objects natively, and SQLAlchemy must convert from floating point - rounding errors and other issues may occur. Please consider storing Decimal numbers as strings or integers on this platform for lossless storage.\n",
            "  \"storage.\" % (dialect.name, dialect.driver)\n"
          ],
          "name": "stderr"
        },
        {
          "output_type": "display_data",
          "data": {
            "text/html": [
              "<div>\n",
              "<style scoped>\n",
              "    .dataframe tbody tr th:only-of-type {\n",
              "        vertical-align: middle;\n",
              "    }\n",
              "\n",
              "    .dataframe tbody tr th {\n",
              "        vertical-align: top;\n",
              "    }\n",
              "\n",
              "    .dataframe thead th {\n",
              "        text-align: right;\n",
              "    }\n",
              "</style>\n",
              "<table border=\"1\" class=\"dataframe\">\n",
              "  <thead>\n",
              "    <tr style=\"text-align: right;\">\n",
              "      <th></th>\n",
              "      <th>ItemId</th>\n",
              "      <th>Name</th>\n",
              "      <th>Price</th>\n",
              "    </tr>\n",
              "  </thead>\n",
              "  <tbody>\n",
              "    <tr>\n",
              "      <th>0</th>\n",
              "      <td>1</td>\n",
              "      <td>Knife</td>\n",
              "      <td>124.0</td>\n",
              "    </tr>\n",
              "    <tr>\n",
              "      <th>1</th>\n",
              "      <td>2</td>\n",
              "      <td>Fork</td>\n",
              "      <td>75.0</td>\n",
              "    </tr>\n",
              "    <tr>\n",
              "      <th>2</th>\n",
              "      <td>3</td>\n",
              "      <td>Spoon</td>\n",
              "      <td>87.0</td>\n",
              "    </tr>\n",
              "    <tr>\n",
              "      <th>3</th>\n",
              "      <td>4</td>\n",
              "      <td>Plate</td>\n",
              "      <td>93.0</td>\n",
              "    </tr>\n",
              "    <tr>\n",
              "      <th>4</th>\n",
              "      <td>5</td>\n",
              "      <td>Candlestick</td>\n",
              "      <td>178.0</td>\n",
              "    </tr>\n",
              "  </tbody>\n",
              "</table>\n",
              "</div>"
            ],
            "text/plain": [
              "   ItemId         Name  Price\n",
              "0       1        Knife  124.0\n",
              "1       2         Fork   75.0\n",
              "2       3        Spoon   87.0\n",
              "3       4        Plate   93.0\n",
              "4       5  Candlestick  178.0"
            ]
          },
          "metadata": {
            "tags": []
          }
        }
      ]
    },
    {
      "cell_type": "code",
      "metadata": {
        "id": "wtwbpHuz0cXp"
      },
      "source": [
        "import datetime"
      ],
      "execution_count": null,
      "outputs": []
    },
    {
      "cell_type": "code",
      "metadata": {
        "colab": {
          "base_uri": "https://localhost:8080/"
        },
        "id": "RuYwQsOJvcMf",
        "outputId": "88d93174-cada-4b8f-b76b-23d80cde161f"
      },
      "source": [
        "purchase1_1 = Purchase(\n",
        "    ItemId = 1,\n",
        "    CustomerId = 1,\n",
        "    Date = datetime.datetime(2020, 8, 12)\n",
        ")\n",
        "session.add(purchase1_1)\n",
        "purchase2_1 = Purchase(\n",
        "    ItemId = 4,\n",
        "    CustomerId = 1,\n",
        "    Date = datetime.datetime(2019, 12, 30)\n",
        ")\n",
        "session.add(purchase2_1)\n",
        "purchase2_1 = Purchase(\n",
        "    ItemId = 5,\n",
        "    CustomerId = 2,\n",
        "    Date = datetime.datetime(2020, 10, 25)\n",
        ")\n",
        "session.add(purchase2_1)\n",
        "purchase2_2 = Purchase(\n",
        "    ItemId = 3,\n",
        "    CustomerId = 2,\n",
        "    Date = datetime.datetime(2020, 2, 23)\n",
        ")\n",
        "session.add(purchase2_2)\n",
        "purchase4_1 = Purchase(\n",
        "    ItemId = 5,\n",
        "    CustomerId = 4,\n",
        "    Date = datetime.datetime(2019, 10, 8)\n",
        ")\n",
        "session.add(purchase4_1)\n",
        "session.commit()"
      ],
      "execution_count": null,
      "outputs": [
        {
          "output_type": "stream",
          "text": [
            "2020-12-10 07:46:32,367 INFO sqlalchemy.engine.base.Engine BEGIN (implicit)\n",
            "2020-12-10 07:46:32,369 INFO sqlalchemy.engine.base.Engine INSERT INTO purchases (\"ItemId\", \"CustomerId\", \"Date\") VALUES (?, ?, ?)\n",
            "2020-12-10 07:46:32,370 INFO sqlalchemy.engine.base.Engine (1, 1, '2020-08-12 00:00:00.000000')\n",
            "2020-12-10 07:46:32,372 INFO sqlalchemy.engine.base.Engine INSERT INTO purchases (\"ItemId\", \"CustomerId\", \"Date\") VALUES (?, ?, ?)\n",
            "2020-12-10 07:46:32,373 INFO sqlalchemy.engine.base.Engine (4, 1, '2019-12-30 00:00:00.000000')\n",
            "2020-12-10 07:46:32,374 INFO sqlalchemy.engine.base.Engine INSERT INTO purchases (\"ItemId\", \"CustomerId\", \"Date\") VALUES (?, ?, ?)\n",
            "2020-12-10 07:46:32,376 INFO sqlalchemy.engine.base.Engine (5, 2, '2020-10-25 00:00:00.000000')\n",
            "2020-12-10 07:46:32,377 INFO sqlalchemy.engine.base.Engine INSERT INTO purchases (\"ItemId\", \"CustomerId\", \"Date\") VALUES (?, ?, ?)\n",
            "2020-12-10 07:46:32,378 INFO sqlalchemy.engine.base.Engine (3, 2, '2020-02-23 00:00:00.000000')\n",
            "2020-12-10 07:46:32,380 INFO sqlalchemy.engine.base.Engine INSERT INTO purchases (\"ItemId\", \"CustomerId\", \"Date\") VALUES (?, ?, ?)\n",
            "2020-12-10 07:46:32,381 INFO sqlalchemy.engine.base.Engine (5, 4, '2019-10-08 00:00:00.000000')\n",
            "2020-12-10 07:46:32,382 INFO sqlalchemy.engine.base.Engine COMMIT\n"
          ],
          "name": "stdout"
        }
      ]
    },
    {
      "cell_type": "code",
      "metadata": {
        "colab": {
          "base_uri": "https://localhost:8080/",
          "height": 255
        },
        "id": "iO3J62MbndEp",
        "outputId": "06c09476-b210-4c9d-83ed-3c170a8c3b1d"
      },
      "source": [
        "purchase_query = select([Purchase.PurchaseId, Purchase.ItemId, Purchase.CustomerId, Purchase.Date])\n",
        "display_results(purchase_query)"
      ],
      "execution_count": null,
      "outputs": [
        {
          "output_type": "stream",
          "text": [
            "2020-12-10 07:48:18,487 INFO sqlalchemy.engine.base.OptionEngine SELECT purchases.\"PurchaseId\", purchases.\"ItemId\", purchases.\"CustomerId\", purchases.\"Date\" \n",
            "FROM purchases\n",
            "2020-12-10 07:48:18,490 INFO sqlalchemy.engine.base.OptionEngine ()\n"
          ],
          "name": "stdout"
        },
        {
          "output_type": "display_data",
          "data": {
            "text/html": [
              "<div>\n",
              "<style scoped>\n",
              "    .dataframe tbody tr th:only-of-type {\n",
              "        vertical-align: middle;\n",
              "    }\n",
              "\n",
              "    .dataframe tbody tr th {\n",
              "        vertical-align: top;\n",
              "    }\n",
              "\n",
              "    .dataframe thead th {\n",
              "        text-align: right;\n",
              "    }\n",
              "</style>\n",
              "<table border=\"1\" class=\"dataframe\">\n",
              "  <thead>\n",
              "    <tr style=\"text-align: right;\">\n",
              "      <th></th>\n",
              "      <th>PurchaseId</th>\n",
              "      <th>ItemId</th>\n",
              "      <th>CustomerId</th>\n",
              "      <th>Date</th>\n",
              "    </tr>\n",
              "  </thead>\n",
              "  <tbody>\n",
              "    <tr>\n",
              "      <th>0</th>\n",
              "      <td>1</td>\n",
              "      <td>1</td>\n",
              "      <td>1</td>\n",
              "      <td>2020-08-12</td>\n",
              "    </tr>\n",
              "    <tr>\n",
              "      <th>1</th>\n",
              "      <td>2</td>\n",
              "      <td>4</td>\n",
              "      <td>1</td>\n",
              "      <td>2019-12-30</td>\n",
              "    </tr>\n",
              "    <tr>\n",
              "      <th>2</th>\n",
              "      <td>3</td>\n",
              "      <td>5</td>\n",
              "      <td>2</td>\n",
              "      <td>2020-10-25</td>\n",
              "    </tr>\n",
              "    <tr>\n",
              "      <th>3</th>\n",
              "      <td>4</td>\n",
              "      <td>3</td>\n",
              "      <td>2</td>\n",
              "      <td>2020-02-23</td>\n",
              "    </tr>\n",
              "    <tr>\n",
              "      <th>4</th>\n",
              "      <td>5</td>\n",
              "      <td>5</td>\n",
              "      <td>4</td>\n",
              "      <td>2019-10-08</td>\n",
              "    </tr>\n",
              "  </tbody>\n",
              "</table>\n",
              "</div>"
            ],
            "text/plain": [
              "   PurchaseId  ItemId  CustomerId       Date\n",
              "0           1       1           1 2020-08-12\n",
              "1           2       4           1 2019-12-30\n",
              "2           3       5           2 2020-10-25\n",
              "3           4       3           2 2020-02-23\n",
              "4           5       5           4 2019-10-08"
            ]
          },
          "metadata": {
            "tags": []
          }
        }
      ]
    },
    {
      "cell_type": "markdown",
      "metadata": {
        "id": "DMx23ZxFqX0i"
      },
      "source": [
        "## Вопрос 3.\n",
        "При помощи запроса SQLAlchemy вывести все покупки Lisa. Вывести тоже самое при помощи Pandas."
      ]
    },
    {
      "cell_type": "code",
      "metadata": {
        "colab": {
          "base_uri": "https://localhost:8080/",
          "height": 210
        },
        "id": "uY7vsRSYqXPh",
        "outputId": "1a7a0715-60de-4c8f-fa64-6a619e1f6301"
      },
      "source": [
        "Lisa_query = select([Customer.FirstName, Customer.LastName, Item.Name, Item.Price, Purchase.Date]).where(and_(Customer.CustomerId == Purchase.CustomerId, Purchase.ItemId == Item.ItemId, Customer.FirstName == 'Lisa'))\n",
        "display_results(Lisa_query)"
      ],
      "execution_count": null,
      "outputs": [
        {
          "output_type": "stream",
          "text": [
            "2020-12-10 08:50:36,313 INFO sqlalchemy.engine.base.OptionEngine SELECT customers.\"FirstName\", customers.\"LastName\", items.\"Name\", items.\"Price\", purchases.\"Date\" \n",
            "FROM customers, items, purchases \n",
            "WHERE customers.\"CustomerId\" = purchases.\"CustomerId\" AND purchases.\"ItemId\" = items.\"ItemId\" AND customers.\"FirstName\" = ?\n",
            "2020-12-10 08:50:36,314 INFO sqlalchemy.engine.base.OptionEngine ('Lisa',)\n"
          ],
          "name": "stdout"
        },
        {
          "output_type": "display_data",
          "data": {
            "text/html": [
              "<div>\n",
              "<style scoped>\n",
              "    .dataframe tbody tr th:only-of-type {\n",
              "        vertical-align: middle;\n",
              "    }\n",
              "\n",
              "    .dataframe tbody tr th {\n",
              "        vertical-align: top;\n",
              "    }\n",
              "\n",
              "    .dataframe thead th {\n",
              "        text-align: right;\n",
              "    }\n",
              "</style>\n",
              "<table border=\"1\" class=\"dataframe\">\n",
              "  <thead>\n",
              "    <tr style=\"text-align: right;\">\n",
              "      <th></th>\n",
              "      <th>FirstName</th>\n",
              "      <th>LastName</th>\n",
              "      <th>Name</th>\n",
              "      <th>Price</th>\n",
              "      <th>Date</th>\n",
              "    </tr>\n",
              "  </thead>\n",
              "  <tbody>\n",
              "    <tr>\n",
              "      <th>0</th>\n",
              "      <td>Lisa</td>\n",
              "      <td>Cohen</td>\n",
              "      <td>Candlestick</td>\n",
              "      <td>178.0</td>\n",
              "      <td>2020-10-25</td>\n",
              "    </tr>\n",
              "    <tr>\n",
              "      <th>1</th>\n",
              "      <td>Lisa</td>\n",
              "      <td>Cohen</td>\n",
              "      <td>Spoon</td>\n",
              "      <td>87.0</td>\n",
              "      <td>2020-02-23</td>\n",
              "    </tr>\n",
              "    <tr>\n",
              "      <th>2</th>\n",
              "      <td>Lisa</td>\n",
              "      <td>White</td>\n",
              "      <td>Candlestick</td>\n",
              "      <td>178.0</td>\n",
              "      <td>2019-10-08</td>\n",
              "    </tr>\n",
              "  </tbody>\n",
              "</table>\n",
              "</div>"
            ],
            "text/plain": [
              "  FirstName LastName         Name  Price       Date\n",
              "0      Lisa    Cohen  Candlestick  178.0 2020-10-25\n",
              "1      Lisa    Cohen        Spoon   87.0 2020-02-23\n",
              "2      Lisa    White  Candlestick  178.0 2019-10-08"
            ]
          },
          "metadata": {
            "tags": []
          }
        }
      ]
    },
    {
      "cell_type": "code",
      "metadata": {
        "colab": {
          "base_uri": "https://localhost:8080/",
          "height": 754
        },
        "id": "uBrUmL0f2L1n",
        "outputId": "18526f11-4129-40c3-d53c-7aa9670729c2"
      },
      "source": [
        "sql = \"\"\"\n",
        "SELECT Customers.FirstName, Customers.LastName, Items.Name, Items.Price, Purchases.Date \n",
        "FROM Customers, Items, Purchases\n",
        "WHERE  Customers.CustomerId = Purchases.CustomerId and Purchases.ItemId = Items.ItemId and Customers.FirstName = 'Lisa';\n",
        "\"\"\"\n",
        "df = pd.read_sql(sql, conn)\n",
        "df"
      ],
      "execution_count": null,
      "outputs": [
        {
          "output_type": "stream",
          "text": [
            "2020-12-10 09:11:22,923 INFO sqlalchemy.engine.base.Engine PRAGMA main.table_info(\"\n",
            "SELECT Customers.FirstName, Customers.LastName, Items.Name, Items.Price, Purchases.Date \n",
            "FROM Customers, Items, Purchases\n",
            "WHERE  Customers.CustomerId = Purchases.CustomerId and Purchases.ItemId = Items.ItemId and Customers.FirstName = 'Lisa';\n",
            "\")\n"
          ],
          "name": "stdout"
        },
        {
          "output_type": "stream",
          "text": [
            "INFO:sqlalchemy.engine.base.Engine:PRAGMA main.table_info(\"\n",
            "SELECT Customers.FirstName, Customers.LastName, Items.Name, Items.Price, Purchases.Date \n",
            "FROM Customers, Items, Purchases\n",
            "WHERE  Customers.CustomerId = Purchases.CustomerId and Purchases.ItemId = Items.ItemId and Customers.FirstName = 'Lisa';\n",
            "\")\n"
          ],
          "name": "stderr"
        },
        {
          "output_type": "stream",
          "text": [
            "2020-12-10 09:11:22,926 INFO sqlalchemy.engine.base.Engine ()\n"
          ],
          "name": "stdout"
        },
        {
          "output_type": "stream",
          "text": [
            "INFO:sqlalchemy.engine.base.Engine:()\n"
          ],
          "name": "stderr"
        },
        {
          "output_type": "stream",
          "text": [
            "2020-12-10 09:11:22,928 INFO sqlalchemy.engine.base.Engine PRAGMA temp.table_info(\"\n",
            "SELECT Customers.FirstName, Customers.LastName, Items.Name, Items.Price, Purchases.Date \n",
            "FROM Customers, Items, Purchases\n",
            "WHERE  Customers.CustomerId = Purchases.CustomerId and Purchases.ItemId = Items.ItemId and Customers.FirstName = 'Lisa';\n",
            "\")\n"
          ],
          "name": "stdout"
        },
        {
          "output_type": "stream",
          "text": [
            "INFO:sqlalchemy.engine.base.Engine:PRAGMA temp.table_info(\"\n",
            "SELECT Customers.FirstName, Customers.LastName, Items.Name, Items.Price, Purchases.Date \n",
            "FROM Customers, Items, Purchases\n",
            "WHERE  Customers.CustomerId = Purchases.CustomerId and Purchases.ItemId = Items.ItemId and Customers.FirstName = 'Lisa';\n",
            "\")\n"
          ],
          "name": "stderr"
        },
        {
          "output_type": "stream",
          "text": [
            "2020-12-10 09:11:22,931 INFO sqlalchemy.engine.base.Engine ()\n"
          ],
          "name": "stdout"
        },
        {
          "output_type": "stream",
          "text": [
            "INFO:sqlalchemy.engine.base.Engine:()\n"
          ],
          "name": "stderr"
        },
        {
          "output_type": "stream",
          "text": [
            "2020-12-10 09:11:22,934 INFO sqlalchemy.engine.base.Engine \n",
            "SELECT Customers.FirstName, Customers.LastName, Items.Name, Items.Price, Purchases.Date \n",
            "FROM Customers, Items, Purchases\n",
            "WHERE  Customers.CustomerId = Purchases.CustomerId and Purchases.ItemId = Items.ItemId and Customers.FirstName = 'Lisa';\n",
            "\n"
          ],
          "name": "stdout"
        },
        {
          "output_type": "stream",
          "text": [
            "INFO:sqlalchemy.engine.base.Engine:\n",
            "SELECT Customers.FirstName, Customers.LastName, Items.Name, Items.Price, Purchases.Date \n",
            "FROM Customers, Items, Purchases\n",
            "WHERE  Customers.CustomerId = Purchases.CustomerId and Purchases.ItemId = Items.ItemId and Customers.FirstName = 'Lisa';\n",
            "\n"
          ],
          "name": "stderr"
        },
        {
          "output_type": "stream",
          "text": [
            "2020-12-10 09:11:22,936 INFO sqlalchemy.engine.base.Engine ()\n"
          ],
          "name": "stdout"
        },
        {
          "output_type": "stream",
          "text": [
            "INFO:sqlalchemy.engine.base.Engine:()\n"
          ],
          "name": "stderr"
        },
        {
          "output_type": "execute_result",
          "data": {
            "text/html": [
              "<div>\n",
              "<style scoped>\n",
              "    .dataframe tbody tr th:only-of-type {\n",
              "        vertical-align: middle;\n",
              "    }\n",
              "\n",
              "    .dataframe tbody tr th {\n",
              "        vertical-align: top;\n",
              "    }\n",
              "\n",
              "    .dataframe thead th {\n",
              "        text-align: right;\n",
              "    }\n",
              "</style>\n",
              "<table border=\"1\" class=\"dataframe\">\n",
              "  <thead>\n",
              "    <tr style=\"text-align: right;\">\n",
              "      <th></th>\n",
              "      <th>FirstName</th>\n",
              "      <th>LastName</th>\n",
              "      <th>Name</th>\n",
              "      <th>Price</th>\n",
              "      <th>Date</th>\n",
              "    </tr>\n",
              "  </thead>\n",
              "  <tbody>\n",
              "    <tr>\n",
              "      <th>0</th>\n",
              "      <td>Lisa</td>\n",
              "      <td>Cohen</td>\n",
              "      <td>Candlestick</td>\n",
              "      <td>178</td>\n",
              "      <td>2020-10-25 00:00:00.000000</td>\n",
              "    </tr>\n",
              "    <tr>\n",
              "      <th>1</th>\n",
              "      <td>Lisa</td>\n",
              "      <td>Cohen</td>\n",
              "      <td>Spoon</td>\n",
              "      <td>87</td>\n",
              "      <td>2020-02-23 00:00:00.000000</td>\n",
              "    </tr>\n",
              "    <tr>\n",
              "      <th>2</th>\n",
              "      <td>Lisa</td>\n",
              "      <td>White</td>\n",
              "      <td>Candlestick</td>\n",
              "      <td>178</td>\n",
              "      <td>2019-10-08 00:00:00.000000</td>\n",
              "    </tr>\n",
              "  </tbody>\n",
              "</table>\n",
              "</div>"
            ],
            "text/plain": [
              "  FirstName LastName         Name  Price                        Date\n",
              "0      Lisa    Cohen  Candlestick    178  2020-10-25 00:00:00.000000\n",
              "1      Lisa    Cohen        Spoon     87  2020-02-23 00:00:00.000000\n",
              "2      Lisa    White  Candlestick    178  2019-10-08 00:00:00.000000"
            ]
          },
          "metadata": {
            "tags": []
          },
          "execution_count": 80
        }
      ]
    }
  ]
}