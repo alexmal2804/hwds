{
  "nbformat": 4,
  "nbformat_minor": 0,
  "metadata": {
    "colab": {
      "name": "Копия блокнота \"HW_lessons_9-10.ipynb\"",
      "provenance": [],
      "collapsed_sections": [],
      "include_colab_link": true
    },
    "kernelspec": {
      "name": "python3",
      "display_name": "Python 3"
    }
  },
  "cells": [
    {
      "cell_type": "markdown",
      "metadata": {
        "id": "view-in-github",
        "colab_type": "text"
      },
      "source": [
        "<a href=\"https://colab.research.google.com/github/alexmal2804/hwds/blob/master/%D0%9A%D0%BE%D0%BF%D0%B8%D1%8F_%D0%B1%D0%BB%D0%BE%D0%BA%D0%BD%D0%BE%D1%82%D0%B0_%22HW_lessons_9_10_ipynb%22.ipynb\" target=\"_parent\"><img src=\"https://colab.research.google.com/assets/colab-badge.svg\" alt=\"Open In Colab\"/></a>"
      ]
    },
    {
      "cell_type": "markdown",
      "metadata": {
        "id": "VdBYmThNnN5e"
      },
      "source": [
        "https://colab.research.google.com/drive/1apH4vhupuMvttCAHUS5GQM4BK8auC7Ko?usp=sharing"
      ]
    },
    {
      "cell_type": "markdown",
      "metadata": {
        "id": "SgxdX4L0dSw7"
      },
      "source": [
        "# Домашнее задание"
      ]
    },
    {
      "cell_type": "markdown",
      "metadata": {
        "id": "piodEhR7orUF"
      },
      "source": [
        "Ноутбук в колаб: https://colab.research.google.com/drive/1d-vvpJW8IWSPeodFnfaEVaZIQrys8uU0?usp=sharing"
      ]
    },
    {
      "cell_type": "markdown",
      "metadata": {
        "id": "r3_T-pcpnme8"
      },
      "source": [
        "**Дедлайн: 01.01.2021, 23:59**\n"
      ]
    },
    {
      "cell_type": "markdown",
      "metadata": {
        "id": "B2RmFtRDn5vy"
      },
      "source": [
        "Формат отчетности - jupyter notebook. Однако вычислять производные не обязательно в Markdown. Если вычисляете вручную, то дополнительно с ноутбуком, отправляйте pdf-файл с расписанным решением."
      ]
    },
    {
      "cell_type": "markdown",
      "metadata": {
        "id": "aCDx6dKzeEhp"
      },
      "source": [
        "### Пример реализации градиентного спуска: https://github.com/ddvika/Data-Science-School-2020/blob/main/lecture_9/gradient_methods.ipynb"
      ]
    },
    {
      "cell_type": "markdown",
      "metadata": {
        "id": "t-G1btbwoStu"
      },
      "source": [
        "# Задания"
      ]
    },
    {
      "cell_type": "markdown",
      "metadata": {
        "id": "B1XambpmoeIj"
      },
      "source": [
        "Перед выполнением ДЗ посмотрите на ноутбук, прикрепленный по ссылке выше. Там вы найдете реализацию градиентного спуска с постоянным и дробным шагом."
      ]
    },
    {
      "cell_type": "markdown",
      "metadata": {
        "id": "VnSTXgrueAp0"
      },
      "source": [
        "### Задание 1. [1 point]"
      ]
    },
    {
      "cell_type": "markdown",
      "metadata": {
        "id": "3jT_E2np2z8g"
      },
      "source": [
        ""
      ]
    },
    {
      "cell_type": "markdown",
      "metadata": {
        "id": "-XmQ1AO9f1Qz"
      },
      "source": [
        "Релизуйте градиентный спуск с постоянным шагом и с дробным шагом для функции\n",
        "$$\n",
        "y = x_{1}^{2}+5 x_{2}^{2}\n",
        "$$\n",
        "\n",
        "в произвольно выбранной Вами точке."
      ]
    },
    {
      "cell_type": "markdown",
      "metadata": {
        "id": "XAXdL_PDgYpS"
      },
      "source": [
        "Поэксперементируйте с разными значениями шага (скорости обучения), попробуйте хотя бы по 2-3 разных значения."
      ]
    },
    {
      "cell_type": "markdown",
      "metadata": {
        "id": "ucbvMBsdgOwV"
      },
      "source": [
        "### Задание 2. [3 points]\n",
        "\n",
        "Для функции из предыдущего задания реализуйте градиентный спуск, в котором значение шага (скорости обучения) будет изменяться по формуле циклического косинусного ожига. ( в англ. литературе - cosine annealing learning rate или cosine decay lr). \n",
        "\n",
        "Доп. литература:\n",
        "- Циклический косинусный отжиг https://habr.com/ru/post/332534/\n",
        "\n",
        "- Пример colise decay в библиотеке Pytorch:\n",
        "https://www.programmersought.com/article/12164650026/"
      ]
    },
    {
      "cell_type": "markdown",
      "metadata": {
        "id": "d2Non6JiiVoJ"
      },
      "source": [
        "### Задание 3. [0.75 point]\n",
        "Проверьте работу Вашего градиентного спуска с косинусным отжигом на произвольной функции ( полином должен быть не меньше 3-ьего порядка и задан в пространстве не меньше $R^3$)."
      ]
    },
    {
      "cell_type": "markdown",
      "metadata": {
        "id": "UpONErtji81D"
      },
      "source": [
        "### Задание 4.\n",
        "Случайная величина X задана следующей функцией распределения:\n",
        "$$\n",
        "f(x)=\\left\\{\\begin{array}{r}\n",
        "0 \\text { npu } x \\leq \\pi \\\\\n",
        "-\\cos x \\text { npu } \\pi<x \\leq \\frac{3}{2} \\pi \\\\\n",
        "\\text { 0 npu } x>\\frac{3}{2} \\pi\n",
        "\\end{array}\\right.\n",
        "$$\n",
        "\n",
        "1. Постройте данную функцию распределения при помощи библиотеки seaborn **[0.25 point]**\n",
        "2. Найдите плотность вероятности. **[1 point]**\n",
        "3. Постройте график полученной плотности вероятности **[0.25 point]**\n",
        "\n",
        "4. Определить вероятность попадания случайной величины X в интервал $\\left[\\pi, \\frac{5}{4} \\pi\\right]$ **[0.75 point]**\n",
        "\n",
        "5. Найти математическое ожидание и дисперсию случайной величины X . **[0.75 point]**\n",
        "\n",
        "Так как мы не проходили интегрирование, то в 4 и 5 пунктах можете использовать\n",
        "wolfram alpha (https://www.wolframalpha.com) для интегрирования. Однако 2ой пункт задания (на нахождение производной) должен быть расписан!"
      ]
    },
    {
      "cell_type": "markdown",
      "metadata": {
        "id": "-LrqILMHkgTd"
      },
      "source": [
        "### Задание 5 [1.5 point]\n",
        "\n",
        " Случайная величина Х задана функцией распределения F(x).\n",
        "\n",
        " $$F(x)=\\left\\{\\begin{array}{c}0, x \\leq 1 \\\\ x-1,1<x \\leq 2 \\\\ 1, x>2\\end{array}\\right.$$\n",
        "\n",
        " 1. Является ли случайная величина Х непрерывной?\n",
        "\n",
        " 2. имеет ли случайная величина Х плотность вероятности f(X)? Если имеет, найти ее. \n",
        " 3. постройте графики f(X) и F(X), если такое возможно.\n"
      ]
    },
    {
      "cell_type": "markdown",
      "metadata": {
        "id": "xzQy9iYWmGD5"
      },
      "source": [
        "### Задание 6\n",
        "\n",
        "Рассмотрим несбалансированный набор данных с соотношением меньшего класса к большему 1: 100, где 100 экземпляров принадлежит меньшему классу, а 10 000 большему.\n",
        "\n",
        "Модель ML делает прогнозы и предсказывает 120 примеров как принадлежащих к классу меньшинства, 90 из которых верны, а 30 - неверны.\n",
        "\n",
        "Найти:\n",
        "\n",
        "- Precision **[0.5 point]**\n",
        "- Recall **[0.5 point]**\n",
        "- $F_1$ метрику **[0.5 point]**"
      ]
    },
    {
      "cell_type": "markdown",
      "metadata": {
        "id": "bUQnvxScvdDj"
      },
      "source": [
        "# Решения задач"
      ]
    },
    {
      "cell_type": "markdown",
      "metadata": {
        "id": "4MCAX77ovSye"
      },
      "source": [
        "### Задание 1. [1 point]\n",
        "Релизуйте градиентный спуск с постоянным шагом и с дробным шагом для функции\n",
        "$$\n",
        "y = x_{1}^{2}+5 x_{2}^{2}\n",
        "$$\n",
        "\n",
        "в произвольно выбранной Вами точке.\n",
        "\n",
        "Поэксперементируйте с разными значениями шага (скорости обучения), попробуйте хотя бы по 2-3 разных значения."
      ]
    },
    {
      "cell_type": "markdown",
      "metadata": {
        "id": "eOoK97qsvhl7"
      },
      "source": [
        "## Решение задачи 1:\n",
        "$$\n",
        "y = x_{1}^{2}+5 x_{2}^{2}\n",
        "$$\n",
        "\n",
        "Градиент функции равен $\\nabla f= [2 \\cdot x_1, 10 \\cdot x_2]$.\n",
        "\n",
        "Представим реализацию градиентного спуска в произвольно выбранной точке $x^{(0) }=(1,1)$:"
      ]
    },
    {
      "cell_type": "code",
      "metadata": {
        "id": "tfgUPTAT6aMK"
      },
      "source": [
        "import numpy as np\n",
        "import random as rnd\n",
        "import math\n",
        "import time\n",
        "import seaborn as sns\n",
        "import matplotlib.pyplot as plt"
      ],
      "execution_count": null,
      "outputs": []
    },
    {
      "cell_type": "code",
      "metadata": {
        "id": "Ffuo1QlE5elc"
      },
      "source": [
        "def f(x):\n",
        "    return x[0]**2 + 5*x[1]**2\n",
        "    \n",
        "def grad_f(x):\n",
        "    return np.array([2*x[0], 10*x[1]])"
      ],
      "execution_count": null,
      "outputs": []
    },
    {
      "cell_type": "code",
      "metadata": {
        "colab": {
          "base_uri": "https://localhost:8080/",
          "height": 248
        },
        "id": "ScUnwQCl449O",
        "outputId": "4c49c45f-13cd-45b6-9e94-5bd98d7471d1"
      },
      "source": [
        "import matplotlib.pyplot as plt\n",
        "\n",
        "fig = plt.figure()\n",
        "ax = fig.add_subplot(1, 1, 1, projection='3d')\n",
        "\n",
        "x, y = np.meshgrid(np.linspace(-5, 5, 100), np.linspace(-5, 5, 100))\n",
        "z = x ** 2 + 5 * y ** 2\n",
        "\n",
        "ax.plot_surface(x, y, z)\n",
        "\n",
        "plt.show()"
      ],
      "execution_count": null,
      "outputs": [
        {
          "output_type": "display_data",
          "data": {
            "image/png": "[encoded data removed]",
            "text/plain": [
              "<Figure size 432x288 with 1 Axes>"
            ]
          },
          "metadata": {
            "tags": [],
            "needs_background": "light"
          }
        }
      ]
    },
    {
      "cell_type": "markdown",
      "metadata": {
        "id": "5HNUJaLaAKc8"
      },
      "source": [
        "###Реализуем градиентный спуск с постоянным шагом, используя представленную преподавателем функцию:"
      ]
    },
    {
      "cell_type": "code",
      "metadata": {
        "id": "5oe6_Q_e6GEX"
      },
      "source": [
        "def grad_descent_const_step(x = np.array([1, 1]), alpha = 0.001, epsilon = 0.05):\n",
        "    grad = grad_f(x)\n",
        "    n = 0\n",
        "    check = 0\n",
        "    while (np.linalg.norm(grad) > epsilon) or (check < 3):\n",
        "        x = x - alpha*grad\n",
        "        grad = grad_f(x)\n",
        "        n+=1\n",
        "        if (np.linalg.norm(grad) <= epsilon): check +=1\n",
        "    print(\"Градиентный спуск с постоянным шагом выполнил {} шагов\".format(n))\n",
        "    print(\"Точка с координатами х1 = {}, x2 = {}\".format(x[0], x[1]))\n",
        "    return x"
      ],
      "execution_count": null,
      "outputs": []
    },
    {
      "cell_type": "code",
      "metadata": {
        "colab": {
          "base_uri": "https://localhost:8080/"
        },
        "id": "P_W6_1oz6vXi",
        "outputId": "be22a381-93db-4d32-8a4b-46cb5afe1acc"
      },
      "source": [
        "# Осуществим градиентный спуск с заданным по умолчанию для функции шагом 0.001 * grad:\n",
        "x1 = grad_descent_const_step(x = [1, 1])"
      ],
      "execution_count": null,
      "outputs": [
        {
          "output_type": "stream",
          "text": [
            "Градиентный спуск с постоянным шагом выполнил 1845 шагов\n",
            "Точка с координатами х1 = 0.024879902563127755, x2 = 8.849811746717511e-09\n"
          ],
          "name": "stdout"
        }
      ]
    },
    {
      "cell_type": "code",
      "metadata": {
        "colab": {
          "base_uri": "https://localhost:8080/"
        },
        "id": "DYxYdQ9qBaCk",
        "outputId": "1ca35941-7ab5-4e25-c3f5-ad0520845c84"
      },
      "source": [
        "# Осуществим градиентный спуск с шагом 0.005 * grad:\n",
        "x1 = grad_descent_const_step(alpha=0.005)"
      ],
      "execution_count": null,
      "outputs": [
        {
          "output_type": "stream",
          "text": [
            "Градиентный спуск с постоянным шагом выполнил 370 шагов\n",
            "Точка с координатами х1 = 0.02426733028783082, x2 = 5.724452510723783e-09\n"
          ],
          "name": "stdout"
        }
      ]
    },
    {
      "cell_type": "code",
      "metadata": {
        "colab": {
          "base_uri": "https://localhost:8080/"
        },
        "id": "ILKZMOPiBoMz",
        "outputId": "5548c157-92e4-4aae-c009-badbf6308883"
      },
      "source": [
        "# Осуществим градиентный спуск с шагом 0.0001 * grad:\n",
        "x1 = grad_descent_const_step(alpha=0.0001)"
      ],
      "execution_count": null,
      "outputs": [
        {
          "output_type": "stream",
          "text": [
            "Градиентный спуск с постоянным шагом выполнил 18445 шагов\n",
            "Точка с координатами х1 = 0.024987765617576436, x2 = 9.670085817114161e-09\n"
          ],
          "name": "stdout"
        }
      ]
    },
    {
      "cell_type": "code",
      "metadata": {
        "id": "200AuPl5B1rc",
        "colab": {
          "base_uri": "https://localhost:8080/"
        },
        "outputId": "db11e5f9-eeb3-4f78-aab9-89fb85dfc480"
      },
      "source": [
        "# Осуществим градиентный спуск с шагом 0.01 * grad:\n",
        "x1 = grad_descent_const_step(alpha=0.01)"
      ],
      "execution_count": null,
      "outputs": [
        {
          "output_type": "stream",
          "text": [
            "Градиентный спуск с постоянным шагом выполнил 185 шагов\n",
            "Точка с координатами х1 = 0.02381354235199539, x2 = 3.426606593921724e-09\n"
          ],
          "name": "stdout"
        }
      ]
    },
    {
      "cell_type": "markdown",
      "metadata": {
        "id": "_YVQR54qC_cJ"
      },
      "source": [
        "###Реализуем градиентный спуск с дробным шагом:"
      ]
    },
    {
      "cell_type": "code",
      "metadata": {
        "id": "X23HAJqXDIQd"
      },
      "source": [
        "def grad_descent_step_splitting(x = np.array([1, 1]), alpha = 1, epsilon = 0.05, ksi = 0.5, lambda_d = 0.35):\n",
        "    grad = grad_f(x)\n",
        "    n = 0\n",
        "    n_alpha = 0\n",
        "    alpha_k = alpha\n",
        "    x_k0 = x\n",
        "    check = 0\n",
        "    while np.linalg.norm(grad) > epsilon or check < 3:\n",
        "        grad = grad_f(x_k0)\n",
        "        x_k1 = x_k0 - alpha_k*grad\n",
        "        while f(x_k1) - f(x_k0) > - alpha_k * ksi * (np.linalg.norm(grad)**2):\n",
        "            alpha_k *= lambda_d\n",
        "            x_k1 = x_k0 - alpha_k*grad\n",
        "            n_alpha+=1\n",
        "        x_k0 = x_k0 - alpha_k*grad\n",
        "        alpha_k = alpha\n",
        "        n+=1\n",
        "        if (np.linalg.norm(grad) <= epsilon): check +=1\n",
        "    x = x_k0\n",
        "    print(\"Градиентный спуск с дроблением шага выполнил {} шагов\".format(n))\n",
        "    print(\"Выполнено {} итераций дробления шага\".format(n_alpha))\n",
        "    print(\"Точка с координатами х1 = {}, x2 = {}\".format(x[0], x[1]))\n",
        "    return x"
      ],
      "execution_count": null,
      "outputs": []
    },
    {
      "cell_type": "code",
      "metadata": {
        "colab": {
          "base_uri": "https://localhost:8080/"
        },
        "id": "Z92m4JjlDQ6W",
        "outputId": "4ec3c1fa-954c-4b66-d21e-fc044813555f"
      },
      "source": [
        "# Осуществим градиентный спуск c дробным шагом:\n",
        "x2 = grad_descent_step_splitting()"
      ],
      "execution_count": null,
      "outputs": [
        {
          "output_type": "stream",
          "text": [
            "Градиентный спуск с дроблением шага выполнил 13 шагов\n",
            "Выполнено 27 итераций дробления шага\n",
            "Точка с координатами х1 = 0.0034938588036157476, x2 = -0.000215883766723314\n"
          ],
          "name": "stdout"
        }
      ]
    },
    {
      "cell_type": "code",
      "metadata": {
        "colab": {
          "base_uri": "https://localhost:8080/"
        },
        "id": "W-LzEgzHDvAr",
        "outputId": "701425a8-97b1-481a-94a1-2916ed36cd8b"
      },
      "source": [
        "x2 = grad_descent_step_splitting(lambda_d=0.01)"
      ],
      "execution_count": null,
      "outputs": [
        {
          "output_type": "stream",
          "text": [
            "Градиентный спуск с дроблением шага выполнил 186 шагов\n",
            "Выполнено 186 итераций дробления шага\n",
            "Точка с координатами х1 = 0.023337271504955483, x2 = 3.0839459345295514e-09\n"
          ],
          "name": "stdout"
        }
      ]
    },
    {
      "cell_type": "code",
      "metadata": {
        "colab": {
          "base_uri": "https://localhost:8080/"
        },
        "id": "pu66NvmWFAno",
        "outputId": "eddc2dfa-6b20-431f-e747-7f3cf863cd0d"
      },
      "source": [
        "x2 = grad_descent_step_splitting(lambda_d=0.001)"
      ],
      "execution_count": null,
      "outputs": [
        {
          "output_type": "stream",
          "text": [
            "Градиентный спуск с дроблением шага выполнил 1846 шагов\n",
            "Выполнено 1846 итераций дробления шага\n",
            "Точка с координатами х1 = 0.0248301427580015, x2 = 8.761313629250336e-09\n"
          ],
          "name": "stdout"
        }
      ]
    },
    {
      "cell_type": "code",
      "metadata": {
        "colab": {
          "base_uri": "https://localhost:8080/"
        },
        "id": "no6MjrXfFMkT",
        "outputId": "67b51fe9-939d-40fb-8047-01501c21f523"
      },
      "source": [
        "x2 = grad_descent_step_splitting(lambda_d=0.0001)"
      ],
      "execution_count": null,
      "outputs": [
        {
          "output_type": "stream",
          "text": [
            "Градиентный спуск с дроблением шага выполнил 18446 шагов\n",
            "Выполнено 18446 итераций дробления шага\n",
            "Точка с координатами х1 = 0.02498276806445292, x2 = 9.660415731297047e-09\n"
          ],
          "name": "stdout"
        }
      ]
    },
    {
      "cell_type": "markdown",
      "metadata": {
        "id": "8ohHDyXSFc9f"
      },
      "source": [
        "### Задание 2. [3 points]\n",
        "\n",
        "Для функции из предыдущего задания реализуйте градиентный спуск, в котором значение шага (скорости обучения) будет изменяться по формуле циклического косинусного ожига. ( в англ. литературе - cosine annealing learning rate или cosine decay lr). "
      ]
    },
    {
      "cell_type": "markdown",
      "metadata": {
        "id": "PS1AIxxwFlfz"
      },
      "source": [
        "## Решение задачи 2:\n",
        "\n",
        "Напишем функцию, в которой градиентный спуск будет осуществляться с шагом, изменяющимся по формуле циклического косинусного отжига:"
      ]
    },
    {
      "cell_type": "code",
      "metadata": {
        "id": "pt0xgUDqF6N7"
      },
      "source": [
        "# Уменьшение температуры на каждой итерации\n",
        "def update_temperature(t, i):\n",
        "  return  t*0.1/i\n",
        "\n",
        "# Вычисление вероятности перехода\n",
        "def get_probability(x1, x2, t):\n",
        "  return math.exp(-1*(f(x2) - f(x1))/t)\n",
        "\n",
        "# Определяем необходимость перехода\n",
        "def transit(prob):\n",
        "  r = False\n",
        "  v = rnd.random()\n",
        "  if prob > v:\n",
        "    r = True\n",
        "  return r\n",
        "\n",
        "# Градиентный спуск с шагом, меняющимся по формуле циклического косинусного отжига\n",
        "def grad_anneal_cosine (x = np.array([100, 100]), tmax= 500, tmin = 0.1):\n",
        "    grad = grad_f(x)\n",
        "    t = tmax\n",
        "    i = 1 \n",
        "    while (t >= tmin):\n",
        "      x1 = x - update_temperature(tmax, i) * grad\n",
        "      # если новое состояние обладает меньшим градиентом - осуществляем переход безусловно, \n",
        "      # если нет - осуществляем переход со случайно заданной вероятностью\n",
        "      if transit(get_probability(x, x1, t)):\n",
        "        grad = grad_f(x1)\n",
        "        x = x1\n",
        "      # настраиваем новую итеорацию\n",
        "      t = t - update_temperature(tmax, i) \n",
        "      i += 1\n",
        "      # print(i, t, x) \n",
        "    print(\"Градиентный спуск по методу циклического косинусного отжига выполнил {} шагов\".format(i))\n",
        "    print(\"Точка с координатами х1 = {}, x2 = {}\".format(x[0], x[1]))\n",
        "    return x\n",
        "  "
      ],
      "execution_count": null,
      "outputs": []
    },
    {
      "cell_type": "code",
      "metadata": {
        "colab": {
          "base_uri": "https://localhost:8080/"
        },
        "id": "S0zvzOzEZx1c",
        "outputId": "e3fcc1d5-8a08-4cbd-e5e3-4d4ecc5f6882"
      },
      "source": [
        "x3 = grad_anneal_cosine()"
      ],
      "execution_count": null,
      "outputs": [
        {
          "output_type": "stream",
          "text": [
            "Градиентный спуск по методу циклического косинусного отжига выполнил 12343 шагов\n",
            "Точка с координатами х1 = 1.2956332369839438e-178, x2 = 0.0\n"
          ],
          "name": "stdout"
        }
      ]
    },
    {
      "cell_type": "markdown",
      "metadata": {
        "id": "JuV2sgI1xAvl"
      },
      "source": [
        "### Задание 3. [0.75 point]\n",
        "Проверьте работу Вашего градиентного спуска с косинусным отжигом на произвольной функции ( полином должен быть не меньше 3-ьего порядка и задан в пространстве не меньше $R^3$).\n",
        "\n",
        "#Решение задачи 3:\n",
        "\n",
        "Исследуем функцию: $$u = 4 \\cdot x^3 + 2 \\cdot y^2 + x \\cdot y + z + 8$$ \n",
        "в точке $[0,0,0]$"
      ]
    },
    {
      "cell_type": "code",
      "metadata": {
        "id": "bDeb4cjU0vSU"
      },
      "source": [
        "def f(x):\n",
        "    return 4*x[0]**3 + 2*x[1]**2 + x[0]*x[1] + x[2] + 8\n",
        "    \n",
        "def grad_f(x):\n",
        "    return np.array([12*x[0]**2 + x[0], 4*x[1] + x[0], 1])"
      ],
      "execution_count": null,
      "outputs": []
    },
    {
      "cell_type": "code",
      "metadata": {
        "id": "bpyYAty23Xb-"
      },
      "source": [
        "# Адаптируем функцию градиентного спуска по методу циклического косинусного отжига для функции трех  переменных\n",
        "def grad_anneal_cosine (x = np.array([0, 0, 0]), tmax= 500, tmin = 0.1):\n",
        "    grad = grad_f(x)\n",
        "    t = tmax\n",
        "    i = 1 \n",
        "    while (t >= tmin):\n",
        "      x1 = x - update_temperature(tmax, i) * grad\n",
        "      # если новое состояние обладает меньшим градиентом - осуществляем переход безусловно, \n",
        "      # если нет - осуществляем переход со случайно заданной вероятностью\n",
        "      if transit(get_probability(x, x1, t)):\n",
        "        grad = grad_f(x1)\n",
        "        x = x1\n",
        "      # настраиваем новую итеорацию\n",
        "      t = t - update_temperature(tmax, i) \n",
        "      i += 1\n",
        "      # print(i, t, x) \n",
        "    print(\"Градиентный спуск по методу циклического косинусного отжига выполнил {} шагов\".format(i))\n",
        "    print(\"Точка с координатами х = {}, y = {}, z = {}\".format(x[0], x[1], x[2]))\n",
        "    return x"
      ],
      "execution_count": null,
      "outputs": []
    },
    {
      "cell_type": "code",
      "metadata": {
        "colab": {
          "base_uri": "https://localhost:8080/"
        },
        "id": "yjsdwrvw1gkK",
        "outputId": "effec0ae-2167-4264-c4dc-4c6ebc2e0024"
      },
      "source": [
        "# Осуществим градиентный спуск по методу циклического косинусного отжига:\n",
        "t1 = time.time()\n",
        "x1 = grad_anneal_cosine (x = [0, 0, 0])\n",
        "print(time.time()-t1)"
      ],
      "execution_count": null,
      "outputs": [
        {
          "output_type": "stream",
          "text": [
            "Градиентный спуск по методу циклического косинусного отжига выполнил 12343 шагов\n",
            "Точка с координатами х = 0.0, y = 0.0, z = -499.9009767653991\n",
            "0.17263484001159668\n"
          ],
          "name": "stdout"
        }
      ]
    },
    {
      "cell_type": "code",
      "metadata": {
        "colab": {
          "base_uri": "https://localhost:8080/"
        },
        "id": "ekIYB5LL7szz",
        "outputId": "e8ae5908-3548-4ba8-a04b-d3f309aee2d0"
      },
      "source": [
        "# Осуществим градиентный спуск по методу циклического косинусного отжига в точке [0, 1, 2]\n",
        "t1 = time.time()\n",
        "x1 = grad_anneal_cosine (x = [0, 1, 2])\n",
        "print(time.time()-t1)"
      ],
      "execution_count": null,
      "outputs": [
        {
          "output_type": "stream",
          "text": [
            "Градиентный спуск по методу циклического косинусного отжига выполнил 12343 шагов\n",
            "Точка с координатами х = 0.0, y = 0.0, z = -245.64622001592383\n",
            "0.1525733470916748\n"
          ],
          "name": "stdout"
        }
      ]
    },
    {
      "cell_type": "markdown",
      "metadata": {
        "id": "YhOzZwg1Hs51"
      },
      "source": [
        "### Задание 4.\n",
        "Случайная величина X задана следующей функцией распределения:\n",
        "$$\n",
        "F(x)=\\left\\{\\begin{array}{r}\n",
        "0 \\text { npu } x \\leq \\pi \\\\\n",
        "-\\cos x \\text { npu } \\pi<x \\leq \\frac{3}{2} \\pi \\\\\n",
        "\\text { 0 npu } x>\\frac{3}{2} \\pi\n",
        "\\end{array}\\right.\n",
        "$$\n",
        "\n",
        "1. Постройте данную функцию распределения при помощи библиотеки seaborn **[0.25 point]**\n",
        "2. Найдите плотность вероятности. **[1 point]**\n",
        "3. Постройте график полученной плотности вероятности **[0.25 point]**\n",
        "\n",
        "4. Определить вероятность попадания случайной величины X в интервал $\\left[\\pi, \\frac{5}{4} \\pi\\right]$ **[0.75 point]**\n",
        "\n",
        "5. Найти математическое ожидание и дисперсию случайной величины X . **[0.75 point]**\n",
        "\n",
        "## Решение задачи 4:"
      ]
    },
    {
      "cell_type": "code",
      "metadata": {
        "id": "2Zyv3pzxIvMO"
      },
      "source": [
        "# 1. Построим график функции распредления\n",
        "def fr(x):\n",
        "  return 0 if x <= math.pi or  x > 3 * math.pi / 2  else - math.cos(x)\n",
        "n = 12\n",
        "\n",
        "data_fr = np.array([fr(i * math.pi / 24) for i in range(-n, 4 * n)])"
      ],
      "execution_count": null,
      "outputs": []
    },
    {
      "cell_type": "code",
      "metadata": {
        "colab": {
          "base_uri": "https://localhost:8080/",
          "height": 369
        },
        "id": "fnONVihnQZau",
        "outputId": "11d10b94-5ff8-4137-f78f-f7faa8b9b40c"
      },
      "source": [
        "sns.relplot(data=data_fr, kind='line');"
      ],
      "execution_count": null,
      "outputs": [
        {
          "output_type": "display_data",
          "data": {
            "image/png": "[encoded data removed]",
            "text/plain": [
              "<Figure size 360x360 with 1 Axes>"
            ]
          },
          "metadata": {
            "tags": [],
            "needs_background": "light"
          }
        }
      ]
    },
    {
      "cell_type": "markdown",
      "metadata": {
        "id": "6_8EBIA5TBFo"
      },
      "source": [
        "2. Найдем плотность вероятности\n",
        "\n",
        "$$\n",
        "f(x)= F^{'}(x)=\\left\\{\\begin{array}{r}\n",
        "0^{'} \\text { npu } x \\leq \\pi \\\\\n",
        "-\\cos^{'} x \\text { npu } \\pi<x \\leq \\frac{3}{2} \\pi \\\\\n",
        "  0^{'}\\text { npu } x>\\frac{3}{2} \\pi\n",
        "\\end{array}\\right. = \n",
        "\\left\\{\\begin{array}{r}\n",
        "0\\text { npu } x \\leq \\pi \\\\\n",
        "\\sin x \\text { npu } \\pi<x \\leq \\frac{3}{2} \\pi \\\\\n",
        "  0\\text { npu } x>\\frac{3}{2} \\pi\n",
        "\\end{array}\\right.\n",
        "$$ "
      ]
    },
    {
      "cell_type": "code",
      "metadata": {
        "id": "Kj18_IiZYlbF"
      },
      "source": [
        "# 3. Построим график плотности вероятности\n",
        "def fp(x):\n",
        "  return 0 if x <= math.pi or  x > 3 * math.pi / 2  else math.sin(x)\n",
        "n = 12\n",
        "\n",
        "data_fp = np.array([fp(i * math.pi / 24) for i in range(-n, 4 * n)])"
      ],
      "execution_count": null,
      "outputs": []
    },
    {
      "cell_type": "code",
      "metadata": {
        "colab": {
          "base_uri": "https://localhost:8080/",
          "height": 369
        },
        "id": "zlCpzOM2Yukv",
        "outputId": "3f146ad1-5abc-4a44-8390-60523c675940"
      },
      "source": [
        "sns.relplot(data=data_fp, kind='line');"
      ],
      "execution_count": null,
      "outputs": [
        {
          "output_type": "display_data",
          "data": {
            "image/png": "[encoded data removed]",
            "text/plain": [
              "<Figure size 360x360 with 1 Axes>"
            ]
          },
          "metadata": {
            "tags": [],
            "needs_background": "light"
          }
        }
      ]
    },
    {
      "cell_type": "markdown",
      "metadata": {
        "id": "1cIhvRQhaSiB"
      },
      "source": [
        "4. Определить вероятность попадания случайной величины X в интервал $\\left[\\pi, \\frac{5}{4} \\pi\\right]$\n",
        "\n",
        "$P(\\pi < X < \\frac{5}{4} \\pi) = F(\\frac{5}{4}  \\pi) - F(\\pi) = - cos \\frac{5}{4} \\pi - 0 = \\frac{\\sqrt 2}{2} \\approx 0,707. $"
      ]
    },
    {
      "cell_type": "markdown",
      "metadata": {
        "id": "7DWvtFO7f7jo"
      },
      "source": [
        "5. Найдем мат. ожидание:\n",
        "\n",
        "$M(X) = \\int_{- \\infty}^{+\\infty} x \\cdot f(x) dx = \\int_{\\pi}^{\\frac{3}{2}\\pi} x  sin (x) dx $\n",
        "\n",
        "$u = x \\Rightarrow du = dx$\n",
        "\n",
        "$dv = sin(x)dx \\Rightarrow v = -cos(x)$\n",
        "\n",
        "$M(X) = - x \\cdot cos(x) + sin(x)\\bigg|_{\\pi}^{\\frac{3}{2}\\pi} = -1 - \\pi \\approx - 4,14$"
      ]
    },
    {
      "cell_type": "markdown",
      "metadata": {
        "id": "gnsXYc9e-A8E"
      },
      "source": [
        "6. Найдем дисперсию\n",
        "\n",
        "$D(X) = \\int_{- \\infty}^{+\\infty} x^{2} \\cdot f(x) dx - M(X) = \\int_{\\pi}^{\\frac{3}{2}\\pi} x^{2}  sin (x) dx $\n",
        "\n",
        "$u = x^{2} \\Rightarrow du = 2xdx$\n",
        "\n",
        "$dv = sin(x)dx \\Rightarrow v = -cos(x)$\n",
        "\n",
        "$D(X) =  - (x^{2}- 2) \\cdot cos(x) + 2 \\cdot x \\cdot sin(x) \\bigg|_{\\pi}^{\\frac{3}{2}\\pi} = 2 - 3 \\pi - \\pi^{2} \\approx -17,29$"
      ]
    },
    {
      "cell_type": "markdown",
      "metadata": {
        "id": "l5WpV0nwCDOQ"
      },
      "source": [
        "## Задание 5\n",
        "\n",
        " Случайная величина Х задана функцией распределения F(x).\n",
        "\n",
        " $$F(x)=\\left\\{\\begin{array}{c}0, x \\leq 1 \\\\ x-1,1<x \\leq 2 \\\\ 1, x>2\\end{array}\\right.$$\n",
        "\n",
        " 1. Является ли случайная величина Х непрерывной?\n",
        "\n",
        " 2. имеет ли случайная величина Х плотность вероятности f(X)? Если имеет, найти ее. \n",
        " 3. постройте графики f(X) и F(X), если такое возможно.\n",
        "\n",
        "## Решение задачи 5:\n",
        "\n",
        "1. Т.к. велчина задана в виде функции распределения и $F(x)$ непрерывно изменяется на интервале от 1 до 2, то случайая величина X является непрерывной.\n",
        "\n",
        "2. $f(x) = F^{'}(x) = (x-1)^{'} = 1$. Т.к. производная для $F(x)$ определена, то случайная величина X имеет плотность вероятности"
      ]
    },
    {
      "cell_type": "code",
      "metadata": {
        "id": "MbDhgvm5Gqob"
      },
      "source": [
        "# 3. Построим график функции распредления\n",
        "def fr1(x):\n",
        "  return 0 if x <= 1 else 1 if x > 2  else x - 1\n",
        "n = 100\n",
        "\n",
        "data_fr1 = np.array([fr1(i/n) for i in range(-4 * n, 4 * n)])"
      ],
      "execution_count": null,
      "outputs": []
    },
    {
      "cell_type": "code",
      "metadata": {
        "colab": {
          "base_uri": "https://localhost:8080/",
          "height": 369
        },
        "id": "Hk8XwgLYHRsu",
        "outputId": "63066d0d-5bf8-4969-9e73-8df054b56eaa"
      },
      "source": [
        "sns.relplot(data=data_fr1, kind='line');"
      ],
      "execution_count": null,
      "outputs": [
        {
          "output_type": "display_data",
          "data": {
            "image/png": "[encoded data removed]",
            "text/plain": [
              "<Figure size 360x360 with 1 Axes>"
            ]
          },
          "metadata": {
            "tags": [],
            "needs_background": "light"
          }
        }
      ]
    },
    {
      "cell_type": "code",
      "metadata": {
        "id": "uUc15IWVHmCJ"
      },
      "source": [
        "# 3. Построим график плотности вероятности\n",
        "\n",
        "data_fp1 = np.array([1 for i in range(-4 * n, 4 * n)])"
      ],
      "execution_count": null,
      "outputs": []
    },
    {
      "cell_type": "code",
      "metadata": {
        "colab": {
          "base_uri": "https://localhost:8080/",
          "height": 369
        },
        "id": "3_pGcISNIHJJ",
        "outputId": "a2383c29-77be-4759-9d9a-9e61c4a78ca5"
      },
      "source": [
        "sns.relplot(data=data_fp1, kind='line');"
      ],
      "execution_count": null,
      "outputs": [
        {
          "output_type": "display_data",
          "data": {
            "image/png": "[encoded data removed]",
            "text/plain": [
              "<Figure size 360x360 with 1 Axes>"
            ]
          },
          "metadata": {
            "tags": [],
            "needs_background": "light"
          }
        }
      ]
    },
    {
      "cell_type": "markdown",
      "metadata": {
        "id": "diyL9GQBdl9E"
      },
      "source": [
        "### Задание 6\n",
        "\n",
        "Рассмотрим несбалансированный набор данных с соотношением меньшего класса к большему 1: 100, где 100 экземпляров принадлежит меньшему классу, а 10 000 большему.\n",
        "\n",
        "Модель ML делает прогнозы и предсказывает 120 примеров как принадлежащих к классу меньшинства, 90 из которых верны, а 30 - неверны.\n",
        "\n",
        "Найти:\n",
        "\n",
        "- Precision **[0.5 point]**\n",
        "- Recall **[0.5 point]**\n",
        "- $F_1$ метрику **[0.5 point]**\n",
        "\n",
        "## Решение задачи 6:\n",
        "\n",
        "Построим матрицу ошибок классификации:\n",
        "\n",
        "\\begin{array}{|c|c|c|}\n",
        "\\hline\n",
        "  & y_{1} & y_{2} \\\\ \\hline\n",
        "\\widehat{y}_{1} & TP = 90  & FP =30 \\\\ \\hline\n",
        "\\widehat{y}_{2} & FN = 10 & TN = 9970 \\\\ \\hline\n",
        "\\end{array}\n",
        "\n",
        "$precision = \\frac{TP}{TP+FP} = \\frac{90}{90+30}= 0,75.$\n",
        "\n",
        "$recall = \\frac{TP}{TP+FN} = \\frac{90}{90+10}=0,9.$\n",
        "\n",
        "$F_{\\beta} = (1+\\beta^{2}) \\cdot \\frac{precision \\cdot recall}{\\beta^{2} \\cdot precision + recall}$\n",
        "\n",
        "При $\\beta=1$ получим:\n",
        "\n",
        "$F_1= 2 \\cdot \\frac{0,75 \\cdot 0.9}{0.75+0.9}= 0.818.$\n"
      ]
    }
  ]
}