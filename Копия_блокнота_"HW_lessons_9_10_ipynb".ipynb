{
  "nbformat": 4,
  "nbformat_minor": 0,
  "metadata": {
    "colab": {
      "name": "Копия блокнота \"HW_lessons_9-10.ipynb\"",
      "provenance": [],
      "collapsed_sections": [],
      "include_colab_link": true
    },
    "kernelspec": {
      "name": "python3",
      "display_name": "Python 3"
    }
  },
  "cells": [
    {
      "cell_type": "markdown",
      "metadata": {
        "id": "view-in-github",
        "colab_type": "text"
      },
      "source": [
        "<a href=\"https://colab.research.google.com/github/alexmal2804/hwds/blob/master/%D0%9A%D0%BE%D0%BF%D0%B8%D1%8F_%D0%B1%D0%BB%D0%BE%D0%BA%D0%BD%D0%BE%D1%82%D0%B0_%22HW_lessons_9_10_ipynb%22.ipynb\" target=\"_parent\"><img src=\"https://colab.research.google.com/assets/colab-badge.svg\" alt=\"Open In Colab\"/></a>"
      ]
    },
    {
      "cell_type": "markdown",
      "metadata": {
        "id": "SgxdX4L0dSw7"
      },
      "source": [
        "# Домашнее задание"
      ]
    },
    {
      "cell_type": "markdown",
      "metadata": {
        "id": "piodEhR7orUF"
      },
      "source": [
        "Ноутбук в колаб: https://colab.research.google.com/drive/1d-vvpJW8IWSPeodFnfaEVaZIQrys8uU0?usp=sharing"
      ]
    },
    {
      "cell_type": "markdown",
      "metadata": {
        "id": "r3_T-pcpnme8"
      },
      "source": [
        "**Дедлайн: 01.01.2021, 23:59**\n"
      ]
    },
    {
      "cell_type": "markdown",
      "metadata": {
        "id": "B2RmFtRDn5vy"
      },
      "source": [
        "Формат отчетности - jupyter notebook. Однако вычислять производные не обязательно в Markdown. Если вычисляете вручную, то дополнительно с ноутбуком, отправляйте pdf-файл с расписанным решением."
      ]
    },
    {
      "cell_type": "markdown",
      "metadata": {
        "id": "aCDx6dKzeEhp"
      },
      "source": [
        "### Пример реализации градиентного спуска: https://github.com/ddvika/Data-Science-School-2020/blob/main/lecture_9/gradient_methods.ipynb"
      ]
    },
    {
      "cell_type": "markdown",
      "metadata": {
        "id": "t-G1btbwoStu"
      },
      "source": [
        "# Задания"
      ]
    },
    {
      "cell_type": "markdown",
      "metadata": {
        "id": "B1XambpmoeIj"
      },
      "source": [
        "Перед выполнением ДЗ посмотрите на ноутбук, прикрепленный по ссылке выше. Там вы найдете реализацию градиентного спуска с постоянным и дробным шагом."
      ]
    },
    {
      "cell_type": "markdown",
      "metadata": {
        "id": "VnSTXgrueAp0"
      },
      "source": [
        "### Задание 1. [1 point]"
      ]
    },
    {
      "cell_type": "markdown",
      "metadata": {
        "id": "3jT_E2np2z8g"
      },
      "source": [
        ""
      ]
    },
    {
      "cell_type": "markdown",
      "metadata": {
        "id": "-XmQ1AO9f1Qz"
      },
      "source": [
        "Релизуйте градиентный спуск с постоянным шагом и с дробным шагом для функции\n",
        "$$\n",
        "y = x_{1}^{2}+5 x_{2}^{2}\n",
        "$$\n",
        "\n",
        "в произвольно выбранной Вами точке."
      ]
    },
    {
      "cell_type": "markdown",
      "metadata": {
        "id": "XAXdL_PDgYpS"
      },
      "source": [
        "Поэксперементируйте с разными значениями шага (скорости обучения), попробуйте хотя бы по 2-3 разных значения."
      ]
    },
    {
      "cell_type": "markdown",
      "metadata": {
        "id": "ucbvMBsdgOwV"
      },
      "source": [
        "### Задание 2. [3 points]\n",
        "\n",
        "Для функции из предыдущего задания реализуйте градиентный спуск, в котором значение шага (скорости обучения) будет изменяться по формуле циклического косинусного ожига. ( в англ. литературе - cosine annealing learning rate или cosine decay lr). \n",
        "\n",
        "Доп. литература:\n",
        "- Циклический косинусный отжиг https://habr.com/ru/post/332534/\n",
        "\n",
        "- Пример colise decay в библиотеке Pytorch:\n",
        "https://www.programmersought.com/article/12164650026/"
      ]
    },
    {
      "cell_type": "markdown",
      "metadata": {
        "id": "d2Non6JiiVoJ"
      },
      "source": [
        "### Задание 3. [0.75 point]\n",
        "Проверьте работу Вашего градиентного спуска с косинусным отжигом на произвольной функции ( полином должен быть не меньше 3-ьего порядка и задан в пространстве не меньше $R^3$)."
      ]
    },
    {
      "cell_type": "markdown",
      "metadata": {
        "id": "UpONErtji81D"
      },
      "source": [
        "### Задание 4.\n",
        "Случайная величина X задана следующей функцией распределения:\n",
        "$$\n",
        "f(x)=\\left\\{\\begin{array}{r}\n",
        "0 \\text { npu } x \\leq \\pi \\\\\n",
        "-\\cos x \\text { npu } \\pi<x \\leq \\frac{3}{2} \\pi \\\\\n",
        "\\text { 0 npu } x>\\frac{3}{2} \\pi\n",
        "\\end{array}\\right.\n",
        "$$\n",
        "\n",
        "1. Постройте данную функцию распределения при помощи библиотеки seaborn **[0.25 point]**\n",
        "2. Найдите плотность вероятности. **[1 point]**\n",
        "3. Постройте график полученной плотности вероятности **[0.25 point]**\n",
        "\n",
        "4. Определить вероятность попадания случайной величины X в интервал $\\left[\\pi, \\frac{5}{4} \\pi\\right]$ **[0.75 point]**\n",
        "\n",
        "5. Найти математическое ожидание и дисперсию случайной величины X . **[0.75 point]**\n",
        "\n",
        "Так как мы не проходили интегрирование, то в 4 и 5 пунктах можете использовать\n",
        "wolfram alpha (https://www.wolframalpha.com) для интегрирования. Однако 2ой пункт задания (на нахождение производной) должен быть расписан!"
      ]
    },
    {
      "cell_type": "markdown",
      "metadata": {
        "id": "-LrqILMHkgTd"
      },
      "source": [
        "### Задание 5 [1.5 point]\n",
        "\n",
        " Случайная величина Х задана функцией распределения F(x).\n",
        "\n",
        " $$F(x)=\\left\\{\\begin{array}{c}0, x \\leq 1 \\\\ x-1,1<x \\leq 2 \\\\ 1, x>2\\end{array}\\right.$$\n",
        "\n",
        " 1. Является ли случайная величина Х непрерывной?\n",
        "\n",
        " 2. имеет ли случайная величина Х плотность вероятности f(X)? Если имеет, найти ее. \n",
        " 3. постройте графики f(X) и F(X), если такое возможно.\n"
      ]
    },
    {
      "cell_type": "markdown",
      "metadata": {
        "id": "xzQy9iYWmGD5"
      },
      "source": [
        "### Задание 6\n",
        "\n",
        "Рассмотрим несбалансированный набор данных с соотношением меньшего класса к большему 1: 100, где 100 экземпляров принадлежит меньшему классу, а 10 000 большему.\n",
        "\n",
        "Модель ML делает прогнозы и предсказывает 120 примеров как принадлежащих к классу меньшинства, 90 из которых верны, а 30 - неверны.\n",
        "\n",
        "Найти:\n",
        "\n",
        "- Precision **[0.5 point]**\n",
        "- Recall **[0.5 point]**\n",
        "- $F_1$ метрику **[0.5 point]**"
      ]
    },
    {
      "cell_type": "markdown",
      "metadata": {
        "id": "bUQnvxScvdDj"
      },
      "source": [
        "# Решения задач"
      ]
    },
    {
      "cell_type": "markdown",
      "metadata": {
        "id": "4MCAX77ovSye"
      },
      "source": [
        "### Задание 1. [1 point]\n",
        "Релизуйте градиентный спуск с постоянным шагом и с дробным шагом для функции\n",
        "$$\n",
        "y = x_{1}^{2}+5 x_{2}^{2}\n",
        "$$\n",
        "\n",
        "в произвольно выбранной Вами точке.\n",
        "\n",
        "Поэксперементируйте с разными значениями шага (скорости обучения), попробуйте хотя бы по 2-3 разных значения."
      ]
    },
    {
      "cell_type": "markdown",
      "metadata": {
        "id": "eOoK97qsvhl7"
      },
      "source": [
        "## Решение задачи 1:\n",
        "$$\n",
        "y = x_{1}^{2}+5 x_{2}^{2}\n",
        "$$\n",
        "\n",
        "Градиент функции равен $\\nabla f= [2 \\cdot x_1, 10 \\cdot x_2]$.\n",
        "\n",
        "Представим реализацию градиентного спуска в произвольно выбранной точке $x^{(0) }=(1,1)$:"
      ]
    },
    {
      "cell_type": "code",
      "metadata": {
        "id": "tfgUPTAT6aMK"
      },
      "source": [
        "import numpy as np"
      ],
      "execution_count": 3,
      "outputs": []
    },
    {
      "cell_type": "code",
      "metadata": {
        "id": "Ffuo1QlE5elc"
      },
      "source": [
        "def f(x):\n",
        "    return x[0]**2+5*x[1]**2\n",
        "    \n",
        "def grad_f(x):\n",
        "    return np.array([2*x[0], 10*x[1]])"
      ],
      "execution_count": 4,
      "outputs": []
    },
    {
      "cell_type": "markdown",
      "metadata": {
        "id": "5HNUJaLaAKc8"
      },
      "source": [
        "###Реализуем градиентный спуск с постоянным шагом, используя представленную преподавателем функцию"
      ]
    },
    {
      "cell_type": "code",
      "metadata": {
        "id": "5oe6_Q_e6GEX"
      },
      "source": [
        "def grad_descent_const_step(x = np.array([1, 1]), alpha = 0.001, epsilon = 0.05):\n",
        "    grad = grad_f(x)\n",
        "    n = 0\n",
        "    check = 0\n",
        "    while (np.linalg.norm(grad) > epsilon) or (check < 3):\n",
        "        x = x - alpha*grad\n",
        "        grad = grad_f(x)\n",
        "        n+=1\n",
        "        if (np.linalg.norm(grad) <= epsilon): check +=1\n",
        "    print(\"Градиентный спуск с постоянным шагом выполнил {} шагов\".format(n))\n",
        "    print(\"Точка с координатами х1 = {}, x2 = {}\".format(x[0], x[1]))\n",
        "    return x"
      ],
      "execution_count": 6,
      "outputs": []
    },
    {
      "cell_type": "code",
      "metadata": {
        "colab": {
          "base_uri": "https://localhost:8080/"
        },
        "id": "P_W6_1oz6vXi",
        "outputId": "fea30aa4-dc93-4027-d24d-def3aa4e2fe3"
      },
      "source": [
        "# Осуществим градиентный спуск с заданным по умолчанию для функции шагом 0.001 * grad:\n",
        "x1 = grad_descent_const_step()"
      ],
      "execution_count": 8,
      "outputs": [
        {
          "output_type": "stream",
          "text": [
            "Градиентный спуст с постоянным шагом выполнил 1845 шагов\n",
            "Точка с координатами х1 = 0.024879902563127755, x2 = 8.849811746717511e-09\n"
          ],
          "name": "stdout"
        }
      ]
    },
    {
      "cell_type": "code",
      "metadata": {
        "colab": {
          "base_uri": "https://localhost:8080/"
        },
        "id": "DYxYdQ9qBaCk",
        "outputId": "0d2fe3cc-32f3-46c2-be35-dd8c79975cd7"
      },
      "source": [
        "# Осуществим градиентный спуск с шагом 0.005 * grad:\n",
        "x1 = grad_descent_const_step(alpha=0.005)"
      ],
      "execution_count": 10,
      "outputs": [
        {
          "output_type": "stream",
          "text": [
            "Градиентный спуст с постоянным шагом выполнил 370 шагов\n",
            "Точка с координатами х1 = 0.02426733028783082, x2 = 5.724452510723783e-09\n"
          ],
          "name": "stdout"
        }
      ]
    },
    {
      "cell_type": "code",
      "metadata": {
        "colab": {
          "base_uri": "https://localhost:8080/"
        },
        "id": "ILKZMOPiBoMz",
        "outputId": "bed7fbd9-5955-47b9-ee84-41b2d0ef85fa"
      },
      "source": [
        "# Осуществим градиентный спуск с шагом 0.0001 * grad:\n",
        "x1 = grad_descent_const_step(alpha=0.0001)"
      ],
      "execution_count": 12,
      "outputs": [
        {
          "output_type": "stream",
          "text": [
            "Градиентный спуст с постоянным шагом выполнил 18445 шагов\n",
            "Точка с координатами х1 = 0.024987765617576436, x2 = 9.670085817114161e-09\n"
          ],
          "name": "stdout"
        }
      ]
    },
    {
      "cell_type": "code",
      "metadata": {
        "colab": {
          "base_uri": "https://localhost:8080/"
        },
        "id": "200AuPl5B1rc",
        "outputId": "99e1b814-65c9-4578-90ba-d8f4b0b25473"
      },
      "source": [
        "# Осуществим градиентный спуск с шагом 0.01 * grad:\n",
        "x1 = grad_descent_const_step(alpha=0.01)"
      ],
      "execution_count": 13,
      "outputs": [
        {
          "output_type": "stream",
          "text": [
            "Градиентный спуст с постоянным шагом выполнил 185 шагов\n",
            "Точка с координатами х1 = 0.02381354235199539, x2 = 3.426606593921724e-09\n"
          ],
          "name": "stdout"
        }
      ]
    }
  ]
}