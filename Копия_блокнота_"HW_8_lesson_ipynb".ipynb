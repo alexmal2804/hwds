{
  "nbformat": 4,
  "nbformat_minor": 0,
  "metadata": {
    "colab": {
      "name": "Копия блокнота \"HW_8_lesson.ipynb\"",
      "provenance": [],
      "collapsed_sections": [],
      "include_colab_link": true
    },
    "kernelspec": {
      "name": "python3",
      "display_name": "Python 3"
    }
  },
  "cells": [
    {
      "cell_type": "markdown",
      "metadata": {
        "id": "view-in-github",
        "colab_type": "text"
      },
      "source": [
        "<a href=\"https://colab.research.google.com/github/alexmal2804/hwds/blob/master/%D0%9A%D0%BE%D0%BF%D0%B8%D1%8F_%D0%B1%D0%BB%D0%BE%D0%BA%D0%BD%D0%BE%D1%82%D0%B0_%22HW_8_lesson_ipynb%22.ipynb\" target=\"_parent\"><img src=\"https://colab.research.google.com/assets/colab-badge.svg\" alt=\"Open In Colab\"/></a>"
      ]
    },
    {
      "cell_type": "markdown",
      "metadata": {
        "id": "QPZH0zhRCFxC"
      },
      "source": [
        "https://colab.research.google.com/drive/1o6jRQ99ewEevJexdonEC9prf3YeJVO84?usp=sharing"
      ]
    },
    {
      "cell_type": "markdown",
      "metadata": {
        "id": "EXNSbmw6XLxd"
      },
      "source": [
        "# Домашнее задание к 8 уроку\n",
        "\n",
        "**Дедлайн: 26.12.2020**"
      ]
    },
    {
      "cell_type": "markdown",
      "metadata": {
        "id": "W_0KSzEQYPKp"
      },
      "source": [
        "HW in colab: https://colab.research.google.com/drive/1RKW91O1ZpMuu63th7P_hj9qOsaaD3qP1?usp=sharing"
      ]
    },
    {
      "cell_type": "markdown",
      "metadata": {
        "id": "1kAn7WV4XOMZ"
      },
      "source": [
        "**ФОРМАТ ОТЧЕТНОСТИ:** pdf-файл с решенными задачами или же ноутбук с решенными задачи на языке Markdown."
      ]
    },
    {
      "cell_type": "markdown",
      "metadata": {
        "id": "PllPM_9rLzSh"
      },
      "source": [
        "# Часть 1. СЛАУ"
      ]
    },
    {
      "cell_type": "markdown",
      "metadata": {
        "id": "GSL00ab2HVDc"
      },
      "source": [
        "__1.__ Решить систему уравнений методом Гаусса:\n",
        "\n",
        "$$\\begin{cases}\n",
        "x_{1}+x_{2}-x_{3}-2x_{4}=0, \\\\\n",
        "2x_{1}+x_{2}-x_{3}+x_{4}=-2, \\\\\n",
        "x_{1}+x_{2}-3x_{3}+x_{4}=4.\n",
        "\\end{cases}$$\n",
        "\n",
        "__2.__ Проверить на совместность и выяснить, сколько решений будет иметь система линейных уравнений:\n",
        "\n",
        "   а) $\\begin{cases}\n",
        "3x_{1}-x_{2}+x_{3}=4, \\\\\n",
        "2x_{1}-5x_{2}-3x_{3}=-17, \\\\\n",
        "x_{1}+x_{2}-x_{3}=0;\n",
        "\\end{cases}$\n",
        "    \n",
        "   б) $\\begin{cases}\n",
        "2x_{1}-4x_{2}+6x_{3}=1, \\\\\n",
        "x_{1}-2x_{2}+3x_{3}=-2, \\\\\n",
        "3x_{1}-6x_{2}+9x_{3}=5;\n",
        "\\end{cases}$\n",
        "    \n",
        "   в) $\\begin{cases}\n",
        "x_{1}+2x_{2}+5x_{3}=4, \\\\\n",
        "3x_{1}+x_{2}-8x_{3}=-2. \n",
        "\\end{cases}$"
      ]
    },
    {
      "cell_type": "markdown",
      "metadata": {
        "id": "UA1aXQ4r7puU"
      },
      "source": [
        "#Решение задач из части 1 (СЛАУ).\n",
        "\n",
        "##Задача 1. Решить систему уравнений методом Гаусса:\n",
        "\n",
        "$$\\begin{cases}\n",
        "x_{1}+x_{2}-x_{3}-2x_{4}=0, \\\\\n",
        "2x_{1}+x_{2}-x_{3}+x_{4}=-2, \\\\\n",
        "x_{1}+x_{2}-3x_{3}+x_{4}=4.\n",
        "\\end{cases}$$\n",
        "\n",
        "Представим систему уравнений в виде расширенномй матрицы, от 2-й строки отнимем 1-ю умноженную на 2, от 3-й строки вычтем 1 строку. Третье уравнение умножим на $\\frac{1}{2}$, а второе на $-1$.\n",
        "\n",
        "$\\begin{pmatrix}\n",
        "\\left.\\begin{matrix}\n",
        "1 & 1 & -1 & -2\\\\ \n",
        "2 & 1 & -1 & 1\\\\ \n",
        "1 & 1 & -3 & 1\n",
        "\\end{matrix}\\right|\n",
        "\\begin{matrix}\n",
        "0\\\\ \n",
        "-2\\\\\n",
        "4\n",
        "\\end{matrix}\n",
        "\\end{pmatrix} = \\begin{pmatrix}\n",
        "\\left.\\begin{matrix}\n",
        "1 & 1 & -1 & -2\\\\ \n",
        "0 & -1 & 1 & 5\\\\ \n",
        "0 & 0 & -2 & 3\n",
        "\\end{matrix}\\right|\n",
        "\\begin{matrix}\n",
        "0\\\\ \n",
        "-2\\\\\n",
        "4\n",
        "\\end{matrix}\n",
        "\\end{pmatrix}\n",
        "= \\begin{pmatrix}\n",
        "\\left.\\begin{matrix}\n",
        "1 & 1 & -1 & -2\\\\ \n",
        "0 & 1 & -1 & -5\\\\ \n",
        "0 & 0 & 1 & -1,5\n",
        "\\end{matrix}\\right|\n",
        "\\begin{matrix}\n",
        "0\\\\ \n",
        "2\\\\\n",
        "-2\n",
        "\\end{matrix}\n",
        "\\end{pmatrix}\n",
        "$\n",
        "\n",
        "Система имеет множество решений. Выполним обратный ход Гаусса:\n",
        "\n",
        "$x_3 - 1,5x_4= -2 \\Rightarrow x_3 = -2+1,5x_4$\n",
        "\n",
        "$x_2-x_3-5x_4=2 \\Rightarrow x_2=6,5x_4$\n",
        "\n",
        "$x_1+x_2-x_3-2x_4=0 \\Rightarrow x_1=-2-3x_4,$\n",
        "\n",
        "где $x_4$ - любое действительное число."
      ]
    },
    {
      "cell_type": "code",
      "metadata": {
        "id": "xTR1OC9WB4_3",
        "colab": {
          "base_uri": "https://localhost:8080/"
        },
        "outputId": "16a81bab-858e-4d6d-8165-8da11780f1d5"
      },
      "source": [
        "# Проверка с использованием Numpy не проходит, если система имеет бесконечное множество решений\n",
        "import numpy as np\n",
        "A = np.array([[1, 1, -1, -2],[2, 1, -1, 1], [1, 1, -3, 1], [0, 0, 0, 0]])\n",
        "print(A)\n",
        "b = np.array([0,-2, 4, 0]).reshape(4,1)\n",
        "print(b)\n",
        "#x = np.linalg.solve(A,b)\n",
        "#print(x)"
      ],
      "execution_count": 20,
      "outputs": [
        {
          "output_type": "stream",
          "text": [
            "[[ 1  1 -1 -2]\n",
            " [ 2  1 -1  1]\n",
            " [ 1  1 -3  1]\n",
            " [ 0  0  0  0]]\n",
            "[[ 0]\n",
            " [-2]\n",
            " [ 4]\n",
            " [ 0]]\n"
          ],
          "name": "stdout"
        }
      ]
    },
    {
      "cell_type": "markdown",
      "metadata": {
        "id": "VCRk0EeGBMUt"
      },
      "source": [
        "##Задача 2. Проверить на совместность и выяснить, сколько решений будет иметь система линейных уравнений:\n",
        "\n",
        "   а) $\\begin{cases}\n",
        "3x_{1}-x_{2}+x_{3}=4, \\\\\n",
        "2x_{1}-5x_{2}-3x_{3}=-17, \\\\\n",
        "x_{1}+x_{2}-x_{3}=0;\n",
        "\\end{cases}$\n",
        "\n",
        "Проведем преобразования матрицы, чтобы выяснить ранг матрицы и ранг расширенной матрицы:\n",
        "\n",
        "$\\begin{pmatrix}\n",
        "\\left.\\begin{matrix}\n",
        "3 & -1 & 1 \\\\ \n",
        "2 & -5 & -3 \\\\ \n",
        "1 & 1 & -1\n",
        "\\end{matrix}\\right|\n",
        "\\begin{matrix}\n",
        "4\\\\  -17\\\\  0\n",
        "\\end{matrix}\n",
        "\\end{pmatrix} \n",
        "= \n",
        "\\begin{pmatrix}\n",
        "\\left.\\begin{matrix}\n",
        "2 & -5 & -3 \\\\ \n",
        "0 & 7 & 1 \\\\ \n",
        "0 & 3 & 5\n",
        "\\end{matrix}\\right|\n",
        "\\begin{matrix}\n",
        "-17\\\\ 17\\\\ 21\n",
        "\\end{matrix}\n",
        "\\end{pmatrix}\n",
        "=\n",
        "\\begin{pmatrix}\n",
        "\\left.\\begin{matrix}\n",
        "2 & -5 & -3 \\\\ \n",
        "0 &  7 & 1 \\\\ \n",
        "0 & 0 & 32\n",
        "\\end{matrix}\\right|\n",
        "\\begin{matrix}\n",
        "17\\\\ \n",
        "17\\\\\n",
        "96\n",
        "\\end{matrix}\n",
        "\\end{pmatrix}$\n",
        "\n",
        "Ранг матрицы коэффициентов равен рангу расширенной матрицы, следовательно по теореме Кронекера-Капелли система имеет 1 решение. Проведенные на матрицей преобразования привели ее к виду, который позволяет решить ее методом Гаусса.\n",
        "    \n",
        "   б) $\\begin{cases}\n",
        "2x_{1}-4x_{2}+6x_{3}=1, \\\\\n",
        "x_{1}-2x_{2}+3x_{3}=-2, \\\\\n",
        "3x_{1}-6x_{2}+9x_{3}=5;\n",
        "\\end{cases}$\n",
        "\n",
        "Проведем преобразования матрицы:\n",
        "\n",
        "$\\begin{pmatrix}\n",
        "\\left.\\begin{matrix}\n",
        "2 & -4 & 6 \\\\ \n",
        "1 & -2 & 3 \\\\ \n",
        "3 & -6 & 9\n",
        "\\end{matrix}\\right|\n",
        "\\begin{matrix}\n",
        "1\\\\  -2\\\\  5\n",
        "\\end{matrix}\n",
        "\\end{pmatrix} \n",
        "= \n",
        "\\begin{pmatrix}\n",
        "\\left.\\begin{matrix}\n",
        "2 & -4 & 6 \\\\ \n",
        "0 & 0 & 0 \\\\ \n",
        "0 &  0 & 0 \n",
        "\\end{matrix}\\right|\n",
        "\\begin{matrix}\n",
        "1\\\\ -2,5\\\\ 3,5\n",
        "\\end{matrix}\n",
        "\\end{pmatrix}$    \n",
        "\n",
        "Система несовместна из рангов матриц: ранг матрицы коэффициентов равен 1, а ранг расширенной матрицы равен 2. \n",
        "\n",
        "   в) $\\begin{cases}\n",
        "x_{1}+2x_{2}+5x_{3}=4, \\\\\n",
        "3x_{1}+x_{2}-8x_{3}=-2. \n",
        "\\end{cases}$\n",
        "\n",
        "$\\begin{pmatrix}\n",
        "\\left.\\begin{matrix}\n",
        "1 & 2 & 5 \\\\ \n",
        "3 & 1 & -8 \n",
        "\\end{matrix}\\right|\n",
        "\\begin{matrix}\n",
        "4 \\\\ -2\n",
        "\\end{matrix}\n",
        "\\end{pmatrix}$ \n",
        "\n",
        "Система имеет бесконечное множество решений, т.к. ранги матрицы коэффициентов и расширенной матрицы равны 2, а кол-во коэффициентов $n=3$  $(r<n)$."
      ]
    },
    {
      "cell_type": "code",
      "metadata": {
        "colab": {
          "base_uri": "https://localhost:8080/"
        },
        "id": "NkKPCJ7-lxMI",
        "outputId": "1e1c2dbd-01f0-4d53-d1db-c56c1a6b48c0"
      },
      "source": [
        "# Проверка задачи 2.а\n",
        "import numpy as np\n",
        "x = [3, -1, 1]\n",
        "y = [2, -5, -3]\n",
        "z = [1, 1, -1]\n",
        "a1 = np.array([x, y, z])\n",
        "a2 =  [[3, -1, 1, 4], [2, -5, -3, -17], [1, 1, -1, 0]]\n",
        "r1 = np.linalg.matrix_rank(a1)\n",
        "r2 = np.linalg.matrix_rank(a2)\n",
        "print(f'Ранг матрицы равен: {r1}')\n",
        "print(f'Ранг расширенной матрицы равен: {r2}')"
      ],
      "execution_count": 21,
      "outputs": [
        {
          "output_type": "stream",
          "text": [
            "Ранг матрицы равен: 3\n",
            "Ранг расширенной матрицы равен: 3\n"
          ],
          "name": "stdout"
        }
      ]
    },
    {
      "cell_type": "code",
      "metadata": {
        "colab": {
          "base_uri": "https://localhost:8080/"
        },
        "id": "magaTrQToRQ6",
        "outputId": "39025a6c-a2ed-4178-cb5e-4430d085acf9"
      },
      "source": [
        "b = np.array([4,-17, 0]).reshape(3,1)\n",
        "x = np.linalg.solve(a1,b)\n",
        "print(x)"
      ],
      "execution_count": 22,
      "outputs": [
        {
          "output_type": "stream",
          "text": [
            "[[1.]\n",
            " [2.]\n",
            " [3.]]\n"
          ],
          "name": "stdout"
        }
      ]
    },
    {
      "cell_type": "code",
      "metadata": {
        "colab": {
          "base_uri": "https://localhost:8080/"
        },
        "id": "T7Fd1UNl3ukQ",
        "outputId": "9000a7fa-b7db-4db5-f4d4-5efefc736298"
      },
      "source": [
        "ap = [[2, -5, -3],[0, 7, 1],[0, 0, 32]]\n",
        "bp = np.array([17,17, 96]).reshape(3,1)\n",
        "x = np.linalg.solve(a1,b)\n",
        "print(x)"
      ],
      "execution_count": 23,
      "outputs": [
        {
          "output_type": "stream",
          "text": [
            "[[1.]\n",
            " [2.]\n",
            " [3.]]\n"
          ],
          "name": "stdout"
        }
      ]
    },
    {
      "cell_type": "code",
      "metadata": {
        "colab": {
          "base_uri": "https://localhost:8080/"
        },
        "id": "U9NXsrTf8LNN",
        "outputId": "500e6009-f9d8-4f22-e28a-b947d5615c9f"
      },
      "source": [
        "# Проверка задачи 2.б\n",
        "x = [2, -4, 6]\n",
        "y = [1, -2, 3]\n",
        "z = [3, -6, 9]\n",
        "a1 = np.array([x, y, z])\n",
        "a2 =  [[2, -4, 6, 1], [1, -2, 3, -2], [3, -6, 9, 5]]\n",
        "r1 = np.linalg.matrix_rank(a1)\n",
        "r2 = np.linalg.matrix_rank(a2)\n",
        "print(f'Ранг матрицы равен: {r1}')\n",
        "print(f'Ранг расширенной матрицы равен: {r2}')"
      ],
      "execution_count": 24,
      "outputs": [
        {
          "output_type": "stream",
          "text": [
            "Ранг матрицы равен: 1\n",
            "Ранг расширенной матрицы равен: 2\n"
          ],
          "name": "stdout"
        }
      ]
    },
    {
      "cell_type": "code",
      "metadata": {
        "colab": {
          "base_uri": "https://localhost:8080/"
        },
        "id": "VEYO9T1oBZNv",
        "outputId": "36ae505b-edbe-433d-c395-b04a8162aaf0"
      },
      "source": [
        "# Проверка задачи 2.в\n",
        "x = [1, 2, 5]\n",
        "y = [3, 1, -8]\n",
        "a1 = np.array([x, y])\n",
        "a2 =  [[1, 2, 5, 4], [3, 1, -8, -2]]\n",
        "r1 = np.linalg.matrix_rank(a1)\n",
        "r2 = np.linalg.matrix_rank(a2)\n",
        "print(f'Ранг матрицы равен: {r1}')\n",
        "print(f'Ранг расширенной матрицы равен: {r2}')"
      ],
      "execution_count": 25,
      "outputs": [
        {
          "output_type": "stream",
          "text": [
            "Ранг матрицы равен: 2\n",
            "Ранг расширенной матрицы равен: 2\n"
          ],
          "name": "stdout"
        }
      ]
    },
    {
      "cell_type": "markdown",
      "metadata": {
        "id": "GABKcHcfL3sC"
      },
      "source": [
        "# Часть 2. Дифференцируемость функций"
      ]
    },
    {
      "cell_type": "markdown",
      "metadata": {
        "id": "d8AAGigdHVGZ"
      },
      "source": [
        "Прочитайте краткую статью-обзор про **функции активации** в нейронных сетях. Дальше в курсе мы еще с Вами об этом поговорим, а сейчас достаточно знать какие функции активации нейронов существуют и определять дифференцируемы они или нет.\n",
        "\n",
        "Прочитайте следющие статьи:\n",
        "- https://www.machinelearningmastery.ru/complete-guide-of-activation-functions-34076e95d044/\n",
        "- https://missinglink.ai/guides/neural-network-concepts/7-types-neural-network-activation-functions-right/\n",
        "\n",
        "и выполните следующие задачи:"
      ]
    },
    {
      "cell_type": "markdown",
      "metadata": {
        "id": "yuSNlofZXAL3"
      },
      "source": [
        "## Задания"
      ]
    },
    {
      "cell_type": "markdown",
      "metadata": {
        "id": "g17tNv9WLx0n"
      },
      "source": [
        "**1.** Для чего необходимо определять дифференцируемость/недефференцируемость функций активации в сетях?"
      ]
    },
    {
      "cell_type": "markdown",
      "metadata": {
        "id": "OxYiiJhGMErP"
      },
      "source": [
        "**2.** Даны 1-6. Вычислите следующие характеристики:\n",
        "\n",
        "- производную функции\n",
        "- область значений\n",
        "- монотонность (монотонная или нет)\n",
        "\n",
        "1. **Identity.** $f(x)=x$\n",
        "2. **Binary step/Единичная ступенька**. $f(x)=\\left\\{\\begin{array}{ll}0 & x<0 \\\\ 1 & x \\geqslant 0\\end{array}\\right.$\n",
        "3. **Hyperbolic tangent/Гиперболический тангенс**. $f(x)=\\operatorname{th}(x)=\\frac{\\left(e^{x}-e^{-x}\\right)}{\\left(e^{x}+e^{-x}\\right)}$\n",
        "4. **ReLU**. $f(x)=\\left\\{\\begin{array}{ll}0 & x<0 \\\\ x & x \\geqslant 0\\end{array}\\right.$\n",
        "5. **Softplus**. $f(x)=\\ln \\left(1+e^{x}\\right)$\n",
        "6. **Синусоида**. $f(x)=\\sin (x)$\n",
        "\n",
        "Если функция дифференцируема на интервале  (a,b) и принадлежит к одному из четырехтипов (т.е. является возрастающей, строго возрастающей, убывающей или строго убывающей), то такая функция называется **монотонной** на данном интервале. \n",
        "<img src=\"https://github.com/ddvika/Data-Science-School-2020/blob/main/lecture_8/imgs/graphs.png?raw=true\" height=400 />"
      ]
    },
    {
      "cell_type": "markdown",
      "metadata": {
        "id": "fKHN1URvMcdb"
      },
      "source": [
        "Пример:\n",
        "\n",
        " **0**. Дана функция **Softsign:** $f(x)=\\frac{x}{1+|x|}$\n",
        "\n",
        " 1. Производная функции:\n",
        " $f'(x)=(\\frac{x}{1+|x|})' $\n",
        "\n",
        "- Воспользуемся правилом нахождения производной от частного: \n",
        "\n",
        "\n",
        "$$\\frac{d}{d x}\\left(\\frac{u}{v}\\right)=\\frac{v \\frac{d u}{d x}-u \\frac{d v}{d x}}{v^{2}}$$\n",
        "Где $u = x$ и $ v = |x| + 1$.\n",
        "\n",
        "Следовательно, в нашем случае имеем:\n",
        "\n",
        "$\\frac{d}{d x}\\left(\\frac{x}{1+|x|}\\right)= \\frac{(1+|x|)\\left(\\frac{d}{d x}(x)\\right)-x\\left(\\frac{d}{d x}(1+|x|)\\right)}{(1+|x|)^{2}}= \\frac{1+|x|-x\\left(\\frac{d}{d x}(1+|x|)\\right)}{(1+|x|)^{2}}=\\frac{1+|x|-x\\left(\\frac{d}{d x}(|x|)+0\\right)}{(1+|x|)^{2}} = $\n",
        "\n",
        "- Запишем $\\frac{d}{d x}(|x|)$ след. образом  $\\frac{d}{d x}(|x|)=\\frac{d|u|}{d u} \\frac{d u}{d x}$, где $u=x$, $\\frac{d}{d u}(|u|)=\\frac{u}{|u|}$\n",
        "\n",
        "$= \\frac{1+|x|-\\frac{x\\left(\\frac{d}{d x}(x)\\right)}{|x|}}{(1+|x|)^{2}}= \\frac{1+|x|-\\frac{x^{2}\\left(\\frac{d}{d x}(x)\\right)}{|x|}}{(1+|x|)^{2}}= \\frac{1+|x|-1 \\mid \\frac{x^{2}}{|x|}}{(1+|x|)^{2}}= \\frac{1}{(1+|x|)^{2}}$\n",
        "\n",
        "$$f'(x) = \\frac{1}{(1+|x|)^{2}}$$\n",
        "\n",
        "**P.S.** Находить производную можно менее подробно!\n",
        "\n",
        "2. Область значений функции:\n",
        "\n",
        "Знаменатель функции не должен быть равен 0:\n",
        "\n",
        "$|x|+1 \\neq 0 \\rightarrow x \\in R$, то есть область значений - множество всех действительных чисел. \n",
        "\n",
        "Теперь найдем множество значений:\n",
        "\n",
        "Пусть $$\\frac{x}{1+|x|} = a$$\n",
        "Решая уравнение $ \\frac{x}{1+|x|}- a =0 $, получим $E = (-1,1)$\n",
        "\n",
        "\n",
        "\n",
        "$$E = (-1,1)$$\n",
        "\n",
        "3. Определим моннотонна ли функция\n",
        "\n",
        "- построим график функции"
      ]
    },
    {
      "cell_type": "code",
      "metadata": {
        "colab": {
          "base_uri": "https://localhost:8080/",
          "height": 295
        },
        "id": "3gBae6jJUUJ3",
        "outputId": "dad7f290-db07-4c66-d950-13389b877902"
      },
      "source": [
        "import numpy as np\n",
        "import matplotlib.pyplot as plt\n",
        "\n",
        "def f(x):\n",
        "    return x/(1+abs(x))\n",
        "\n",
        "a = np.arange(-100, 100)\n",
        "plt.plot(a, f(a))\n",
        "plt.title('Softsign')\n",
        "plt.xlabel('x')\n",
        "plt.ylabel('f(x)')\n",
        "plt.show()"
      ],
      "execution_count": 78,
      "outputs": [
        {
          "output_type": "display_data",
          "data": {
            "image/png": "[encoded data removed]",
            "text/plain": [
              "<Figure size 432x288 with 1 Axes>"
            ]
          },
          "metadata": {
            "tags": [],
            "needs_background": "light"
          }
        }
      ]
    },
    {
      "cell_type": "markdown",
      "metadata": {
        "id": "lZz_LHD1U7u_"
      },
      "source": [
        "**Ответ: функция монотонна**"
      ]
    },
    {
      "cell_type": "markdown",
      "metadata": {
        "id": "o060JYePVAIU"
      },
      "source": [
        "# Ваше решение тут"
      ]
    },
    {
      "cell_type": "markdown",
      "metadata": {
        "id": "2rX5sIMBXtja"
      },
      "source": [
        "\n",
        "**P.S.** Находить производну можно менее подробно чем в примере! но нахождение каждого пункта решения и отрисовка графиков обязательна (С названием графика и подписью осей как в примере!)."
      ]
    },
    {
      "cell_type": "markdown",
      "metadata": {
        "id": "_tg_8j2jCkzA"
      },
      "source": [
        "# Решение задач из части 2 (дифференцируемость функций):"
      ]
    },
    {
      "cell_type": "markdown",
      "metadata": {
        "id": "JX1cozwCvV70"
      },
      "source": [
        "## 1. Для чего необходимо определять дифференцируемость/недефференцируемость функций активации в сетях?\n",
        "\n",
        "Ответ"
      ]
    },
    {
      "cell_type": "markdown",
      "metadata": {
        "id": "9rZufVnjFdAX"
      },
      "source": [
        "## 2. Вычислите производную функции, определить область значений и исследуйте функцию на монотонность:\n",
        "\n",
        "2.1. **Identity.** $f(x)=x$\n",
        "Производная функции $f'(x)=x'= 1.$\n",
        "\n",
        "$x \\in R$, то есть область определения - множество всех действительных чисел. \n",
        "\n",
        "Область значений также множество действительных чисел.\n",
        "\n",
        "Построим график функции:"
      ]
    },
    {
      "cell_type": "code",
      "metadata": {
        "colab": {
          "base_uri": "https://localhost:8080/",
          "height": 295
        },
        "id": "5oKWZwE5GiHS",
        "outputId": "48f6ca3e-5fba-4d20-f626-a4d1e165b27e"
      },
      "source": [
        "def f(x):\n",
        "    return x\n",
        "\n",
        "a = np.arange(-100, 100)\n",
        "plt.plot(a, f(a))\n",
        "plt.title('Identity')\n",
        "plt.xlabel('x')\n",
        "plt.ylabel('f(x)')\n",
        "plt.show()"
      ],
      "execution_count": 27,
      "outputs": [
        {
          "output_type": "display_data",
          "data": {
            "image/png": "[encoded data removed]",
            "text/plain": [
              "<Figure size 432x288 with 1 Axes>"
            ]
          },
          "metadata": {
            "tags": [],
            "needs_background": "light"
          }
        }
      ]
    },
    {
      "cell_type": "markdown",
      "metadata": {
        "id": "nEOckeO3HKdB"
      },
      "source": [
        "Функция $f(x)=x$ - монотонно (линейно) возрастающая."
      ]
    },
    {
      "cell_type": "markdown",
      "metadata": {
        "id": "Zq4mX8QwvwW3"
      },
      "source": [
        "2.2. **Binary step/Единичная ступенька**. $f(x)=\\left\\{\\begin{array}{ll}0 & x<0 \\\\ 1 & x \\geqslant 0\\end{array}\\right.$\n",
        "\n",
        "Производная функции $f'(x)= 0$ при  значениях $x \\neq 0$, а при $x=0$ $f'(x) = + \\infty$.\n",
        "\n",
        "$x \\in R$, то есть область определения - множество всех действительных чисел. \n",
        "\n",
        "Область значений ограничена значениями 0 при $x<0$ и 1 при $x \\geq 0$.\n",
        "\n",
        "Построим график функции:"
      ]
    },
    {
      "cell_type": "code",
      "metadata": {
        "colab": {
          "base_uri": "https://localhost:8080/",
          "height": 295
        },
        "id": "VSL6_0cmwiB_",
        "outputId": "9501d604-505d-47c6-a93f-f3c63ebc524d"
      },
      "source": [
        "def f(x):\n",
        "    a = [1 if i>0 else 0 if i<0 else np.nan for i in x]\n",
        "    return a\n",
        "\n",
        "a = np.arange(-100, 100)\n",
        "plt.plot(a, f(a))\n",
        "plt.title('Binary step')\n",
        "plt.xlabel('x')\n",
        "plt.ylabel('f(x)')\n",
        "plt.show()"
      ],
      "execution_count": 33,
      "outputs": [
        {
          "output_type": "display_data",
          "data": {
            "image/png": "[encoded data removed]",
            "text/plain": [
              "<Figure size 432x288 with 1 Axes>"
            ]
          },
          "metadata": {
            "tags": [],
            "needs_background": "light"
          }
        }
      ]
    },
    {
      "cell_type": "markdown",
      "metadata": {
        "id": "xDOOpWPZ2o4t"
      },
      "source": [
        "Функция кусочно-постоянная (функция Хэвисайда)."
      ]
    },
    {
      "cell_type": "markdown",
      "metadata": {
        "id": "90GkLrAv55oH"
      },
      "source": [
        "2.3. **Hyperbolic tangent/Гиперболический тангенс**. $f(x)=\\operatorname{th}(x)=\\frac{\\left(e^{x}-e^{-x}\\right)}{\\left(e^{x}+e^{-x}\\right)}$\n",
        "\n",
        "Найдем производную функции:\n",
        "\n",
        "$f'(x)=\\operatorname{th}'(x)=\\Big(\\frac{\\left(e^{x}-e^{-x}\\right)}{\\left(e^{x}+e^{-x}\\right)}\\Big)^{'} =  \n",
        "\\frac{\\left(e^{x}+e^{-x}\\right) \\cdot \\left(e^{x}-e^{-x}\\right)^{'}-\\left(e^{x}-e^{-x}\\right) \\cdot \\left(e^{x}+e^{-x}\\right)^{'}}{\\left(e^{x}+e^{-x}\\right)^{2}} = \n",
        "\\frac{\\left(e^{x}+e^{-x}\\right)^2 - \\left(e^{x}-e^{-x}\\right)^2 }{\\left(e^{x}+e^{-x}\\right)^2} = 1 - \\Big(\\frac{e^{x}-e^{-x}}{e^{x}+e^{-x}}\\Big)^2 = 1 - th^{2}x$\n",
        "\n",
        "Найдем область определения функции:\n",
        "\n",
        "$e^{x} + e^{-x} = 0$\n",
        "\n",
        "$\\frac{e^x-e^{-x}}{2}=cosx$\n",
        "\n",
        "$cosx = 0 \\Rightarrow x = \\frac{\\pi}{2}+\\pi \\cdot n$, где $n$ - любое целое число.\n",
        "\n",
        "Следовательно, функция не определена в точках $\\frac{\\pi}{2}+\\pi \\cdot n$.\n",
        "\n",
        "\n",
        "Построим график функции:"
      ]
    },
    {
      "cell_type": "code",
      "metadata": {
        "colab": {
          "base_uri": "https://localhost:8080/",
          "height": 295
        },
        "id": "dB03VTnLu3Ji",
        "outputId": "b9fa296b-c05a-44b5-b443-29d9eeb4546d"
      },
      "source": [
        "import math as m\n",
        "def f(x):\n",
        "  s  = np.zeros(len(x), dtype = float) \n",
        "  for i in range(len(x)):\n",
        "    s[i] = (m.exp(x[i]) - m.exp(-x[i]))/(m.exp(x[i]) + m.exp(-x[i]))\n",
        "  return s\n",
        "\n",
        "def f1(x):\n",
        "  s  = np.zeros(len(x), dtype = float) \n",
        "  for i in range(len(x)):\n",
        "    s[i] = m.tanh(x[i])\n",
        "  return s\n",
        "\n",
        "a = np.arange(-10, 10, 0.1)\n",
        "plt.plot(a, f1(a))\n",
        "plt.title('Hyperbolic tangent')\n",
        "plt.xlabel('x')\n",
        "plt.ylabel('f(x)')\n",
        "plt.show()"
      ],
      "execution_count": 77,
      "outputs": [
        {
          "output_type": "display_data",
          "data": {
            "image/png": "[encoded data removed]",
            "text/plain": [
              "<Figure size 432x288 with 1 Axes>"
            ]
          },
          "metadata": {
            "tags": [],
            "needs_background": "light"
          }
        }
      ]
    },
    {
      "cell_type": "markdown",
      "metadata": {
        "id": "ZB6PM-rzyOSA"
      },
      "source": [
        "Функция монотонно возрастающая"
      ]
    },
    {
      "cell_type": "code",
      "metadata": {
        "id": "1xumgp6XOJoc"
      },
      "source": [
        "# Проверка\n",
        "import sympy as sym\n",
        "import math"
      ],
      "execution_count": 56,
      "outputs": []
    },
    {
      "cell_type": "code",
      "metadata": {
        "colab": {
          "base_uri": "https://localhost:8080/"
        },
        "id": "GlaDDGQ7Moa_",
        "outputId": "816a9bf7-6d04-4be5-b672-11b4fa3f5f2b"
      },
      "source": [
        " x = sym.symbols('x')\n",
        "sym.diff(sym.tanh(x), x)\n"
      ],
      "execution_count": 57,
      "outputs": [
        {
          "output_type": "execute_result",
          "data": {
            "text/plain": [
              "-tanh(x)**2 + 1"
            ]
          },
          "metadata": {
            "tags": []
          },
          "execution_count": 57
        }
      ]
    },
    {
      "cell_type": "code",
      "metadata": {
        "colab": {
          "base_uri": "https://localhost:8080/"
        },
        "id": "Vue8eKcbSPZD",
        "outputId": "6492b3a8-d90f-4aee-cefd-e88fc1a3f71f"
      },
      "source": [
        "y= sym.diff((sym.exp(x) - sym.exp(-x))/(sym.exp(x) + sym.exp(-x)),x )\n",
        "print(y)\n",
        "print(sym.simplify(y))"
      ],
      "execution_count": 64,
      "outputs": [
        {
          "output_type": "stream",
          "text": [
            "(-exp(x) + exp(-x))*(exp(x) - exp(-x))/(exp(x) + exp(-x))**2 + 1\n",
            "4*exp(2*x)/(exp(4*x) + 2*exp(2*x) + 1)\n"
          ],
          "name": "stdout"
        }
      ]
    },
    {
      "cell_type": "code",
      "metadata": {
        "colab": {
          "base_uri": "https://localhost:8080/"
        },
        "id": "GLHEIi_Ue-Rs",
        "outputId": "b3dc4207-de39-4bed-c18b-bd752330dc49"
      },
      "source": [
        "sym.solveset(sym.exp(x) + sym.exp(-x))"
      ],
      "execution_count": 66,
      "outputs": [
        {
          "output_type": "execute_result",
          "data": {
            "text/plain": [
              "ImageSet(Lambda(_n, I*(2*_n*pi + pi)/2), S.Integers)"
            ]
          },
          "metadata": {
            "tags": []
          },
          "execution_count": 66
        }
      ]
    },
    {
      "cell_type": "markdown",
      "metadata": {
        "id": "gQd0kPf9yajj"
      },
      "source": [
        "2.4. **ReLU**. $f(x)=\\left\\{\\begin{array}{ll}0 & x<0 \\\\ x & x \\geqslant 0\\end{array}\\right.$\n",
        "\n",
        "Производная функции $f'(x)= 0$ при  значениях $x < 0$, $f'(x)= 1$ при $x>0$, а при $x=0$: $f'(x) = + \\infty$.\n",
        "\n",
        "$x \\in R$, то есть область определения - множество всех действительных чисел. \n",
        "\n",
        "Область значений ограничена значениями 0 при $x<0$ и $x \\in Z$,  при $x \\geq 0$.\n",
        "\n",
        "Построим график функции:"
      ]
    },
    {
      "cell_type": "code",
      "metadata": {
        "colab": {
          "base_uri": "https://localhost:8080/",
          "height": 295
        },
        "id": "hhFzvMoi0HHg",
        "outputId": "0bca8876-b3b0-40a8-bdec-9de49f595f77"
      },
      "source": [
        "def f(x):\n",
        "    a = [i if i>=0 else 0   for i in x]\n",
        "    return a\n",
        "\n",
        "a = np.arange(-100, 100)\n",
        "plt.plot(a, f(a))\n",
        "plt.title('ReLU')\n",
        "plt.xlabel('x')\n",
        "plt.ylabel('f(x)')\n",
        "plt.show()"
      ],
      "execution_count": 81,
      "outputs": [
        {
          "output_type": "display_data",
          "data": {
            "image/png": "[encoded data removed]",
            "text/plain": [
              "<Figure size 432x288 with 1 Axes>"
            ]
          },
          "metadata": {
            "tags": [],
            "needs_background": "light"
          }
        }
      ]
    },
    {
      "cell_type": "markdown",
      "metadata": {
        "id": "3P3zmFdP0fwd"
      },
      "source": [
        "На участке $x<0$ функция постоянная, на участке $x \\geq 0$ функция монотонно возрастает."
      ]
    },
    {
      "cell_type": "markdown",
      "metadata": {
        "id": "0ythQOD11IMP"
      },
      "source": [
        "2.5. **Softplus**. $f(x)=\\ln \\left(1+e^{x}\\right)$\n",
        "\n",
        "Найдем производную функции:\n",
        "\n",
        "$f^{'}(x)=\\ln^{'} \\left(1+e^{x}\\right) = $"
      ]
    }
  ]
}