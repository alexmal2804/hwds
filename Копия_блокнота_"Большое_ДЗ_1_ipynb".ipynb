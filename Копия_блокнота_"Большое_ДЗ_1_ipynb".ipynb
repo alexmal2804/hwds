{
  "nbformat": 4,
  "nbformat_minor": 0,
  "metadata": {
    "colab": {
      "name": "Копия блокнота \"Большое_ДЗ_1.ipynb\"",
      "provenance": [],
      "collapsed_sections": [],
      "include_colab_link": true
    },
    "kernelspec": {
      "name": "python3",
      "display_name": "Python 3"
    }
  },
  "cells": [
    {
      "cell_type": "markdown",
      "metadata": {
        "id": "view-in-github",
        "colab_type": "text"
      },
      "source": [
        "<a href=\"https://colab.research.google.com/github/alexmal2804/hwds/blob/master/%D0%9A%D0%BE%D0%BF%D0%B8%D1%8F_%D0%B1%D0%BB%D0%BE%D0%BA%D0%BD%D0%BE%D1%82%D0%B0_%22%D0%91%D0%BE%D0%BB%D1%8C%D1%88%D0%BE%D0%B5_%D0%94%D0%97_1_ipynb%22.ipynb\" target=\"_parent\"><img src=\"https://colab.research.google.com/assets/colab-badge.svg\" alt=\"Open In Colab\"/></a>"
      ]
    },
    {
      "cell_type": "markdown",
      "metadata": {
        "id": "_k4vyWJkpjem"
      },
      "source": [
        "https://colab.research.google.com/drive/1XXSDI6xTS1T85LnNhfp06L8zBOqUOyjL?usp=sharing"
      ]
    },
    {
      "cell_type": "markdown",
      "metadata": {
        "id": "JmblmG7LLIWl"
      },
      "source": [
        "<h2 style=\"text-align: center;\"><b>Домашнее задание. Предобработка данных. Кластеризация при помощи kNN.\n",
        "</b></h2>\n",
        "\n",
        "Ссылка на дз в колаб: \n",
        "https://colab.research.google.com/drive/1bxkOBIWNySWmfTzCxwkYLE6lvu--anwh?usp=sharing\n",
        "\n",
        "В этом домашнем задании нам нужно закрепить базовые понятия машинного обучения и научиться работать с простейшим метрическим алгоритмом кластеризации - kNN.\n",
        "\n",
        "**Правила:**\n",
        "\n",
        "- **Мягкий дедлайн:** 15 января 23:59. При отправке решения до этого момента вы можете исправить найденные ошибки без штрафа до жёсткого дедлайна.\n",
        "- **Жёсткий дедлайн:** 22 января 23:59. Решения, отправленные позже, проверяться не будут, кроме случаев наличия уважительной причины.\n",
        "\n",
        "\n",
        "Решения, размещенные на каких-либо интернет-ресурсах, не принимаются.\n",
        "Для выполнения задания используйте этот ноутбук в качестве основы, ничего не удаляя из него. Пропущенные описания принимаемых аргументов дописать на русском. \n",
        "\n",
        "**ОБЯЗАТЕЛЬНО!**\n",
        "При написании кода придерживайтесь `pep8` и используйте `type hints`.\n",
        "\n",
        "\n",
        "**После жесткого дедлайна задания не принимаются.**"
      ]
    },
    {
      "cell_type": "markdown",
      "metadata": {
        "id": "Vfwl19gBLIUH"
      },
      "source": [
        "## Предсказание оттока телеком компании"
      ]
    },
    {
      "cell_type": "markdown",
      "metadata": {
        "id": "zzuwnvz6LIY4"
      },
      "source": [
        "#### Что такое \"скорость оттока\"?\n",
        "\n",
        "Коэффициент оттока - это процент подписчиков на услугу, которые прекращают свою подписку на услугу в течение заданного периода времени. Для того чтобы компания могла расширить свою клиентуру, ее темпы роста, измеряемые числом новых клиентов, должны превышать темпы оттока. Этот показатель обычно выражается в процентах."
      ]
    },
    {
      "cell_type": "markdown",
      "metadata": {
        "id": "xGQIRZDALIbT"
      },
      "source": [
        "#### Почему отток так важен?\n",
        "\n",
        "Отток клиентов - это термин, используемый в компаний с подписочной моделью ведения бизнеса, для описания потери клиентов. Например, если 10 из 100 подписчиков интернет-провайдера (ISP) отменили свои подписки, скорость оттока для этого провайдера составит 10%.\n",
        "\n",
        "Отток важен, потому что он напрямую влияет на прибыльность вашего сервиса. Принято считать, что прибыльность услуги напрямую связана с ростом ее клиентской базы. Это может привести владельцев бизнеса к выводу, что для того, чтобы увеличить свою клиентскую базу, скорость приобретения новых клиентов должна превышать скорость оттока."
      ]
    },
    {
      "cell_type": "markdown",
      "metadata": {
        "id": "uBE-CE01LIdr"
      },
      "source": [
        "#### Что из себя представляет датасет?\n",
        "\n",
        "Датасет представляет из себя 3333 записи из истории компании о клиентах с 20 колонками. Каждая колонка описывает клиента - его штат проживания, время использования услуги, номер, перечень подписок, время разговора, прочее."
      ]
    },
    {
      "cell_type": "markdown",
      "metadata": {
        "id": "sH_zBlcELIgF"
      },
      "source": [
        "#### В чем состоит ваше задание?\n",
        "\n",
        "Ниже будет представлен конвейер (pipeline) обработки датасета с комментариями. На основе комментариев и результатов уже выполненых ячеек вам нужно будет восстановить код (на основе материалов занятий) по загрузке, обработке и построении модели наших данных. Желательно придерживаться в обработке результатов, которые вы уже увидите в ячейках."
      ]
    },
    {
      "cell_type": "markdown",
      "metadata": {
        "id": "zgQBiSeHLIiU"
      },
      "source": [
        "------\n",
        "\n",
        "## Загрузка данных\n",
        "\n",
        "Загрузка данных может зависить от среды, где вы работаете. \n",
        "\n",
        "Если это гугл колаб - вам необходимо выполнить следующие комманды:\n",
        "\n",
        "В первой вам необходимо перейти по ссылке, авторизироваться со своим аккаунтом, скопировать код из окна и вставить в поле выполнения ячейки."
      ]
    },
    {
      "cell_type": "markdown",
      "metadata": {
        "id": "sjqior08MTAq"
      },
      "source": [
        "Загружаем все необходимые библиотеки"
      ]
    },
    {
      "cell_type": "code",
      "metadata": {
        "id": "_oEKlPQ3MKmo"
      },
      "source": [
        "import pandas as pd\n",
        "import numpy as np\n",
        "import matplotlib.pyplot as plt\n",
        "import seaborn as sns\n",
        "import sklearn"
      ],
      "execution_count": null,
      "outputs": []
    },
    {
      "cell_type": "markdown",
      "metadata": {
        "id": "dY8V2o78MY80"
      },
      "source": [
        "Открываем склонированную папку"
      ]
    },
    {
      "cell_type": "code",
      "metadata": {
        "id": "_y1OKScqLbEg"
      },
      "source": [
        "df = pd.read_csv('https://raw.githubusercontent.com/tixonsit/Sberbank_materials/master/telecom_churn.csv')"
      ],
      "execution_count": null,
      "outputs": []
    },
    {
      "cell_type": "markdown",
      "metadata": {
        "id": "83DjKz7cMkhI"
      },
      "source": [
        "Отображаем данные"
      ]
    },
    {
      "cell_type": "code",
      "metadata": {
        "id": "cUmSqnqsMBCL",
        "colab": {
          "base_uri": "https://localhost:8080/",
          "height": 343
        },
        "outputId": "258f8810-2d48-439c-d758-585c7c2dd005"
      },
      "source": [
        ""
      ],
      "execution_count": null,
      "outputs": [
        {
          "output_type": "execute_result",
          "data": {
            "text/html": [
              "<div>\n",
              "<style scoped>\n",
              "    .dataframe tbody tr th:only-of-type {\n",
              "        vertical-align: middle;\n",
              "    }\n",
              "\n",
              "    .dataframe tbody tr th {\n",
              "        vertical-align: top;\n",
              "    }\n",
              "\n",
              "    .dataframe thead th {\n",
              "        text-align: right;\n",
              "    }\n",
              "</style>\n",
              "<table border=\"1\" class=\"dataframe\">\n",
              "  <thead>\n",
              "    <tr style=\"text-align: right;\">\n",
              "      <th></th>\n",
              "      <th>state</th>\n",
              "      <th>account length</th>\n",
              "      <th>area code</th>\n",
              "      <th>phone number</th>\n",
              "      <th>international plan</th>\n",
              "      <th>voice mail plan</th>\n",
              "      <th>number vmail messages</th>\n",
              "      <th>total day minutes</th>\n",
              "      <th>total day calls</th>\n",
              "      <th>total day charge</th>\n",
              "      <th>total eve minutes</th>\n",
              "      <th>total eve calls</th>\n",
              "      <th>total eve charge</th>\n",
              "      <th>total night minutes</th>\n",
              "      <th>total night calls</th>\n",
              "      <th>total night charge</th>\n",
              "      <th>total intl minutes</th>\n",
              "      <th>total intl calls</th>\n",
              "      <th>total intl charge</th>\n",
              "      <th>customer service calls</th>\n",
              "      <th>churn</th>\n",
              "    </tr>\n",
              "  </thead>\n",
              "  <tbody>\n",
              "    <tr>\n",
              "      <th>0</th>\n",
              "      <td>KS</td>\n",
              "      <td>128</td>\n",
              "      <td>415</td>\n",
              "      <td>382-4657</td>\n",
              "      <td>no</td>\n",
              "      <td>yes</td>\n",
              "      <td>25</td>\n",
              "      <td>265.1</td>\n",
              "      <td>110</td>\n",
              "      <td>45.07</td>\n",
              "      <td>197.4</td>\n",
              "      <td>99</td>\n",
              "      <td>16.78</td>\n",
              "      <td>244.7</td>\n",
              "      <td>91</td>\n",
              "      <td>11.01</td>\n",
              "      <td>10.0</td>\n",
              "      <td>3</td>\n",
              "      <td>2.70</td>\n",
              "      <td>1</td>\n",
              "      <td>False</td>\n",
              "    </tr>\n",
              "    <tr>\n",
              "      <th>1</th>\n",
              "      <td>OH</td>\n",
              "      <td>107</td>\n",
              "      <td>415</td>\n",
              "      <td>371-7191</td>\n",
              "      <td>no</td>\n",
              "      <td>yes</td>\n",
              "      <td>26</td>\n",
              "      <td>161.6</td>\n",
              "      <td>123</td>\n",
              "      <td>27.47</td>\n",
              "      <td>195.5</td>\n",
              "      <td>103</td>\n",
              "      <td>16.62</td>\n",
              "      <td>254.4</td>\n",
              "      <td>103</td>\n",
              "      <td>11.45</td>\n",
              "      <td>13.7</td>\n",
              "      <td>3</td>\n",
              "      <td>3.70</td>\n",
              "      <td>1</td>\n",
              "      <td>False</td>\n",
              "    </tr>\n",
              "    <tr>\n",
              "      <th>2</th>\n",
              "      <td>NJ</td>\n",
              "      <td>137</td>\n",
              "      <td>415</td>\n",
              "      <td>358-1921</td>\n",
              "      <td>no</td>\n",
              "      <td>no</td>\n",
              "      <td>0</td>\n",
              "      <td>243.4</td>\n",
              "      <td>114</td>\n",
              "      <td>41.38</td>\n",
              "      <td>121.2</td>\n",
              "      <td>110</td>\n",
              "      <td>10.30</td>\n",
              "      <td>162.6</td>\n",
              "      <td>104</td>\n",
              "      <td>7.32</td>\n",
              "      <td>12.2</td>\n",
              "      <td>5</td>\n",
              "      <td>3.29</td>\n",
              "      <td>0</td>\n",
              "      <td>False</td>\n",
              "    </tr>\n",
              "    <tr>\n",
              "      <th>3</th>\n",
              "      <td>OH</td>\n",
              "      <td>84</td>\n",
              "      <td>408</td>\n",
              "      <td>375-9999</td>\n",
              "      <td>yes</td>\n",
              "      <td>no</td>\n",
              "      <td>0</td>\n",
              "      <td>299.4</td>\n",
              "      <td>71</td>\n",
              "      <td>50.90</td>\n",
              "      <td>61.9</td>\n",
              "      <td>88</td>\n",
              "      <td>5.26</td>\n",
              "      <td>196.9</td>\n",
              "      <td>89</td>\n",
              "      <td>8.86</td>\n",
              "      <td>6.6</td>\n",
              "      <td>7</td>\n",
              "      <td>1.78</td>\n",
              "      <td>2</td>\n",
              "      <td>False</td>\n",
              "    </tr>\n",
              "    <tr>\n",
              "      <th>4</th>\n",
              "      <td>OK</td>\n",
              "      <td>75</td>\n",
              "      <td>415</td>\n",
              "      <td>330-6626</td>\n",
              "      <td>yes</td>\n",
              "      <td>no</td>\n",
              "      <td>0</td>\n",
              "      <td>166.7</td>\n",
              "      <td>113</td>\n",
              "      <td>28.34</td>\n",
              "      <td>148.3</td>\n",
              "      <td>122</td>\n",
              "      <td>12.61</td>\n",
              "      <td>186.9</td>\n",
              "      <td>121</td>\n",
              "      <td>8.41</td>\n",
              "      <td>10.1</td>\n",
              "      <td>3</td>\n",
              "      <td>2.73</td>\n",
              "      <td>3</td>\n",
              "      <td>False</td>\n",
              "    </tr>\n",
              "  </tbody>\n",
              "</table>\n",
              "</div>"
            ],
            "text/plain": [
              "  state  account length  ...  customer service calls  churn\n",
              "0    KS             128  ...                       1  False\n",
              "1    OH             107  ...                       1  False\n",
              "2    NJ             137  ...                       0  False\n",
              "3    OH              84  ...                       2  False\n",
              "4    OK              75  ...                       3  False\n",
              "\n",
              "[5 rows x 21 columns]"
            ]
          },
          "metadata": {
            "tags": []
          },
          "execution_count": 3
        }
      ]
    },
    {
      "cell_type": "markdown",
      "metadata": {
        "id": "WwR8Kt8zMpdy"
      },
      "source": [
        "В случае, если вы работаете из среды анаконда - вам необходимо положить файл рядом с ноутбуком и выполнить:\n",
        "\n",
        "```\n",
        "df = pd.read_csv('./telecom_churn.csv')\n",
        "```\n",
        "\n",
        " "
      ]
    },
    {
      "cell_type": "markdown",
      "metadata": {
        "id": "OoLBh9biNFX3"
      },
      "source": [
        "## Работа с признаками"
      ]
    },
    {
      "cell_type": "markdown",
      "metadata": {
        "id": "KsnMxQ_JVfKi"
      },
      "source": [
        "#### Визуальный анализ"
      ]
    },
    {
      "cell_type": "markdown",
      "metadata": {
        "id": "fJWb61hmNNm8"
      },
      "source": [
        "Изучим наши данные, какие признаки исходного датасета никак не повлияют на результат прогноза? Выбросим такие столбцы и отобразим результат."
      ]
    },
    {
      "cell_type": "code",
      "metadata": {
        "id": "ejcapc6EMCD-",
        "colab": {
          "base_uri": "https://localhost:8080/",
          "height": 236
        },
        "outputId": "12f34895-c026-4a1a-dbfe-9ada79fb6d8a"
      },
      "source": [
        ""
      ],
      "execution_count": null,
      "outputs": [
        {
          "output_type": "execute_result",
          "data": {
            "text/html": [
              "<div>\n",
              "<style scoped>\n",
              "    .dataframe tbody tr th:only-of-type {\n",
              "        vertical-align: middle;\n",
              "    }\n",
              "\n",
              "    .dataframe tbody tr th {\n",
              "        vertical-align: top;\n",
              "    }\n",
              "\n",
              "    .dataframe thead th {\n",
              "        text-align: right;\n",
              "    }\n",
              "</style>\n",
              "<table border=\"1\" class=\"dataframe\">\n",
              "  <thead>\n",
              "    <tr style=\"text-align: right;\">\n",
              "      <th></th>\n",
              "      <th>state</th>\n",
              "      <th>account length</th>\n",
              "      <th>area code</th>\n",
              "      <th>international plan</th>\n",
              "      <th>voice mail plan</th>\n",
              "      <th>number vmail messages</th>\n",
              "      <th>total day minutes</th>\n",
              "      <th>total day calls</th>\n",
              "      <th>total day charge</th>\n",
              "      <th>total eve minutes</th>\n",
              "      <th>total eve calls</th>\n",
              "      <th>total eve charge</th>\n",
              "      <th>total night minutes</th>\n",
              "      <th>total night calls</th>\n",
              "      <th>total night charge</th>\n",
              "      <th>total intl minutes</th>\n",
              "      <th>total intl calls</th>\n",
              "      <th>total intl charge</th>\n",
              "      <th>customer service calls</th>\n",
              "      <th>churn</th>\n",
              "    </tr>\n",
              "  </thead>\n",
              "  <tbody>\n",
              "    <tr>\n",
              "      <th>0</th>\n",
              "      <td>KS</td>\n",
              "      <td>128</td>\n",
              "      <td>415</td>\n",
              "      <td>no</td>\n",
              "      <td>yes</td>\n",
              "      <td>25</td>\n",
              "      <td>265.1</td>\n",
              "      <td>110</td>\n",
              "      <td>45.07</td>\n",
              "      <td>197.4</td>\n",
              "      <td>99</td>\n",
              "      <td>16.78</td>\n",
              "      <td>244.7</td>\n",
              "      <td>91</td>\n",
              "      <td>11.01</td>\n",
              "      <td>10.0</td>\n",
              "      <td>3</td>\n",
              "      <td>2.70</td>\n",
              "      <td>1</td>\n",
              "      <td>False</td>\n",
              "    </tr>\n",
              "    <tr>\n",
              "      <th>1</th>\n",
              "      <td>OH</td>\n",
              "      <td>107</td>\n",
              "      <td>415</td>\n",
              "      <td>no</td>\n",
              "      <td>yes</td>\n",
              "      <td>26</td>\n",
              "      <td>161.6</td>\n",
              "      <td>123</td>\n",
              "      <td>27.47</td>\n",
              "      <td>195.5</td>\n",
              "      <td>103</td>\n",
              "      <td>16.62</td>\n",
              "      <td>254.4</td>\n",
              "      <td>103</td>\n",
              "      <td>11.45</td>\n",
              "      <td>13.7</td>\n",
              "      <td>3</td>\n",
              "      <td>3.70</td>\n",
              "      <td>1</td>\n",
              "      <td>False</td>\n",
              "    </tr>\n",
              "    <tr>\n",
              "      <th>2</th>\n",
              "      <td>NJ</td>\n",
              "      <td>137</td>\n",
              "      <td>415</td>\n",
              "      <td>no</td>\n",
              "      <td>no</td>\n",
              "      <td>0</td>\n",
              "      <td>243.4</td>\n",
              "      <td>114</td>\n",
              "      <td>41.38</td>\n",
              "      <td>121.2</td>\n",
              "      <td>110</td>\n",
              "      <td>10.30</td>\n",
              "      <td>162.6</td>\n",
              "      <td>104</td>\n",
              "      <td>7.32</td>\n",
              "      <td>12.2</td>\n",
              "      <td>5</td>\n",
              "      <td>3.29</td>\n",
              "      <td>0</td>\n",
              "      <td>False</td>\n",
              "    </tr>\n",
              "    <tr>\n",
              "      <th>3</th>\n",
              "      <td>OH</td>\n",
              "      <td>84</td>\n",
              "      <td>408</td>\n",
              "      <td>yes</td>\n",
              "      <td>no</td>\n",
              "      <td>0</td>\n",
              "      <td>299.4</td>\n",
              "      <td>71</td>\n",
              "      <td>50.90</td>\n",
              "      <td>61.9</td>\n",
              "      <td>88</td>\n",
              "      <td>5.26</td>\n",
              "      <td>196.9</td>\n",
              "      <td>89</td>\n",
              "      <td>8.86</td>\n",
              "      <td>6.6</td>\n",
              "      <td>7</td>\n",
              "      <td>1.78</td>\n",
              "      <td>2</td>\n",
              "      <td>False</td>\n",
              "    </tr>\n",
              "    <tr>\n",
              "      <th>4</th>\n",
              "      <td>OK</td>\n",
              "      <td>75</td>\n",
              "      <td>415</td>\n",
              "      <td>yes</td>\n",
              "      <td>no</td>\n",
              "      <td>0</td>\n",
              "      <td>166.7</td>\n",
              "      <td>113</td>\n",
              "      <td>28.34</td>\n",
              "      <td>148.3</td>\n",
              "      <td>122</td>\n",
              "      <td>12.61</td>\n",
              "      <td>186.9</td>\n",
              "      <td>121</td>\n",
              "      <td>8.41</td>\n",
              "      <td>10.1</td>\n",
              "      <td>3</td>\n",
              "      <td>2.73</td>\n",
              "      <td>3</td>\n",
              "      <td>False</td>\n",
              "    </tr>\n",
              "  </tbody>\n",
              "</table>\n",
              "</div>"
            ],
            "text/plain": [
              "  state  account length  ...  customer service calls  churn\n",
              "0    KS             128  ...                       1  False\n",
              "1    OH             107  ...                       1  False\n",
              "2    NJ             137  ...                       0  False\n",
              "3    OH              84  ...                       2  False\n",
              "4    OK              75  ...                       3  False\n",
              "\n",
              "[5 rows x 20 columns]"
            ]
          },
          "metadata": {
            "tags": []
          },
          "execution_count": 4
        }
      ]
    },
    {
      "cell_type": "markdown",
      "metadata": {
        "id": "j4HurSGIOwnC"
      },
      "source": [
        "Посмотрим на описательную статистику, которая суммирует центральную тенденцию, дисперсию и форму распределения набора данных. Корректно ли все заполнено?"
      ]
    },
    {
      "cell_type": "code",
      "metadata": {
        "id": "fJ_tT6qrNnzX",
        "colab": {
          "base_uri": "https://localhost:8080/",
          "height": 348
        },
        "outputId": "11756065-c9de-40ab-b637-ad07a8400571"
      },
      "source": [
        ""
      ],
      "execution_count": null,
      "outputs": [
        {
          "output_type": "execute_result",
          "data": {
            "text/html": [
              "<div>\n",
              "<style scoped>\n",
              "    .dataframe tbody tr th:only-of-type {\n",
              "        vertical-align: middle;\n",
              "    }\n",
              "\n",
              "    .dataframe tbody tr th {\n",
              "        vertical-align: top;\n",
              "    }\n",
              "\n",
              "    .dataframe thead th {\n",
              "        text-align: right;\n",
              "    }\n",
              "</style>\n",
              "<table border=\"1\" class=\"dataframe\">\n",
              "  <thead>\n",
              "    <tr style=\"text-align: right;\">\n",
              "      <th></th>\n",
              "      <th>account length</th>\n",
              "      <th>area code</th>\n",
              "      <th>number vmail messages</th>\n",
              "      <th>total day minutes</th>\n",
              "      <th>total day calls</th>\n",
              "      <th>total day charge</th>\n",
              "      <th>total eve minutes</th>\n",
              "      <th>total eve calls</th>\n",
              "      <th>total eve charge</th>\n",
              "      <th>total night minutes</th>\n",
              "      <th>total night calls</th>\n",
              "      <th>total night charge</th>\n",
              "      <th>total intl minutes</th>\n",
              "      <th>total intl calls</th>\n",
              "      <th>total intl charge</th>\n",
              "      <th>customer service calls</th>\n",
              "    </tr>\n",
              "  </thead>\n",
              "  <tbody>\n",
              "    <tr>\n",
              "      <th>count</th>\n",
              "      <td>3333.000000</td>\n",
              "      <td>3333.000000</td>\n",
              "      <td>3333.000000</td>\n",
              "      <td>3333.000000</td>\n",
              "      <td>3333.000000</td>\n",
              "      <td>3333.000000</td>\n",
              "      <td>3333.000000</td>\n",
              "      <td>3333.000000</td>\n",
              "      <td>3333.000000</td>\n",
              "      <td>3333.000000</td>\n",
              "      <td>3333.000000</td>\n",
              "      <td>3333.000000</td>\n",
              "      <td>3333.000000</td>\n",
              "      <td>3333.000000</td>\n",
              "      <td>3333.000000</td>\n",
              "      <td>3333.000000</td>\n",
              "    </tr>\n",
              "    <tr>\n",
              "      <th>mean</th>\n",
              "      <td>101.064806</td>\n",
              "      <td>437.182418</td>\n",
              "      <td>8.099010</td>\n",
              "      <td>179.775098</td>\n",
              "      <td>100.435644</td>\n",
              "      <td>30.562307</td>\n",
              "      <td>200.980348</td>\n",
              "      <td>100.114311</td>\n",
              "      <td>17.083540</td>\n",
              "      <td>200.872037</td>\n",
              "      <td>100.107711</td>\n",
              "      <td>9.039325</td>\n",
              "      <td>10.237294</td>\n",
              "      <td>4.479448</td>\n",
              "      <td>2.764581</td>\n",
              "      <td>1.562856</td>\n",
              "    </tr>\n",
              "    <tr>\n",
              "      <th>std</th>\n",
              "      <td>39.822106</td>\n",
              "      <td>42.371290</td>\n",
              "      <td>13.688365</td>\n",
              "      <td>54.467389</td>\n",
              "      <td>20.069084</td>\n",
              "      <td>9.259435</td>\n",
              "      <td>50.713844</td>\n",
              "      <td>19.922625</td>\n",
              "      <td>4.310668</td>\n",
              "      <td>50.573847</td>\n",
              "      <td>19.568609</td>\n",
              "      <td>2.275873</td>\n",
              "      <td>2.791840</td>\n",
              "      <td>2.461214</td>\n",
              "      <td>0.753773</td>\n",
              "      <td>1.315491</td>\n",
              "    </tr>\n",
              "    <tr>\n",
              "      <th>min</th>\n",
              "      <td>1.000000</td>\n",
              "      <td>408.000000</td>\n",
              "      <td>0.000000</td>\n",
              "      <td>0.000000</td>\n",
              "      <td>0.000000</td>\n",
              "      <td>0.000000</td>\n",
              "      <td>0.000000</td>\n",
              "      <td>0.000000</td>\n",
              "      <td>0.000000</td>\n",
              "      <td>23.200000</td>\n",
              "      <td>33.000000</td>\n",
              "      <td>1.040000</td>\n",
              "      <td>0.000000</td>\n",
              "      <td>0.000000</td>\n",
              "      <td>0.000000</td>\n",
              "      <td>0.000000</td>\n",
              "    </tr>\n",
              "    <tr>\n",
              "      <th>25%</th>\n",
              "      <td>74.000000</td>\n",
              "      <td>408.000000</td>\n",
              "      <td>0.000000</td>\n",
              "      <td>143.700000</td>\n",
              "      <td>87.000000</td>\n",
              "      <td>24.430000</td>\n",
              "      <td>166.600000</td>\n",
              "      <td>87.000000</td>\n",
              "      <td>14.160000</td>\n",
              "      <td>167.000000</td>\n",
              "      <td>87.000000</td>\n",
              "      <td>7.520000</td>\n",
              "      <td>8.500000</td>\n",
              "      <td>3.000000</td>\n",
              "      <td>2.300000</td>\n",
              "      <td>1.000000</td>\n",
              "    </tr>\n",
              "    <tr>\n",
              "      <th>50%</th>\n",
              "      <td>101.000000</td>\n",
              "      <td>415.000000</td>\n",
              "      <td>0.000000</td>\n",
              "      <td>179.400000</td>\n",
              "      <td>101.000000</td>\n",
              "      <td>30.500000</td>\n",
              "      <td>201.400000</td>\n",
              "      <td>100.000000</td>\n",
              "      <td>17.120000</td>\n",
              "      <td>201.200000</td>\n",
              "      <td>100.000000</td>\n",
              "      <td>9.050000</td>\n",
              "      <td>10.300000</td>\n",
              "      <td>4.000000</td>\n",
              "      <td>2.780000</td>\n",
              "      <td>1.000000</td>\n",
              "    </tr>\n",
              "    <tr>\n",
              "      <th>75%</th>\n",
              "      <td>127.000000</td>\n",
              "      <td>510.000000</td>\n",
              "      <td>20.000000</td>\n",
              "      <td>216.400000</td>\n",
              "      <td>114.000000</td>\n",
              "      <td>36.790000</td>\n",
              "      <td>235.300000</td>\n",
              "      <td>114.000000</td>\n",
              "      <td>20.000000</td>\n",
              "      <td>235.300000</td>\n",
              "      <td>113.000000</td>\n",
              "      <td>10.590000</td>\n",
              "      <td>12.100000</td>\n",
              "      <td>6.000000</td>\n",
              "      <td>3.270000</td>\n",
              "      <td>2.000000</td>\n",
              "    </tr>\n",
              "    <tr>\n",
              "      <th>max</th>\n",
              "      <td>243.000000</td>\n",
              "      <td>510.000000</td>\n",
              "      <td>51.000000</td>\n",
              "      <td>350.800000</td>\n",
              "      <td>165.000000</td>\n",
              "      <td>59.640000</td>\n",
              "      <td>363.700000</td>\n",
              "      <td>170.000000</td>\n",
              "      <td>30.910000</td>\n",
              "      <td>395.000000</td>\n",
              "      <td>175.000000</td>\n",
              "      <td>17.770000</td>\n",
              "      <td>20.000000</td>\n",
              "      <td>20.000000</td>\n",
              "      <td>5.400000</td>\n",
              "      <td>9.000000</td>\n",
              "    </tr>\n",
              "  </tbody>\n",
              "</table>\n",
              "</div>"
            ],
            "text/plain": [
              "       account length    area code  ...  total intl charge  customer service calls\n",
              "count     3333.000000  3333.000000  ...        3333.000000             3333.000000\n",
              "mean       101.064806   437.182418  ...           2.764581                1.562856\n",
              "std         39.822106    42.371290  ...           0.753773                1.315491\n",
              "min          1.000000   408.000000  ...           0.000000                0.000000\n",
              "25%         74.000000   408.000000  ...           2.300000                1.000000\n",
              "50%        101.000000   415.000000  ...           2.780000                1.000000\n",
              "75%        127.000000   510.000000  ...           3.270000                2.000000\n",
              "max        243.000000   510.000000  ...           5.400000                9.000000\n",
              "\n",
              "[8 rows x 16 columns]"
            ]
          },
          "metadata": {
            "tags": []
          },
          "execution_count": 5
        }
      ]
    },
    {
      "cell_type": "markdown",
      "metadata": {
        "id": "ISnrHbhF6VgI"
      },
      "source": [
        "Исследуем на наличие пропусков"
      ]
    },
    {
      "cell_type": "code",
      "metadata": {
        "id": "9XwJF37R6YsM",
        "colab": {
          "base_uri": "https://localhost:8080/",
          "height": 485
        },
        "outputId": "5a5035d2-82e1-4015-e7fb-7a840546433b"
      },
      "source": [
        ""
      ],
      "execution_count": null,
      "outputs": [
        {
          "output_type": "stream",
          "text": [
            "<class 'pandas.core.frame.DataFrame'>\n",
            "RangeIndex: 3333 entries, 0 to 3332\n",
            "Data columns (total 20 columns):\n",
            " #   Column                  Non-Null Count  Dtype  \n",
            "---  ------                  --------------  -----  \n",
            " 0   state                   3333 non-null   object \n",
            " 1   account length          3333 non-null   int64  \n",
            " 2   area code               3333 non-null   int64  \n",
            " 3   international plan      3333 non-null   object \n",
            " 4   voice mail plan         3333 non-null   object \n",
            " 5   number vmail messages   3333 non-null   int64  \n",
            " 6   total day minutes       3333 non-null   float64\n",
            " 7   total day calls         3333 non-null   int64  \n",
            " 8   total day charge        3333 non-null   float64\n",
            " 9   total eve minutes       3333 non-null   float64\n",
            " 10  total eve calls         3333 non-null   int64  \n",
            " 11  total eve charge        3333 non-null   float64\n",
            " 12  total night minutes     3333 non-null   float64\n",
            " 13  total night calls       3333 non-null   int64  \n",
            " 14  total night charge      3333 non-null   float64\n",
            " 15  total intl minutes      3333 non-null   float64\n",
            " 16  total intl calls        3333 non-null   int64  \n",
            " 17  total intl charge       3333 non-null   float64\n",
            " 18  customer service calls  3333 non-null   int64  \n",
            " 19  churn                   3333 non-null   bool   \n",
            "dtypes: bool(1), float64(8), int64(8), object(3)\n",
            "memory usage: 498.1+ KB\n"
          ],
          "name": "stdout"
        }
      ]
    },
    {
      "cell_type": "markdown",
      "metadata": {
        "id": "T_ehN03yPA2I"
      },
      "source": [
        "Посмотрим на типы данных наших столбцов:"
      ]
    },
    {
      "cell_type": "code",
      "metadata": {
        "id": "eMDxN9dcOu1R",
        "colab": {
          "base_uri": "https://localhost:8080/",
          "height": 381
        },
        "outputId": "c0b75eea-6a5b-47af-b89c-4e611f2eef73"
      },
      "source": [
        ""
      ],
      "execution_count": null,
      "outputs": [
        {
          "output_type": "execute_result",
          "data": {
            "text/plain": [
              "state                      object\n",
              "account length              int64\n",
              "area code                   int64\n",
              "international plan         object\n",
              "voice mail plan            object\n",
              "number vmail messages       int64\n",
              "total day minutes         float64\n",
              "total day calls             int64\n",
              "total day charge          float64\n",
              "total eve minutes         float64\n",
              "total eve calls             int64\n",
              "total eve charge          float64\n",
              "total night minutes       float64\n",
              "total night calls           int64\n",
              "total night charge        float64\n",
              "total intl minutes        float64\n",
              "total intl calls            int64\n",
              "total intl charge         float64\n",
              "customer service calls      int64\n",
              "churn                        bool\n",
              "dtype: object"
            ]
          },
          "metadata": {
            "tags": []
          },
          "execution_count": 6
        }
      ]
    },
    {
      "cell_type": "markdown",
      "metadata": {
        "id": "kR0_MssXPPz2"
      },
      "source": [
        "Посмотрим как сбалансированны наши классы, можно распечатать или отобразить на грфике. Если не помните почему надо балансировать классы - [тык](https://www.coursera.org/lecture/supervised-learning/niesbalansirovannyie-dannyie-M97UX)\n",
        "\n",
        "Можно увидеть, что данные несбалансированны.\n"
      ]
    },
    {
      "cell_type": "code",
      "metadata": {
        "id": "udw2u9M0PlhQ",
        "colab": {
          "base_uri": "https://localhost:8080/",
          "height": 334
        },
        "outputId": "72e2240e-8169-470d-cb7a-7d434b8ca7dd"
      },
      "source": [
        ""
      ],
      "execution_count": null,
      "outputs": [
        {
          "output_type": "stream",
          "text": [
            "False    2850\n",
            "True      483\n",
            "Name: churn, dtype: int64\n",
            "Процент данных показывающих целевую группу \"отток\" 0.14\n"
          ],
          "name": "stdout"
        },
        {
          "output_type": "display_data",
          "data": {
            "image/png": "[encoded data removed]",
            "text/plain": [
              "<Figure size 432x288 with 1 Axes>"
            ]
          },
          "metadata": {
            "tags": [],
            "needs_background": "light"
          }
        }
      ]
    },
    {
      "cell_type": "markdown",
      "metadata": {
        "id": "4Id4rTSKVk5S"
      },
      "source": [
        "#### Работа с категориальными признаками"
      ]
    },
    {
      "cell_type": "markdown",
      "metadata": {
        "id": "4ZCHmMXqQQ12"
      },
      "source": [
        "Если вы не понимаете логику за работой с котегориальными признаками - посмотрите [сюда](https://www.coursera.org/lecture/supervised-learning/rabota-s-katieghorial-nymi-priznakami-pqU2j), если же не знаете как это сделать в коде - [сюда](https://colab.research.google.com/drive/17UJ3zkE6dUL5UpQnLiaQp3f7BpV6iEss#scrollTo=_238K7-NQajf), пункт про категориальные признаки.\n",
        "\n",
        "Посмотрим на те колонки, в которых тип данных object (строка) и перекодируем их, воспользуемся кодом с занятия."
      ]
    },
    {
      "cell_type": "code",
      "metadata": {
        "id": "likInih_Pljn",
        "colab": {
          "base_uri": "https://localhost:8080/",
          "height": 236
        },
        "outputId": "d80c7c9c-4bbc-4f0a-db5f-d20a981fa72c"
      },
      "source": [
        "\n",
        "encoded_data.head() "
      ],
      "execution_count": null,
      "outputs": [
        {
          "output_type": "execute_result",
          "data": {
            "text/html": [
              "<div>\n",
              "<style scoped>\n",
              "    .dataframe tbody tr th:only-of-type {\n",
              "        vertical-align: middle;\n",
              "    }\n",
              "\n",
              "    .dataframe tbody tr th {\n",
              "        vertical-align: top;\n",
              "    }\n",
              "\n",
              "    .dataframe thead th {\n",
              "        text-align: right;\n",
              "    }\n",
              "</style>\n",
              "<table border=\"1\" class=\"dataframe\">\n",
              "  <thead>\n",
              "    <tr style=\"text-align: right;\">\n",
              "      <th></th>\n",
              "      <th>state</th>\n",
              "      <th>account length</th>\n",
              "      <th>area code</th>\n",
              "      <th>international plan</th>\n",
              "      <th>voice mail plan</th>\n",
              "      <th>number vmail messages</th>\n",
              "      <th>total day minutes</th>\n",
              "      <th>total day calls</th>\n",
              "      <th>total day charge</th>\n",
              "      <th>total eve minutes</th>\n",
              "      <th>total eve calls</th>\n",
              "      <th>total eve charge</th>\n",
              "      <th>total night minutes</th>\n",
              "      <th>total night calls</th>\n",
              "      <th>total night charge</th>\n",
              "      <th>total intl minutes</th>\n",
              "      <th>total intl calls</th>\n",
              "      <th>total intl charge</th>\n",
              "      <th>customer service calls</th>\n",
              "      <th>churn</th>\n",
              "    </tr>\n",
              "  </thead>\n",
              "  <tbody>\n",
              "    <tr>\n",
              "      <th>0</th>\n",
              "      <td>16</td>\n",
              "      <td>128</td>\n",
              "      <td>415</td>\n",
              "      <td>0</td>\n",
              "      <td>1</td>\n",
              "      <td>25</td>\n",
              "      <td>265.1</td>\n",
              "      <td>110</td>\n",
              "      <td>45.07</td>\n",
              "      <td>197.4</td>\n",
              "      <td>99</td>\n",
              "      <td>16.78</td>\n",
              "      <td>244.7</td>\n",
              "      <td>91</td>\n",
              "      <td>11.01</td>\n",
              "      <td>10.0</td>\n",
              "      <td>3</td>\n",
              "      <td>2.70</td>\n",
              "      <td>1</td>\n",
              "      <td>False</td>\n",
              "    </tr>\n",
              "    <tr>\n",
              "      <th>1</th>\n",
              "      <td>35</td>\n",
              "      <td>107</td>\n",
              "      <td>415</td>\n",
              "      <td>0</td>\n",
              "      <td>1</td>\n",
              "      <td>26</td>\n",
              "      <td>161.6</td>\n",
              "      <td>123</td>\n",
              "      <td>27.47</td>\n",
              "      <td>195.5</td>\n",
              "      <td>103</td>\n",
              "      <td>16.62</td>\n",
              "      <td>254.4</td>\n",
              "      <td>103</td>\n",
              "      <td>11.45</td>\n",
              "      <td>13.7</td>\n",
              "      <td>3</td>\n",
              "      <td>3.70</td>\n",
              "      <td>1</td>\n",
              "      <td>False</td>\n",
              "    </tr>\n",
              "    <tr>\n",
              "      <th>2</th>\n",
              "      <td>31</td>\n",
              "      <td>137</td>\n",
              "      <td>415</td>\n",
              "      <td>0</td>\n",
              "      <td>0</td>\n",
              "      <td>0</td>\n",
              "      <td>243.4</td>\n",
              "      <td>114</td>\n",
              "      <td>41.38</td>\n",
              "      <td>121.2</td>\n",
              "      <td>110</td>\n",
              "      <td>10.30</td>\n",
              "      <td>162.6</td>\n",
              "      <td>104</td>\n",
              "      <td>7.32</td>\n",
              "      <td>12.2</td>\n",
              "      <td>5</td>\n",
              "      <td>3.29</td>\n",
              "      <td>0</td>\n",
              "      <td>False</td>\n",
              "    </tr>\n",
              "    <tr>\n",
              "      <th>3</th>\n",
              "      <td>35</td>\n",
              "      <td>84</td>\n",
              "      <td>408</td>\n",
              "      <td>1</td>\n",
              "      <td>0</td>\n",
              "      <td>0</td>\n",
              "      <td>299.4</td>\n",
              "      <td>71</td>\n",
              "      <td>50.90</td>\n",
              "      <td>61.9</td>\n",
              "      <td>88</td>\n",
              "      <td>5.26</td>\n",
              "      <td>196.9</td>\n",
              "      <td>89</td>\n",
              "      <td>8.86</td>\n",
              "      <td>6.6</td>\n",
              "      <td>7</td>\n",
              "      <td>1.78</td>\n",
              "      <td>2</td>\n",
              "      <td>False</td>\n",
              "    </tr>\n",
              "    <tr>\n",
              "      <th>4</th>\n",
              "      <td>36</td>\n",
              "      <td>75</td>\n",
              "      <td>415</td>\n",
              "      <td>1</td>\n",
              "      <td>0</td>\n",
              "      <td>0</td>\n",
              "      <td>166.7</td>\n",
              "      <td>113</td>\n",
              "      <td>28.34</td>\n",
              "      <td>148.3</td>\n",
              "      <td>122</td>\n",
              "      <td>12.61</td>\n",
              "      <td>186.9</td>\n",
              "      <td>121</td>\n",
              "      <td>8.41</td>\n",
              "      <td>10.1</td>\n",
              "      <td>3</td>\n",
              "      <td>2.73</td>\n",
              "      <td>3</td>\n",
              "      <td>False</td>\n",
              "    </tr>\n",
              "  </tbody>\n",
              "</table>\n",
              "</div>"
            ],
            "text/plain": [
              "   state  account length  ...  customer service calls  churn\n",
              "0     16             128  ...                       1  False\n",
              "1     35             107  ...                       1  False\n",
              "2     31             137  ...                       0  False\n",
              "3     35              84  ...                       2  False\n",
              "4     36              75  ...                       3  False\n",
              "\n",
              "[5 rows x 20 columns]"
            ]
          },
          "metadata": {
            "tags": []
          },
          "execution_count": 34
        }
      ]
    },
    {
      "cell_type": "markdown",
      "metadata": {
        "id": "y9Z644nIVR8j"
      },
      "source": [
        "Отобразим сами энкодеры"
      ]
    },
    {
      "cell_type": "code",
      "metadata": {
        "id": "DyAu4xKAVWk5",
        "colab": {
          "base_uri": "https://localhost:8080/",
          "height": 69
        },
        "outputId": "1e4094f4-9088-4a20-db56-0726566751fa"
      },
      "source": [
        ""
      ],
      "execution_count": null,
      "outputs": [
        {
          "output_type": "execute_result",
          "data": {
            "text/plain": [
              "{'international plan': LabelEncoder(),\n",
              " 'state': LabelEncoder(),\n",
              " 'voice mail plan': LabelEncoder()}"
            ]
          },
          "metadata": {
            "tags": []
          },
          "execution_count": 35
        }
      ]
    },
    {
      "cell_type": "markdown",
      "metadata": {
        "id": "I6McUFcR8r8u"
      },
      "source": [
        "Выделим целевую переменную в бинарный формат (в отдельную переменную)"
      ]
    },
    {
      "cell_type": "code",
      "metadata": {
        "id": "HL0fbA4c8rax",
        "colab": {
          "base_uri": "https://localhost:8080/",
          "height": 34
        },
        "outputId": "633739f8-a3b8-417d-aa50-4552c35c20c3"
      },
      "source": [
        "\n",
        "y"
      ],
      "execution_count": null,
      "outputs": [
        {
          "output_type": "execute_result",
          "data": {
            "text/plain": [
              "array([0, 0, 0, ..., 0, 0, 0])"
            ]
          },
          "metadata": {
            "tags": []
          },
          "execution_count": 37
        }
      ]
    },
    {
      "cell_type": "markdown",
      "metadata": {
        "id": "kCwHJLj3V28A"
      },
      "source": [
        "Выделим целевую переменную в бинарный формат и выкинем ее из обучающей выборки."
      ]
    },
    {
      "cell_type": "code",
      "metadata": {
        "id": "CruJ9-HSV1c5",
        "colab": {
          "base_uri": "https://localhost:8080/",
          "height": 288
        },
        "outputId": "d90a5dc5-ff42-4004-bde9-c9d5e4748b90"
      },
      "source": [
        ""
      ],
      "execution_count": null,
      "outputs": [
        {
          "output_type": "stream",
          "text": [
            "Ответы\n",
            " [0 0 0 ... 0 0 0]\n",
            "Обучающая выборка\n"
          ],
          "name": "stdout"
        },
        {
          "output_type": "execute_result",
          "data": {
            "text/html": [
              "<div>\n",
              "<style scoped>\n",
              "    .dataframe tbody tr th:only-of-type {\n",
              "        vertical-align: middle;\n",
              "    }\n",
              "\n",
              "    .dataframe tbody tr th {\n",
              "        vertical-align: top;\n",
              "    }\n",
              "\n",
              "    .dataframe thead th {\n",
              "        text-align: right;\n",
              "    }\n",
              "</style>\n",
              "<table border=\"1\" class=\"dataframe\">\n",
              "  <thead>\n",
              "    <tr style=\"text-align: right;\">\n",
              "      <th></th>\n",
              "      <th>state</th>\n",
              "      <th>account length</th>\n",
              "      <th>area code</th>\n",
              "      <th>international plan</th>\n",
              "      <th>voice mail plan</th>\n",
              "      <th>number vmail messages</th>\n",
              "      <th>total day minutes</th>\n",
              "      <th>total day calls</th>\n",
              "      <th>total day charge</th>\n",
              "      <th>total eve minutes</th>\n",
              "      <th>total eve calls</th>\n",
              "      <th>total eve charge</th>\n",
              "      <th>total night minutes</th>\n",
              "      <th>total night calls</th>\n",
              "      <th>total night charge</th>\n",
              "      <th>total intl minutes</th>\n",
              "      <th>total intl calls</th>\n",
              "      <th>total intl charge</th>\n",
              "      <th>customer service calls</th>\n",
              "    </tr>\n",
              "  </thead>\n",
              "  <tbody>\n",
              "    <tr>\n",
              "      <th>0</th>\n",
              "      <td>16</td>\n",
              "      <td>128</td>\n",
              "      <td>415</td>\n",
              "      <td>0</td>\n",
              "      <td>1</td>\n",
              "      <td>25</td>\n",
              "      <td>265.1</td>\n",
              "      <td>110</td>\n",
              "      <td>45.07</td>\n",
              "      <td>197.4</td>\n",
              "      <td>99</td>\n",
              "      <td>16.78</td>\n",
              "      <td>244.7</td>\n",
              "      <td>91</td>\n",
              "      <td>11.01</td>\n",
              "      <td>10.0</td>\n",
              "      <td>3</td>\n",
              "      <td>2.70</td>\n",
              "      <td>1</td>\n",
              "    </tr>\n",
              "    <tr>\n",
              "      <th>1</th>\n",
              "      <td>35</td>\n",
              "      <td>107</td>\n",
              "      <td>415</td>\n",
              "      <td>0</td>\n",
              "      <td>1</td>\n",
              "      <td>26</td>\n",
              "      <td>161.6</td>\n",
              "      <td>123</td>\n",
              "      <td>27.47</td>\n",
              "      <td>195.5</td>\n",
              "      <td>103</td>\n",
              "      <td>16.62</td>\n",
              "      <td>254.4</td>\n",
              "      <td>103</td>\n",
              "      <td>11.45</td>\n",
              "      <td>13.7</td>\n",
              "      <td>3</td>\n",
              "      <td>3.70</td>\n",
              "      <td>1</td>\n",
              "    </tr>\n",
              "    <tr>\n",
              "      <th>2</th>\n",
              "      <td>31</td>\n",
              "      <td>137</td>\n",
              "      <td>415</td>\n",
              "      <td>0</td>\n",
              "      <td>0</td>\n",
              "      <td>0</td>\n",
              "      <td>243.4</td>\n",
              "      <td>114</td>\n",
              "      <td>41.38</td>\n",
              "      <td>121.2</td>\n",
              "      <td>110</td>\n",
              "      <td>10.30</td>\n",
              "      <td>162.6</td>\n",
              "      <td>104</td>\n",
              "      <td>7.32</td>\n",
              "      <td>12.2</td>\n",
              "      <td>5</td>\n",
              "      <td>3.29</td>\n",
              "      <td>0</td>\n",
              "    </tr>\n",
              "    <tr>\n",
              "      <th>3</th>\n",
              "      <td>35</td>\n",
              "      <td>84</td>\n",
              "      <td>408</td>\n",
              "      <td>1</td>\n",
              "      <td>0</td>\n",
              "      <td>0</td>\n",
              "      <td>299.4</td>\n",
              "      <td>71</td>\n",
              "      <td>50.90</td>\n",
              "      <td>61.9</td>\n",
              "      <td>88</td>\n",
              "      <td>5.26</td>\n",
              "      <td>196.9</td>\n",
              "      <td>89</td>\n",
              "      <td>8.86</td>\n",
              "      <td>6.6</td>\n",
              "      <td>7</td>\n",
              "      <td>1.78</td>\n",
              "      <td>2</td>\n",
              "    </tr>\n",
              "    <tr>\n",
              "      <th>4</th>\n",
              "      <td>36</td>\n",
              "      <td>75</td>\n",
              "      <td>415</td>\n",
              "      <td>1</td>\n",
              "      <td>0</td>\n",
              "      <td>0</td>\n",
              "      <td>166.7</td>\n",
              "      <td>113</td>\n",
              "      <td>28.34</td>\n",
              "      <td>148.3</td>\n",
              "      <td>122</td>\n",
              "      <td>12.61</td>\n",
              "      <td>186.9</td>\n",
              "      <td>121</td>\n",
              "      <td>8.41</td>\n",
              "      <td>10.1</td>\n",
              "      <td>3</td>\n",
              "      <td>2.73</td>\n",
              "      <td>3</td>\n",
              "    </tr>\n",
              "  </tbody>\n",
              "</table>\n",
              "</div>"
            ],
            "text/plain": [
              "   state  account length  ...  total intl charge  customer service calls\n",
              "0     16             128  ...               2.70                       1\n",
              "1     35             107  ...               3.70                       1\n",
              "2     31             137  ...               3.29                       0\n",
              "3     35              84  ...               1.78                       2\n",
              "4     36              75  ...               2.73                       3\n",
              "\n",
              "[5 rows x 19 columns]"
            ]
          },
          "metadata": {
            "tags": []
          },
          "execution_count": 38
        }
      ]
    },
    {
      "cell_type": "markdown",
      "metadata": {
        "id": "RXTrWXnzZBTm"
      },
      "source": [
        "Посмотрим на распределение величин по признакам в наших данных"
      ]
    },
    {
      "cell_type": "code",
      "metadata": {
        "id": "ITo8_PqAPFOf",
        "colab": {
          "base_uri": "https://localhost:8080/",
          "height": 863
        },
        "outputId": "4d1948e3-5ecd-4811-b24d-5200959a542f"
      },
      "source": [
        ""
      ],
      "execution_count": null,
      "outputs": [
        {
          "output_type": "execute_result",
          "data": {
            "text/plain": [
              "array([[<matplotlib.axes._subplots.AxesSubplot object at 0x7f9a37958f28>,\n",
              "        <matplotlib.axes._subplots.AxesSubplot object at 0x7f9a378dd2b0>,\n",
              "        <matplotlib.axes._subplots.AxesSubplot object at 0x7f9a37b309b0>,\n",
              "        <matplotlib.axes._subplots.AxesSubplot object at 0x7f9a3c1be198>],\n",
              "       [<matplotlib.axes._subplots.AxesSubplot object at 0x7f9a3bc05780>,\n",
              "        <matplotlib.axes._subplots.AxesSubplot object at 0x7f9a3d1734e0>,\n",
              "        <matplotlib.axes._subplots.AxesSubplot object at 0x7f9a37f9a860>,\n",
              "        <matplotlib.axes._subplots.AxesSubplot object at 0x7f9a3bb40ef0>],\n",
              "       [<matplotlib.axes._subplots.AxesSubplot object at 0x7f9a3bb40da0>,\n",
              "        <matplotlib.axes._subplots.AxesSubplot object at 0x7f9a378feeb8>,\n",
              "        <matplotlib.axes._subplots.AxesSubplot object at 0x7f9a37aaa160>,\n",
              "        <matplotlib.axes._subplots.AxesSubplot object at 0x7f9a37ad73c8>],\n",
              "       [<matplotlib.axes._subplots.AxesSubplot object at 0x7f9a379af630>,\n",
              "        <matplotlib.axes._subplots.AxesSubplot object at 0x7f9a37a52898>,\n",
              "        <matplotlib.axes._subplots.AxesSubplot object at 0x7f9a37a0ab00>,\n",
              "        <matplotlib.axes._subplots.AxesSubplot object at 0x7f9a35d01d68>],\n",
              "       [<matplotlib.axes._subplots.AxesSubplot object at 0x7f9a35cb7fd0>,\n",
              "        <matplotlib.axes._subplots.AxesSubplot object at 0x7f9a35c78278>,\n",
              "        <matplotlib.axes._subplots.AxesSubplot object at 0x7f9a35caa4e0>,\n",
              "        <matplotlib.axes._subplots.AxesSubplot object at 0x7f9a35c5d748>]],\n",
              "      dtype=object)"
            ]
          },
          "metadata": {
            "tags": []
          },
          "execution_count": 39
        },
        {
          "output_type": "display_data",
          "data": {
            "image/png": "[encoded data removed]",
            "text/plain": [
              "<Figure size 1296x576 with 20 Axes>"
            ]
          },
          "metadata": {
            "tags": [],
            "needs_background": "light"
          }
        }
      ]
    },
    {
      "cell_type": "markdown",
      "metadata": {
        "id": "24PuLGTDaAa0"
      },
      "source": [
        "Построим матрицу корреляций, выбросим данные с единичной линейной зависимостью - они (шум) просто повысят вычислительную сложность."
      ]
    },
    {
      "cell_type": "code",
      "metadata": {
        "id": "5qP5phgrZ_3L",
        "colab": {
          "base_uri": "https://localhost:8080/",
          "height": 660
        },
        "outputId": "7ed2f893-151c-4965-b012-04cf6dd256fe"
      },
      "source": [
        ""
      ],
      "execution_count": null,
      "outputs": [
        {
          "output_type": "display_data",
          "data": {
            "image/png": "[encoded data removed]",
            "text/plain": [
              "<Figure size 720x720 with 2 Axes>"
            ]
          },
          "metadata": {
            "tags": [],
            "needs_background": "light"
          }
        }
      ]
    },
    {
      "cell_type": "code",
      "metadata": {
        "id": "D26zNoYqaadS",
        "colab": {
          "base_uri": "https://localhost:8080/",
          "height": 259
        },
        "outputId": "d9101a00-ddc3-4b93-a177-22dd0e66e1d1"
      },
      "source": [
        ""
      ],
      "execution_count": null,
      "outputs": [
        {
          "output_type": "execute_result",
          "data": {
            "text/html": [
              "<div>\n",
              "<style scoped>\n",
              "    .dataframe tbody tr th:only-of-type {\n",
              "        vertical-align: middle;\n",
              "    }\n",
              "\n",
              "    .dataframe tbody tr th {\n",
              "        vertical-align: top;\n",
              "    }\n",
              "\n",
              "    .dataframe thead th {\n",
              "        text-align: right;\n",
              "    }\n",
              "</style>\n",
              "<table border=\"1\" class=\"dataframe\">\n",
              "  <thead>\n",
              "    <tr style=\"text-align: right;\">\n",
              "      <th></th>\n",
              "      <th>state</th>\n",
              "      <th>account length</th>\n",
              "      <th>area code</th>\n",
              "      <th>international plan</th>\n",
              "      <th>voice mail plan</th>\n",
              "      <th>number vmail messages</th>\n",
              "      <th>total day minutes</th>\n",
              "      <th>total day calls</th>\n",
              "      <th>total eve minutes</th>\n",
              "      <th>total eve calls</th>\n",
              "      <th>total night minutes</th>\n",
              "      <th>total night calls</th>\n",
              "      <th>total intl minutes</th>\n",
              "      <th>total intl calls</th>\n",
              "      <th>customer service calls</th>\n",
              "    </tr>\n",
              "  </thead>\n",
              "  <tbody>\n",
              "    <tr>\n",
              "      <th>0</th>\n",
              "      <td>16</td>\n",
              "      <td>128</td>\n",
              "      <td>415</td>\n",
              "      <td>0</td>\n",
              "      <td>1</td>\n",
              "      <td>25</td>\n",
              "      <td>265.1</td>\n",
              "      <td>110</td>\n",
              "      <td>197.4</td>\n",
              "      <td>99</td>\n",
              "      <td>244.7</td>\n",
              "      <td>91</td>\n",
              "      <td>10.0</td>\n",
              "      <td>3</td>\n",
              "      <td>1</td>\n",
              "    </tr>\n",
              "    <tr>\n",
              "      <th>1</th>\n",
              "      <td>35</td>\n",
              "      <td>107</td>\n",
              "      <td>415</td>\n",
              "      <td>0</td>\n",
              "      <td>1</td>\n",
              "      <td>26</td>\n",
              "      <td>161.6</td>\n",
              "      <td>123</td>\n",
              "      <td>195.5</td>\n",
              "      <td>103</td>\n",
              "      <td>254.4</td>\n",
              "      <td>103</td>\n",
              "      <td>13.7</td>\n",
              "      <td>3</td>\n",
              "      <td>1</td>\n",
              "    </tr>\n",
              "    <tr>\n",
              "      <th>2</th>\n",
              "      <td>31</td>\n",
              "      <td>137</td>\n",
              "      <td>415</td>\n",
              "      <td>0</td>\n",
              "      <td>0</td>\n",
              "      <td>0</td>\n",
              "      <td>243.4</td>\n",
              "      <td>114</td>\n",
              "      <td>121.2</td>\n",
              "      <td>110</td>\n",
              "      <td>162.6</td>\n",
              "      <td>104</td>\n",
              "      <td>12.2</td>\n",
              "      <td>5</td>\n",
              "      <td>0</td>\n",
              "    </tr>\n",
              "    <tr>\n",
              "      <th>3</th>\n",
              "      <td>35</td>\n",
              "      <td>84</td>\n",
              "      <td>408</td>\n",
              "      <td>1</td>\n",
              "      <td>0</td>\n",
              "      <td>0</td>\n",
              "      <td>299.4</td>\n",
              "      <td>71</td>\n",
              "      <td>61.9</td>\n",
              "      <td>88</td>\n",
              "      <td>196.9</td>\n",
              "      <td>89</td>\n",
              "      <td>6.6</td>\n",
              "      <td>7</td>\n",
              "      <td>2</td>\n",
              "    </tr>\n",
              "    <tr>\n",
              "      <th>4</th>\n",
              "      <td>36</td>\n",
              "      <td>75</td>\n",
              "      <td>415</td>\n",
              "      <td>1</td>\n",
              "      <td>0</td>\n",
              "      <td>0</td>\n",
              "      <td>166.7</td>\n",
              "      <td>113</td>\n",
              "      <td>148.3</td>\n",
              "      <td>122</td>\n",
              "      <td>186.9</td>\n",
              "      <td>121</td>\n",
              "      <td>10.1</td>\n",
              "      <td>3</td>\n",
              "      <td>3</td>\n",
              "    </tr>\n",
              "  </tbody>\n",
              "</table>\n",
              "</div>"
            ],
            "text/plain": [
              "   state  account length  ...  total intl calls  customer service calls\n",
              "0     16             128  ...                 3                       1\n",
              "1     35             107  ...                 3                       1\n",
              "2     31             137  ...                 5                       0\n",
              "3     35              84  ...                 7                       2\n",
              "4     36              75  ...                 3                       3\n",
              "\n",
              "[5 rows x 15 columns]"
            ]
          },
          "metadata": {
            "tags": []
          },
          "execution_count": 18
        }
      ]
    },
    {
      "cell_type": "markdown",
      "metadata": {
        "id": "tYMj4euycFgc"
      },
      "source": [
        "## Работа с данными"
      ]
    },
    {
      "cell_type": "markdown",
      "metadata": {
        "id": "66uOoy0NZL7V"
      },
      "source": [
        "Создадим обучающую выборку Х, переведем получанные цифровые данные в np.array"
      ]
    },
    {
      "cell_type": "code",
      "metadata": {
        "id": "XxqEThbKPcuu",
        "colab": {
          "base_uri": "https://localhost:8080/",
          "height": 138
        },
        "outputId": "0500f7a1-1797-4148-a280-3142473bd736"
      },
      "source": [
        ""
      ],
      "execution_count": null,
      "outputs": [
        {
          "output_type": "execute_result",
          "data": {
            "text/plain": [
              "array([[ 16.  , 128.  , 415.  , ...,   3.  ,   2.7 ,   1.  ],\n",
              "       [ 35.  , 107.  , 415.  , ...,   3.  ,   3.7 ,   1.  ],\n",
              "       [ 31.  , 137.  , 415.  , ...,   5.  ,   3.29,   0.  ],\n",
              "       ...,\n",
              "       [ 39.  ,  28.  , 510.  , ...,   6.  ,   3.81,   2.  ],\n",
              "       [  6.  , 184.  , 510.  , ...,  10.  ,   1.35,   2.  ],\n",
              "       [ 42.  ,  74.  , 415.  , ...,   4.  ,   3.7 ,   0.  ]])"
            ]
          },
          "metadata": {
            "tags": []
          },
          "execution_count": 41
        }
      ]
    },
    {
      "cell_type": "markdown",
      "metadata": {
        "id": "smawbeJEZftc"
      },
      "source": [
        "Нормализуем наши данные. Если не помните зачем это делать? [тык](https://www.coursera.org/lecture/supervised-learning/masshtabirovaniie-priznakov-ozNT3)"
      ]
    },
    {
      "cell_type": "code",
      "metadata": {
        "id": "8Gstc1AeZaER",
        "colab": {
          "base_uri": "https://localhost:8080/",
          "height": 242
        },
        "outputId": "c1bf38ff-fbc1-45e9-e606-46fa8fb9d2dd"
      },
      "source": [
        ""
      ],
      "execution_count": null,
      "outputs": [
        {
          "output_type": "execute_result",
          "data": {
            "text/plain": [
              "array([[-0.6786493 ,  0.67648946, -0.52360328, ..., -0.60119509,\n",
              "        -0.0856905 , -0.42793202],\n",
              "       [ 0.6031696 ,  0.14906505, -0.52360328, ..., -0.60119509,\n",
              "         1.2411686 , -0.42793202],\n",
              "       [ 0.33331299,  0.9025285 , -0.52360328, ...,  0.21153386,\n",
              "         0.69715637, -1.1882185 ],\n",
              "       ...,\n",
              "       [ 0.87302621, -1.83505538,  1.71881732, ...,  0.61789834,\n",
              "         1.3871231 ,  0.33235445],\n",
              "       [-1.35329082,  2.08295458,  1.71881732, ...,  2.24335625,\n",
              "        -1.87695028,  0.33235445],\n",
              "       [ 1.07541867, -0.67974475, -0.52360328, ..., -0.19483061,\n",
              "         1.2411686 , -1.1882185 ]])"
            ]
          },
          "metadata": {
            "tags": []
          },
          "execution_count": 42
        }
      ]
    },
    {
      "cell_type": "markdown",
      "metadata": {
        "id": "eoD3dH39emcu"
      },
      "source": [
        "Надо помнить, что наша выборка несбралансирована, так что надо будет провести ее балансировку, в ходе занятия было показано, что будет (у precision 0.18), если ее не проводить:\n",
        "\n",
        "Найдем по y индексы клиентов, которые относятся к классу \"не ушили\"\n",
        "и, перемешав выборку, обрежем ее до размеров \"ушедших\". Т.к. это на занятии не разбиралось - код прилагается.\n",
        "\n",
        "Альтернативой выбрасыванию ценных данных - модифицировать шаг градиентного спуска для класса с несбалансированными данными.\n",
        "\n",
        "Большинство алгоритмов sklearn имеют аргумент class_weight, который принимает на вход частоты каждого распознаваемого класса или считает их вытоматически, если указано 'balanced'\n",
        "\n",
        "Пример из алгоримта SVM:\n",
        "\n",
        "class_weight dict or ‘balanced’, default=None\n",
        "\n",
        "Set the parameter C of class i to class_weight[i]*C for SVC. If not given, all classes are supposed to have weight one. The “balanced” mode uses the values of y to automatically adjust weights inversely proportional to class frequencies in the input data as n_samples / (n_classes * np.bincount(y))"
      ]
    },
    {
      "cell_type": "markdown",
      "metadata": {
        "id": "SdY39BgtBPaq"
      },
      "source": [
        "Использовать модифицированный шаг градиентного спуска предпочтительнее, если алгоритм поддерживает его (в большинстве случаев так и есть). В качестве примера возможного варинта балансировки - убрать лишние данные. Ниже представлен код, который находит индексы в зависимости от метки класса и выбрасывает лишние."
      ]
    },
    {
      "cell_type": "code",
      "metadata": {
        "id": "CwhnZeETetA7",
        "colab": {
          "base_uri": "https://localhost:8080/",
          "height": 51
        },
        "outputId": "512471a2-7bd9-4be3-b89c-34eee087472a"
      },
      "source": [
        "# np.argwhere вернет индексы тех элементов массива y (целевой переменной), где значение 0\n",
        "not_churn_ids = np.argwhere(y == 0).flatten()\n",
        "print('Всего не ушедших', len(not_churn_ids))\n",
        "not_churn_ids"
      ],
      "execution_count": null,
      "outputs": [
        {
          "output_type": "stream",
          "text": [
            "Всего не ушедших 2850\n"
          ],
          "name": "stdout"
        },
        {
          "output_type": "execute_result",
          "data": {
            "text/plain": [
              "array([   0,    1,    2, ..., 3330, 3331, 3332])"
            ]
          },
          "metadata": {
            "tags": []
          },
          "execution_count": 43
        }
      ]
    },
    {
      "cell_type": "markdown",
      "metadata": {
        "id": "VIMv8J_Qgyv5"
      },
      "source": [
        "Перемешаем массив с выбранным random state (чтоб в дальнейшем у нас совпадали выборки) выберем в нем \"лишние\" id тех, кто остались (кто портит нам прогноз алгоритма). Кол-во \"лишних\" = кол-во оставшихся - кол-во ушедшых."
      ]
    },
    {
      "cell_type": "code",
      "metadata": {
        "id": "TxuSyyoWgqPx",
        "colab": {
          "base_uri": "https://localhost:8080/",
          "height": 51
        },
        "outputId": "56875a5f-2feb-4cf4-c779-e16e1cc2f957"
      },
      "source": [
        "from sklearn.utils import shuffle\n",
        "\n",
        "not_churn_ids = shuffle(not_churn_ids, random_state = 42)\n",
        "# найдем \"лишних\", для этого обрежем найденные id на кол-во ушедших (внутри len)\n",
        "not_churn_ids = not_churn_ids[len(np.argwhere(y == 1).flatten()):]\n",
        "print(len(not_churn_ids))\n",
        "# отображаем кол-во и сами id, которые мы должны выкинуть\n",
        "not_churn_ids"
      ],
      "execution_count": null,
      "outputs": [
        {
          "output_type": "stream",
          "text": [
            "2367\n"
          ],
          "name": "stdout"
        },
        {
          "output_type": "execute_result",
          "data": {
            "text/plain": [
              "array([ 877, 3298,  614, ..., 1291, 1482,  989])"
            ]
          },
          "metadata": {
            "tags": []
          },
          "execution_count": 44
        }
      ]
    },
    {
      "cell_type": "markdown",
      "metadata": {
        "id": "Q2kX34VqjZdL"
      },
      "source": [
        "Проверим, сбалансированны ли классы\n",
        "\n",
        "по идее (оставшиеся) - (\"лишние\") = (ушедшие)"
      ]
    },
    {
      "cell_type": "code",
      "metadata": {
        "id": "r-6VUu19jX-Q",
        "colab": {
          "base_uri": "https://localhost:8080/",
          "height": 34
        },
        "outputId": "d77b2c42-8d1f-4ab3-9a1c-ea7a6dffa548"
      },
      "source": [
        "len(np.argwhere(y == 0).flatten()) - len(not_churn_ids) == len(np.argwhere(y == 1).flatten())"
      ],
      "execution_count": null,
      "outputs": [
        {
          "output_type": "execute_result",
          "data": {
            "text/plain": [
              "True"
            ]
          },
          "metadata": {
            "tags": []
          },
          "execution_count": 45
        }
      ]
    },
    {
      "cell_type": "markdown",
      "metadata": {
        "id": "4z4g4BASkFfw"
      },
      "source": [
        "Теперь можно выкинуть \"лишние\" id из X и y"
      ]
    },
    {
      "cell_type": "code",
      "metadata": {
        "id": "kHGBQfETkLJV"
      },
      "source": [
        "# np.delete принимает массив, индексы, которые выбросить и по какой оси выкидывать\n",
        "X = np.delete(X, not_churn_ids, 0)\n",
        "y = np.delete(y, not_churn_ids, 0)"
      ],
      "execution_count": null,
      "outputs": []
    },
    {
      "cell_type": "code",
      "metadata": {
        "id": "SJgJGHeKk1s2",
        "colab": {
          "base_uri": "https://localhost:8080/",
          "height": 34
        },
        "outputId": "e7751432-b658-47a9-fc69-7e8d9bb85b5b"
      },
      "source": [
        "# отобразим итоговый размер признаков датасета\n",
        "X.shape, y.shape"
      ],
      "execution_count": null,
      "outputs": [
        {
          "output_type": "execute_result",
          "data": {
            "text/plain": [
              "((966, 19), (966,))"
            ]
          },
          "metadata": {
            "tags": []
          },
          "execution_count": 47
        }
      ]
    },
    {
      "cell_type": "markdown",
      "metadata": {
        "id": "CjAu5HahDFQa"
      },
      "source": [
        "Теперь видим, что классы сбалансированы."
      ]
    },
    {
      "cell_type": "code",
      "metadata": {
        "id": "Twc1jIYZk80m",
        "colab": {
          "base_uri": "https://localhost:8080/",
          "height": 69
        },
        "outputId": "f26836a4-8351-4663-adaa-9561a53b026f"
      },
      "source": [
        "pd.Series(y).value_counts()"
      ],
      "execution_count": null,
      "outputs": [
        {
          "output_type": "execute_result",
          "data": {
            "text/plain": [
              "1    483\n",
              "0    483\n",
              "dtype: int64"
            ]
          },
          "metadata": {
            "tags": []
          },
          "execution_count": 48
        }
      ]
    },
    {
      "cell_type": "markdown",
      "metadata": {
        "id": "N8OsWvtidj6V"
      },
      "source": [
        "## Создание алгоритмов\n",
        "\n",
        "Посмотрим на 2 типа алгоритмов, которые мы прошли - KNN и линейную модель. В случае KNN будем решать задачу классификации. В случае линейного классификатора, для демонстрации всей обработки, будем использовать регрессию."
      ]
    },
    {
      "cell_type": "markdown",
      "metadata": {
        "id": "vFcU7ISHzLxJ"
      },
      "source": [
        "Разделим нашу выборку на test train в соотношении 85 на 15 %"
      ]
    },
    {
      "cell_type": "code",
      "metadata": {
        "id": "oYRicWgyzLHD"
      },
      "source": [
        ""
      ],
      "execution_count": null,
      "outputs": []
    },
    {
      "cell_type": "markdown",
      "metadata": {
        "id": "t36f783h1iP9"
      },
      "source": [
        "#### KNN"
      ]
    },
    {
      "cell_type": "markdown",
      "metadata": {
        "id": "U3pFXR9exFoY"
      },
      "source": [
        "Построим сетку, по аналогии с занятием 6, для перебора гиперпараметра для нахождения лучшего гиперпараметра KNN, пройдем 100 значений (от 1 до 100)"
      ]
    },
    {
      "cell_type": "code",
      "metadata": {
        "id": "AuUxM39qZ0Zo",
        "colab": {
          "base_uri": "https://localhost:8080/",
          "height": 311
        },
        "outputId": "8cce387f-f2d9-49bd-912c-76648ca96bf5"
      },
      "source": [
        ""
      ],
      "execution_count": null,
      "outputs": [
        {
          "output_type": "execute_result",
          "data": {
            "text/plain": [
              "GridSearchCV(cv=5, error_score=nan,\n",
              "             estimator=KNeighborsClassifier(algorithm='auto', leaf_size=30,\n",
              "                                            metric='minkowski',\n",
              "                                            metric_params=None, n_jobs=None,\n",
              "                                            n_neighbors=5, p=2,\n",
              "                                            weights='uniform'),\n",
              "             iid='deprecated', n_jobs=None,\n",
              "             param_grid={'n_neighbors': array([  1,   2,   3,   4,   5,   6,   7,   8,   9,  10,  11,  12,  13,\n",
              "        14,  15,  16,  17,  18,  19,  20,  21,  22,  23,  24,  25,  26,\n",
              "        27,  28,  29,  30,  31,  32,  33,  34,  35,  36,  37,  38,  39,\n",
              "        40,  41,  42,  43,  44,  45,  46,  47,  48,  49,  50,  51,  52,\n",
              "        53,  54,  55,  56,  57,  58,  59,  60,  61,  62,  63,  64,  65,\n",
              "        66,  67,  68,  69,  70,  71,  72,  73,  74,  75,  76,  77,  78,\n",
              "        79,  80,  81,  82,  83,  84,  85,  86,  87,  88,  89,  90,  91,\n",
              "        92,  93,  94,  95,  96,  97,  98,  99, 100])},\n",
              "             pre_dispatch='2*n_jobs', refit=True, return_train_score=False,\n",
              "             scoring=None, verbose=0)"
            ]
          },
          "metadata": {
            "tags": []
          },
          "execution_count": 50
        }
      ]
    },
    {
      "cell_type": "code",
      "metadata": {
        "id": "OcoqFDoayu0K"
      },
      "source": [
        "# Функция отрисовки графиков\n"
      ],
      "execution_count": null,
      "outputs": []
    },
    {
      "cell_type": "markdown",
      "metadata": {
        "id": "SLQmzfuzDSAz"
      },
      "source": [
        "Строим график зависимости качества от числа соседей\n",
        "\n",
        "подсказка: результаты обучения хранятся в атрибуте cv_results_ объекта gs (grid search из библиотеки sklearn)"
      ]
    },
    {
      "cell_type": "code",
      "metadata": {
        "id": "2djFxlQly0Xk",
        "colab": {
          "base_uri": "https://localhost:8080/",
          "height": 405
        },
        "outputId": "34cab40c-58b9-49c1-f11e-26fb4ec5d76d"
      },
      "source": [
        ""
      ],
      "execution_count": null,
      "outputs": [
        {
          "output_type": "display_data",
          "data": {
            "image/png": "[encoded data removed]",
            "text/plain": [
              "<Figure size 864x432 with 1 Axes>"
            ]
          },
          "metadata": {
            "tags": [],
            "needs_background": "light"
          }
        }
      ]
    },
    {
      "cell_type": "markdown",
      "metadata": {
        "id": "6Hc_d_bTy_70"
      },
      "source": [
        "Отобразим лучший параметр (y gs есть атрибуты best_param, best_score)"
      ]
    },
    {
      "cell_type": "code",
      "metadata": {
        "id": "mYndn8fty2jE",
        "colab": {
          "base_uri": "https://localhost:8080/",
          "height": 34
        },
        "outputId": "a20553d8-2e80-4e29-dacc-0792b1d5beb5"
      },
      "source": [
        ""
      ],
      "execution_count": null,
      "outputs": [
        {
          "output_type": "stream",
          "text": [
            "{'n_neighbors': 9} 0.835580192165558\n"
          ],
          "name": "stdout"
        }
      ]
    },
    {
      "cell_type": "markdown",
      "metadata": {
        "id": "Oi_U0PkKz4qw"
      },
      "source": [
        "Инициализируем отдельный классификатор с лучшим значением, найденным на предыдущего перебора"
      ]
    },
    {
      "cell_type": "code",
      "metadata": {
        "id": "-H6KXy8Dy_C7"
      },
      "source": [
        ""
      ],
      "execution_count": null,
      "outputs": []
    },
    {
      "cell_type": "markdown",
      "metadata": {
        "id": "yrC_TdVz1Bd9"
      },
      "source": [
        "Получим предсказания от классификатора"
      ]
    },
    {
      "cell_type": "code",
      "metadata": {
        "id": "F43Wnbbt1Bjn",
        "colab": {
          "base_uri": "https://localhost:8080/",
          "height": 138
        },
        "outputId": "f250a861-7a68-42fe-ff3b-2fce03109e95"
      },
      "source": [
        ""
      ],
      "execution_count": null,
      "outputs": [
        {
          "output_type": "execute_result",
          "data": {
            "text/plain": [
              "array([0, 0, 0, 0, 0, 0, 0, 1, 1, 0, 0, 0, 1, 0, 1, 0, 0, 1, 0, 0, 0, 0,\n",
              "       0, 1, 0, 0, 0, 0, 1, 0, 0, 1, 0, 0, 1, 0, 1, 1, 0, 1, 1, 0, 0, 1,\n",
              "       1, 0, 1, 1, 0, 0, 0, 1, 1, 0, 0, 1, 1, 0, 0, 1, 0, 0, 1, 1, 0, 1,\n",
              "       0, 0, 1, 0, 1, 0, 0, 0, 0, 1, 1, 1, 0, 1, 1, 0, 0, 0, 1, 0, 0, 0,\n",
              "       0, 1, 0, 0, 1, 1, 1, 0, 1, 1, 1, 0, 1, 0, 0, 1, 0, 1, 0, 0, 1, 0,\n",
              "       0, 1, 1, 0, 1, 1, 0, 0, 1, 0, 1, 0, 1, 0, 0, 0, 0, 0, 1, 1, 1, 1,\n",
              "       0, 0, 0, 1, 0, 1, 0, 0, 0, 1, 0, 0, 1])"
            ]
          },
          "metadata": {
            "tags": []
          },
          "execution_count": 57
        }
      ]
    },
    {
      "cell_type": "markdown",
      "metadata": {
        "id": "PUsFrWB-0rjB"
      },
      "source": [
        "Посмотрим на метрики качества через classification report"
      ]
    },
    {
      "cell_type": "code",
      "metadata": {
        "id": "xTs06Pwb0pgu",
        "colab": {
          "base_uri": "https://localhost:8080/",
          "height": 173
        },
        "outputId": "72824bd3-db48-4827-b3df-16f38002a444"
      },
      "source": [
        ""
      ],
      "execution_count": null,
      "outputs": [
        {
          "output_type": "stream",
          "text": [
            "              precision    recall  f1-score   support\n",
            "\n",
            "           0       0.77      0.90      0.83        73\n",
            "           1       0.88      0.72      0.79        72\n",
            "\n",
            "    accuracy                           0.81       145\n",
            "   macro avg       0.82      0.81      0.81       145\n",
            "weighted avg       0.82      0.81      0.81       145\n",
            "\n"
          ],
          "name": "stdout"
        }
      ]
    },
    {
      "cell_type": "markdown",
      "metadata": {
        "id": "y3UXeIIV13ps"
      },
      "source": [
        "#### Логистическая регрессия\n",
        "\n",
        "Здесь Вам нужно применить логистическую регрессию, по аналогии с занятием (10 лекция) и оценить результат по $R^2$ и MAE.\n",
        "Теперь без подсказок"
      ]
    },
    {
      "cell_type": "code",
      "metadata": {
        "id": "4gcn0AFx9JHm"
      },
      "source": [
        ""
      ],
      "execution_count": null,
      "outputs": []
    }
  ]
}