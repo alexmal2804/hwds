{
  "nbformat": 4,
  "nbformat_minor": 0,
  "metadata": {
    "colab": {
      "name": "Копия блокнота \"HW_7_lesson.ipynb\"",
      "provenance": [],
      "collapsed_sections": [],
      "include_colab_link": true
    },
    "kernelspec": {
      "name": "python3",
      "display_name": "Python 3"
    }
  },
  "cells": [
    {
      "cell_type": "markdown",
      "metadata": {
        "id": "view-in-github",
        "colab_type": "text"
      },
      "source": [
        "<a href=\"https://colab.research.google.com/github/alexmal2804/hwds/blob/master/%D0%9A%D0%BE%D0%BF%D0%B8%D1%8F_%D0%B1%D0%BB%D0%BE%D0%BA%D0%BD%D0%BE%D1%82%D0%B0_%22HW_7_lesson_ipynb%22.ipynb\" target=\"_parent\"><img src=\"https://colab.research.google.com/assets/colab-badge.svg\" alt=\"Open In Colab\"/></a>"
      ]
    },
    {
      "cell_type": "markdown",
      "metadata": {
        "id": "f6jp13nFqKcn"
      },
      "source": [
        "https://colab.research.google.com/drive/15yZEp6Fig3goSVv_t3hL30ZUHgazuauh?usp=sharing"
      ]
    },
    {
      "cell_type": "markdown",
      "metadata": {
        "id": "fs0WKTuhBN1F"
      },
      "source": [
        "#Решения задач в конце ноутбука"
      ]
    },
    {
      "cell_type": "markdown",
      "metadata": {
        "id": "PDkG3Bis38V_"
      },
      "source": [
        "# Домашнее задание к 7 уроку.\n",
        "\n",
        "**Дедлайн: 23.12.2020**"
      ]
    },
    {
      "cell_type": "markdown",
      "metadata": {
        "id": "T_frQ-789isH"
      },
      "source": [
        "colab: https://colab.research.google.com/drive/1KLD5pDCa0ka_g1U4D2ExihaaEwXzfTPW?usp=sharing"
      ]
    },
    {
      "cell_type": "markdown",
      "metadata": {
        "id": "PzhnPFbL3igE"
      },
      "source": [
        "**ФОРМАТ ОТЧЕТНОСТИ:** pdf-файл с решенными задачами (задачи 2-9), ноутбук с проверкой решения этих задач (при помощи numpy), и pdf файл с отчетом по 1-ой задаче (краткий пересказ статьи). Вы можете оформить решения с использованием Markdown (писать текст прямо в юпитер ноутбуке), Latex, Word или же решить в тетради и сформировать pdf из фото.\n",
        "\n",
        "Итого: 2 pdf файла.\n",
        "\n",
        "Все задания необходимо выполнять ВРУЧНУЮ. А также проверить корректность полученных результатов с использованием Numpy.\n",
        "\n",
        "Туториал как писать \"Latex-формулы\" прямо в Юпитере:\n",
        "https://www.youtube.com/watch?v=vSc25kdgecg\n",
        "\n",
        "Ноутбук с примером формул: https://nbviewer.jupyter.org/github/postlogist/course_opt/blob/master/jupyter_tutorial/02_markdown.ipynb\n"
      ]
    },
    {
      "cell_type": "markdown",
      "metadata": {
        "id": "RU2u4fG55fBq"
      },
      "source": [
        "## Пример\n",
        "\n",
        "\n",
        "Найдем ранг матрицы \n",
        "\n",
        "$$\\begin{pmatrix}\n",
        "1 & 2 & 3 & 4 & 5\\\\ \n",
        "2 & 5 & 8 & 11 & 14\\\\ \n",
        "3 & 9 & 14 & 20 & 26\\\\ \n",
        "5 & 14 & 22 & 31 & 40\n",
        "\\end{pmatrix}.$$\n",
        "\n",
        "Четвертая строка является суммой второй и третьей строк, а значит, ее можно отбросить:\n",
        "\n",
        "$$\\begin{pmatrix}\n",
        "1 & 2 & 3 & 4 & 5\\\\ \n",
        "2 & 5 & 8 & 11 & 14\\\\ \n",
        "3 & 9 & 14 & 20 & 26\n",
        "\\end{pmatrix}.$$\n",
        "\n",
        "Из второй и третьей строк вычтем первую, умноженную на $2$ и $3$ соответственно:\n",
        "\n",
        "$$\\begin{pmatrix}\n",
        "1 & 2 & 3 & 4 & 5\\\\ \n",
        "0 & 1 & 2 & 3 & 4\\\\ \n",
        "0 & 2 & 5 & 8 & 11\n",
        "\\end{pmatrix}.$$\n",
        "\n",
        "И вычтем из третьей строки вторую, умноженную на $2$:\n",
        "\n",
        "$$\\begin{pmatrix}\n",
        "1 & 2 & 3 & 4 & 5\\\\ \n",
        "0 & 1 & 2 & 3 & 4\\\\ \n",
        "0 & 0 & 1 & 2 & 3\n",
        "\\end{pmatrix}.$$\n",
        "\n",
        "Таким образом, ранг матрицы равен $3$."
      ]
    },
    {
      "cell_type": "code",
      "metadata": {
        "colab": {
          "base_uri": "https://localhost:8080/"
        },
        "id": "c3mJUpE65vak",
        "outputId": "065aaae3-8cf0-4e7a-9c57-cce6f9f2eded"
      },
      "source": [
        "# Проверка\n",
        "\n",
        "import numpy as np\n",
        "a = [1, 2, 3, 4, 5]\n",
        "b = [2, 5, 8, 11, 14]\n",
        "c = [3, 9, 14, 20, 26]\n",
        "d = [5, 14, 22, 31, 40]\n",
        "\n",
        "x = np.array([a, b, c, d])\n",
        "r = np.linalg.matrix_rank(x)\n",
        "\n",
        "print(f'Ранг матрицы: {r}')"
      ],
      "execution_count": 218,
      "outputs": [
        {
          "output_type": "stream",
          "text": [
            "Ранг матрицы: 3\n"
          ],
          "name": "stdout"
        }
      ]
    },
    {
      "cell_type": "markdown",
      "metadata": {
        "id": "1NlQHLnE5iV-"
      },
      "source": [
        "# Задачи"
      ]
    },
    {
      "cell_type": "markdown",
      "metadata": {
        "id": "oOoLPT-d232H"
      },
      "source": [
        "**1.** Прочитать статью http://www.scielo.org.mx/pdf/cys/v18n3/v18n3a7.pdf и сделать следующее:\n",
        "\n",
        "- Написать кратко (не более 300 слов (минимум 100), отчет в формате pdf) о различиях между cosine similarity и soft similarity. Привести примеры использования и написать собственный пример вычисления cosine similarity и soft similarity для произвольных векторов (не брать вектора из статьи! надо самим придумать координаты/размерность векторов)"
      ]
    },
    {
      "cell_type": "markdown",
      "metadata": {
        "id": "2A79cNRu3BUA"
      },
      "source": [
        "__2.__ Найти сумму и произведение матриц $A=\\begin{pmatrix}\n",
        "1 & -2\\\\ \n",
        "3 & 0\n",
        "\\end{pmatrix}$ и $B=\\begin{pmatrix}\n",
        "4 & -1\\\\ \n",
        "0 & 5\n",
        "\\end{pmatrix}.$\n",
        "\n",
        "__3.__ Из закономерностей сложения и умножения матриц на число можно сделать вывод, что матрицы одного размера образуют линейное пространство. Вычислить линейную комбинацию $3A-2B+4C$ для матриц $A=\\begin{pmatrix}\n",
        "1 & 7\\\\ \n",
        "3 & -6\n",
        "\\end{pmatrix}$, $B=\\begin{pmatrix}\n",
        "0 & 5\\\\ \n",
        "2 & -1\n",
        "\\end{pmatrix}$, $C=\\begin{pmatrix}\n",
        "2 & -4\\\\ \n",
        "1 & 1\n",
        "\\end{pmatrix}.$\n",
        "    \n",
        "__4.__ Дана матрица $A=\\begin{pmatrix}\n",
        "4 & 1\\\\ \n",
        "5 & -2\\\\ \n",
        "2 & 3\n",
        "\\end{pmatrix}$.\n",
        "Вычислить $AA^{T}$ и $A^{T}A$.\n",
        "\n",
        "__5*.__ Написать на Python функцию для перемножения двух произвольных матриц, не используя NumPy."
      ]
    },
    {
      "cell_type": "markdown",
      "metadata": {
        "id": "-naSOZaf3L7s"
      },
      "source": [
        "\n",
        "__6.__ Вычислить определитель (используйте любой удобный для вас способ вычисления определителя: через миноры, через перестановки или другой):\n",
        "\n",
        "   a)\n",
        "\n",
        "$$\\begin{vmatrix}\n",
        "sinx & -cosx\\\\ \n",
        "cosx & sinx\n",
        "\\end{vmatrix};$$\n",
        "\n",
        "   б)\n",
        "    \n",
        "$$\\begin{vmatrix}\n",
        "8 & 4 & 6\\\\ \n",
        "0 & 5 & 1\\\\ \n",
        "0 & 0 & 9\n",
        "\\end{vmatrix};$$\n",
        "    \n",
        "   в)\n",
        "\n",
        "$$\\begin{vmatrix}\n",
        "2 & 3 & 4\\\\ \n",
        "5 & 6 & 7\\\\ \n",
        "8 & 9 & 10\n",
        "\\end{vmatrix}.$$\n",
        "\n",
        "\n",
        "__7.__ Определитель матрицы $A$ равен $4$. Найти:\n",
        "\n",
        "   а) $det(A^{2})$;\n",
        "    \n",
        "   б) $det(A^{T})$;\n",
        "    \n",
        "   в) $det(2A)$.\n",
        "   \n",
        "__8.__  Доказать, что матрица\n",
        "\n",
        "$$\\begin{pmatrix}\n",
        "-2 & 7 & -3\\\\ \n",
        "4 & -14 & 6\\\\ \n",
        "-3 & 7 & 13\n",
        "\\end{pmatrix}$$\n",
        "   \n",
        "вырожденная.\n",
        "\n",
        "__9.__ Найти ранг матрицы:\n",
        "\n",
        "   а) $\\begin{pmatrix}\n",
        "1 & 2 & 3\\\\ \n",
        "1 & 1 & 1\\\\ \n",
        "2 & 3 & 4\n",
        "\\end{pmatrix};$\n",
        "\n",
        "   б) $\\begin{pmatrix}\n",
        "0 & 0 & 2 & 1\\\\ \n",
        "0 & 0 & 2 & 2\\\\ \n",
        "0 & 0 & 4 & 3\\\\ \n",
        "2 & 3 & 5 & 6\n",
        "\\end{pmatrix}.$"
      ]
    },
    {
      "cell_type": "code",
      "metadata": {
        "id": "YxsuXkn0NgBE"
      },
      "source": [
        ""
      ],
      "execution_count": 218,
      "outputs": []
    },
    {
      "cell_type": "markdown",
      "metadata": {
        "id": "WIk9epxoaUx4"
      },
      "source": [
        ""
      ]
    },
    {
      "cell_type": "markdown",
      "metadata": {
        "id": "ekAaqmaE3E1T"
      },
      "source": [
        "# Доп материалы\n",
        "1. [Способы задать матрицу в NumPy](https://docs.scipy.org/doc/numpy-1.10.1/user/basics.creation.html).\n",
        "2. [numpy.transpose](https://docs.scipy.org/doc/numpy-1.10.0/reference/generated/numpy.transpose.html).\n",
        "3. [array.T](https://docs.scipy.org/doc/numpy-1.10.0/reference/generated/numpy.ndarray.T.html).\n",
        "4. [Перемножение матриц в NumPy](https://docs.scipy.org/doc/numpy-1.10.0/reference/routines.linalg.html#matrix-and-vector-products).\n",
        "\n",
        "5. [Определитель матрицы в NumPy](https://docs.scipy.org/doc/numpy-1.14.2/reference/generated/numpy.linalg.det.html)\n",
        "\n",
        "6. [Ранг матрицы в NumPy](https://docs.scipy.org/doc/numpy-1.14.2/reference/generated/numpy.linalg.matrix_rank.html)\n",
        "\n",
        "7. [Обращение матриц в NumPy](https://docs.scipy.org/doc/numpy/reference/generated/numpy.linalg.inv.html)"
      ]
    },
    {
      "cell_type": "markdown",
      "metadata": {
        "id": "2O4bE2fN2ZXV"
      },
      "source": [
        "#Задача № 1. \n",
        "Прочитать статью http://www.scielo.org.mx/pdf/cys/v18n3/v18n3a7.pdf и сделать следующее:\n",
        "\n",
        "  - Написать кратко (не более 300 слов (минимум 100), отчет в формате pdf) о различиях между cosine similarity и soft similarity. Привести примеры использования и написать собственный пример вычисления cosine similarity и soft similarity для произвольных векторов (не брать вектора из статьи! надо самим придумать координаты/размерность векторов)"
      ]
    },
    {
      "cell_type": "markdown",
      "metadata": {
        "id": "1kyo59Ix2kxg"
      },
      "source": [
        "#Решение:\n",
        "Косинусовое подобие используется в задачах машинного обучения для сравнения нескольких (в простейшем случае двух) наборов признаков. В случае, когда мы не учитываем сходства между элементами векторов, то находим подобие в ортогональном базисе и  задача сводится к нахождению косинуса угла между векторами, который равен отношению скалярного произведения векторов к произведению норм $l^2$ этих векторов:\n",
        "$$cos (a, b) =\\frac{\\vec{a} \\cdot \\vec{b}}{\\|\\vec{a}\\|\\|\\vec{b}\\|}=\\frac{\\sum_{1}^{n} a_{i} b_{i}}{\\sqrt{\\sum_{1}^{n} a_{i}^{2}} \\sqrt{\\sum_{1}^{n} b_{i}^{2}}} \\verb|  (1)|\n",
        "$$  \n",
        "\n",
        "При этом не берется в расчет возможное сходство между каждым из элементов сравниваемых векторов и, в том случае, если это сходство необходимо учитывать - построенная с использованием обычного косинусового подобия модель может быть неточной, т.к. не будет отражать значимые соответветствия между объектами (признаками). Самый простой для понимания пример - это попытка семантического сравнения двух текстов на одну тематику на естественном языке, которая не учитывает синонимов, похожих по смыслу словосочетаний и т.п. Очевидно, что результат в невырожденном случае не будет нас устраивать.\n",
        "\n",
        "Когда есть возможность построить таблицу сходства признаков $c_{i,j}$, то для сравнения векторов может использоваться мягкое косинусовое подобие, которое можно рассчитать по формуле (вывод формулы приводится в http://www.scielo.org.mx/pdf/cys/v18n3/v18n3a7.pdf):\n",
        "$$\\verb|soft_cousine| (a, b) =\\frac{\\sum_{i,j}^{n} s_{i,j} a_{i} b_{j}}{\\sqrt{\\sum_{i,j}^{n} s_{i,j} a_{i} a_{j}} \\cdot \\sqrt{\\sum_{i,j}^{n} s_{i,j} b_{i} b_{j}}}\n",
        "\\verb|  (2)|\n",
        "$$\n",
        "Если сходства между элементами векторов нет, то выражение (2) будет эквивалентно (1).\n",
        "\n",
        "При этом сложность  мягкого косинусового подобия является квадратичной и позволяет вполне эффективно использовать его для решения вычислительных задач с большим количеством элементов в векторе (есть  методы оптимизации метода, но в рамках решения этой задачи мы их рассматривать не будем). Ниже приведен пример сравнения  двух целочисленных векторов одинаковой длины, которое учитывает мат.порядок сравниваемых числовых элементов, с решением на Python."
      ]
    },
    {
      "cell_type": "code",
      "metadata": {
        "id": "CxPGck4i-LsA"
      },
      "source": [
        "# Пример решения задачи с использованием мягкого косинусового подобия\n",
        "# Даны два вектора одинаковой размерности  с целочисленными элементами.\n",
        "# Найти мягкое косинусовое подобие этих матриц с учетом различия в порядках чисел, составляющих элементы матрицы\n",
        "a = np.array([10, 234, 145, 12, 1237, 8, 24562, 123, 23, 1])\n",
        "b = np.array([127, 4, 789823, 486, 0, 12, 77, 192, 555, 1234567890, 21])\n",
        "c1 = np.array([127, 4, 789823, 486, 0, 12, 77, 192, 555, 1234567890])"
      ],
      "execution_count": 219,
      "outputs": []
    },
    {
      "cell_type": "code",
      "metadata": {
        "id": "1EA1fOhDPiGx"
      },
      "source": [
        "# Построим таблицу сходства признаков\n",
        "def similarity_signs(a : np.array, b : np.array):\n",
        "  if len(a) != len(b):\n",
        "    return 'Данная функция определяет подобие только для векторов одинаковой размерности'\n",
        "  # Построим таблицу сходства признаков\n",
        "  n = len(a)\n",
        "  s = np.zeros([n, n], dtype = float) \n",
        "  for i in range(n):\n",
        "    for j in range(n):\n",
        "      # сравниваем отношение порядков каждого из элмента числового вектора и в качестве критерия сходства берем отношение меньшего к большему \n",
        "      sa = len(str(a[i]))\n",
        "      sb = len(str(b[j]))\n",
        "      s[i, j] = sb / sa if sa > sb else sa / sb\n",
        "  return s\n",
        "  "
      ],
      "execution_count": 220,
      "outputs": []
    },
    {
      "cell_type": "code",
      "metadata": {
        "id": "OZHNoM-veS0b"
      },
      "source": [
        "import math\n",
        "# Найдем мягкое косинусовое подобие\n",
        "def soft_cousine(a : np.array, b : np.array):\n",
        "  if len(a) != len(b):\n",
        "    return 'Данная функция определяет подобие только для векторов одинаковой размерности'\n",
        "  # Если размерность векторов совпадает, определяем подобие\n",
        "  n = len(a)\n",
        "  s = similarity_signs(a, b)\n",
        "  s_cos = 0\n",
        "  norm_a = 0\n",
        "  norm_b = 0\n",
        "  for i in range(n):\n",
        "    for j in range(n):\n",
        "      s_cos += s[i,j] * a[i] * b[j]\n",
        "      norm_a += s[i,j] * a[i] * a[j]\n",
        "      norm_b += s[i,j] * b[i] * b[j]\n",
        "  return s_cos/(math.sqrt(norm_a) * math.sqrt(norm_b))\n"
      ],
      "execution_count": 221,
      "outputs": []
    },
    {
      "cell_type": "code",
      "metadata": {
        "colab": {
          "base_uri": "https://localhost:8080/"
        },
        "id": "H3t6T2ttQ0wg",
        "outputId": "a2d2c3a4-8fd3-420b-b209-dc5fbad1b72a"
      },
      "source": [
        "# Найдем мягкое косинусовое подобие\n",
        "# Построение таблицы сходства признаков (демонстрация работы функции, которая используется как вложенная в soft_cousine)\n",
        "# print(f'Таблица сходства признаков векторов\\n {a}\\n и\\n {c1}\\n выглядит так:\\n {similarity_signs(a, c1)}')\n",
        "# Векторы разной размерности не будут обработаны этой функцией\n",
        "print(f'Для векторов разной размерности:\\n {soft_cousine(a, b)}')\n",
        "# Для векторов одинаковой размерности будет определено мягкое косинусовое подобие\n",
        "print(f'Для векторов одинаковой размерности:\\n {soft_cousine(a, c1)}')"
      ],
      "execution_count": 222,
      "outputs": [
        {
          "output_type": "stream",
          "text": [
            "Для векторов разной размерности:\n",
            " Данная функция определяет подобие только для векторов одинаковой размерности\n",
            "Для векторов одинаковой размерности:\n",
            " 2.4442737677213673\n"
          ],
          "name": "stdout"
        }
      ]
    },
    {
      "cell_type": "markdown",
      "metadata": {
        "id": "xdzjPVFqaYgA"
      },
      "source": [
        "##Задача № 2. Решение\n",
        "1. Найти сумму матриц:\n",
        "\n",
        " $С=\\begin{pmatrix}\n",
        "1 & -2\\\\ \n",
        "3 & 0\n",
        "\\end{pmatrix}$ $+ \\begin{pmatrix}\n",
        "4 & -1\\\\ \n",
        "0 & 5\n",
        "\\end{pmatrix}$ $=\\begin{pmatrix}\n",
        "1+4 & -2-1\\\\\n",
        "3 & 5\n",
        "\\end{pmatrix}$ $=\\begin{pmatrix}\n",
        "5 & -3\\\\\n",
        "3 & 5\n",
        "\\end{pmatrix}$"
      ]
    },
    {
      "cell_type": "code",
      "metadata": {
        "colab": {
          "base_uri": "https://localhost:8080/"
        },
        "id": "taOQDG6hcBLf",
        "outputId": "a6bdf973-36e2-445f-90af-ec316d46cdc9"
      },
      "source": [
        "#Проверка с исп. Numpy операции сложения матриц\n",
        "import numpy as np\n",
        "A = np.array([[1, -2], [3, 0]])\n",
        "B = np.array([[4, -1], [0, 5]])\n",
        "C = A + B\n",
        "print(f'Сумма матриц равна\\n {C}.\\n')"
      ],
      "execution_count": 223,
      "outputs": [
        {
          "output_type": "stream",
          "text": [
            "Сумма матриц равна\n",
            " [[ 5 -3]\n",
            " [ 3  5]].\n",
            "\n"
          ],
          "name": "stdout"
        }
      ]
    },
    {
      "cell_type": "markdown",
      "metadata": {
        "id": "le5Fzv8De68O"
      },
      "source": [
        "2. Найти произведение  матриц:\n",
        "\n",
        " $D=\\begin{pmatrix}\n",
        "1 & -2\\\\ \n",
        "3 & 0\n",
        "\\end{pmatrix}$ $* \\begin{pmatrix}\n",
        "4 & -1\\\\ \n",
        "0 & 5\n",
        "\\end{pmatrix}$ $=\\begin{pmatrix}\n",
        "4-0 & -1-10\\\\\n",
        "12+0 & -3+0\n",
        "\\end{pmatrix}$ $=\\begin{pmatrix}\n",
        "4 & -11\\\\\n",
        "12 & -3\n",
        "\\end{pmatrix}$"
      ]
    },
    {
      "cell_type": "code",
      "metadata": {
        "colab": {
          "base_uri": "https://localhost:8080/"
        },
        "id": "ueZUyHhYhwjN",
        "outputId": "86bd5a25-7f0b-433b-f183-7abd5221cc84"
      },
      "source": [
        "#Проверка с исп. Numpy операции умножения матриц\n",
        "A = np.array([[1, -2], [3, 0]])\n",
        "B = np.array([[4, -1], [0, 5]])\n",
        "D = np.dot(A, B)\n",
        "print(f'Произведение матриц равно\\n {D}.\\n')"
      ],
      "execution_count": 224,
      "outputs": [
        {
          "output_type": "stream",
          "text": [
            "Произведение матриц равно\n",
            " [[  4 -11]\n",
            " [ 12  -3]].\n",
            "\n"
          ],
          "name": "stdout"
        }
      ]
    },
    {
      "cell_type": "markdown",
      "metadata": {
        "id": "6B2PuZ8JJGq5"
      },
      "source": [
        "##Задача № 3. Решение\n",
        "Вычислить линейную комбинацию $3A-2B+4C$ для матриц $A=\\begin{pmatrix}\n",
        "1 & 7\\\\ \n",
        "3 & -6\n",
        "\\end{pmatrix}$, $B=\\begin{pmatrix}\n",
        "0 & 5\\\\ \n",
        "2 & -1\n",
        "\\end{pmatrix}$, $C=\\begin{pmatrix}\n",
        "2 & -4\\\\ \n",
        "1 & 1\n",
        "\\end{pmatrix}.$\n",
        "\n",
        "$D= 3 \\cdot \\begin{pmatrix}\n",
        "1 & 7\\\\ \n",
        "3 & -6\n",
        "\\end{pmatrix}$ $ - 2 \\cdot \\begin{pmatrix}\n",
        "0 & 5\\\\ \n",
        "2 & -1\n",
        "\\end{pmatrix}$ $ + 4 \\cdot \\begin{pmatrix}\n",
        "2 & -4\\\\ \n",
        "1 & 1\n",
        "\\end{pmatrix} $=\n",
        "\n",
        "$= \\begin{pmatrix}\n",
        "3 & 21\\\\ \n",
        "9 & -18\n",
        "\\end{pmatrix}$ $ + \\begin{pmatrix}\n",
        "0 & 10\\\\ \n",
        "-4 & 2\n",
        "\\end{pmatrix}$ $ + \\begin{pmatrix}\n",
        "8 & -16\\\\ \n",
        "4 & 4\n",
        "\\end{pmatrix} $ $= \\begin{pmatrix}\n",
        "8 & 11\\\\ \n",
        "5 & -16\n",
        "\\end{pmatrix}$ $ + \\begin{pmatrix}\n",
        "8 & -16\\\\ \n",
        "4 & 4\n",
        "\\end{pmatrix} $ $= \\begin{pmatrix}\n",
        "11 & -5\\\\ \n",
        "9 & -12\n",
        "\\end{pmatrix}.$"
      ]
    },
    {
      "cell_type": "code",
      "metadata": {
        "colab": {
          "base_uri": "https://localhost:8080/"
        },
        "id": "7F7aI5UuJox7",
        "outputId": "d852aa17-7b30-4acf-f21d-273662d63f2c"
      },
      "source": [
        "#Проверка с исп. Numpy линейной комбинации матриц\n",
        "A = np.array([[1, 7], [3, -6]])\n",
        "B = np.array([[0, 5], [2, -1]])\n",
        "C = np.array([[2, -4], [1, 1]])\n",
        "D = 3 * A -2 * B + 4 * C\n",
        "print(f'Линейная коминация матриц равна\\n {D}.\\n')"
      ],
      "execution_count": 225,
      "outputs": [
        {
          "output_type": "stream",
          "text": [
            "Линейная коминация матриц равна\n",
            " [[ 11  -5]\n",
            " [  9 -12]].\n",
            "\n"
          ],
          "name": "stdout"
        }
      ]
    },
    {
      "cell_type": "markdown",
      "metadata": {
        "id": "U8AtwiX6O0RR"
      },
      "source": [
        "##Задача № 4. Решение\n",
        "Дана матрица $A=\\begin{pmatrix}\n",
        "4 & 1\\\\ \n",
        "5 & -2\\\\ \n",
        "2 & 3\n",
        "\\end{pmatrix}$.\n",
        "Вычислить $AA^{T}$ и $A^{T}A$.\n",
        "\n",
        "\n",
        " $A^{T} = =\\begin{pmatrix}\n",
        "4 & 5 & 2\\\\ \n",
        "1 & -2 & 3\\\\ \n",
        "\\end{pmatrix}$.\n",
        "\n",
        "$A \\cdot A^{T} = \\begin{pmatrix}\n",
        "4 & 1\\\\ \n",
        "5 & -2\\\\ \n",
        "2 & 3\n",
        "\\end{pmatrix}$ $\\cdot\\begin{pmatrix}\n",
        "4 & 5 & 2\\\\ \n",
        "1 & -2 & 3\\\\ \n",
        "\\end{pmatrix}$= $\\begin{pmatrix}\n",
        "16+1 & 20-2 & 8+3\\\\ \n",
        "20-2 & 25+4 & 10-6\\\\ \n",
        "8+3 & 10-6 & 4+9\\\\\n",
        "\\end{pmatrix}$=$\\begin{pmatrix}\n",
        "17 & 18 & 11\\\\ \n",
        "18 & 29 & 4\\\\ \n",
        "11 & 4 & 13\\\\\n",
        "\\end{pmatrix}.$\n",
        "\n",
        "\n",
        "$A^{T} \\cdot A = \\begin{pmatrix}\n",
        "4 & 5 & 2\\\\ \n",
        "1 & -2 & 3\\\\ \n",
        "\\end{pmatrix}$ $\\cdot \\begin{pmatrix}\n",
        "4 & 1\\\\ \n",
        "5 & -2\\\\ \n",
        "2 & 3\n",
        "\\end{pmatrix}$ = $\\begin{pmatrix}\n",
        "16+25+4 & 4-10+6 \\\\ \n",
        "4-10+6 & 1+4+9 \\\\ \n",
        "\\end{pmatrix}$=$\\begin{pmatrix}\n",
        "45 & 0 \\\\ \n",
        "0 & 14 \\\\ \n",
        "\\end{pmatrix}.$"
      ]
    },
    {
      "cell_type": "code",
      "metadata": {
        "colab": {
          "base_uri": "https://localhost:8080/"
        },
        "id": "gYS3uDT-O5Y4",
        "outputId": "1338aecd-8716-4752-dfbf-9a026538e8d9"
      },
      "source": [
        "# Проверка с исп. Numpy\n",
        "A = np.array([[4, 1], [5, -2], [2, 3]])\n",
        "AT = A.T\n",
        "B = np.dot(A, AT)\n",
        "C = np.dot(AT, A)\n",
        "print(f'A * AT = \\n {B}.\\n')\n",
        "print(f'AT * A = \\n {C}.\\n')"
      ],
      "execution_count": 226,
      "outputs": [
        {
          "output_type": "stream",
          "text": [
            "A * AT = \n",
            " [[17 18 11]\n",
            " [18 29  4]\n",
            " [11  4 13]].\n",
            "\n",
            "AT * A = \n",
            " [[45  0]\n",
            " [ 0 14]].\n",
            "\n"
          ],
          "name": "stdout"
        }
      ]
    },
    {
      "cell_type": "markdown",
      "metadata": {
        "id": "qCA_AXBE32lO"
      },
      "source": [
        "##Задача № 5*. Решение\n",
        "Написать на Python функцию для перемножения двух произвольных матриц, не используя NumPy."
      ]
    },
    {
      "cell_type": "code",
      "metadata": {
        "id": "68Pa0Uf14QWM"
      },
      "source": [
        "# Умножение матрицы переданной в первом параметре на переданную во втором параметре\n",
        "def dot_matrix(a : list, b: list):\n",
        "  m = len(a)\n",
        "  n = len(a[0])\n",
        "  k = len(b[0])\n",
        "  n1 = len(b)\n",
        "  # проверяем на равенство кол-во столбцов в первой матрице и кол-во строк во второй\n",
        "  if n != n1:\n",
        "    s = 'Вычислить произведение матриц невозможно, т.к. кол-во столбцов в первой матрице (' + str(n) + ') не равно кол-ву строк второй (' + str(n1) + ').'\n",
        "    return s\n",
        "  c =[]\n",
        "  # Производим умножение матриц \n",
        "  for i in range(0, m):\n",
        "    tmp = []\n",
        "    for j in range(0, k):\n",
        "      dot_element = 0\n",
        "      for p in range(0, n):\n",
        "        dot_element += a[i][p] * b[p][j]\n",
        "      tmp.append(dot_element)\n",
        "    c.append(tmp)\n",
        "  return c\n",
        "\n"
      ],
      "execution_count": 227,
      "outputs": []
    },
    {
      "cell_type": "code",
      "metadata": {
        "colab": {
          "base_uri": "https://localhost:8080/"
        },
        "id": "bdBD8quqx_0P",
        "outputId": "742e5bb1-ab8c-4ccd-c765-a9767da02f43"
      },
      "source": [
        "# Порядок матриц позволяет найти их произведение\n",
        "a = [[1, -2], [3, 0], [4, 2]]\n",
        "b = [[4, -1, 3], [0, 5, -2]]\n",
        "print(dot_matrix(a, b))"
      ],
      "execution_count": 228,
      "outputs": [
        {
          "output_type": "stream",
          "text": [
            "[[4, -11, 7], [12, -3, 9], [16, 6, 8]]\n"
          ],
          "name": "stdout"
        }
      ]
    },
    {
      "cell_type": "code",
      "metadata": {
        "colab": {
          "base_uri": "https://localhost:8080/"
        },
        "id": "o41sbU6Assl6",
        "outputId": "3640eca3-58f0-4a31-a02b-ee03c66f6e56"
      },
      "source": [
        "# Произведение матриц вычислить нельзя\n",
        "a = [[1, -2], [3, 0]]\n",
        "b = [[4, -1], [0, 5], [3, 5]]\n",
        "print(dot_matrix(a, b))"
      ],
      "execution_count": 229,
      "outputs": [
        {
          "output_type": "stream",
          "text": [
            "Вычислить произведение матриц невозможно, т.к. кол-во столбцов в первой матрице (2) не равно кол-ву строк второй (3).\n"
          ],
          "name": "stdout"
        }
      ]
    },
    {
      "cell_type": "code",
      "metadata": {
        "colab": {
          "base_uri": "https://localhost:8080/"
        },
        "id": "FvLoQTvAyCJO",
        "outputId": "187de23a-d593-4751-e590-1b23bc2e340a"
      },
      "source": [
        "# Проверка с исп. Numpy\n",
        "a = np.array([[1, -2], [3, 0], [4, 2]])\n",
        "b = np.array([[4, -1, 3], [0, 5, -2]])\n",
        "print(f'Результат умножения матриц\\n {a.dot(b)}')"
      ],
      "execution_count": 230,
      "outputs": [
        {
          "output_type": "stream",
          "text": [
            "Результат умножения матриц\n",
            " [[  4 -11   7]\n",
            " [ 12  -3   9]\n",
            " [ 16   6   8]]\n"
          ],
          "name": "stdout"
        }
      ]
    },
    {
      "cell_type": "code",
      "metadata": {
        "id": "dTTsrYXbyCUF"
      },
      "source": [
        ""
      ],
      "execution_count": 230,
      "outputs": []
    },
    {
      "cell_type": "markdown",
      "metadata": {
        "id": "e3Qrc4HT5byx"
      },
      "source": [
        "##Задача № 6. Решение\n",
        "Вычислить определитель:\n",
        "\n",
        "   a)   $det=\\begin{vmatrix}\n",
        "sinx & -cosx\\\\ \n",
        "cosx & sinx\n",
        "\\end{vmatrix}=sin^{2}x+cos^{2}x=1.$\n",
        "\n",
        "   б) $det=\\begin{vmatrix}\n",
        "8 & 4 & 6\\\\ \n",
        "0 & 5 & 1\\\\ \n",
        "0 & 0 & 9\n",
        "\\end{vmatrix}=8 \\cdot (45 - 0) - 4 \\cdot (0 - 0) +6 \\cdot (0-0) = 360,$\n",
        "\n",
        "или $det=\\begin{vmatrix}\n",
        "8 & 4 & 6\\\\ \n",
        "0 & 5 & 1\\\\ \n",
        "0 & 0 & 9\n",
        "\\end{vmatrix}= 8 \\cdot 5 \\cdot 9 = 360$, т.к. для треугольной матрицы определитель равен произведению элементов главной диагонали.\n",
        "    \n",
        "   в) $det = \\begin{vmatrix}\n",
        "2 & 3 & 4\\\\ \n",
        "5 & 6 & 7\\\\ \n",
        "8 & 9 & 10\n",
        "\\end{vmatrix}=2 \\cdot (60-63) - 3 \\cdot (50-56) +6 \\cdot (45-48) = -6 + 18 -12 =0.$"
      ]
    },
    {
      "cell_type": "code",
      "metadata": {
        "colab": {
          "base_uri": "https://localhost:8080/"
        },
        "id": "3HuOR9tK5tX3",
        "outputId": "25f878e9-31be-4fd5-9f90-10703d148f82"
      },
      "source": [
        "# 1) Проверка с исп. Numpy\n",
        "import math\n",
        "x = math.pi/4\n",
        "A = np.array([[math.sin(x), -math.cos(x)], [math.cos(x), math.sin(x)]])\n",
        "print(f'a) определитель: {np.linalg.det(A):.0f}')"
      ],
      "execution_count": 231,
      "outputs": [
        {
          "output_type": "stream",
          "text": [
            "a) определитель: 1\n"
          ],
          "name": "stdout"
        }
      ]
    },
    {
      "cell_type": "code",
      "metadata": {
        "colab": {
          "base_uri": "https://localhost:8080/"
        },
        "id": "TsMS4R8175Kj",
        "outputId": "3a777dfa-2f6f-4426-9cb3-24b58eacdc71"
      },
      "source": [
        "# 2)Проверка с исп. Numpy\n",
        "B = np.array([[8, 4, 6], [0, 5, 1], [0, 0, 9]])\n",
        "print(f'a) определитель: {np.linalg.det(B):.0f}')"
      ],
      "execution_count": 232,
      "outputs": [
        {
          "output_type": "stream",
          "text": [
            "a) определитель: 360\n"
          ],
          "name": "stdout"
        }
      ]
    },
    {
      "cell_type": "code",
      "metadata": {
        "colab": {
          "base_uri": "https://localhost:8080/"
        },
        "id": "LHkC3hN3A_Zf",
        "outputId": "c6c63515-da76-4528-d5ea-e471c649b65a"
      },
      "source": [
        "# 3)Проверка с исп. Numpy\n",
        "C = np.array([[2, 3, 4], [5, 6, 7], [8, 9, 10]])\n",
        "print(f'a) определитель: {np.linalg.det(C):.0f}')"
      ],
      "execution_count": 233,
      "outputs": [
        {
          "output_type": "stream",
          "text": [
            "a) определитель: 0\n"
          ],
          "name": "stdout"
        }
      ]
    },
    {
      "cell_type": "markdown",
      "metadata": {
        "id": "LWGLwRjoR8uY"
      },
      "source": [
        "##Задача 7. Решение \n",
        "Определитель матрицы $A$ равен $4$. Найти:\n",
        "\n",
        "   а) $det(A^{2})$:\n",
        "\n",
        "   $det(A^{2}) = 4 \\cdot 4 = 16$,\n",
        "\n",
        "   т.к. по свойству 9 определителей для двух квадратных матриц одинакового размера $det(AB)=detA\\cdot detB.$ Следовательно $det(A \\cdot A)=detA\\cdot detA.$\n",
        " \n",
        "   б) $det(A^{T})$:\n",
        "\n",
        "   $det(A^{T}) = det(A) = 4$,\n",
        "\n",
        "   т.к. по первому свойсту определителей определитель транспонированной матрицы равен определителю исходной.\n",
        "    \n",
        "   в) $det(2A)$:\n",
        "\n",
        "   $det(2A) = 2^n \\cdot det(A) = 2^n \\cdot 4$,\n",
        "  \n",
        "  т.к. по второму свойству определителей умножение строки или столбца матрицы на число $\\lambda$ приводит к умножению определителя матрицы на то же число. Если строк/столбцов в матрице n, и каждая умножается на скаляр $\\lambda$, то определитель будет умножен на $\\lambda^n.$\n",
        "   "
      ]
    },
    {
      "cell_type": "code",
      "metadata": {
        "colab": {
          "base_uri": "https://localhost:8080/"
        },
        "id": "yo8UyVAPVbio",
        "outputId": "fe148b0d-875f-463e-f2c2-e3de839a82cb"
      },
      "source": [
        "# Проверка\n",
        "A = np.array([[1, 2, 3], [0, 2, 4], [0, 0, 2]])\n",
        "print(f'определитель матрицы А равен: {np.linalg.det(A):.0f}')\n",
        "print(f'определитель матрицы А*A равен: {np.linalg.det(np.dot(A,A)):.0f}')\n",
        "print(f'определитель транспонированной матрицы равен: {np.linalg.det(A.T):.0f}')\n",
        "print(f'определитель матрицы 2*А равен: {np.linalg.det(2*A):.0f}')"
      ],
      "execution_count": 234,
      "outputs": [
        {
          "output_type": "stream",
          "text": [
            "определитель матрицы А равен: 4\n",
            "определитель матрицы А*A равен: 16\n",
            "определитель транспонированной матрицы равен: 4\n",
            "определитель матрицы 2*А равен: 32\n"
          ],
          "name": "stdout"
        }
      ]
    },
    {
      "cell_type": "markdown",
      "metadata": {
        "id": "26zmaCBnigOt"
      },
      "source": [
        "#Задача 8.\n",
        "  Доказать, что матрица\n",
        "\n",
        "$\\begin{pmatrix}\n",
        "-2 & 7 & -3\\\\ \n",
        "4 & -14 & 6\\\\ \n",
        "-3 & 7 & 13\n",
        "\\end{pmatrix}$ \n",
        "\n",
        "\\- вырожденная.\n",
        "\n",
        "##Доказательство:\n",
        "\n",
        "Найдем определитель матрицы\n",
        "\n",
        "$\\begin{pmatrix}\n",
        "-2 & 7 & -3\\\\ \n",
        "4 & -14 & 6\\\\ \n",
        "-3 & 7 & 13\n",
        "\\end{pmatrix} = -2 \\cdot (-14 \\cdot 13 - 7 \\cdot 6) - 7 \\cdot (4 \\cdot 13 + 6 \\cdot 3) - 3 \\cdot (4 \\cdot 7 - 14 \\cdot 3) = 448 - 490 + 43 = 0. $\n",
        "\n",
        "Т.к. $det = 0$ данная матрица является вырожденной (по определению).\n",
        "\n",
        "Ч.т.д.\n"
      ]
    },
    {
      "cell_type": "code",
      "metadata": {
        "colab": {
          "base_uri": "https://localhost:8080/"
        },
        "id": "vlpjJXZXnz_v",
        "outputId": "0bc88afd-e7bd-49c1-edad-5f6c8c3edbc3"
      },
      "source": [
        "# Проверка\n",
        "A = np.array([[-2, 7, -3], [4, -14, 6], [-3, 7, 13]])\n",
        "print(f'определитель матрицы А равен: {np.linalg.det(A):.0f}')"
      ],
      "execution_count": 235,
      "outputs": [
        {
          "output_type": "stream",
          "text": [
            "определитель матрицы А равен: 0\n"
          ],
          "name": "stdout"
        }
      ]
    },
    {
      "cell_type": "markdown",
      "metadata": {
        "id": "oSIxjF1oxtLu"
      },
      "source": [
        "#Задача 9. Решение\n",
        "Найти ранг матрицы:\n",
        "\n",
        "   а) $\\begin{pmatrix}\n",
        "1 & 2 & 3\\\\ \n",
        "1 & 1 & 1\\\\ \n",
        "2 & 3 & 4\n",
        "\\end{pmatrix} = \\begin{pmatrix}\n",
        "1 & 2 & 3\\\\ \n",
        "1 & 1 & 1\n",
        "\\end{pmatrix} = \\begin{pmatrix}\n",
        "1 & 1 & 1\\\\ \n",
        "0 & 1 & 2\n",
        "\\end{pmatrix}$. \n",
        "\n",
        "Т.к. 3-я строка является суммой 1-й и 2-й - удаляем её из матрицы, затем из 1-й вычитаем вторую и меняем местами эти две строки. Ранг матрицы равен 2.\n",
        "\n",
        "   б) $\\begin{pmatrix}\n",
        "0 & 0 & 2 & 1\\\\ \n",
        "0 & 0 & 2 & 2\\\\ \n",
        "0 & 0 & 4 & 3\\\\ \n",
        "2 & 3 & 5 & 6\n",
        "\\end{pmatrix} = \\begin{pmatrix}\n",
        "2 & 3 & 5 & 6\\\\\n",
        "0 & 0 & 2 & 1\\\\ \n",
        "0 & 0 & 2 & 2 \n",
        "\\end{pmatrix}=\\begin{pmatrix}\n",
        "2 & 3 & 5 & 6\\\\\n",
        "0 & 0 & 2 & 1\\\\ \n",
        "0 & 0 & 0 & 1 \n",
        "\\end{pmatrix}.$\n",
        "\n",
        "Т.к. 3-я строка являвется суммой 1-й и 2-й - удаляем её из матрицы, затем последнюю строку ставим на место 1-й, а из 3-й вычитаем 3-ю. Ранг матрицы равен 3."
      ]
    },
    {
      "cell_type": "code",
      "metadata": {
        "colab": {
          "base_uri": "https://localhost:8080/"
        },
        "id": "vvXX84zznSr-",
        "outputId": "d1b9ee7b-fc92-4e7c-a5da-84ffceb845b8"
      },
      "source": [
        "x = [1, 2, 3]\n",
        "y = [1, 1, 1]\n",
        "z = [2, 3, 4]\n",
        "\n",
        "a = np.array([x, y, z])\n",
        "r = np.linalg.matrix_rank(a)\n",
        "\n",
        "print(f'Ранг матрицы: {r}')"
      ],
      "execution_count": 236,
      "outputs": [
        {
          "output_type": "stream",
          "text": [
            "Ранг матрицы: 2\n"
          ],
          "name": "stdout"
        }
      ]
    },
    {
      "cell_type": "code",
      "metadata": {
        "colab": {
          "base_uri": "https://localhost:8080/"
        },
        "id": "VIscHCympRgu",
        "outputId": "e7a873e6-968a-428e-fef4-0f87c649023f"
      },
      "source": [
        "x = [[0, 0, 2, 1], [0, 0, 2, 2], [0, 0, 4, 3], [2, 3, 5, 6]]\n",
        "\n",
        "a = np.array(x)\n",
        "r = np.linalg.matrix_rank(a)\n",
        "\n",
        "print(f'Ранг матрицы: {r}')"
      ],
      "execution_count": 237,
      "outputs": [
        {
          "output_type": "stream",
          "text": [
            "Ранг матрицы: 3\n"
          ],
          "name": "stdout"
        }
      ]
    }
  ]
}