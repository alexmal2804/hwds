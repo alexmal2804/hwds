{
  "cells": [
    {
      "cell_type": "markdown",
      "metadata": {
        "id": "TB9pFnCnMrZL"
      },
      "source": [
        "**Подключаем библиотеки**"
      ]
    },
    {
      "cell_type": "code",
      "execution_count": null,
      "metadata": {
        "id": "nOGxcuD4MSJV"
      },
      "outputs": [],
      "source": [
        "import pandas as pd\n",
        "import numpy as np"
      ]
    },
    {
      "cell_type": "code",
      "execution_count": null,
      "metadata": {
        "id": "9GvcZTZqMrZR"
      },
      "outputs": [],
      "source": [
        "from sklearn import preprocessing"
      ]
    },
    {
      "cell_type": "code",
      "execution_count": null,
      "metadata": {
        "id": "oLaS8nIboBuC"
      },
      "outputs": [],
      "source": [
        "#!pip install -U lightautoml"
      ]
    },
    {
      "cell_type": "code",
      "execution_count": null,
      "metadata": {
        "id": "24S5fcO1oBxX"
      },
      "outputs": [],
      "source": [
        "import os\n",
        "import time\n",
        "import requests\n",
        "import matplotlib.pyplot as plt\n",
        "\n",
        "from sklearn.metrics import roc_auc_score, accuracy_score, classification_report, recall_score, precision_score, f1_score, balanced_accuracy_score\n",
        "from sklearn.model_selection import train_test_split\n",
        "from sklearn.cluster import KMeans\n",
        "from sklearn.cluster import DBSCAN\n",
        "\n",
        "#from lightautoml.automl.presets.tabular_presets import TabularAutoML\n",
        "#from lightautoml.tasks import Task\n",
        "#import torch"
      ]
    },
    {
      "cell_type": "markdown",
      "metadata": {
        "id": "vNjL_NMMof-q"
      },
      "source": [
        "**Загружаем данные, обрабатываем пустые ячейки**"
      ]
    },
    {
      "cell_type": "code",
      "execution_count": null,
      "metadata": {
        "id": "qtnPJnAdN6Lt",
        "scrolled": false
      },
      "outputs": [],
      "source": [
        "client_in = pd.read_excel(\"data_2.xlsx\")"
      ]
    },
    {
      "cell_type": "code",
      "execution_count": null,
      "metadata": {
        "id": "oW37nhOYMrZT"
      },
      "outputs": [],
      "source": [
        "client_in = client_in[client_in['Согласие клиента'] == 1]"
      ]
    },
    {
      "cell_type": "code",
      "execution_count": null,
      "metadata": {
        "id": "u3s1RfkbMrZT"
      },
      "outputs": [],
      "source": [
        "client_in = client_in.drop(columns = ['Согласие клиента'])"
      ]
    },
    {
      "cell_type": "code",
      "execution_count": null,
      "metadata": {
        "id": "zh7efqKXMrZU"
      },
      "outputs": [],
      "source": [
        "client = client_in[['ID клиента', 'ОПФ', 'ОКВЭД', 'Зона благонадежности', 'Средний кредитовый оборот за 6 мес',\\\n",
        "                    'Средний дебетовый оборот за 6 мес', 'Количество контрагентов по кредиту за 3 мес',\\\n",
        "                    'Количество контрагентов по дебету за 3 мес', 'Валюта баланса', 'Выручка', 'Чистая прибыль',\n",
        "                    'Активы', 'Собственный капитал']]"
      ]
    },
    {
      "cell_type": "code",
      "execution_count": null,
      "metadata": {
        "id": "mttOetEBMrZU"
      },
      "outputs": [],
      "source": [
        "deal = client_in[['Одобренная сумма', 'Запрошенная сумма',  'Одобренный срок', 'Запрошенный срок',\\\n",
        "                  'Процент одобренной суммы от запрошенной', 'Цель', 'Маршрут рассмотрения', 'Залог','Грейс период',\\\n",
        "                  'Подтверждение целевого использования кредитных средств', 'Требуется предоставление отчетности',\\\n",
        "                  'Гос.программа', 'Период отсрочки', 'Форма выдачи', 'Период доступности', 'ID клиента']]"
      ]
    },
    {
      "cell_type": "code",
      "execution_count": null,
      "metadata": {
        "id": "byLV4Hj3MrZU"
      },
      "outputs": [],
      "source": [
        "#%xdel client_in"
      ]
    },
    {
      "cell_type": "code",
      "execution_count": null,
      "metadata": {
        "id": "BKyhkgMByNTv",
        "scrolled": true
      },
      "outputs": [],
      "source": [
        "# описательная статистика\n",
        "client.describe()"
      ]
    },
    {
      "cell_type": "code",
      "execution_count": null,
      "metadata": {
        "id": "3INsUrYmMrZV"
      },
      "outputs": [],
      "source": [
        "deal.describe()"
      ]
    },
    {
      "cell_type": "code",
      "execution_count": null,
      "metadata": {
        "id": "K7rCr8tsMSYI"
      },
      "outputs": [],
      "source": [
        "client.shape"
      ]
    },
    {
      "cell_type": "code",
      "execution_count": null,
      "metadata": {
        "id": "33CYBc2UMrZW"
      },
      "outputs": [],
      "source": [
        "deal.shape"
      ]
    },
    {
      "cell_type": "code",
      "execution_count": null,
      "metadata": {
        "id": "nCxjAWl-kIQ6",
        "scrolled": true
      },
      "outputs": [],
      "source": [
        "client = client.fillna(0)\n",
        "deal = deal.fillna(0)"
      ]
    },
    {
      "cell_type": "markdown",
      "metadata": {
        "id": "s3znq02CMrZW"
      },
      "source": [
        "Удалим дубликаты строк"
      ]
    },
    {
      "cell_type": "code",
      "execution_count": null,
      "metadata": {
        "id": "zUVXUp6UMrZX"
      },
      "outputs": [],
      "source": [
        "client = client.drop_duplicates().reset_index()\n",
        "deal = deal.drop_duplicates().reset_index()"
      ]
    },
    {
      "cell_type": "code",
      "execution_count": null,
      "metadata": {
        "scrolled": true,
        "id": "hf_2HIWNMrZX"
      },
      "outputs": [],
      "source": [
        "client"
      ]
    },
    {
      "cell_type": "code",
      "execution_count": null,
      "metadata": {
        "scrolled": true,
        "id": "jVZiJQeRMrZX"
      },
      "outputs": [],
      "source": [
        "deal"
      ]
    },
    {
      "cell_type": "markdown",
      "metadata": {
        "id": "G3wF7L74zC30"
      },
      "source": [
        "Сохраним идентификатор заявки в отдельные массивы для дальнейшего использования на этапе связывания таблиц"
      ]
    },
    {
      "cell_type": "code",
      "execution_count": null,
      "metadata": {
        "id": "VCOw1Wp2MrZY"
      },
      "outputs": [],
      "source": [
        "client_ID = client[['ID клиента']]\n",
        "deal_client_ID = deal[['ID клиента']]"
      ]
    },
    {
      "cell_type": "code",
      "execution_count": null,
      "metadata": {
        "scrolled": false,
        "id": "D6pPRVgUMrZY"
      },
      "outputs": [],
      "source": [
        "print(f'client: {len(client_ID)} = {len(client)}')\n",
        "print(f'deal: {len(deal_client_ID)} = {len(deal)}')"
      ]
    },
    {
      "cell_type": "code",
      "execution_count": null,
      "metadata": {
        "id": "u5UUo4XcMrZY"
      },
      "outputs": [],
      "source": [
        "client = client.drop(['ID клиента'], axis=1)\n",
        "deal = deal.drop(['ID клиента'], axis=1)"
      ]
    },
    {
      "cell_type": "markdown",
      "metadata": {
        "id": "SBnD8kKgqw-8"
      },
      "source": [
        "Преобразуем категориальные переменные в числовые"
      ]
    },
    {
      "cell_type": "code",
      "execution_count": null,
      "metadata": {
        "id": "svK1WGevqxn0"
      },
      "outputs": [],
      "source": [
        "def categorialToFloat(df):\n",
        "  cat_columns = df.select_dtypes(['object']).columns\n",
        "  #print(cat_columns)\n",
        "  df[cat_columns] = df[cat_columns].apply ( lambda x: pd.factorize (x)[ 0 ])\n",
        "  return df"
      ]
    },
    {
      "cell_type": "code",
      "execution_count": null,
      "metadata": {
        "id": "cfZjBr5ZMrZZ"
      },
      "outputs": [],
      "source": [
        "client = categorialToFloat(client)"
      ]
    },
    {
      "cell_type": "code",
      "execution_count": null,
      "metadata": {
        "id": "r2ibez9rqxjy"
      },
      "outputs": [],
      "source": [
        "deal = categorialToFloat(deal)"
      ]
    },
    {
      "cell_type": "markdown",
      "metadata": {
        "id": "eBkO8EcSot8y"
      },
      "source": [
        "Нормализуем данные, используя preprocessing из sklearn"
      ]
    },
    {
      "cell_type": "code",
      "execution_count": null,
      "metadata": {
        "id": "cDDx1l3YkITb"
      },
      "outputs": [],
      "source": [
        "from sklearn import preprocessing"
      ]
    },
    {
      "cell_type": "code",
      "execution_count": null,
      "metadata": {
        "id": "2JoNN2m2oBdA"
      },
      "outputs": [],
      "source": [
        "def normalMinMax(df):\n",
        "  x = df.values\n",
        "  min_max_scaler = preprocessing.MinMaxScaler()\n",
        "  x_scaled = min_max_scaler.fit_transform(x)\n",
        "  return x_scaled"
      ]
    },
    {
      "cell_type": "code",
      "execution_count": null,
      "metadata": {
        "id": "XnAXT6fpoBgL"
      },
      "outputs": [],
      "source": [
        "client_norm_numpy = normalMinMax(client)\n",
        "deal_norm_numpy = normalMinMax(deal)"
      ]
    },
    {
      "cell_type": "code",
      "execution_count": null,
      "metadata": {
        "id": "3Q3EMDGwMrZc"
      },
      "outputs": [],
      "source": [
        "client_norm = pd.DataFrame(client_norm_numpy, columns=client.columns)\n",
        "deal_norm = pd.DataFrame(deal_norm_numpy, columns=deal.columns)"
      ]
    },
    {
      "cell_type": "markdown",
      "metadata": {
        "id": "_ozsVzho4Wvt"
      },
      "source": [
        "Удаляем коррелирующие столбцы"
      ]
    },
    {
      "cell_type": "code",
      "execution_count": null,
      "metadata": {
        "id": "HdoSyEAnqxuE",
        "scrolled": true
      },
      "outputs": [],
      "source": [
        "corr = client_norm.corr()\n",
        "corr.style.background_gradient(cmap='coolwarm')"
      ]
    },
    {
      "cell_type": "code",
      "execution_count": null,
      "metadata": {
        "scrolled": false,
        "id": "XZ9P2YNiMrZf"
      },
      "outputs": [],
      "source": [
        "dcorr = deal_norm.corr()\n",
        "dcorr.style.background_gradient(cmap='coolwarm')"
      ]
    },
    {
      "cell_type": "code",
      "execution_count": null,
      "metadata": {
        "id": "z_emmt07qxyu"
      },
      "outputs": [],
      "source": [
        "def correlationDelete(df, threshold):\n",
        "    col_corr = set()\n",
        "    corr_matrix = df.corr()\n",
        "    for i in range(len(corr_matrix.columns)):\n",
        "        for j in range(i):\n",
        "            if (corr_matrix.iloc[i, j] >= threshold) and (corr_matrix.columns[j] not in col_corr):\n",
        "                colname = corr_matrix.columns[i]\n",
        "                col_corr.add(colname)\n",
        "                if colname in df.columns:\n",
        "                    del df[colname]\n",
        "\n",
        "    return df"
      ]
    },
    {
      "cell_type": "code",
      "execution_count": null,
      "metadata": {
        "id": "aDuhYBcGoBi2"
      },
      "outputs": [],
      "source": [
        "client_norm = correlationDelete(client_norm, threshold=0.75)\n",
        "deal_norm = correlationDelete(deal_norm, threshold=0.75)"
      ]
    },
    {
      "cell_type": "code",
      "execution_count": null,
      "metadata": {
        "id": "wk-uOlmvMrZi"
      },
      "outputs": [],
      "source": [
        "#%xdel client\n",
        "#%xdel deal"
      ]
    },
    {
      "cell_type": "code",
      "execution_count": null,
      "metadata": {
        "id": "3hrDXm2sMrZi"
      },
      "outputs": [],
      "source": [
        "len_deal = deal_norm.shape[0]\n",
        "len_deal_plot = len_deal // 40\n",
        "len_deal_plot"
      ]
    },
    {
      "cell_type": "markdown",
      "metadata": {
        "id": "t23-p9hfFtXo"
      },
      "source": [
        "**Кластеризация кредитных заявок**"
      ]
    },
    {
      "cell_type": "code",
      "execution_count": null,
      "metadata": {
        "id": "Hqsj_2jkQKae"
      },
      "outputs": [],
      "source": [
        "k_means = KMeans(n_clusters=20, random_state=0) # n_clusters - число кластеров\n",
        "k_means = k_means.fit(deal_norm) # кластеризируем\n",
        "clusters = k_means.predict(deal_norm) # получаем предсказанные кластеры\n"
      ]
    },
    {
      "cell_type": "code",
      "execution_count": null,
      "metadata": {
        "id": "cNoQ69qkMrZk"
      },
      "outputs": [],
      "source": [
        "#db = DBSCAN(eps=0.3, min_samples=100)\n",
        "#db = db.fit(deal_norm)\n",
        "#clusters = db.labels_"
      ]
    },
    {
      "cell_type": "code",
      "execution_count": null,
      "metadata": {
        "scrolled": true,
        "id": "aPGRFvi9MrZk"
      },
      "outputs": [],
      "source": [
        "clusters.shape"
      ]
    },
    {
      "cell_type": "code",
      "execution_count": null,
      "metadata": {
        "id": "3oHlI8FyQKiQ",
        "scrolled": true
      },
      "outputs": [],
      "source": [
        "%%time\n",
        "from sklearn.manifold import TSNE\n",
        "X = deal_norm.iloc[:len_deal_plot, :-1]\n",
        "# Создаем алгоритм t-SNE с двумя главными компонентами и перплексией\n",
        "tsne = TSNE(n_components=2, perplexity=40)\n",
        "deal_2d = tsne.fit_transform(X)"
      ]
    },
    {
      "cell_type": "code",
      "execution_count": null,
      "metadata": {
        "id": "jnKLAnGFlFWH"
      },
      "outputs": [],
      "source": [
        "y_plot = deal_norm.iloc[:len_deal_plot, -1:].to_numpy()\n",
        "y_plot"
      ]
    },
    {
      "cell_type": "code",
      "execution_count": null,
      "metadata": {
        "id": "FJRSx4yhkP-K"
      },
      "outputs": [],
      "source": [
        "plt.figure(figsize=(15,10))\n",
        "cmap = plt.get_cmap('jet', 10)\n",
        "plt.figure(figsize=(25, 10))\n",
        "plt.subplot(1, 2, 1)\n",
        "plt.scatter(deal_2d[:, 0], deal_2d[:, 1], s=2)\n",
        "plt.colorbar()\n",
        "plt.subplot(1, 2, 2)\n",
        "plt.scatter(deal_2d[:, 0], deal_2d[:, 1], c = y_plot, cmap=cmap, s=2)\n",
        "plt.colorbar()\n",
        "plt.show()"
      ]
    },
    {
      "cell_type": "code",
      "execution_count": null,
      "metadata": {
        "id": "S_NN5OfAalET"
      },
      "outputs": [],
      "source": [
        "deal_norm['Group_deals'] = clusters"
      ]
    },
    {
      "cell_type": "code",
      "execution_count": null,
      "metadata": {
        "scrolled": true,
        "id": "jNPwM3zKMrZm"
      },
      "outputs": [],
      "source": [
        "deal_norm.groupby(['Group_deals']).count()"
      ]
    },
    {
      "cell_type": "code",
      "execution_count": null,
      "metadata": {
        "id": "-u-muCOpMrZn"
      },
      "outputs": [],
      "source": [
        "from sklearn.metrics import silhouette_score as sc"
      ]
    },
    {
      "cell_type": "code",
      "execution_count": null,
      "metadata": {
        "id": "HuD5e811MrZn"
      },
      "outputs": [],
      "source": [
        "#deal_score = sc(deal_norm, k_means.labels_)\n",
        "#deal_score"
      ]
    },
    {
      "cell_type": "markdown",
      "metadata": {
        "id": "QE1_LDDojzvR"
      },
      "source": [
        "**Предсказываем группу заявки для клиента - решаем задачу мультиклассовой классификации**"
      ]
    },
    {
      "cell_type": "markdown",
      "metadata": {
        "id": "6C5i7X-Vs5pg"
      },
      "source": [
        "Добавим в датасет с клиентом группу заявки, полученную в результате кластеризации заявок"
      ]
    },
    {
      "cell_type": "code",
      "execution_count": null,
      "metadata": {
        "id": "tMGfl1YI2Z3X"
      },
      "outputs": [],
      "source": [
        "client_norm['ID клиента'] = client_ID['ID клиента']\n",
        "deal_norm['ID клиента'] = deal_client_ID['ID клиента']"
      ]
    },
    {
      "cell_type": "code",
      "execution_count": null,
      "metadata": {
        "scrolled": true,
        "id": "mH70V4YeMrZo",
        "outputId": "4cb73a2b-dbb6-4a5e-a227-aa8f1ab3f2fe"
      },
      "outputs": [
        {
          "data": {
            "text/plain": [
              "(189391, 1)"
            ]
          },
          "execution_count": 59,
          "metadata": {},
          "output_type": "execute_result"
        }
      ],
      "source": [
        "client_ID.shape"
      ]
    },
    {
      "cell_type": "code",
      "execution_count": null,
      "metadata": {
        "id": "X3YPXozTMrZp",
        "outputId": "17bf75ec-7bf4-4361-8907-1b1f2c9f3bf1"
      },
      "outputs": [
        {
          "data": {
            "text/plain": [
              "(205901, 1)"
            ]
          },
          "execution_count": 61,
          "metadata": {},
          "output_type": "execute_result"
        }
      ],
      "source": [
        "deal_client_ID.shape"
      ]
    },
    {
      "cell_type": "code",
      "execution_count": null,
      "metadata": {
        "id": "Gy8PCsViMrZp",
        "outputId": "ad371db2-aa8a-49f0-8593-10d663f2604a"
      },
      "outputs": [
        {
          "data": {
            "text/plain": [
              "(189391, 14)"
            ]
          },
          "execution_count": 62,
          "metadata": {},
          "output_type": "execute_result"
        }
      ],
      "source": [
        "client_norm.shape"
      ]
    },
    {
      "cell_type": "code",
      "execution_count": null,
      "metadata": {
        "id": "q8gQBHbFMrZq",
        "outputId": "2c081556-8559-47da-cd60-7078d40a9ba4"
      },
      "outputs": [
        {
          "data": {
            "text/plain": [
              "(205901, 15)"
            ]
          },
          "execution_count": 63,
          "metadata": {},
          "output_type": "execute_result"
        }
      ],
      "source": [
        "deal_norm.shape"
      ]
    },
    {
      "cell_type": "code",
      "execution_count": null,
      "metadata": {
        "id": "8oMLqSU0MrZq",
        "outputId": "b3c5dc24-4605-4b47-bfe6-e688e42afbde"
      },
      "outputs": [
        {
          "data": {
            "text/html": [
              "<div>\n",
              "<style scoped>\n",
              "    .dataframe tbody tr th:only-of-type {\n",
              "        vertical-align: middle;\n",
              "    }\n",
              "\n",
              "    .dataframe tbody tr th {\n",
              "        vertical-align: top;\n",
              "    }\n",
              "\n",
              "    .dataframe thead th {\n",
              "        text-align: right;\n",
              "    }\n",
              "</style>\n",
              "<table border=\"1\" class=\"dataframe\">\n",
              "  <thead>\n",
              "    <tr style=\"text-align: right;\">\n",
              "      <th></th>\n",
              "      <th>index</th>\n",
              "      <th>ОПФ</th>\n",
              "      <th>ОКВЭД</th>\n",
              "      <th>Зона благонадежности</th>\n",
              "      <th>Средний кредитовый оборот за 6 мес</th>\n",
              "      <th>Средний дебетовый оборот за 6 мес</th>\n",
              "      <th>Количество контрагентов по кредиту за 3 мес</th>\n",
              "      <th>Количество контрагентов по дебету за 3 мес</th>\n",
              "      <th>Валюта баланса</th>\n",
              "      <th>Выручка</th>\n",
              "      <th>Чистая прибыль</th>\n",
              "      <th>Собственный капитал</th>\n",
              "      <th>Group_clients</th>\n",
              "      <th>ID клиента</th>\n",
              "    </tr>\n",
              "  </thead>\n",
              "  <tbody>\n",
              "    <tr>\n",
              "      <th>0</th>\n",
              "      <td>0.000000</td>\n",
              "      <td>0.0</td>\n",
              "      <td>0.474227</td>\n",
              "      <td>0.0</td>\n",
              "      <td>0.000100</td>\n",
              "      <td>0.000048</td>\n",
              "      <td>0.001692</td>\n",
              "      <td>0.000719</td>\n",
              "      <td>0.000220</td>\n",
              "      <td>0.000519</td>\n",
              "      <td>0.172308</td>\n",
              "      <td>0.534756</td>\n",
              "      <td>4</td>\n",
              "      <td>3</td>\n",
              "    </tr>\n",
              "    <tr>\n",
              "      <th>1</th>\n",
              "      <td>0.000010</td>\n",
              "      <td>0.0</td>\n",
              "      <td>0.010309</td>\n",
              "      <td>0.0</td>\n",
              "      <td>0.000756</td>\n",
              "      <td>0.001955</td>\n",
              "      <td>0.000376</td>\n",
              "      <td>0.004317</td>\n",
              "      <td>0.000220</td>\n",
              "      <td>0.000519</td>\n",
              "      <td>0.172308</td>\n",
              "      <td>0.534756</td>\n",
              "      <td>19</td>\n",
              "      <td>7</td>\n",
              "    </tr>\n",
              "    <tr>\n",
              "      <th>2</th>\n",
              "      <td>0.000013</td>\n",
              "      <td>0.0</td>\n",
              "      <td>0.010309</td>\n",
              "      <td>0.0</td>\n",
              "      <td>0.001665</td>\n",
              "      <td>0.000599</td>\n",
              "      <td>0.000000</td>\n",
              "      <td>0.000719</td>\n",
              "      <td>0.000220</td>\n",
              "      <td>0.000519</td>\n",
              "      <td>0.172308</td>\n",
              "      <td>0.534756</td>\n",
              "      <td>19</td>\n",
              "      <td>7</td>\n",
              "    </tr>\n",
              "    <tr>\n",
              "      <th>3</th>\n",
              "      <td>0.000016</td>\n",
              "      <td>0.0</td>\n",
              "      <td>0.989691</td>\n",
              "      <td>0.0</td>\n",
              "      <td>0.000307</td>\n",
              "      <td>0.002347</td>\n",
              "      <td>0.000188</td>\n",
              "      <td>0.012230</td>\n",
              "      <td>0.000220</td>\n",
              "      <td>0.000519</td>\n",
              "      <td>0.172308</td>\n",
              "      <td>0.534756</td>\n",
              "      <td>16</td>\n",
              "      <td>8</td>\n",
              "    </tr>\n",
              "    <tr>\n",
              "      <th>4</th>\n",
              "      <td>0.000020</td>\n",
              "      <td>1.0</td>\n",
              "      <td>0.010309</td>\n",
              "      <td>0.0</td>\n",
              "      <td>0.002021</td>\n",
              "      <td>0.003785</td>\n",
              "      <td>0.003196</td>\n",
              "      <td>0.010072</td>\n",
              "      <td>0.000220</td>\n",
              "      <td>0.000519</td>\n",
              "      <td>0.172308</td>\n",
              "      <td>0.534756</td>\n",
              "      <td>17</td>\n",
              "      <td>11</td>\n",
              "    </tr>\n",
              "    <tr>\n",
              "      <th>...</th>\n",
              "      <td>...</td>\n",
              "      <td>...</td>\n",
              "      <td>...</td>\n",
              "      <td>...</td>\n",
              "      <td>...</td>\n",
              "      <td>...</td>\n",
              "      <td>...</td>\n",
              "      <td>...</td>\n",
              "      <td>...</td>\n",
              "      <td>...</td>\n",
              "      <td>...</td>\n",
              "      <td>...</td>\n",
              "      <td>...</td>\n",
              "      <td>...</td>\n",
              "    </tr>\n",
              "    <tr>\n",
              "      <th>189386</th>\n",
              "      <td>0.999984</td>\n",
              "      <td>0.0</td>\n",
              "      <td>0.484536</td>\n",
              "      <td>0.0</td>\n",
              "      <td>0.000266</td>\n",
              "      <td>0.000000</td>\n",
              "      <td>0.001128</td>\n",
              "      <td>0.000000</td>\n",
              "      <td>0.000220</td>\n",
              "      <td>0.000519</td>\n",
              "      <td>0.172308</td>\n",
              "      <td>0.534756</td>\n",
              "      <td>5</td>\n",
              "      <td>317492</td>\n",
              "    </tr>\n",
              "    <tr>\n",
              "      <th>189387</th>\n",
              "      <td>0.999990</td>\n",
              "      <td>0.0</td>\n",
              "      <td>0.701031</td>\n",
              "      <td>0.0</td>\n",
              "      <td>0.000366</td>\n",
              "      <td>0.000110</td>\n",
              "      <td>0.000752</td>\n",
              "      <td>0.000000</td>\n",
              "      <td>0.000220</td>\n",
              "      <td>0.000519</td>\n",
              "      <td>0.172308</td>\n",
              "      <td>0.534756</td>\n",
              "      <td>5</td>\n",
              "      <td>317498</td>\n",
              "    </tr>\n",
              "    <tr>\n",
              "      <th>189388</th>\n",
              "      <td>0.999993</td>\n",
              "      <td>1.0</td>\n",
              "      <td>0.484536</td>\n",
              "      <td>0.0</td>\n",
              "      <td>0.000000</td>\n",
              "      <td>0.002091</td>\n",
              "      <td>0.000000</td>\n",
              "      <td>0.010791</td>\n",
              "      <td>0.000504</td>\n",
              "      <td>0.000671</td>\n",
              "      <td>0.172346</td>\n",
              "      <td>0.534786</td>\n",
              "      <td>0</td>\n",
              "      <td>317501</td>\n",
              "    </tr>\n",
              "    <tr>\n",
              "      <th>189389</th>\n",
              "      <td>0.999997</td>\n",
              "      <td>0.0</td>\n",
              "      <td>0.835052</td>\n",
              "      <td>0.0</td>\n",
              "      <td>0.000035</td>\n",
              "      <td>0.000000</td>\n",
              "      <td>0.000752</td>\n",
              "      <td>0.000000</td>\n",
              "      <td>0.000220</td>\n",
              "      <td>0.000519</td>\n",
              "      <td>0.172308</td>\n",
              "      <td>0.534756</td>\n",
              "      <td>12</td>\n",
              "      <td>317503</td>\n",
              "    </tr>\n",
              "    <tr>\n",
              "      <th>189390</th>\n",
              "      <td>1.000000</td>\n",
              "      <td>0.0</td>\n",
              "      <td>0.505155</td>\n",
              "      <td>0.0</td>\n",
              "      <td>0.000040</td>\n",
              "      <td>0.001811</td>\n",
              "      <td>0.000188</td>\n",
              "      <td>0.014388</td>\n",
              "      <td>0.000220</td>\n",
              "      <td>0.000519</td>\n",
              "      <td>0.172308</td>\n",
              "      <td>0.534756</td>\n",
              "      <td>5</td>\n",
              "      <td>317506</td>\n",
              "    </tr>\n",
              "  </tbody>\n",
              "</table>\n",
              "<p>189391 rows × 14 columns</p>\n",
              "</div>"
            ],
            "text/plain": [
              "           index  ОПФ     ОКВЭД  Зона благонадежности  \\\n",
              "0       0.000000  0.0  0.474227                   0.0   \n",
              "1       0.000010  0.0  0.010309                   0.0   \n",
              "2       0.000013  0.0  0.010309                   0.0   \n",
              "3       0.000016  0.0  0.989691                   0.0   \n",
              "4       0.000020  1.0  0.010309                   0.0   \n",
              "...          ...  ...       ...                   ...   \n",
              "189386  0.999984  0.0  0.484536                   0.0   \n",
              "189387  0.999990  0.0  0.701031                   0.0   \n",
              "189388  0.999993  1.0  0.484536                   0.0   \n",
              "189389  0.999997  0.0  0.835052                   0.0   \n",
              "189390  1.000000  0.0  0.505155                   0.0   \n",
              "\n",
              "        Средний кредитовый оборот за 6 мес  Средний дебетовый оборот за 6 мес  \\\n",
              "0                                 0.000100                           0.000048   \n",
              "1                                 0.000756                           0.001955   \n",
              "2                                 0.001665                           0.000599   \n",
              "3                                 0.000307                           0.002347   \n",
              "4                                 0.002021                           0.003785   \n",
              "...                                    ...                                ...   \n",
              "189386                            0.000266                           0.000000   \n",
              "189387                            0.000366                           0.000110   \n",
              "189388                            0.000000                           0.002091   \n",
              "189389                            0.000035                           0.000000   \n",
              "189390                            0.000040                           0.001811   \n",
              "\n",
              "        Количество контрагентов по кредиту за 3 мес  \\\n",
              "0                                          0.001692   \n",
              "1                                          0.000376   \n",
              "2                                          0.000000   \n",
              "3                                          0.000188   \n",
              "4                                          0.003196   \n",
              "...                                             ...   \n",
              "189386                                     0.001128   \n",
              "189387                                     0.000752   \n",
              "189388                                     0.000000   \n",
              "189389                                     0.000752   \n",
              "189390                                     0.000188   \n",
              "\n",
              "        Количество контрагентов по дебету за 3 мес  Валюта баланса   Выручка  \\\n",
              "0                                         0.000719        0.000220  0.000519   \n",
              "1                                         0.004317        0.000220  0.000519   \n",
              "2                                         0.000719        0.000220  0.000519   \n",
              "3                                         0.012230        0.000220  0.000519   \n",
              "4                                         0.010072        0.000220  0.000519   \n",
              "...                                            ...             ...       ...   \n",
              "189386                                    0.000000        0.000220  0.000519   \n",
              "189387                                    0.000000        0.000220  0.000519   \n",
              "189388                                    0.010791        0.000504  0.000671   \n",
              "189389                                    0.000000        0.000220  0.000519   \n",
              "189390                                    0.014388        0.000220  0.000519   \n",
              "\n",
              "        Чистая прибыль  Собственный капитал  Group_clients  ID клиента  \n",
              "0             0.172308             0.534756              4           3  \n",
              "1             0.172308             0.534756             19           7  \n",
              "2             0.172308             0.534756             19           7  \n",
              "3             0.172308             0.534756             16           8  \n",
              "4             0.172308             0.534756             17          11  \n",
              "...                ...                  ...            ...         ...  \n",
              "189386        0.172308             0.534756              5      317492  \n",
              "189387        0.172308             0.534756              5      317498  \n",
              "189388        0.172346             0.534786              0      317501  \n",
              "189389        0.172308             0.534756             12      317503  \n",
              "189390        0.172308             0.534756              5      317506  \n",
              "\n",
              "[189391 rows x 14 columns]"
            ]
          },
          "execution_count": 64,
          "metadata": {},
          "output_type": "execute_result"
        }
      ],
      "source": [
        "client_norm"
      ]
    },
    {
      "cell_type": "code",
      "execution_count": null,
      "metadata": {
        "scrolled": false,
        "id": "0mwJRkqJMrZq",
        "outputId": "1295e93d-4fa8-4c75-e73c-2a0a880cd5a7"
      },
      "outputs": [
        {
          "data": {
            "text/html": [
              "<div>\n",
              "<style scoped>\n",
              "    .dataframe tbody tr th:only-of-type {\n",
              "        vertical-align: middle;\n",
              "    }\n",
              "\n",
              "    .dataframe tbody tr th {\n",
              "        vertical-align: top;\n",
              "    }\n",
              "\n",
              "    .dataframe thead th {\n",
              "        text-align: right;\n",
              "    }\n",
              "</style>\n",
              "<table border=\"1\" class=\"dataframe\">\n",
              "  <thead>\n",
              "    <tr style=\"text-align: right;\">\n",
              "      <th></th>\n",
              "      <th>index</th>\n",
              "      <th>Одобренная сумма</th>\n",
              "      <th>Запрошенная сумма</th>\n",
              "      <th>Одобренный срок</th>\n",
              "      <th>Процент одобренной суммы от запрошенной</th>\n",
              "      <th>Цель</th>\n",
              "      <th>Маршрут рассмотрения</th>\n",
              "      <th>Залог</th>\n",
              "      <th>Грейс период</th>\n",
              "      <th>Подтверждение целевого использования кредитных средств</th>\n",
              "      <th>Гос.программа</th>\n",
              "      <th>Период отсрочки</th>\n",
              "      <th>Форма выдачи</th>\n",
              "      <th>Group_deals</th>\n",
              "      <th>ID клиента</th>\n",
              "    </tr>\n",
              "  </thead>\n",
              "  <tbody>\n",
              "    <tr>\n",
              "      <th>0</th>\n",
              "      <td>0.000000</td>\n",
              "      <td>0.000983</td>\n",
              "      <td>0.000298</td>\n",
              "      <td>0.195531</td>\n",
              "      <td>0.002312</td>\n",
              "      <td>0.000000</td>\n",
              "      <td>0.000000</td>\n",
              "      <td>0.0</td>\n",
              "      <td>0.0</td>\n",
              "      <td>1.0</td>\n",
              "      <td>0.0</td>\n",
              "      <td>0.25</td>\n",
              "      <td>0.00</td>\n",
              "      <td>9</td>\n",
              "      <td>3</td>\n",
              "    </tr>\n",
              "    <tr>\n",
              "      <th>1</th>\n",
              "      <td>0.000010</td>\n",
              "      <td>0.005750</td>\n",
              "      <td>0.000598</td>\n",
              "      <td>0.061453</td>\n",
              "      <td>0.006663</td>\n",
              "      <td>0.000000</td>\n",
              "      <td>0.058824</td>\n",
              "      <td>1.0</td>\n",
              "      <td>0.0</td>\n",
              "      <td>1.0</td>\n",
              "      <td>0.1</td>\n",
              "      <td>0.00</td>\n",
              "      <td>0.25</td>\n",
              "      <td>13</td>\n",
              "      <td>7</td>\n",
              "    </tr>\n",
              "    <tr>\n",
              "      <th>2</th>\n",
              "      <td>0.000013</td>\n",
              "      <td>0.009789</td>\n",
              "      <td>0.001018</td>\n",
              "      <td>0.061453</td>\n",
              "      <td>0.006663</td>\n",
              "      <td>0.000000</td>\n",
              "      <td>0.058824</td>\n",
              "      <td>1.0</td>\n",
              "      <td>0.0</td>\n",
              "      <td>1.0</td>\n",
              "      <td>0.1</td>\n",
              "      <td>0.00</td>\n",
              "      <td>0.25</td>\n",
              "      <td>13</td>\n",
              "      <td>7</td>\n",
              "    </tr>\n",
              "    <tr>\n",
              "      <th>3</th>\n",
              "      <td>0.000016</td>\n",
              "      <td>0.001327</td>\n",
              "      <td>0.000138</td>\n",
              "      <td>0.128492</td>\n",
              "      <td>0.006663</td>\n",
              "      <td>0.090909</td>\n",
              "      <td>0.117647</td>\n",
              "      <td>0.0</td>\n",
              "      <td>0.0</td>\n",
              "      <td>0.0</td>\n",
              "      <td>0.2</td>\n",
              "      <td>0.00</td>\n",
              "      <td>0.25</td>\n",
              "      <td>5</td>\n",
              "      <td>8</td>\n",
              "    </tr>\n",
              "    <tr>\n",
              "      <th>4</th>\n",
              "      <td>0.000020</td>\n",
              "      <td>0.010558</td>\n",
              "      <td>0.001098</td>\n",
              "      <td>0.061453</td>\n",
              "      <td>0.006663</td>\n",
              "      <td>0.000000</td>\n",
              "      <td>0.176471</td>\n",
              "      <td>1.0</td>\n",
              "      <td>0.0</td>\n",
              "      <td>1.0</td>\n",
              "      <td>0.1</td>\n",
              "      <td>0.00</td>\n",
              "      <td>0.25</td>\n",
              "      <td>13</td>\n",
              "      <td>11</td>\n",
              "    </tr>\n",
              "    <tr>\n",
              "      <th>...</th>\n",
              "      <td>...</td>\n",
              "      <td>...</td>\n",
              "      <td>...</td>\n",
              "      <td>...</td>\n",
              "      <td>...</td>\n",
              "      <td>...</td>\n",
              "      <td>...</td>\n",
              "      <td>...</td>\n",
              "      <td>...</td>\n",
              "      <td>...</td>\n",
              "      <td>...</td>\n",
              "      <td>...</td>\n",
              "      <td>...</td>\n",
              "      <td>...</td>\n",
              "      <td>...</td>\n",
              "    </tr>\n",
              "    <tr>\n",
              "      <th>205896</th>\n",
              "      <td>0.999984</td>\n",
              "      <td>0.001904</td>\n",
              "      <td>0.000198</td>\n",
              "      <td>0.195531</td>\n",
              "      <td>0.006663</td>\n",
              "      <td>0.090909</td>\n",
              "      <td>0.117647</td>\n",
              "      <td>0.0</td>\n",
              "      <td>0.0</td>\n",
              "      <td>0.0</td>\n",
              "      <td>0.2</td>\n",
              "      <td>0.00</td>\n",
              "      <td>0.25</td>\n",
              "      <td>1</td>\n",
              "      <td>317492</td>\n",
              "    </tr>\n",
              "    <tr>\n",
              "      <th>205897</th>\n",
              "      <td>0.999990</td>\n",
              "      <td>0.000077</td>\n",
              "      <td>0.000008</td>\n",
              "      <td>0.195531</td>\n",
              "      <td>0.006663</td>\n",
              "      <td>0.272727</td>\n",
              "      <td>0.294118</td>\n",
              "      <td>0.0</td>\n",
              "      <td>1.0</td>\n",
              "      <td>0.0</td>\n",
              "      <td>0.2</td>\n",
              "      <td>0.00</td>\n",
              "      <td>0.25</td>\n",
              "      <td>11</td>\n",
              "      <td>317498</td>\n",
              "    </tr>\n",
              "    <tr>\n",
              "      <th>205898</th>\n",
              "      <td>0.999993</td>\n",
              "      <td>0.000606</td>\n",
              "      <td>0.000198</td>\n",
              "      <td>0.195531</td>\n",
              "      <td>0.002163</td>\n",
              "      <td>0.090909</td>\n",
              "      <td>0.117647</td>\n",
              "      <td>0.0</td>\n",
              "      <td>0.0</td>\n",
              "      <td>0.0</td>\n",
              "      <td>0.2</td>\n",
              "      <td>0.00</td>\n",
              "      <td>0.25</td>\n",
              "      <td>1</td>\n",
              "      <td>317501</td>\n",
              "    </tr>\n",
              "    <tr>\n",
              "      <th>205899</th>\n",
              "      <td>0.999997</td>\n",
              "      <td>0.001327</td>\n",
              "      <td>0.000138</td>\n",
              "      <td>0.189944</td>\n",
              "      <td>0.006663</td>\n",
              "      <td>0.090909</td>\n",
              "      <td>0.117647</td>\n",
              "      <td>0.0</td>\n",
              "      <td>0.0</td>\n",
              "      <td>0.0</td>\n",
              "      <td>0.2</td>\n",
              "      <td>0.00</td>\n",
              "      <td>0.25</td>\n",
              "      <td>1</td>\n",
              "      <td>317503</td>\n",
              "    </tr>\n",
              "    <tr>\n",
              "      <th>205900</th>\n",
              "      <td>1.000000</td>\n",
              "      <td>0.000135</td>\n",
              "      <td>0.000014</td>\n",
              "      <td>0.195531</td>\n",
              "      <td>0.006663</td>\n",
              "      <td>0.272727</td>\n",
              "      <td>0.294118</td>\n",
              "      <td>0.0</td>\n",
              "      <td>1.0</td>\n",
              "      <td>0.0</td>\n",
              "      <td>0.2</td>\n",
              "      <td>0.00</td>\n",
              "      <td>0.25</td>\n",
              "      <td>11</td>\n",
              "      <td>317506</td>\n",
              "    </tr>\n",
              "  </tbody>\n",
              "</table>\n",
              "<p>205901 rows × 15 columns</p>\n",
              "</div>"
            ],
            "text/plain": [
              "           index  Одобренная сумма  Запрошенная сумма  Одобренный срок  \\\n",
              "0       0.000000          0.000983           0.000298         0.195531   \n",
              "1       0.000010          0.005750           0.000598         0.061453   \n",
              "2       0.000013          0.009789           0.001018         0.061453   \n",
              "3       0.000016          0.001327           0.000138         0.128492   \n",
              "4       0.000020          0.010558           0.001098         0.061453   \n",
              "...          ...               ...                ...              ...   \n",
              "205896  0.999984          0.001904           0.000198         0.195531   \n",
              "205897  0.999990          0.000077           0.000008         0.195531   \n",
              "205898  0.999993          0.000606           0.000198         0.195531   \n",
              "205899  0.999997          0.001327           0.000138         0.189944   \n",
              "205900  1.000000          0.000135           0.000014         0.195531   \n",
              "\n",
              "        Процент одобренной суммы от запрошенной      Цель  \\\n",
              "0                                      0.002312  0.000000   \n",
              "1                                      0.006663  0.000000   \n",
              "2                                      0.006663  0.000000   \n",
              "3                                      0.006663  0.090909   \n",
              "4                                      0.006663  0.000000   \n",
              "...                                         ...       ...   \n",
              "205896                                 0.006663  0.090909   \n",
              "205897                                 0.006663  0.272727   \n",
              "205898                                 0.002163  0.090909   \n",
              "205899                                 0.006663  0.090909   \n",
              "205900                                 0.006663  0.272727   \n",
              "\n",
              "        Маршрут рассмотрения  Залог  Грейс период  \\\n",
              "0                   0.000000    0.0           0.0   \n",
              "1                   0.058824    1.0           0.0   \n",
              "2                   0.058824    1.0           0.0   \n",
              "3                   0.117647    0.0           0.0   \n",
              "4                   0.176471    1.0           0.0   \n",
              "...                      ...    ...           ...   \n",
              "205896              0.117647    0.0           0.0   \n",
              "205897              0.294118    0.0           1.0   \n",
              "205898              0.117647    0.0           0.0   \n",
              "205899              0.117647    0.0           0.0   \n",
              "205900              0.294118    0.0           1.0   \n",
              "\n",
              "        Подтверждение целевого использования кредитных средств  Гос.программа  \\\n",
              "0                                                     1.0                 0.0   \n",
              "1                                                     1.0                 0.1   \n",
              "2                                                     1.0                 0.1   \n",
              "3                                                     0.0                 0.2   \n",
              "4                                                     1.0                 0.1   \n",
              "...                                                   ...                 ...   \n",
              "205896                                                0.0                 0.2   \n",
              "205897                                                0.0                 0.2   \n",
              "205898                                                0.0                 0.2   \n",
              "205899                                                0.0                 0.2   \n",
              "205900                                                0.0                 0.2   \n",
              "\n",
              "        Период отсрочки  Форма выдачи  Group_deals  ID клиента  \n",
              "0                  0.25          0.00            9           3  \n",
              "1                  0.00          0.25           13           7  \n",
              "2                  0.00          0.25           13           7  \n",
              "3                  0.00          0.25            5           8  \n",
              "4                  0.00          0.25           13          11  \n",
              "...                 ...           ...          ...         ...  \n",
              "205896             0.00          0.25            1      317492  \n",
              "205897             0.00          0.25           11      317498  \n",
              "205898             0.00          0.25            1      317501  \n",
              "205899             0.00          0.25            1      317503  \n",
              "205900             0.00          0.25           11      317506  \n",
              "\n",
              "[205901 rows x 15 columns]"
            ]
          },
          "execution_count": 65,
          "metadata": {},
          "output_type": "execute_result"
        }
      ],
      "source": [
        "deal_norm"
      ]
    },
    {
      "cell_type": "code",
      "execution_count": null,
      "metadata": {
        "id": "tQ5sQE5ZMrZr"
      },
      "outputs": [],
      "source": [
        "client_norm = client_norm.drop_duplicates()"
      ]
    },
    {
      "cell_type": "code",
      "execution_count": null,
      "metadata": {
        "id": "v-D0MKiIMrZr"
      },
      "outputs": [],
      "source": [
        "deal_norm = deal_norm.drop_duplicates()"
      ]
    },
    {
      "cell_type": "code",
      "execution_count": null,
      "metadata": {
        "id": "BYnD7wrjMrZr",
        "outputId": "d3ad924a-a40e-4c03-cf54-a7454d94c71e"
      },
      "outputs": [
        {
          "data": {
            "text/plain": [
              "(189391, 14)"
            ]
          },
          "execution_count": 68,
          "metadata": {},
          "output_type": "execute_result"
        }
      ],
      "source": [
        "client_norm.shape"
      ]
    },
    {
      "cell_type": "code",
      "execution_count": null,
      "metadata": {
        "id": "IMy2TXmzMrZs",
        "outputId": "06bbccb4-0ee9-44f0-977f-03cb79ad24a1"
      },
      "outputs": [
        {
          "data": {
            "text/plain": [
              "(205901, 15)"
            ]
          },
          "execution_count": 69,
          "metadata": {},
          "output_type": "execute_result"
        }
      ],
      "source": [
        "deal_norm.shape"
      ]
    },
    {
      "cell_type": "code",
      "execution_count": null,
      "metadata": {
        "id": "vJqU4AePMrZs"
      },
      "outputs": [],
      "source": [
        "deal_norm_group = deal_norm[['ID клиента', 'Group_deals']].drop_duplicates()"
      ]
    },
    {
      "cell_type": "code",
      "execution_count": null,
      "metadata": {
        "scrolled": true,
        "id": "HXg14z8PMrZs",
        "outputId": "314bf59f-057b-4c04-94f4-f1b320002386"
      },
      "outputs": [
        {
          "data": {
            "text/plain": [
              "(182311, 2)"
            ]
          },
          "execution_count": 73,
          "metadata": {},
          "output_type": "execute_result"
        }
      ],
      "source": [
        "deal_norm_group.shape"
      ]
    },
    {
      "cell_type": "code",
      "execution_count": null,
      "metadata": {
        "id": "kgUFQ73aQLIv",
        "scrolled": true
      },
      "outputs": [],
      "source": [
        "client_gr = client_norm_group.merge(deal_norm_group, how='inner', left_on='ID клиента', right_on='ID клиента')"
      ]
    },
    {
      "cell_type": "code",
      "execution_count": null,
      "metadata": {
        "id": "buFmpmZkeWHi"
      },
      "outputs": [],
      "source": [
        "client_gr = client_gr.sample(frac=0.5)"
      ]
    },
    {
      "cell_type": "code",
      "execution_count": null,
      "metadata": {
        "id": "o9ebTnfJE2lQ"
      },
      "outputs": [],
      "source": [
        "data_types_dict = {'Group_deals': int}"
      ]
    },
    {
      "cell_type": "code",
      "execution_count": null,
      "metadata": {
        "id": "4DinyTEZE2xu"
      },
      "outputs": [],
      "source": [
        "client_gr  = client_gr.astype(data_types_dict)"
      ]
    },
    {
      "cell_type": "code",
      "execution_count": null,
      "metadata": {
        "id": "xxR3iQu2Kd2w"
      },
      "outputs": [],
      "source": [
        "client_gr.rename(columns=lambda x: str(x) , inplace=True)"
      ]
    },
    {
      "cell_type": "code",
      "execution_count": null,
      "metadata": {
        "colab": {
          "base_uri": "https://localhost:8080/"
        },
        "id": "2h0jSX9L0I4s",
        "outputId": "3cbdb9af-6184-4e4e-a3ee-d7f03891a26f"
      },
      "outputs": [
        {
          "data": {
            "text/plain": [
              "Index([], dtype='object')"
            ]
          },
          "execution_count": 81,
          "metadata": {},
          "output_type": "execute_result"
        }
      ],
      "source": [
        "client_gr.columns[(client_gr == 0).all()]"
      ]
    },
    {
      "cell_type": "code",
      "execution_count": null,
      "metadata": {
        "id": "8q8G_vWBxFHt"
      },
      "outputs": [],
      "source": [
        "y = client_gr.iloc[:, -1:].to_numpy()"
      ]
    },
    {
      "cell_type": "code",
      "execution_count": null,
      "metadata": {
        "id": "BxVxD6NXMrZu",
        "outputId": "fb048946-f406-4359-9cf9-9b4f0ed1a1ea"
      },
      "outputs": [
        {
          "data": {
            "text/plain": [
              "array([[17],\n",
              "       [ 1],\n",
              "       [ 2],\n",
              "       ...,\n",
              "       [ 6],\n",
              "       [ 8],\n",
              "       [10]])"
            ]
          },
          "execution_count": 83,
          "metadata": {},
          "output_type": "execute_result"
        }
      ],
      "source": [
        "y"
      ]
    },
    {
      "cell_type": "code",
      "execution_count": null,
      "metadata": {
        "id": "2BovWfkXxFEc",
        "scrolled": true
      },
      "outputs": [],
      "source": [
        "X = client_gr.iloc[:, :-1].drop(columns=['ID клиента']).to_numpy()"
      ]
    },
    {
      "cell_type": "code",
      "execution_count": null,
      "metadata": {
        "id": "Si9H91evMrZu",
        "outputId": "28d70528-3167-4211-b475-fa9afcfd80b5"
      },
      "outputs": [
        {
          "data": {
            "text/plain": [
              "93110"
            ]
          },
          "execution_count": 85,
          "metadata": {},
          "output_type": "execute_result"
        }
      ],
      "source": [
        "len(X)"
      ]
    },
    {
      "cell_type": "code",
      "execution_count": null,
      "metadata": {
        "id": "f7TAOtqMMrZv",
        "outputId": "f860ce35-8d91-4f1c-b148-8915d39eb570"
      },
      "outputs": [
        {
          "data": {
            "text/plain": [
              "93110"
            ]
          },
          "execution_count": 86,
          "metadata": {},
          "output_type": "execute_result"
        }
      ],
      "source": [
        "len(y)"
      ]
    },
    {
      "cell_type": "code",
      "execution_count": null,
      "metadata": {
        "id": "FHxoJFYtxFKe"
      },
      "outputs": [],
      "source": [
        "X_train, X_test, y_train, y_test = train_test_split(X, y, random_state = 42)"
      ]
    },
    {
      "cell_type": "markdown",
      "metadata": {
        "id": "ohtktQBUx_L-"
      },
      "source": [
        "**Используем алгоритмы мультиклассовой классификации из библиотеки scikit-learn**"
      ]
    },
    {
      "cell_type": "markdown",
      "metadata": {
        "id": "QOIvo_nW1DZM"
      },
      "source": [
        "DecisionTreeClassifier"
      ]
    },
    {
      "cell_type": "code",
      "execution_count": null,
      "metadata": {
        "id": "wG5RIUQxxFRj"
      },
      "outputs": [],
      "source": [
        "from sklearn.tree import DecisionTreeClassifier\n",
        "dtree_model = DecisionTreeClassifier(max_depth = 20).fit(X_train, y_train)\n",
        "dtree_predictions = dtree_model.predict(X_test)"
      ]
    },
    {
      "cell_type": "code",
      "execution_count": null,
      "metadata": {
        "colab": {
          "base_uri": "https://localhost:8080/"
        },
        "id": "TC8V5BSF3UIx",
        "outputId": "8754e40d-e61f-47da-e787-10206f394195",
        "scrolled": true
      },
      "outputs": [
        {
          "data": {
            "text/plain": [
              "array([ 5,  5, 13, ..., 13,  1,  5])"
            ]
          },
          "execution_count": 89,
          "metadata": {},
          "output_type": "execute_result"
        }
      ],
      "source": [
        "dtree_predictions"
      ]
    },
    {
      "cell_type": "code",
      "execution_count": null,
      "metadata": {
        "colab": {
          "base_uri": "https://localhost:8080/"
        },
        "id": "-Rc-YSkgxFUz",
        "outputId": "c8d48636-182e-4946-fec5-5d384015fd8c"
      },
      "outputs": [
        {
          "name": "stderr",
          "output_type": "stream",
          "text": [
            "C:\\Program Files\\Anaconda3\\lib\\site-packages\\sklearn\\metrics\\_classification.py:1248: UndefinedMetricWarning: Precision is ill-defined and being set to 0.0 in labels with no predicted samples. Use `zero_division` parameter to control this behavior.\n",
            "  _warn_prf(average, modifier, msg_start, len(result))\n"
          ]
        },
        {
          "data": {
            "text/plain": [
              "0.09758892348158828"
            ]
          },
          "execution_count": 90,
          "metadata": {},
          "output_type": "execute_result"
        }
      ],
      "source": [
        "precision_score(y_test, dtree_predictions, average='macro')"
      ]
    },
    {
      "cell_type": "code",
      "execution_count": null,
      "metadata": {
        "id": "ZH5ckEZkMrZw",
        "outputId": "89baa963-aea1-4284-833a-f97c376c6889"
      },
      "outputs": [
        {
          "data": {
            "text/plain": [
              "0.13437800733523356"
            ]
          },
          "execution_count": 91,
          "metadata": {},
          "output_type": "execute_result"
        }
      ],
      "source": [
        "recall_score(y_test, dtree_predictions, average='macro')"
      ]
    },
    {
      "cell_type": "code",
      "execution_count": null,
      "metadata": {
        "id": "7YWcm_0MMrZw",
        "outputId": "59021abe-435d-4f8f-a854-2ea8f252c5aa"
      },
      "outputs": [
        {
          "data": {
            "text/plain": [
              "0.0983456834257753"
            ]
          },
          "execution_count": 92,
          "metadata": {},
          "output_type": "execute_result"
        }
      ],
      "source": [
        "f1_score(y_test, dtree_predictions, average='macro')"
      ]
    },
    {
      "cell_type": "code",
      "execution_count": null,
      "metadata": {
        "scrolled": false,
        "id": "6UyagBEJMrZw",
        "outputId": "03f491a4-bad3-42fa-fde5-2e501030052e"
      },
      "outputs": [
        {
          "name": "stdout",
          "output_type": "stream",
          "text": [
            "              precision    recall  f1-score   support\n",
            "\n",
            "           0       0.14      0.07      0.09       831\n",
            "           1       0.38      0.76      0.51      2963\n",
            "           2       0.21      0.05      0.08      2456\n",
            "           3       0.00      0.00      0.00       558\n",
            "           4       0.00      0.00      0.00       429\n",
            "           5       0.39      0.73      0.51      3176\n",
            "           6       0.00      0.00      0.00      2423\n",
            "           7       0.00      0.00      0.00       130\n",
            "           8       0.00      0.00      0.00       640\n",
            "           9       0.00      0.00      0.00       852\n",
            "          10       0.17      0.14      0.15      1000\n",
            "          11       0.23      0.05      0.09      2383\n",
            "          12       0.28      0.75      0.41      3136\n",
            "          13       0.15      0.14      0.14       630\n",
            "          14       0.00      0.00      0.00       115\n",
            "          15       0.00      0.00      0.00       343\n",
            "          16       0.00      0.00      0.00       123\n",
            "          17       0.00      0.00      0.00       375\n",
            "          18       0.00      0.00      0.00       629\n",
            "          19       0.00      0.00      0.00        86\n",
            "\n",
            "    accuracy                           0.32     23278\n",
            "   macro avg       0.10      0.13      0.10     23278\n",
            "weighted avg       0.20      0.32      0.22     23278\n",
            "\n"
          ]
        },
        {
          "name": "stderr",
          "output_type": "stream",
          "text": [
            "C:\\Program Files\\Anaconda3\\lib\\site-packages\\sklearn\\metrics\\_classification.py:1248: UndefinedMetricWarning: Precision and F-score are ill-defined and being set to 0.0 in labels with no predicted samples. Use `zero_division` parameter to control this behavior.\n",
            "  _warn_prf(average, modifier, msg_start, len(result))\n",
            "C:\\Program Files\\Anaconda3\\lib\\site-packages\\sklearn\\metrics\\_classification.py:1248: UndefinedMetricWarning: Precision and F-score are ill-defined and being set to 0.0 in labels with no predicted samples. Use `zero_division` parameter to control this behavior.\n",
            "  _warn_prf(average, modifier, msg_start, len(result))\n",
            "C:\\Program Files\\Anaconda3\\lib\\site-packages\\sklearn\\metrics\\_classification.py:1248: UndefinedMetricWarning: Precision and F-score are ill-defined and being set to 0.0 in labels with no predicted samples. Use `zero_division` parameter to control this behavior.\n",
            "  _warn_prf(average, modifier, msg_start, len(result))\n"
          ]
        }
      ],
      "source": [
        "cr = classification_report(y_test, dtree_predictions)\n",
        "print(cr)"
      ]
    },
    {
      "cell_type": "code",
      "execution_count": null,
      "metadata": {
        "scrolled": true,
        "id": "2N5zqeePMrZx",
        "outputId": "b785e41b-bc16-4471-e88a-1cef52d6fa40"
      },
      "outputs": [
        {
          "data": {
            "text/plain": [
              "0.13437800733523356"
            ]
          },
          "execution_count": 94,
          "metadata": {},
          "output_type": "execute_result"
        }
      ],
      "source": [
        "balanced_accuracy_score(y_test, dtree_predictions)"
      ]
    },
    {
      "cell_type": "markdown",
      "metadata": {
        "id": "gf2VTK5-2Z-D"
      },
      "source": [
        "SVM (Support vector machine) classifier"
      ]
    },
    {
      "cell_type": "code",
      "execution_count": null,
      "metadata": {
        "id": "10jtNLoo2YU_",
        "scrolled": true
      },
      "outputs": [],
      "source": [
        "#from sklearn.svm import SVC\n",
        "#svm_model_linear = SVC(kernel = 'linear', C = 1).fit(X_train, y_train)\n",
        "#svm_predictions = svm_model_linear.predict(X_test)"
      ]
    },
    {
      "cell_type": "code",
      "execution_count": null,
      "metadata": {
        "id": "uyTbljVY2mZ5"
      },
      "outputs": [],
      "source": [
        "#print(vm_model_linear.score(y_test, svm_predictions))"
      ]
    },
    {
      "cell_type": "markdown",
      "metadata": {
        "id": "HqT0pGk-3xi-"
      },
      "source": [
        "KNN (k-nearest neighbors) classifier"
      ]
    },
    {
      "cell_type": "code",
      "execution_count": null,
      "metadata": {
        "id": "R0JdgPWz2YpT"
      },
      "outputs": [],
      "source": [
        "from sklearn.neighbors import KNeighborsClassifier\n",
        "knn = KNeighborsClassifier(n_neighbors = 7).fit(X_train, y_train)\n",
        "knn_predictions = knn.predict(X_test)"
      ]
    },
    {
      "cell_type": "code",
      "execution_count": null,
      "metadata": {
        "id": "6kI7B7sl34OU",
        "scrolled": true
      },
      "outputs": [],
      "source": [
        "print(knn.score(X_test, y_test))"
      ]
    },
    {
      "cell_type": "code",
      "execution_count": null,
      "metadata": {
        "id": "bwg2PxBqMrZy"
      },
      "outputs": [],
      "source": [
        "cr_knn = classification_report(y_test, knn_predictions)\n",
        "print(cr)"
      ]
    },
    {
      "cell_type": "markdown",
      "metadata": {
        "id": "EAFsoAqm35A6"
      },
      "source": [
        "Naive Bayes classifier"
      ]
    },
    {
      "cell_type": "code",
      "execution_count": null,
      "metadata": {
        "id": "9xIOSVVa34UW"
      },
      "outputs": [],
      "source": [
        "from sklearn.naive_bayes import GaussianNB\n",
        "gnb = GaussianNB().fit(X_train, y_train)\n",
        "gnb_predictions = gnb.predict(X_test)"
      ]
    },
    {
      "cell_type": "code",
      "execution_count": null,
      "metadata": {
        "id": "AwXHoiDa2Y5t"
      },
      "outputs": [],
      "source": [
        "print(gnb.score(X_test, y_test))"
      ]
    },
    {
      "cell_type": "markdown",
      "metadata": {
        "id": "xBE00ZYaMrZz"
      },
      "source": [
        "*RandomForest со случайным поиском гиперпараметров*"
      ]
    },
    {
      "cell_type": "code",
      "execution_count": null,
      "metadata": {
        "id": "LqcaC8kqMrZz"
      },
      "outputs": [],
      "source": [
        "from sklearn.model_selection import RandomizedSearchCV\n",
        "from sklearn.ensemble import RandomForestClassifier\n",
        "from scipy.stats import randint"
      ]
    },
    {
      "cell_type": "code",
      "execution_count": null,
      "metadata": {
        "id": "UYASGkM0MrZ0"
      },
      "outputs": [],
      "source": [
        "# Определяем интервалы макропараметров для поиска\n",
        "param_dist = {\n",
        "    'n_estimators' : radint(50, 200),\n",
        "    'max_depth' : [None, 10, 20, 30, 40, 50]\n",
        "    'min_samles_leaf' : [1, 2, 4]\n",
        "}\n"
      ]
    },
    {
      "cell_type": "code",
      "execution_count": null,
      "metadata": {
        "id": "nY5q_uTmMrZ0"
      },
      "outputs": [],
      "source": [
        "# Создаем модель и осуществляем ее обучение со случайным подбором макропараметров\n",
        "rf_model = RandomForestClassifier()\n",
        "random_search = RandomizedSearchCV(rf_model, param_distributions=param_dist, n_iter=100, cv=5)\n",
        "random_search.fit(X_train, y_train)"
      ]
    },
    {
      "cell_type": "code",
      "execution_count": null,
      "metadata": {
        "id": "ksArUFUkMrZ1"
      },
      "outputs": [],
      "source": [
        "# Лучшие гиперпараметры\n",
        "random_search.best_params_"
      ]
    },
    {
      "cell_type": "code",
      "execution_count": null,
      "metadata": {
        "id": "h6BduP1qMrZ1"
      },
      "outputs": [],
      "source": [
        "# Лучшие оценки\n",
        "random_search.best_score_"
      ]
    },
    {
      "cell_type": "markdown",
      "metadata": {
        "id": "LWTHZ-GL4Okt"
      },
      "source": [
        "Используем LightAutoML для решения задачи мультиклассовой классификации"
      ]
    },
    {
      "cell_type": "code",
      "execution_count": null,
      "metadata": {
        "id": "b6AR8rnQ2Z-u"
      },
      "outputs": [],
      "source": [
        "'''\n",
        "task = Task('multiclass', loss='crossentropy', metric='crossentropy')\n",
        "N_THREADS = 4\n",
        "RANDOM_STATE = 42\n",
        "TIMEOUT = 8 * 100\n",
        "TARGET_NAME = 'Group'\n",
        "TEST_SIZE = 0.2\n",
        "np.random.seed(RANDOM_STATE)\n",
        "torch.set_num_threads(N_THREADS)\n",
        "tr_data, te_data = train_test_split(client_gr, test_size=TEST_SIZE, stratify=client_gr['Group'], random_state=RANDOM_STATE)\n",
        "roles = {\n",
        "    'target': TARGET_NAME,\n",
        "    'drop': 'SK_ID_CURR',\n",
        "}\n",
        "automl = TabularAutoML(task = task,\n",
        "                       timeout = TIMEOUT,\n",
        "                       cpu_limit = N_THREADS)\n",
        "%%time\n",
        "\n",
        "oof_pred = automl.fit_predict(tr_data, roles = roles)\n",
        "\n",
        "print('oof_pred:\\n{}\\nShape = {}'.format(oof_pred[:10], oof_pred.shape))\n",
        "%%time\n",
        "\n",
        "te_pred = automl.predict(te_data)\n",
        "print(f'Prediction for te_data:\\n{te_pred}\\nShape = {te_pred.shape}')\n",
        "tr_data['Group']\n",
        "class_result = classification_report(y_true=tr_data['Group'].values, y_pred=oof_pred[:, 0])\n",
        "print(class_result)\n",
        "'''"
      ]
    },
    {
      "cell_type": "code",
      "execution_count": null,
      "metadata": {
        "id": "6U3MMvzQaYSa"
      },
      "outputs": [],
      "source": [
        "'''\n",
        "np_oof_pred = np.array(oof_pred)\n",
        "np_oof_pred\n",
        "len(oof_pred)\n",
        "np.save('/content/drive/MyDrive/Colab Notebooks/archive-2/oof_pred', np_oof_pred)\n",
        "np_oof_pred1 = np.load('/content/drive/MyDrive/Colab Notebooks/archive-2/oof_pred.npy')\n",
        "np_oof_pred1\n",
        "'''"
      ]
    },
    {
      "cell_type": "markdown",
      "metadata": {
        "id": "9G1-ouC9MrZ2"
      },
      "source": [
        "**Кластеризация клиентов**"
      ]
    },
    {
      "cell_type": "markdown",
      "metadata": {
        "outputId": "f52d13b3-0ea2-4c7a-9ade-e1e4f6a0511e",
        "id": "BgLCm5_7MrZ2"
      },
      "source": [
        "k_means = KMeans(n_clusters=20, random_state=0) # n_clusters - число кластеров\n",
        "k_means = k_means.fit(client_norm) # кластеризируем\n",
        "clusters_client = k_means.predict(client_norm) # получаем предсказанные кластеры\n"
      ]
    },
    {
      "cell_type": "markdown",
      "metadata": {
        "id": "momUafQsMrZ2"
      },
      "source": [
        "len_client = client_norm.shape[0]\n",
        "len_client_plot = len_client // 40\n",
        "len_client_plot"
      ]
    },
    {
      "cell_type": "markdown",
      "metadata": {
        "outputId": "aa152130-5d58-472b-e1c1-cd5899680c49",
        "scrolled": true,
        "id": "hBR0CLAkMrZ2"
      },
      "source": [
        "%%time\n",
        "from sklearn.manifold import TSNE\n",
        "X = client_norm.iloc[:len_client_plot, :-1]\n",
        "# Создаем алгоритм t-SNE с двумя главными компонентами и перплексией\n",
        "tsne = TSNE(n_components=2, perplexity=40)\n",
        "client_2d = tsne.fit_transform(X)"
      ]
    },
    {
      "cell_type": "markdown",
      "metadata": {
        "outputId": "68b4590f-d340-4774-f93f-d2b4acbdf649",
        "id": "GOfp5qxqMrZ3"
      },
      "source": [
        "y_plot = client_norm.iloc[:len_client_plot, -1:].to_numpy()\n",
        "y_plot"
      ]
    },
    {
      "cell_type": "markdown",
      "metadata": {
        "outputId": "bdf0a4ae-d323-4a59-cc17-0823739fd918",
        "scrolled": false,
        "id": "J3ztskePMrZ3"
      },
      "source": [
        "plt.figure(figsize=(15,10))\n",
        "cmap = plt.get_cmap('jet', 10)\n",
        "plt.figure(figsize=(25, 10))\n",
        "plt.subplot(1, 2, 1)\n",
        "plt.scatter(client_2d[:, 0], client_2d[:, 1], s=2)\n",
        "plt.colorbar()\n",
        "plt.subplot(1, 2, 2)\n",
        "plt.scatter(client_2d[:, 0], client_2d[:, 1], c = y_plot, cmap=cmap, s=2)\n",
        "plt.colorbar()\n",
        "plt.show()"
      ]
    },
    {
      "cell_type": "markdown",
      "metadata": {
        "id": "y4n7ZvlrMrZ3"
      },
      "source": [
        "client_norm['Group_clients'] = clusters_client"
      ]
    },
    {
      "cell_type": "markdown",
      "metadata": {
        "scrolled": false,
        "id": "4tHjltGgMrZ3"
      },
      "source": [
        "client_norm.groupby(['Group_clients']).count()"
      ]
    },
    {
      "cell_type": "markdown",
      "metadata": {
        "id": "cuXREXsjMrZ3"
      },
      "source": [
        "client_score = sc(client_norm, k_means.label_)\n",
        "client_score"
      ]
    }
  ],
  "metadata": {
    "colab": {
      "provenance": []
    },
    "kernelspec": {
      "display_name": "Python 3 (ipykernel)",
      "language": "python",
      "name": "python3"
    },
    "language_info": {
      "codemirror_mode": {
        "name": "ipython",
        "version": 3
      },
      "file_extension": ".py",
      "mimetype": "text/x-python",
      "name": "python",
      "nbconvert_exporter": "python",
      "pygments_lexer": "ipython3",
      "version": "3.9.7"
    }
  },
  "nbformat": 4,
  "nbformat_minor": 0
}